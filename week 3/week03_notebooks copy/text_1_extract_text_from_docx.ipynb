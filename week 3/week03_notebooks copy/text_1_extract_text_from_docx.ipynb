{
 "cells": [
  {
   "cell_type": "markdown",
   "metadata": {},
   "source": [
    "this sequence of notebooks shows how to extract text from docx, pdf, and text"
   ]
  },
  {
   "cell_type": "markdown",
   "metadata": {},
   "source": [
    "# extract text from docx files"
   ]
  },
  {
   "cell_type": "markdown",
   "metadata": {},
   "source": [
    "First we find a relevant library for parsing docx files. \n",
    "\n",
    "https://python-docx.readthedocs.io/en/latest/user/documents.html"
   ]
  },
  {
   "cell_type": "markdown",
   "metadata": {},
   "source": [
    "To install packages I use pip\n",
    "\n",
    "For users of Anaconda, see https://anaconda.org/conda-forge/python-docx"
   ]
  },
  {
   "cell_type": "code",
   "execution_count": 6,
   "metadata": {},
   "outputs": [
    {
     "name": "stdout",
     "output_type": "stream",
     "text": [
      "Requirement already satisfied: python-docx in /opt/anaconda3/lib/python3.7/site-packages (0.8.10)\r\n",
      "Requirement already satisfied: lxml>=2.3.2 in /opt/anaconda3/lib/python3.7/site-packages (from python-docx) (4.4.1)\r\n"
     ]
    }
   ],
   "source": [
    "!pip install python-docx"
   ]
  },
  {
   "cell_type": "markdown",
   "metadata": {},
   "source": [
    "Once the library is installed, we can load the library into the Python environment"
   ]
  },
  {
   "cell_type": "code",
   "execution_count": 7,
   "metadata": {},
   "outputs": [],
   "source": [
    "from docx import Document"
   ]
  },
  {
   "cell_type": "markdown",
   "metadata": {},
   "source": [
    "What files are available to be parsed?\n",
    "\n",
    "One method is to use `ls` from the command line in Mac or linux. `dir` is the Windows equivalent"
   ]
  },
  {
   "cell_type": "code",
   "execution_count": 8,
   "metadata": {
    "scrolled": true
   },
   "outputs": [
    {
     "name": "stdout",
     "output_type": "stream",
     "text": [
      "../data_601_syllabus_admin_JWAN.docx\r\n",
      "../data_601_syllabus_web_administrivia_Ben_Fall2019.docx\r\n",
      "../week_01_lecture_guide_for_instructor.docx\r\n",
      "../week_02_lecture_guide_for_instructor.docx\r\n",
      "../week_02_python_activity_python_definitionsOnly.docx\r\n",
      "../week_02_python_activity_python_terms_and_definitions.docx\r\n",
      "../week_03_getting_data_activity_Data_Owners_and_Data_Requesters.docx\r\n",
      "../week_03_lecture_guide_for_instructor.docx\r\n",
      "../week_04_lecture_guide_for_instructor.docx\r\n",
      "../week_05_lecture_guide_for_instructors.docx\r\n",
      "../week_05_openpyxl_grading.docx\r\n",
      "../week_07_math_lecture_outline.docx\r\n",
      "../week_08_imputation_grading.docx\r\n",
      "../week_08_time_series_lecture_outline.docx\r\n",
      "../week_09_clustering_lecture_outline.docx\r\n",
      "../week_09_document1.docx\r\n",
      "../week_09_document2.docx\r\n",
      "../week_10_property_graphs_lecture_outline.docx\r\n",
      "../week_12_scaling_lecture_outline.docx\r\n",
      "../week_13_activity_customers_customer.docx\r\n",
      "../week_13_concurrency_lecture_outline.docx\r\n",
      "../week_14_activity_sharing_vs_not_sharing.docx\r\n",
      "../week_14_cost-benefit-risk.docx\r\n",
      "../week_14_lecture_outline.docx\r\n",
      "../week_15_lecture_outline.docx\r\n",
      "../~$ek_02_lecture_guide_for_instructor.docx\r\n",
      "../~$ek_02_python_activity_python_terms_and_definitions.docx\r\n",
      "../~$ek_03_getting_data_activity_Data_Owners_and_Data_Requesters.docx\r\n",
      "../~$ek_03_lecture_guide_for_instructor.docx\r\n",
      "../~$ta_601_syllabus_admin_JWAN.docx\r\n"
     ]
    }
   ],
   "source": [
    "!ls ../*.docx"
   ]
  },
  {
   "cell_type": "markdown",
   "metadata": {},
   "source": [
    "Here we will manually specify one file. In later notes we will see how to perform this selection in Python"
   ]
  },
  {
   "cell_type": "code",
   "execution_count": 9,
   "metadata": {},
   "outputs": [],
   "source": [
    "document = Document('../data_601_syllabus_admin_JWAN.docx')"
   ]
  },
  {
   "cell_type": "markdown",
   "metadata": {},
   "source": [
    "citation: https://stackoverflow.com/questions/25228106/how-to-extract-text-from-an-existing-docx-file-using-python-docx"
   ]
  },
  {
   "cell_type": "code",
   "execution_count": 10,
   "metadata": {},
   "outputs": [
    {
     "name": "stdout",
     "output_type": "stream",
     "text": [
      "\n",
      "paragraph 2 is\n",
      "Data 601: Introduction to Data Science\n",
      "\n",
      "paragraph 3 is\n",
      "Spring 2020\t\n",
      "\n",
      "paragraph 6 is\n",
      "Meeting Times and Location\n",
      "\n",
      "paragraph 7 is\n",
      "Tuesday, 7:10pm-9:40pm, at UMBC ITE 233\n",
      "\n",
      "paragraph 9 is\n",
      "The goal of this class is to give students an introduction to and hands on experience with all phases of the data science process using real data and modern tools. Topics that will be covered include data formats, loading, and cleaning; data storage in relational and non-relational stores; data analysis using supervised and unsupervised learning using Python; data visualization; and scaling up for Big Data.   \n",
      "\n",
      "paragraph 11 is\n",
      "Prerequisite\n",
      "\n",
      "paragraph 12 is\n",
      "Students must be enrolled in the Data Science Program. Other students may be admitted with instructor permission.  Students are expected to have experience with programming. \n",
      "\n",
      "paragraph 14 is\n",
      "Course Learning Objectives\n",
      "\n",
      "paragraph 15 is\n",
      "Upon completion, students will understand:\n",
      "\n",
      "paragraph 16 is\n",
      "Classify Python data structures such as lists, dictionaries, strings, and dataframes.\n",
      "\n",
      "paragraph 17 is\n",
      "Produce scatter plots, histograms, and bar graphs (data visualization).\n",
      "\n",
      "paragraph 18 is\n",
      "Transform raw data into useful information (data characterization).\n",
      "\n",
      "paragraph 19 is\n",
      "Identify anomalous data and outliers.\n",
      "\n",
      "paragraph 20 is\n",
      "Employ common Python modules such as random and pandas.\n",
      "\n",
      "paragraph 21 is\n",
      "Use common data formats such as CSV, JSON, XML.\n",
      "\n",
      "paragraph 22 is\n",
      "\n",
      "\n",
      "\n",
      "paragraph 24 is\n",
      "Optional Texts (not required)\n",
      "\n",
      "paragraph 25 is\n",
      "\"Python Data Science Handbook\" by Jake VanderPlas. O'Reilly Media\n",
      "\n",
      "paragraph 26 is\n",
      "\"Data Wrangling with Python: Tips and Tools to Make Your Life Easier\" by Jacqueline Kazil and Katharine Jarmul. O'Reilly Media\n",
      "\n",
      "paragraph 27 is\n",
      "\"Think Like a Data Scientist: Tackle the data science process step-by-step\" by Brian Godsey. Manning Publications\n",
      "\n",
      "paragraph 28 is\n",
      "Please review options at the . You do not need to buy any books. \n",
      "\n",
      "paragraph 30 is\n",
      "Recommended Software and Hardware\n",
      "\n",
      "paragraph 31 is\n",
      "All software used in this course is free. \n",
      "\n",
      "paragraph 32 is\n",
      "Web browser capable of running .\n",
      "\n",
      "paragraph 33 is\n",
      "Jupyter Notebook software using . \n",
      "\n",
      "paragraph 34 is\n",
      "A laptop. Electrical outlets are available in the classroom.  is available. \n",
      "\n",
      "paragraph 35 is\n",
      "Ability to connect your laptop to the classroom projector.  and  plugs are available. You can also use the classroom computer to display your content to the class.\n",
      "\n",
      "paragraph 36 is\n",
      "Paper and pen or pencil for in class exercises. \n",
      "\n",
      "paragraph 38 is\n",
      "Course Format and Assignments\n",
      "\n",
      "paragraph 39 is\n",
      "Students will complete assigned homework, readings, essays, quizzes, two projects, and a final project. This course incorporates a variety of hands-on labs and practical exercises to engage students and prepare them for challenges they may encounter in the workplace.\n",
      "\n",
      "paragraph 40 is\n",
      "Students will occasionally present their solutions to homework assignments in class. Projects will also involve presentations. \n",
      "\n",
      "paragraph 41 is\n",
      "The final project will provide students opportunity to showcase what they have learned in a format similar to what they will encounter in a professional work setting. \n",
      "\n",
      "paragraph 43 is\n",
      "Course Communication \n",
      "\n",
      "paragraph 44 is\n",
      "Email is preferred. If you are sending code to be reviewed, provide the Jupyter notebook as an attachment. Emails should not exceed 1MB in size.\n",
      "\n",
      "\n",
      "paragraph 45 is\n",
      "Grading Criteria\n",
      "\n",
      "paragraph 46 is\n",
      "Students are expected to participate in class discussions. Missed lectures result in an attendance score of zero for that lecture. Students will occasionally present results of analysis to the entire class. Student participation in class is expected; watching recorded lectures outside of class does not count towards attendance.\n",
      "\n",
      "paragraph 47 is\n",
      "Assignments and quizzes are graded on a 100 point scale. Homework assignments are typically due 24 hours prior to the start of class. Not all assignments and quizzes will be counted towards the course grade. Which assignments are counted for the course are randomly selected; these selections are not disclosed to students. Everyone gets the same random selection of assignments. All assignments are scored.\n",
      "\n",
      "paragraph 49 is\n",
      "Final Grade will be computed as follows. (See also )\n",
      "\n",
      "paragraph 50 is\n",
      "\n",
      "\n",
      "\n",
      "paragraph 51 is\n",
      "Course Materials\n",
      "\n",
      "paragraph 52 is\n",
      "All Course Materials created by the instructor are covered by a “” license.  Recordings of lecture materials and voice recordings of the instructor will be made during class. \n",
      "\n",
      "paragraph 53 is\n",
      "All assignments, quizzes, essays, project proposals, and projects should be . \n",
      "\n",
      "paragraph 54 is\n",
      "When submitting a Jupyter notebook to Blackboard, include the assignment requirements as a comment at the top of the notebook. Name the .ipynb file to be reflective of the purpose of the assignment.\n",
      "\n",
      "paragraph 55 is\n",
      "If your assignment uses a file found on the Internet, specify the complete URL in the submitted notebook. If your approach to an assignment relies on local file(s) for input to the Jupyter Notebook, please include the input file(s) in your . Blackboard allows multiple files to be uploaded per assignment. If a large file (more than 1 MB) needs to be submitted, provide a link to that data hosted on UMBC’s box.com service. If the large file is associated with a Jupyter notebook submitted via Blackboard, include the link to UMBC’s box.com in the notebook as a comment. For small data sets (less than or equal to 1 MB), students submit code and data in Blackboard.\n",
      "\n",
      "paragraph 56 is\n",
      "Essays should be  as plain text (not DOCX or PDF or images). Essays are constrained by word count; check the rubric for specific guidance. Essays should include a title. Essays should include citations. All text (including the title and citations) is included in word counts.\n",
      "\n",
      "paragraph 57 is\n",
      "Do not include your name on materials submitted via Blackboard, including essays, code, and projects. Anonymous grading is enabled. Resubmissions of previously graded work are not allowed. \n",
      "\n",
      "paragraph 59 is\n",
      "Course Policies\n",
      "\n",
      "paragraph 60 is\n",
      "UMBC provides a range of writing assistance, which can be found in the following:\n",
      "\n",
      "paragraph 61 is\n",
      "The Writing Center:  \n",
      "\n",
      "paragraph 62 is\n",
      "Research Guides & Tutorials:  \n",
      "\n",
      "paragraph 63 is\n",
      "Failure to follow guidelines for each assignment, including the required format, style, length, and submission may result in at least one-letter-grade reduction (10 percentage points) on the assignment depending on the type or number of transgressions.\n",
      "\n",
      "paragraph 64 is\n",
      "Each assignment is provided with a required outcome, desired output format, and grading rubric. Read the rubric to earn the best score for your assignment. If you have questions, email the instructor.\n",
      "\n",
      "paragraph 65 is\n",
      "Notify the instructor if you suspect you will not be able to complete the homework by the specified deadline. Late/incomplete assignments will be accepted if an extension has been agreed to in advance. Late submissions incur 10 percentage point reduction in score, with the reduction doubling each week. Emergency situations will be handled on a case by case basis with appropriate justification or documentation.  \n",
      "\n",
      "paragraph 66 is\n",
      "\n",
      "\n",
      "\n",
      "paragraph 67 is\n",
      "Academic Integrity\n",
      "\n",
      "paragraph 68 is\n",
      "If published work (a book or website) produced by someone else is used, cite the contribution in your assignment submission. If a website is referenced, specify the full URL of the source. If your own work from a previous or concurrent course is used, specify that in the assignment submission.  Uncited references for software and essays is plagiarism. \n",
      "\n",
      "paragraph 69 is\n",
      "Discussion of assignments with other students is not allowed until all work associated with that assignment has been graded. Submit your own independent work. Sharing of work is not acceptable. Explaining your approach to other students must wait until everyone has a grade for their assignment.\n",
      "\n",
      "paragraph 70 is\n",
      "The instructor of the course can select from a range of responses. Examples include a written warning (registered with UMBC’s administrators), assigning a zero for the submitted work, decreasing the course score by less than a letter grade, decreasing the course grade by 1 or more letter grades, or assigning an F for the course grade.\n",
      "\n",
      "paragraph 71 is\n",
      "By enrolling in this course, each student assumes the responsibilities of an active participant in UMBC’s scholarly community in which everyone’s academic work and behavior are held to the highest standards of honesty.  Cheating, fabrication, plagiarism, and helping other to commit these acts are all forms of academic dishonesty, and they are wrong.  Academic misconduct could result in disciplinary action that may include, but is not limited to failure, suspension or dismissal.  \n",
      "\n",
      "paragraph 72 is\n",
      "Refer to the UMBC policy on Academic Integrity: .\n",
      "\n",
      "paragraph 73 is\n",
      "Student Academic Misconduct in the Grad School is handled by the Associate Dean (AD) of the Grad School. The first step is for the instructor to consult with the AD. If the instructor and AD determine that a less serious infraction has occurred, then the AD provides written authority to the instructor to resolve the matter. The instructor then notifies the students in writing, and the students must be allowed the opportunity to provide an explanation. The student has the right to appeal the decision directly to the AD, and the student must be informed of this right. If an appeal is requested, then the AD will convene a Grievance Committee under the policy established by University of Maryland Graduate School, Baltimore (UMGSB).\n",
      "\n",
      "paragraph 74 is\n",
      "Incidents are tracked by UMBC. Repeated infractions incur more severe penalties. \n",
      "\n",
      "paragraph 75 is\n",
      "\n",
      "\n",
      "\n",
      "paragraph 76 is\n",
      "Student Disability Services (SDS)\n",
      "\n",
      "paragraph 77 is\n",
      "UMBC is committed to eliminating discriminatory obstacles that may disadvantage students based on disability. Services for students with disabilities are provided for all students qualified under the , the , and  who request and are eligible for accommodations. The Office of Student Disability Services (SDS) is the UMBC department designated to coordinate reasonable accommodations that would allow students to have equal access and inclusion in all courses, programs, and activities of the University.\n",
      "\n",
      "paragraph 78 is\n",
      "If you have a documented disability and need to request academic accommodations, please register with the Office of Student Disability Services (SDS) as soon as possible. To begin the registration process please visit the SDS website and review the registration information, including disability documentation guidelines and how to submit the SDS registration form online using the confidential data management software called Accommodate . \n",
      "\n",
      "paragraph 79 is\n",
      "Once accommodations have been approved, you and your instructors will be notified via an emailed accommodation letter from the SDS office.  Both the SDS office and Shady Grove's (CAS) will work with you to ensure you receive the approved accommodations. If you have any questions or concerns, please contact the  via  or phone at 410-455-2459. Please note that accommodations are not retroactive and begin once  sends an approved accommodation letter.\n",
      "\n",
      "paragraph 80 is\n",
      "For more information on the services CAS provides, please contact Mary Gallagher () or visit . \n",
      "\n",
      "paragraph 83 is\n",
      "Disclosure of Sexual Misconduct and Child Abuse or Neglect\n",
      "\n",
      "paragraph 84 is\n",
      "As an instructor, I am considered a Responsible Employee, per . While my goal is for you to be able to share information related to your life experiences through discussion and written work, I want to be transparent that as a Responsible Employee I am required to report disclosures of sexual assault, domestic violence, relationship violence, stalking, and/or gender-based harassment to the University’s Title IX Coordinator.\n",
      "\n",
      "paragraph 85 is\n",
      "As an instructor, I also have .\n",
      "\n",
      "paragraph 86 is\n",
      "The purpose of these reporting requirements is for the University to inform you of options, supports and resources; you will not be forced to file a report with the police. Further, you are able to receive supports and resources, even if you choose to not want any action taken. Please note that in certain situations, based on the nature of the disclosure, the University may need to take action.\n",
      "\n",
      "paragraph 87 is\n",
      "[]\n",
      "\n",
      "paragraph 88 is\n",
      "\n",
      "\n"
     ]
    }
   ],
   "source": [
    "indx=0\n",
    "for para in document.paragraphs:\n",
    "    indx+=1\n",
    "    if (len(para.text)>0):\n",
    "        print(\"\\nparagraph\",indx,\"is\")\n",
    "        print(para.text)"
   ]
  },
  {
   "cell_type": "code",
   "execution_count": null,
   "metadata": {},
   "outputs": [],
   "source": []
  },
  {
   "cell_type": "code",
   "execution_count": null,
   "metadata": {},
   "outputs": [],
   "source": []
  },
  {
   "cell_type": "code",
   "execution_count": null,
   "metadata": {},
   "outputs": [],
   "source": []
  }
 ],
 "metadata": {
  "kernelspec": {
   "display_name": "Python 3",
   "language": "python",
   "name": "python3"
  },
  "language_info": {
   "codemirror_mode": {
    "name": "ipython",
    "version": 3
   },
   "file_extension": ".py",
   "mimetype": "text/x-python",
   "name": "python",
   "nbconvert_exporter": "python",
   "pygments_lexer": "ipython3",
   "version": "3.7.4"
  }
 },
 "nbformat": 4,
 "nbformat_minor": 2
}
