{
 "cells": [
  {
   "cell_type": "code",
   "execution_count": 1,
   "metadata": {},
   "outputs": [
    {
     "name": "stdout",
     "output_type": "stream",
     "text": [
      "Collecting pdfminer.six\n",
      "\u001b[?25l  Downloading https://files.pythonhosted.org/packages/60/0a/5806bd37362bceebb88cff526177c308276b3e0696611564ed01d67b8c6b/pdfminer.six-20200124-py3-none-any.whl (5.6MB)\n",
      "\u001b[K     |████████████████████████████████| 5.6MB 554kB/s eta 0:00:01\n",
      "\u001b[?25hRequirement already satisfied: sortedcontainers in /opt/anaconda3/lib/python3.7/site-packages (from pdfminer.six) (2.1.0)\n",
      "Collecting pycryptodome (from pdfminer.six)\n",
      "\u001b[?25l  Downloading https://files.pythonhosted.org/packages/c2/1c/7601f35b948dc492183fa2c4b8a11ee988d1d7eae3895330bdd759cc8e0b/pycryptodome-3.9.6-cp37-cp37m-macosx_10_6_intel.whl (14.1MB)\n",
      "\u001b[K     |████████████████████████████████| 14.1MB 675kB/s eta 0:00:01    |███████▊                        | 3.4MB 2.8MB/s eta 0:00:04\n",
      "\u001b[?25hRequirement already satisfied: chardet; python_version > \"3.0\" in /opt/anaconda3/lib/python3.7/site-packages (from pdfminer.six) (3.0.4)\n",
      "Installing collected packages: pycryptodome, pdfminer.six\n",
      "Successfully installed pdfminer.six-20200124 pycryptodome-3.9.6\n"
     ]
    }
   ],
   "source": [
    "!pip install pdfminer.six"
   ]
  },
  {
   "cell_type": "code",
   "execution_count": 2,
   "metadata": {},
   "outputs": [],
   "source": [
    "from docx import Document\n",
    "import os\n",
    "import pickle\n",
    "import glob"
   ]
  },
  {
   "cell_type": "markdown",
   "metadata": {},
   "source": [
    "# Loop over txt files in directory"
   ]
  },
  {
   "cell_type": "markdown",
   "metadata": {},
   "source": [
    "Create a function that gets text in document into a dictionary"
   ]
  },
  {
   "cell_type": "code",
   "execution_count": 6,
   "metadata": {},
   "outputs": [],
   "source": [
    "txt_content={}\n",
    "list_of_txt = glob.glob('week1_essay/*.txt')\n",
    "for this_path in list_of_txt:\n",
    "    with open(this_path,'r') as ftxt:\n",
    "        content=ftxt.readlines()\n",
    "    txt_content[this_path]=content"
   ]
  },
  {
   "cell_type": "code",
   "execution_count": 7,
   "metadata": {},
   "outputs": [
    {
     "data": {
      "text/plain": [
       "{'week1_essay/2020-02-03-16-25-50.txt': [\"<p>In the paper &quot; 50 years of data science”, David Donoho narrates the vigorous take on data science from more than 50 years ago and how it is different from statistics. He additionally mentioned John Chambers, John Tukey, Bill Cleveland and Leo Breiman's independent approach towards data science.</p> \\n\",\n",
       "  '<p>John Tukey at first put his thoughts on one of his papers &quot;The Future in Data Analysis&quot; in 1962 that, articulating the importance of the distinction between data analysis and statistics was the first step in establishing the field of data science. Prevalent to the four researchers was the fact that they were involved with the application of statistics in a different field. This vision is presented by Donoho in the paper which is predicated on the activities of people who are &quot;learning from data”.</p> \\n',\n",
       "  '<p>DSI conception of data science mentioned by Donoho was puzzling to statisticians and they commenced questioning such as – “Aren’t we data science?”, “Is data science just a ‘rebranding’ of statistics?” or “Let us own Data Science”.</p> \\n',\n",
       "  '<p>Many memes have been recognized during the discussions such as – The “Big Data” meme, the “Skills” meme and the “Jobs” meme which scientists had to deal with. </p> \\n',\n",
       "  '<p>I learned that statistics is a component of what goes on in data science but not a very big part. “Data Scientist” means a professional who uses scientific methods to liberate and create meaning from raw data and “Statistics” designates the practice or science of collecting and analyzing numerical data in large quantities. Clearly, there are many visions to it.</p>'],\n",
       " 'week1_essay/2020-02-03-13-10-30.txt': [\"<p><em> “A Very Short History of Data Science”</em>, by Gil Press, effectively explores the origins and evolution of the field of data analysis, as well as that of the data scientist. Gil embarks on his chronological journey in 1962, where statisticians and research scientists alike grapple with the idea of applying traditional methods to structured data sets, and the thought that, perhaps the data itself should be allowed to lead the discussion, to generate the questions rather than just validating answers. As Gil’s timeline progresses and technology evolves, the incorporation of computer science into the mix, along-side the mass collection of data, begin to give rise to a hybrid career path. This new archetype incorporates computer scientist, statistician, SME, and story teller into someone who can “convert data into information and knowledge.” The idea of “data science” is born. In the hands of the data scientist traditional statistical methods evolve into complex and scalable algorithms, capable of gleaning meaningful insight from masses of data, visualizing it, and converting it into action. The data scientist becomes an invaluable jack of all trades, with involvement beginning at data collection and ending with executing decisions based on their analysis. Academic institutions and corporations see the value and begin to invest in the field accordingly.\\xa0\\xa0The article states, as its timeline reaches the present, “There is no widely accepted boundary for what's inside and outside of data science's scope.” The field will continue to grow, to incorporate new technologies and evolve antiquated ideas on solving the problems of today and tomorrow; data scientists themselves now control the content and boundaries of their industry.</p>\\n\",\n",
       "  '<p><sup>Gil Press.\\xa0“A Very Short History of Data Science.” </sup><em><sup>Forbes, </sup></em><sup>28 May. 2013, p.All.</sup></p>'],\n",
       " 'week1_essay/2020-02-03-13-00-32.txt': ['<p>The paper summarizes the existence and advancement in data science 50 years ago and relates it to the current and future technologies. And also it mainly focused on the future scope and research carried out in the field of data science for the next 50 years.\\xa0</p> \\n',\n",
       "  \"<p>Various DSI-like activities began as of late, including Campus-wide activities at NYU, Columbia, MIT, ... and New Master's Degree programs in Data Science, for instance at Berkeley, NYU, Stanford,... and There are new declarations of such activities weekly.1 2 Data Science 'versus' Statistics Many of my crowd at the Tukey Centennial where these comments were introduced are applied analysts and consider their expert profession one long arrangement of activities in the above assortment, the executives, preparing, examination, representation, and understanding of immense measures of heterogeneous information related to a differing cluster of applications. truth be told, a few introductions at the Tukey Centennial were excellent stories of assortment, the board, handling, investigation, perception, and understanding of huge measures of heterogeneous information related to a differing cluster of applications. To analysts, the DSI marvel can appear to be confusing.\\xa0</p> \\n\",\n",
       "  '<br> \\n',\n",
       "  \"<p>While Barlow recommends that any progressed quantitative degree will be adequate right now, Data Science activities, in essence, suggest that conventional insights degrees are insufficient to find employments right now formal accentuation on figuring and database aptitudes must be a piece of the mix.14 We don't generally have the foggiest idea.\\xa0</p> \\n\",\n",
       "  '<br> \\n',\n",
       "  \"<p>Registration information is generally the size of the present huge information; however, they have been around for over 200 years! An analyst, Hollerith, imagined the primary meaningful step forward in 6 7 8 9One in some cases experiences additionally the explanation that insights are about 'little datasets, while Data Science is about 'enormous datasets.\\xa0</p> \\n\",\n",
       "  '<br> \\n',\n",
       "  \"<p>8 Yanir Seroussi's blog15 opines that &quot;there are hardly any obvious information science positions for individuals with no work understanding.&quot; A fruitful information researcher should have the option to get one with the information by investigating it and applying a thorough factual examination. Yet, great information researchers likewise comprehend the stuff to send generation frameworks and are prepared to get their hands messy by composing code that tidies up the information or performs center framework usefulness. Increasing every one of these abilities requires some serious energy [on the job].\\xa0</p> \\n\",\n",
       "  '<br> \\n',\n",
       "  \"<p>Measurements are evidently the word that challenges not express its name regarding such an initiative! 2 Searching the web for more data about the developing term 'Information Science', we experience the accompanying definitions from the Data Science Association's &quot;Proficient Code of Conduct&quot;3 ''Data Scientist&quot; signifies an expert who utilizes logical techniques to free and make importance from crude information.</p>\"],\n",
       " 'week1_essay/2020-02-02-17-25-24.txt': [\"<p>“A Very Short History of Data Science”, written by Gil Press and published in Forbes Magazine in 2013, establishes a timeline tracing the origins of the data science field and how it rose to prominence. Press begins the timeline in 1962, citing &quot;The Future of Data Analysis&quot; by mathematician John W. Tukey, in which Tukey comments on the emerging importance of data analysis to the field of statistics. From this prescient prediction, Press' timeline cites instances between 1970 and 1995 of academics defining the term &quot;data science&quot; in journals and the foundation of multiple academic data science organizations. During the 1990s and early 2000s, Press' timeline shows an increase in articles by academics and professionals attempting to settle on definitions for terms, including &quot;data science&quot; and &quot;data mining&quot;. In the 2000s, the trend of the articles suggests that the field of data science distinguished itself from mathematics and statistics by focusing on analyzing data and applying the results of that analysis rather than modeling how the data were created in the first place. The final articles Press lists, ranging from 2005-2012, profile &quot;data scientist&quot; as an emerging job category and include interviews with high-level professionals about desirable skills in data scientists. Overall, Press' article shows that the field of data science emerged as a subfield of academic statistics until industries, beginning with marketing, began to experiment with utilizing data to gain an edge over competitors. Combined with the emergence of the internet and personal computers in the 90s, data science shifted from being an academic subfield to its own field of study and industry.</p>\"],\n",
       " 'week1_essay/2020-02-03-17-33-47.txt': ['\\ufeff50 Years of Data Science\\n',\n",
       "  '\\n',\n",
       "  '\\n',\n",
       "  '\\tIn the first 10 pages of 50 Years of Data Science, David Donoho sets up a critical look at the phenomenon that is Data Science. In light of the initiatives springing up around this supposedly new field, Mr. Donoho questions whether the science of exploring/analyzing data is truly something novel and what, if anything, makes the field of DS so different from Statistics. Mr. Donoho’s summarizes the main tropes that are used to separate DS from Statistics into three ‘memes’ before tackling each. The three memes he recognizes and addresses are: Big Data, Skills, and Jobs.\\n',\n",
       "  '\\n',\n",
       "  '\\tMr. Donaho first addresses ‘Big Data’, often used by universities to differentiate DS and Statistics. DS exists to address the large volumes of data we now need to contend with, they claim--but traditional statistics have been dealing with census data for decades, so that is nothing new. He then moves onto the ‘Skills’ meme, which suggests that DS requires advanced computer skills, but he points out that many of these are largely unnecessary and that there are better ways to solve these problems. Finally he moves on to ‘Jobs’; lots of people are trying to hire Data Scientists, but it seems what DS graduates need is not academic experience but work experience instead.\\n',\n",
       "  '\\n',\n",
       "  '\\tMr. Donoho concedes that there is room for DS as the science of “learning from data” rather than a simple reshashing of Statistics. As science in general becomes a dataset to be learned from, the ability to analyze and study that data will become ever more important-- and DS is the field to do that.'],\n",
       " 'week1_essay/2020-02-03-12-59-23.txt': ['<p>This article explains the history, evolution, use, and efforts to define the term Data science throughout the years from 1962 to 2012. It mentions the evolution of mathematical statistics to data analysis which takes characteristics of science rather than maths. The definition of Data Science came out as:\\xa0“The science of dealing with data, once they have been established, while the relation of the data to what they represent is delegated to other fields and sciences”. The mission of converting data into information and knowledge was started. In 1994, companies started collecting huge amounts of data of people and processed it to draw some conclusions and accordingly they started planning their marketing strategies. Different names were given to the findings of useful patterns in data. Different data models and diverse tools were introduced to reach conclusions from data. Journal of Data Science was launched which provided a platform for all data workers to present their views &amp; exchange ideas. The Research Centre for Dataology and Data Science was established in China. In 2009, it was stated that the ability to take data, understand it, process it, extract value from it, visualize it, communicate it, that is going to be the most important skill in the next decades. In 2010, a new type of specialist has arisen, the data scientist, who can tackle all aspects of the problem, from data collection to drawing conclusions. Moreover, Data Science is a complete mixture of machine learning, statistics, mathematics, and domain of data for analysis. Data Scientist fits the best to those who use data and science to build something unique.</p>'],\n",
       " 'week1_essay/2020-02-03-16-33-53.txt': ['<p>50 Years Of Data Science:\\xa0</p>\\n',\n",
       "  '<p>It was past 50 years ago where the professor named john Tukey pointed out the then “un-recognized\\xa0term” data science whose primary focus and interest was in the domain of data analysis. From then, there where many scientific discoveries and innovations on the basis of how data is being learned. The combination of logical revelation and innovations includes the collection, management and understanding of tremendous measure of different information related with various clusters of scientific\\xa0applications.\\xa0</p>\\n',\n",
       "  '<p>\\xa0Though the two terms,’Data Science’ and ‘Statistics’ falls under the same category they have their own respective differences and definitions. Statistics is generally a piece of what goes into the data science. On the other hand Data Scientist is an individual who has the information and aptitudes to direct modern and efficient investigations of information. A Data Scientist removes bits of knowledge from informational collections for item advancement and assesses and distinguishes key chances.\\xa0</p>\\n',\n",
       "  '<p>The term big data is generally defined as a huge data sets from various complex data sources .Data Scientist have been good dealing with huge informational indexes for quite a while considerably after the meaning of enormous was growing.\\xa0</p>\\n',\n",
       "  '<p>Researchers have built up their aptitudes to take care of the issues that they are intrigued in,using Data science and amazing scientific quantitative programming conditions demonstrated on math,not for better taking care of the genuine issue of deduction from data,but managing authoritative rarities of cluster computing.\\xa0</p>\\n',\n",
       "  '<p>A good data scientist is a one ,who not only explore data by performing statistical analysis but also understand the deployment and should be able to maintain\\xa0the system functionality.\\xa0</p>\\n',\n",
       "  '<p>\\xa0</p>\\n',\n",
       "  '<p>\\xa0</p>\\n',\n",
       "  '<p>\\xa0</p>'],\n",
       " 'week1_essay/2020-02-03-16-52-43.txt': ['<p><strong><span style=\"text-decoration: underline;\">Summary on 50 Years of data science</span></strong></p> \\n',\n",
       "  '<p>The Author David Donoho, drawing on Tukey, Cleveland, Chambers and Breiman etc. presents his vision on data science based on the activities of the people who are learning from the data and working on the data.</p> \\n',\n",
       "  '<p>With the announcement of “$100 Million Data Science Initiative” by University of Michigan, followed by presentation at tukey centennial workshop in front of statisticians, initiated the debate over the creation of new field “Data Science”. Though the definitions of statistics and data science from web look similar to statistician as it encompasses everything that data scientist does, the definition seemed to be limiting. The statistics profession faced a confusing moment, leading to various reactions by professional statistics organizations.</p> \\n',\n",
       "  '<p>Following all the reactions, author believed that there are many visions of data science and its statistics relation. The author began to discuss various important memes like “Big Data”, “Skills” and “Jobs”.</p> \\n',\n",
       "  '<p>Barlow implies that data scientists may face years of further skills development post master’s degree, before they can add value to their employer’s organization. </p> \\n',\n",
       "  '<p>The special contribution of a data science degree over a statistics degree is additional information technology training and yet hiring organizations are facing difficulties making use of the specific IT skills being taught in degree programs.</p>'],\n",
       " 'week1_essay/2020-02-03-11-47-37.txt': ['<p><strong>Data Science</strong> has become evident to design an expected vast store of big data, this has a long history and has been discussed by scientists, statisticians, librarians, computer scientists and others for years.</p>\\n',\n",
       "  '<br>\\n',\n",
       "  '<p>Below are the few references as how different authors mentioned each of their views:</p>\\n',\n",
       "  '<ul>\\n',\n",
       "  ' <li>In <strong>1992</strong>, John W. Tukey writes in “<a href=\"http://projecteuclid.org/DPubS?service=UI&version=1.0&verb=Display&handle=euclid.aoms/1177704711\"><span style=\"text-decoration: underline;\">The Future of Data Analysis</span></a>” , referring to the merging of statistics and computer, at a time when statistical results were presented in hours, rather than the days or weeks it would take if done by hand.\\n',\n",
       "  ' <li>Peter Naur, in <strong>1974 </strong>published Concise Survey of Computer Methods in Sweden and the United States.\\n',\n",
       "  ' <li>The journal <a href=\"http://www.springer.com/computer/database+management+%26+information+retrieval/journal/10618\"><span style=\"text-decoration: underline;\">Data Mining and Knowledge Discovery</span></a> was launched in <strong>1977</strong>.\\n',\n",
       "  ' <li>Jacob Zahavi quoted in “<a href=\"http://knowledge.wharton.upenn.edu/article.cfm?articleid=103\"><span style=\"text-decoration: underline;\">Mining Data for Nuggets of Knowledge</span></a>” in December <strong>1999</strong>.\\n',\n",
       "  ' <li>In <strong>2001</strong>, William S. Cleveland published &quot;<a href=\"http://cm.bell-labs.com/cm/ms/departments/sia/doc/datascience.pdf\"><span style=\"text-decoration: underline;\">Data Science: An Action Plan for Expanding the Technical Areas of the Field of Statistics</span></a>.&quot; Also, Leo Breiman publishes “Statistical Modeling: The Two Cultures” in same year.\\n',\n",
       "  ' <li>April <strong>2002 </strong>Launch of <a href=\"http://www.codata.org/dsj/index.html\"><span style=\"text-decoration: underline;\">Data Science Journal</span></a>, published papers on “the management of data and databases in Science and Technology.”\\n',\n",
       "  ' <li>January <strong>2003 </strong>Launch of <a href=\"http://www.jds-online.com/\"><span style=\"text-decoration: underline;\">Journal of Data Science</span></a>: “By ‘Data Science’ .\\n',\n",
       "  ' <li>January <strong>2009 </strong><a href=\"http://www.nitrd.gov/About/Harnessing_Power_Web.pdf\"><span style=\"text-decoration: underline;\">Harnessing the Power of Digital Data for Science and Society</span></a> was published.\\n',\n",
       "  ' <li>May <strong>2009 </strong>Mike Driscoll writes in “<a href=\"http://medriscoll.com/post/4740157098/the-three-sexy-skills-of-data-geeks\"><span style=\"text-decoration: underline;\">The Three Sexy Skills of Data Geeks</span></a>.\\n',\n",
       "  ' <li>June <strong>2009 </strong>Nathan Yau writes in “<a href=\"http://flowingdata.com/2009/06/04/rise-of-the-data-scientist/\"><span style=\"text-decoration: underline;\">Rise of the Data Scientist</span></a>” .\\n',\n",
       "  '</ul>\\n',\n",
       "  '<br>\\n',\n",
       "  '<p>This summarizes a very short history of Data Science.</p>\\n',\n",
       "  '<p>\\xa0</p>\\n'],\n",
       " 'week1_essay/2020-02-02-22-52-02.txt': ['<p>Article: <strong>&quot;A Very Short History Of Data Science&quot;</strong> <a href=\"https://www.forbes.com/sites/gilpress/2013/05/28/a-very-short-history-of-data-science/#2d4b373155cf\">https://www.forbes.com/sites/gilpress/2013/05/28/a-very-short-history-of-data-science/#2d4b373155cf</a></p> \\n',\n",
       "  \"<p>This article is mainly about the history and evolution of data science, the related terms and how this new profession developed. Tukey writes about the relationship between statistics and data analysis and stressed on the Side-by-Side approach of Exploratory and Confirmatory Data analysis. Naur defined “Data Science”. This article informs about IASC, its mission and KDD. “Data marketing” uses people's data to analyze their buying patterns. “Data Science” is included for the first time in the IFSC conference title. Furthermore, the terms data analysis, data mining, and data science are vastly used in the publications of the classification societies. Historically, these terms are given to find useful patterns in data. However, there are additional steps in the process of discovering insights from data. Jeff Wu calls for renaming statistics to be data science and statisticians to be data scientists whereas Zahabi addresses the need for special tools to handle a huge volume of data. Cleveland proposes ideas to eliminate and merge the distance between Statistician and computer scientist. Braiman explains statistical and algorithmic modelling. The article mentions the change in competition based on data. Furthermore, it recommends the development for career path for data scientists, who are necessary for the successful scientific enterprises. On the same lines, Hal Varian talks about the current scarcity and importance of data handling in the next decades. The awareness about understanding data is the need of an hour. The article concludes with many comments on this emerging field and their experts. Data Scientist groups are formed on social networking sites and the opportunities tremendously increased.\\xa0</p>\"],\n",
       " 'week1_essay/2020-02-03-17-08-43.txt': [\"<p>The reformation of Academic Statistics began 50 years back by John Tukey an American scientist. In his work &quot;The future of Data Analysis&quot; he pointed towards an undiscovered science, it's focus was to learn from Data Or Data Analysis. Later on John Chambers, Bill Cleveland and Leo Breiman independently emphasized on this. Their primary idea was on data preparation and presentation.</p>\\n\",\n",
       "  '<br>\\n',\n",
       "  '<p>The modern day Data Science is a combination of statistics and machine learning with the scope of scaling up to Big Data. The recent announcement of $100M “Data Science Initiative” by University of Michigan followed by institutions like NYU, MIT illustrate the expansion of Data science.</p>\\n',\n",
       "  '<br>\\n',\n",
       "  '<p>Statistics is an important part of Data Science but often the statisticians look at it as ‘rebranding’ of statistics on the contrary there are people who consider it as irrelevant. Similarly, Big Data which deals with handling of huge amount of data sets has become an important thing to get a job. Recruiters are looking for the people who are good at big data and the recent trends illustrate this.</p>\\n',\n",
       "  '<br>\\n',\n",
       "  '<p>Yanier Seroussi’s blog opines that &quot;A successful data scientist needs to be able to become one with the data by exploring it and applying rigorous statistical analysis.. But good data scientists also understand what it takes to deploy production systems, and are ready to get their hands dirty by writing code that cleans up the data or performs core system functionality... Gaining all these skills takes time [on the job]&quot; and the would-be Data Scientists should be open to years of skill development that are required as the technology progresses.</p>'],\n",
       " 'week1_essay/2020-02-03-13-01-23.txt': ['<p>The concept of extracting useful information from the given data is not a recent concept(Data Analysis) but recently data analysis is given more emphasis and continuous development is being done in this stream. Initially people thought that there is lot of similarity between a statistician and a data scientist but later realized that data science is an interdisciplinary area and statistics just provides methods to represent data. Statisticians are very helpful in dealing with big data sets, even before introduction of the term big data they have have done scientific research on data sets having large number of individuals or measurements or both. Data scientists need large number of computational resources and they should have a skill set of open source software framework such as hadoop which has the capability of handling multiple concurrent tasks. To grab a job as a data scientist apart from the traditional knowledge in statistics one must have a skill set in both computing and database. As every country in this world is moving towards technology there is more scope of generating huge amounts of data so data analysis will play a major part commercially in the coming decades.</p>'],\n",
       " 'week1_essay/2020-02-01-19-20-46.txt': ['<p> This paper was prepared by David Donoho for the John Tukey Centennial on Sep 18, 2015 at Princeton, NJ. In this paper, he organizes insights that have been published over the years about this new would-be field of Data Science, and put forward a framework for understanding its basic questions and procedures. It reviews some ingredients of the “Data Science moment”. There are many visions of Data Science and its relation to Statistics, says author describing certain recurring ‘Memes’. Big data Meme - ‘Big data’ as a criterion for meaningful distinction between statistics and data science can be immediately rejected. Skills Meme - The new skills attracting so much media attention are not skills for better solving the real problem of inference from data. They are coping skills for dealing with organizational artifacts of large-scale cluster computing. Jobs Meme- A successful data scientist needs to be able to become one with the data by exploring it and applying rigorous statistical analysis.</p> \\n',\n",
       "  '<p> More than 50 years ago, John Tukey called for a reformation of academic statistics. He prophesied that something like today’s Data Science moment would be coming. In ‘The Future of Data Analysis’, he pointed to the existence of an as-yet unrecognized science, whose subject of interest was learning from data, or ‘data analysis’. This paper was published in 1962 in “The Annals of Mathematical Statistics”, the central venue for mathematically-advanced statistical research of the day. Tukey’s vision embedded statistics in a larger entity. Tukey’s central claim was that this new entity, which he called ‘Data Analysis’, was a new science, rather than a branch of mathematics. The three constituents judged essential by most as to what makes a science are intellectual content, organization in an understandable form, reliance upon the test of experience as the ultimate standard of validity. ‘Data analysis passes all three tests, and I would regard it as a science’ says Tukey. He identified four driving forces in the new science:</p> \\n',\n",
       "  '<p>\\xa01. The formal theories of statistics</p> \\n',\n",
       "  '<p>\\xa02. Accelerating developments in computers and display devices</p> \\n',\n",
       "  '<p>\\xa03. The challenge, in many fields, of more and ever larger bodies of data </p> \\n',\n",
       "  '<p>4. The emphasis on quantification in an ever wider variety of disciplines</p> \\n',\n",
       "  '<p>Data Analysis is not only a scientific field, it is as complex as any major field of science.</p>\\n',\n",
       "  '\\n',\n",
       "  'Comments:\\n',\n",
       "  'There are no student comments for this assignment.\\n',\n",
       "  '\\n',\n",
       "  'Files:\\n',\n",
       "  'No files were attached to this submission.\\n'],\n",
       " 'week1_essay/2020-02-03-13-13-33.txt': ['<p>Summarizing the first 10 lines of the paper &quot;50 years of data science&quot;, Initially talked about data science phases or data analytics cycle that includes collection, management, processing, analysis and visualization of data in a vast array of applications. The fact that statistics is a part of big data but not very big part is somehow convincing. &quot;Code of conduct&quot; given by the data science association, sets certain rules and standards that must be followed by a data scientist or simply to maintain the integrity of the data science profession.</p>\\n',\n",
       "  '<br>\\n',\n",
       "  '<p>Defines that data scientists are professionals who use scientific methods to extract meaning from raw data. Lot of argument went on data science vs statistics, as to whether both are same or different. Some scientists argued that data science was just a re-branding of statistics. Some asked questions on why do we even need data science when they have had statistics for centuries together.</p>\\n',\n",
       "  '<br>\\n',\n",
       "  \"<p>Some facts from the information said, the term &quot;Statistics&quot; was coined to compile census. It is fascinating to learn that today's scale of big data was yesterday's census. That gave me a clear understanding of what scale actually meant. Also this paper talked about skills that the industry expects from a data scientist like hadoop, map reduce to distribute data sets across clusters. Today's recruiters know that master's degree programs in big data are not just sufficient to excel as a data analyst or a data scientist. Some effort on computing, database, IT skills is a must too. </p>\\n\",\n",
       "  '<br>\\n',\n",
       "  '<br>\\n'],\n",
       " 'week1_essay/2020-02-03-16-03-11.txt': ['<p>My Understanding from the post is that:</p> \\n',\n",
       "  '<p>\\xa0</p> \\n',\n",
       "  '<p>·\\xa0\\xa0\\xa0\\xa0\\xa0\\xa0\\xa0\\xa0Data science is a combination of complex statistics and basic computer science, whose main motto is to make sense of the data.</p> \\n',\n",
       "  '<p>·\\xa0\\xa0\\xa0\\xa0\\xa0\\xa0\\xa0\\xa0In 1962, John W. Tukey published &quot;The Future of\\xa0Data Analysis&quot; in which he stated that, evolving mathematical statistics made him realize that his central interest is in data analysis, questioning how vital and important is the rise of stored-program electronic computer. In 1947, he coined the term &quot;bit&quot; and in 1977 he also published &quot;Exploratory Data Analysis&quot;.</p> \\n',\n",
       "  '<p>·\\xa0\\xa0\\xa0\\xa0\\xa0\\xa0\\xa0\\xa0In 1974, Peter Naur published Concise Survey of Computer Methods around the concept of data as defined in IFIP Guide to Concepts and Terms in Data Processing, stating data to be representation of facts and ideas which is capable of being modified by a process.</p> \\n',\n",
       "  '<p>·\\xa0\\xa0\\xa0\\xa0\\xa0\\xa0\\xa0\\xa0From 1989 to 2000 many people have published journals, books regarding Data Science and concepts included such as data mining, data analysis and different challenges that come cross during data creation.</p> \\n',\n",
       "  '<p>·\\xa0\\xa0\\xa0\\xa0\\xa0\\xa0\\xa0\\xa0By the year 2010 Drew Conway came up with a Venn Diagram representing all the aspects one need to master to become a fully component data scientist.</p> \\n',\n",
       "  \"<p>·\\xa0\\xa0\\xa0\\xa0\\xa0\\xa0\\xa0\\xa0In 2011, multiple people came up with their own notion of how &quot;Data Science&quot; is a best suitable name for what we do with statistics, visualization, data analysis etc., By September 2011 D.J Patil working along with Jeff Hammerbacher writes that, terms such as Business analyst, Data Analyst, Research scientist doesn't properly justify the job role they play in some of the organizations like Sun, LinkedIn etc., and says that Data Scientist satisfies the role exactly.</p> \\n\",\n",
       "  '<p>\\xa0</p> \\n',\n",
       "  '<br>'],\n",
       " 'week1_essay/2020-02-02-22-53-50.txt': ['<p>The article <strong>“A very short history of Data Science”</strong> highlights the evolution of data science.</p> \\n',\n",
       "  '<p>\\xa0</p> \\n',\n",
       "  '<p>As per the article, the evolution of data science over the past years involves the work of several mathematicians, scientists, and international organizations. Their contributions are not directly related to data science but they have defined the vital building blocks of data science. Initially,<em>\\xa0</em>John W Tukey brought the idea of a relationship between statistics and analysis. Peter Naur published the ‘Concise Survey of Computer Methods’ which is a collection of modern data processing methods. He used the term ‘Data Science’ several times and later defined the same. The first Knowledge Discovery in Database (KDD) Workshop was organized. Business Week published a cover story on Database Marketing which is considered as the first concept of data analysis towards commercial gain. This cover story gives a hint of how we should reuse our data. The International Federation of Classification Societies for the first time included the term Data Science in the conference title. Professor Jeff Wu put forward a proposal to rename statistics as data science and similarly statisticians as data scientists. Few more proposals flew in stating the need for new tools to manage the huge amount of information and involvement of faculty members in the data science department. With the release of all these journals and social networking sites, the use of data has started impacting society. The competition has changed and the need, as well as awareness of the field, has increased. Data science developed rapidly worldwide in the last decade and has become the most important part of all aspects.</p>'],\n",
       " 'week1_essay/2020-02-05-19-50-23.txt': ['<p>I have read the first 10 pages of the article &quot;50 years of data science&quot; . In that article the author David Donoho mentioned that initially everyone thought that data science is done by statistics but later everyone got released that data science is vast area and in order to become a data scientist a person must have a vast number of skill set and statistics is just a part of it. Data science is not a new concept but it became popular in the recent years as there is more amount of data being created world wide. The term big data emerged as the data which is being produced in the day to day life had been increasing enormously. Big data cannot differentiate the difference between statisticians and data scientists as statisticians have been analysis the big data sets from long back which have large number of individuals or measurements or both. The skill set for a data science had been evolving continuously but in the past too scientists solved complex problems using more mathematical skills. In the coming era too data science is going to have a greater importance as the data that is being generated in this world is increasing tremendously so the information that can be retrieved from the data can be used in both scientific and commercial purpose</p>'],\n",
       " 'week1_essay/2020-02-03-10-38-19.txt': ['<p>“Data Science” is an understanding of large data sets. Initially there were large discussions about data science and its uses. It was started in the year 1962 by John W. Tukey, who found that the center idea of statistic evolves around data analysis more than mathematics. After which a standard definition for data was introduced by Peter naur in 1977, and in the same period IASC (“The International Association for statistical computing”) has given a method for conversion of data into knowledge. “Business week” is a journal in 1994 which broadcasted about Database Marketing and how it is used in companies to upgrade their business based on customers requirement. IFCS (“International Federation Classification Societies”) in japan, in their biennial conference introduced about “Data Science” for the first time in 1996. Moreover H.C. Carver have stated that statistics as Data Science in the year 1997. A computer scientist William S. Cleveland provided an action plan to strengthen the technical area among statistics with programmers. One of the data science journals described about data systems in 2002. Another journal in 2003 gives an idea on data workers platform. A predictive modelling idea was given by Thomas in the year 2005 in “Long Lived Digital Data”. In order to improve the way of understanding in data science a “Venn diagram” was introduced by Dern cornway in 2010 for better data modelling.</p>'],\n",
       " 'week1_essay/2020-02-03-09-14-52.txt': ['<p>Although data science isn’t a new profession, it has evolved considerably over the last 50 years. In 1962 when mathematician John W. Tukey predicted the effect of modern-day electronic computing on data analysis as an empirical science. Tukey’s predictions occurred well before the explosion of big data &amp; ability to perform complex and large scale analyses. Throughout the 2000s, various academic journals began to recognize data science as an emerging discipline. In 2005, the National Science Board advocated for data science career path to ensure that there would be experts who could successfully manage digital data collection.</p>\\n',\n",
       "  '<p>In 2009, Google Chief Economist Hal Varian told the Mc Kinsey Quarterly that he was concerned with the deficit of individuals qualified to analyze the “free and ubiquitous data” being generated. He said, “The complimentary scarce factor is the ability to understand the data and exact value from it. Today’s data scientist know Varian was right. Over last six years, data science has continued to evolve and permeate nearly every industry that generates or relies on data. In 2010 article published in The Economist Kenneth Cukier says data scientists “combine the skills of software programmer, statistician and storyteller to extract the nuggets of gold hidden under mountains of data.”</p>\\n',\n",
       "  '<p>History teaches us many lessons, here’s what we can learn from data science history:</p>\\n',\n",
       "  '<ol>\\n',\n",
       "  ' <li>Don’t take data for granted.\\n',\n",
       "  ' <li>Think big.\\n',\n",
       "  ' <li>Know the content.\\n',\n",
       "  '</ol>\\n',\n",
       "  '<p>Data Science will undoubtedly continue to evolve as industry needs change. However data scientists will always be in demand. As long as data exists, there must be highly skilled individuals who can analyze it.</p>'],\n",
       " 'week1_essay/2020-02-03-18-13-43.txt': ['<p>On 8th September 2015, Data Science was defined as the coupling of scientiﬁc discovery and practice that involves the collection, management, processing,\\xa0 analysis, visualization, and interpretation of vast amounts of data associated with a diverse array of scientiﬁc, translational, and interdisciplinary\\xa0applications in the announcement by University of Michigan. Also,during this announcement the university made a 100 million$ &quot;data science initiative&quot;. This announcement initiated a spark among other universities starting Data Science degrees.</p> \\n',\n",
       "  '<p>Since the beginning there has been war among data science and statistics but with the help of the DSI by the University of Michigan which acts as a great bench to help statisticians understand the major difference in data science and statistics as though statistics and data science seem similar and use similar methodology\\xa0but statistics is a part of data science. Statistics basically means the practice or science of collecting and analyzing numerical data in large\\xa0quantities whereas data scientist is a\\xa0professional who uses scientific methods to liberate and create meaning from raw data.</p> \\n',\n",
       "  '<p>Since the beginning statistics have worked on large amount of data for example compiling census data and over a brief period by making advancement of a statistician, Hollerith the US census compilation was made a bit efficient and this advancement led to formation of IBM.Thus, statisticians\\xa0have been comfortable in big data so this term was not sufficient for distinguishing the two.</p> \\n',\n",
       "  '<p>The basic requirement of a data scientist trainee is they should have mastery in Hadoop which helps working on datasets distributed across a cluster of computers thus,the modern time does not emphasize on older techniques which used to be simple,easy and less time consuming but they require skills for dealing with\\xa0organizational artifacts of large-scale cluster computing. The new skills cope with severe new constraints on algorithms posed by the multiprocessor/networked world.</p> \\n',\n",
       "  \"<p>John Tukey's paper\\xa0was published in 1962 in “The Annals of Mathematical Statistics&quot; and he stated that data science is the new science on the basis of these 4 driving forces that are:</p> \\n\",\n",
       "  '<p>1. The formal theories of statistics\\xa0</p> \\n',\n",
       "  '<p>2. Accelerating developments in computers and display devices\\xa0</p> \\n',\n",
       "  '<p>3. The challenge, in many ﬁelds, of more and ever larger bodies of data\\xa0</p> \\n',\n",
       "  '<p>4. The emphasis on quantiﬁcation in an ever wider variety of disciplines</p> \\n',\n",
       "  '<p>Thus,to summarize\\xa0data analysis is a very diﬃcult ﬁeld. It must adapt itself to what people can and need to do with data. In the sense that biology is more complex\\xa0than physics, and the behavioral sciences are more complex than either, it is likely that the general problems of data analysis are more complex than those of\\xa0all three. So not only is Data Analysis a scientiﬁc ﬁeld, it is as complex as any major ﬁeld of science. And theoretical statistics can only play a partial role in its progress</p>'],\n",
       " 'week1_essay/2020-02-03-14-18-16.txt': ['<p>Its been more than 50 years that data science and its evolution has been on talking terms.We are trying to draw the inferences from past so that we can direct our conclusions to be better and accurate enough for the clusters and lumps of data that is forming. John Tukey pointed to an unrecognised science which later referred to &quot;data analysis&quot;. So, the data analysis is the mathematical as well as the theoretical representation of data in understandable forms. </p>\\n',\n",
       "  '<p>Data Science Initiative (DSI) have given an explanation on Data Science and they pointed it as &quot; The coupling of scientific discovery and practise involves the collection, management, processing, analysis, visualization and interpretation of vast amounts of heterogenous data&quot;. There are many inferences on Data Science vs Statistics. The programatic representation of large clusters of data is simply Statistics. Although, statistics is the major study for data science but its not everything .There are lot more and i would recommend DSI on this. </p>\\n',\n",
       "  '<p>Handling of huge clusters of data or the big datasets is Big data and this is not a myth anymore now . There are many skill areas under the data science study and each have its own significance but choose to be more accurate, consistant and keep an eye on the complexity as well.</p>\\n',\n",
       "  \"<p>Today's Data Science Moment is all about money because each field is growing, each company is handling huge data and would deliberately want to follow the ACID(Atomicity, Consistency, Isolation , Durability) properties. In order to maintain this there are millions of jobs awaiting but only quarter of them are occupied so our future is in right place.</p>\"],\n",
       " 'week1_essay/2020-01-29-09-31-04.txt': ['\\ufeffThe story of data scientist began with the coupling of statistics and computer science. The article mentions about how the term data science came to be used over the years and explain the emergence of enormous data in recent years.  “Companies are collecting mountains of information about you, crunching it to predict how likely you are to buy a product, and using that knowledge to craft a marketing message precisely calibrated to get you.”  Conventional statistical methods work well with small data, however, today’s data are millions of rows and scores of columns. These vast amount of data has to be dealt with new technology and newer methods. It demands people who could use both data and science to create something new.  It requires people who are multi-disciplinary. People who are able to combine the skills of software programmer, statistician and storytelling. Data scientists—people who can do it all— emerge from the rest of the pack because of their diverse skillsets. \\n']}"
      ]
     },
     "execution_count": 7,
     "metadata": {},
     "output_type": "execute_result"
    }
   ],
   "source": [
    "txt_content"
   ]
  },
  {
   "cell_type": "markdown",
   "metadata": {},
   "source": [
    "# Loop over PDFs in directory"
   ]
  },
  {
   "cell_type": "code",
   "execution_count": 5,
   "metadata": {},
   "outputs": [],
   "source": [
    "list_of_pdfs = glob.glob('essays/*.pdf')"
   ]
  },
  {
   "cell_type": "code",
   "execution_count": 6,
   "metadata": {},
   "outputs": [
    {
     "name": "stdout",
     "output_type": "stream",
     "text": [
      "essays/week1_50 years of data science v2.pdf\n",
      "essays/week1_assignment 1 Summary.pdf\n"
     ]
    }
   ],
   "source": [
    "pdf_content={}\n",
    "for this_pdf in list_of_pdfs:\n",
    "    print(this_pdf)\n",
    "    !pdf2txt.py \"$this_pdf\" > file_text.txt\n",
    "    with open('file_text.txt','r') as fil:\n",
    "        fil_content = fil.read()\n",
    "    pdf_content[this_pdf]=fil_content"
   ]
  },
  {
   "cell_type": "markdown",
   "metadata": {},
   "source": [
    "# Loop over .docx files in directory"
   ]
  },
  {
   "cell_type": "code",
   "execution_count": 7,
   "metadata": {},
   "outputs": [],
   "source": [
    "def get_text_from_docx(document):\n",
    "    indx=0\n",
    "    text_in_dict={}\n",
    "    for para in document.paragraphs:\n",
    "        if (len(para.text)>0):\n",
    "            indx+=1\n",
    "            text_in_dict[indx]=para.text\n",
    "    return text_in_dict"
   ]
  },
  {
   "cell_type": "code",
   "execution_count": 8,
   "metadata": {},
   "outputs": [],
   "source": [
    "directory=\"essays\"\n",
    "docx_content={}\n",
    "for filename in os.listdir(directory):\n",
    "    if filename.endswith(\".docx\") or filename.endswith(\".doc\"): \n",
    "        this_path=os.path.join(directory, filename)\n",
    "        document = Document(this_path)\n",
    "        docx_content[this_path]=get_text_from_docx(document)"
   ]
  },
  {
   "cell_type": "markdown",
   "metadata": {},
   "source": [
    "validate the variable contains what we intended"
   ]
  },
  {
   "cell_type": "raw",
   "metadata": {},
   "source": [
    "for file_path,content in docx_content.items():\n",
    "    print(\"\\n\")\n",
    "    print(file_path)\n",
    "    for paragraph_indx,paragraph_content in content.items():\n",
    "        print(paragraph_indx)\n",
    "        print(paragraph_content)"
   ]
  },
  {
   "cell_type": "markdown",
   "metadata": {},
   "source": [
    "# consolidate PDF, docx, and txt to a single dictionary"
   ]
  },
  {
   "cell_type": "code",
   "execution_count": 9,
   "metadata": {},
   "outputs": [],
   "source": [
    "all_documents={}\n",
    "\n",
    "for file_path,content in txt_content.items():\n",
    "    doc_string=\"\"\n",
    "    for this_line in content:\n",
    "        doc_string+=this_line\n",
    "        doc_string+=\" \"\n",
    "    all_documents[file_path]=doc_string\n",
    "\n",
    "for file_path,content in docx_content.items():\n",
    "    doc_string=\"\"\n",
    "    for paragraph_indx,paragraph_content in content.items():\n",
    "        doc_string+=paragraph_content\n",
    "        doc_string+=\" \"\n",
    "    all_documents[file_path]=doc_string\n",
    "        \n",
    "for file_path,content in pdf_content.items():\n",
    "    doc_string=\"\"\n",
    "    for this_line in content:\n",
    "        doc_string+=this_line\n",
    "        doc_string+=\" \"\n",
    "    all_documents[file_path]=doc_string"
   ]
  },
  {
   "cell_type": "markdown",
   "metadata": {},
   "source": [
    "verify the content is what we are seeking"
   ]
  },
  {
   "cell_type": "code",
   "execution_count": 10,
   "metadata": {},
   "outputs": [
    {
     "data": {
      "text/plain": [
       "dict_keys(['essays/week1_1.txt', 'essays/week1_380.txt', 'essays/week1_summary.docx', 'essays/week2_Summary Week 2.docx', 'essays/week1_Data Wrangling Chap 2.docx', 'essays/week2_summary-Data Wrangling with Python  ch2 p17 to 40.docx', 'essays/week2_Week 2 - Summary of DATA WRANGLING WITH PYTHON Chapter 2.docx', 'essays/week2_Data Wrangling with Python page 17 to 40.docx', 'essays/week1_a Very Short History Of Data Science_1.docx', 'essays/week2_Lists and Dictionaries Summary.docx', 'essays/week2_Data601-Reading Assignment_2.docx', 'essays/week1_a History of Data Science.docx', 'essays/week1_Assignment1.docx', 'essays/week1_reading Summary.docx', 'essays/week1_A Very Short History Of Data Science.docx', 'essays/week1_Data 601- Summary of The History of Data Science .docx', 'essays/week1_50 Years Data Science Summary.docx', 'essays/week2_Summary on Chapter 2 of Data Wrangling in Python.docx', 'essays/week2_Week 2 Reading Summary.docx', 'essays/Week2_summary.docx', 'essays/week1_summary-50 years of data science.docx', 'essays/week1_ Summary.docx', 'essays/week2 summary .docx', 'essays/week1_50 years of data science v2.pdf', 'essays/week1_assignment 1 Summary.pdf'])"
      ]
     },
     "execution_count": 10,
     "metadata": {},
     "output_type": "execute_result"
    }
   ],
   "source": [
    "all_documents.keys()"
   ]
  },
  {
   "cell_type": "code",
   "execution_count": 11,
   "metadata": {},
   "outputs": [
    {
     "data": {
      "text/plain": [
       "'A very short history of Data Science In the article A Very Short History of Data Science, author Gil Press gives an overview of how data scientist became the most sought-after profession. But making sense of data has a long history and has been discussed by scientists, statisticians, librarians, computer scientists, and others for years.  John W. Tukey published The Future of Data Analysis in 1962 and in his paper, he emphasized the idea that Data Analysis has more characteristics of science than that of mathematics. In 1974 Peter Naur defined Data Science as the science of dealing with data and establishing the relation of the data to other fields and sciences. With the mission to link traditional statistical methodology and computer technology to convert data into information and knowledge The International Association for Statistical Computing (IASC) was formed in 1977.  During 1980-1995 many conferences were held, and associations started to focus on the data science and analysis. The 90s saw the rise in the use of data for marketing purpose. Knowledge Discovery in Databases refers to the overall process of discovering useful knowledge from data. The KDD process has other steps such as data mining, data preparation, data selection, data cleaning, incorporation of appropriate prior knowledge, and proper interpretation of the results of mining. The article details the various conferences and paper that detail the evolution of data science from statistics. The various papers published during 1996-2001 focus on the database and using the data available to find a pattern and information that would help business. Data Science Journal and Journal of Data Science was launched in 2002 and 2003 respectively to provide a platform for data workers. A report was published to examine the career development of data scientist. In the year 2009 people started discussing the relevance of data scientists. Companies started looking for data specialist, someone who can extract, visualize, interpret and communicate the data. LinkedIn and Facebook created data scientists group.  Drew Conway presented a data science Venn Diagram- hacking skills, math and statistics knowledge, and substantive expertise. The paper also shows the exponential growth rate in the field of data science and an increase in the data scientist jobs. '"
      ]
     },
     "execution_count": 11,
     "metadata": {},
     "output_type": "execute_result"
    }
   ],
   "source": [
    "all_documents['essays/week1_Assignment1.docx']"
   ]
  },
  {
   "cell_type": "markdown",
   "metadata": {},
   "source": [
    "# save the dictionary to a serialized file"
   ]
  },
  {
   "cell_type": "code",
   "execution_count": 12,
   "metadata": {},
   "outputs": [],
   "source": [
    "pickle.dump(all_documents, open( \"all_documents.pkl\", \"wb\" ) )"
   ]
  }
 ],
 "metadata": {
  "kernelspec": {
   "display_name": "Python 3",
   "language": "python",
   "name": "python3"
  },
  "language_info": {
   "codemirror_mode": {
    "name": "ipython",
    "version": 3
   },
   "file_extension": ".py",
   "mimetype": "text/x-python",
   "name": "python",
   "nbconvert_exporter": "python",
   "pygments_lexer": "ipython3",
   "version": "3.7.4"
  }
 },
 "nbformat": 4,
 "nbformat_minor": 2
}
