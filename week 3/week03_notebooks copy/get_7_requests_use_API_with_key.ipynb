{
 "cells": [
  {
   "cell_type": "code",
   "execution_count": 1,
   "metadata": {},
   "outputs": [],
   "source": [
    "import requests\n",
    "import json\n",
    "import random"
   ]
  },
  {
   "cell_type": "code",
   "execution_count": 2,
   "metadata": {},
   "outputs": [],
   "source": [
    "base_url=\"https://sis.jhu.edu/api/\"\n",
    "with open('jw_mykey.txt','r') as mk:\n",
    "    mykey=mk.readlines()[0].rstrip()\n",
    "#jw_mykey.txt is a file for JWan, please edit mykey.txt to enter your own key.\n",
    "#go to sis.jhu.edu/api to obtain your key, and insert your key in mykey.txt"
   ]
  },
  {
   "cell_type": "code",
   "execution_count": 3,
   "metadata": {},
   "outputs": [
    {
     "data": {
      "text/plain": [
       "'Mt9uTfyFzPEqqJYEAuItqw8HWA3maowU'"
      ]
     },
     "execution_count": 3,
     "metadata": {},
     "output_type": "execute_result"
    }
   ],
   "source": [
    "mykey"
   ]
  },
  {
   "cell_type": "markdown",
   "metadata": {},
   "source": [
    "https://sis.jhu.edu/api/"
   ]
  },
  {
   "cell_type": "code",
   "execution_count": 4,
   "metadata": {},
   "outputs": [],
   "source": [
    "def get_schools(mykey):\n",
    "    try:\n",
    "        response = requests.get(base_url+\"classes/codes/schools\", params={'key':mykey})\n",
    "        return response.json()\n",
    "    except:\n",
    "        print('Error in getting schools',response)\n",
    "        return None"
   ]
  },
  {
   "cell_type": "code",
   "execution_count": 5,
   "metadata": {},
   "outputs": [
    {
     "data": {
      "text/plain": [
       "[{'Name': 'Bloomberg School of Public Health'},\n",
       " {'Name': 'Bloomberg School of Public Health Non-Credit'},\n",
       " {'Name': 'Carey Business School'},\n",
       " {'Name': 'Krieger School of Arts and Sciences'},\n",
       " {'Name': 'Krieger School of Arts and Sciences Advanced Academic Programs'},\n",
       " {'Name': 'Nitze School of Advanced International Studies'},\n",
       " {'Name': 'School of Education'},\n",
       " {'Name': 'School of Medicine'},\n",
       " {'Name': 'School of Nursing'},\n",
       " {'Name': 'The Peabody Institute'},\n",
       " {'Name': 'The Peabody Preparatory'},\n",
       " {'Name': 'Whiting School of Engineering'},\n",
       " {'Name': 'Whiting School of Engineering Programs for Professionals'}]"
      ]
     },
     "execution_count": 5,
     "metadata": {},
     "output_type": "execute_result"
    }
   ],
   "source": [
    "list_of_schools=get_schools(mykey)\n",
    "list_of_schools"
   ]
  },
  {
   "cell_type": "code",
   "execution_count": 6,
   "metadata": {},
   "outputs": [],
   "source": [
    "def get_classes(mykey,school):\n",
    "    try:\n",
    "        response = requests.get(base_url+'/classes/'+school, params={'key':mykey})\n",
    "        return response.json()\n",
    "    except:\n",
    "        print('Error in getting classes',response)\n",
    "        return None"
   ]
  },
  {
   "cell_type": "code",
   "execution_count": 7,
   "metadata": {},
   "outputs": [
    {
     "name": "stdout",
     "output_type": "stream",
     "text": [
      "23041\n"
     ]
    }
   ],
   "source": [
    "list_of_classes=get_classes(mykey,random.choice(list_of_schools)['Name'])\n",
    "print(len(list_of_classes))"
   ]
  },
  {
   "cell_type": "code",
   "execution_count": 8,
   "metadata": {},
   "outputs": [
    {
     "data": {
      "text/plain": [
       "{'TermStartDate': '1/12/2009 12:00:00 AM',\n",
       " 'SchoolName': 'The Peabody Institute',\n",
       " 'CoursePrefix': 'PY',\n",
       " 'Term': 'Spring 2009',\n",
       " 'Term_IDR': 'Spring 2009',\n",
       " 'OfferingName': 'PY.050.100',\n",
       " 'SectionName': '35',\n",
       " 'Title': 'Violoncello 1/2 Hour',\n",
       " 'Credits': '2.00',\n",
       " 'Department': 'PY Studio Lessons',\n",
       " 'Level': 'Undergraduate',\n",
       " 'Status': 'Open',\n",
       " 'DOW': '0',\n",
       " 'DOWSort': '99',\n",
       " 'TimeOfDay': 'Other',\n",
       " 'SubDepartment': '',\n",
       " 'SectionRegRestrictions': '',\n",
       " 'SeatsAvailable': '',\n",
       " 'MaxSeats': 'N/A',\n",
       " 'OpenSeats': 'N/A',\n",
       " 'Waitlisted': 'N/A',\n",
       " 'IsWritingIntensive': 'No',\n",
       " 'AllDepartments': 'PY Studio Lessons^',\n",
       " 'Instructors': 'D. Hardy',\n",
       " 'InstructorsFullName': 'Hardy, David',\n",
       " 'Location': '',\n",
       " 'Building': '',\n",
       " 'HasBio': None,\n",
       " 'Meetings': '',\n",
       " 'Areas': 'None',\n",
       " 'InstructionMethod': '',\n",
       " 'SectionCoRequisites': '',\n",
       " 'SectionCoReqNotes': '',\n",
       " 'SSS_SectionsID': '276481',\n",
       " 'Term_JSS': 'Spring 2009',\n",
       " 'Repeatable': 'Y',\n",
       " 'SectionDetails': None}"
      ]
     },
     "execution_count": 8,
     "metadata": {},
     "output_type": "execute_result"
    }
   ],
   "source": [
    "list_of_classes[99]"
   ]
  },
  {
   "cell_type": "code",
   "execution_count": null,
   "metadata": {},
   "outputs": [],
   "source": []
  }
 ],
 "metadata": {
  "kernelspec": {
   "display_name": "Python 3",
   "language": "python",
   "name": "python3"
  },
  "language_info": {
   "codemirror_mode": {
    "name": "ipython",
    "version": 3
   },
   "file_extension": ".py",
   "mimetype": "text/x-python",
   "name": "python",
   "nbconvert_exporter": "python",
   "pygments_lexer": "ipython3",
   "version": "3.7.4"
  }
 },
 "nbformat": 4,
 "nbformat_minor": 2
}
