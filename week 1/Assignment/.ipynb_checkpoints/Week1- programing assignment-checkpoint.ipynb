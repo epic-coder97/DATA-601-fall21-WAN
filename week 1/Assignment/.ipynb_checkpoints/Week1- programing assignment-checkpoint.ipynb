{
 "cells": [
  {
   "cell_type": "code",
   "execution_count": 250,
   "id": "d3f6e82f",
   "metadata": {},
   "outputs": [],
   "source": [
    "import random\n",
    "from statistics import mean"
   ]
  },
  {
   "cell_type": "code",
   "execution_count": 251,
   "id": "f7ec6086",
   "metadata": {},
   "outputs": [
    {
     "name": "stdout",
     "output_type": "stream",
     "text": [
      "Assignment scores are : [93, 97, 84, 86, 94, 88, 87, 96, 97, 83, 89, 98, 99, 83, 82, 98, 92, 91, 100, 87, 81, 99, 97, 88, 94, 89, 88, 96, 89, 92]\n",
      "Project Scores are : [92, 95, 83]\n"
     ]
    }
   ],
   "source": [
    "#Creating empty lists for Assignment, Project and Attendance\n",
    "\n",
    "assignment_scores = []\n",
    "proj_scores = []\n",
    "attendance_score = []\n",
    "\n",
    "# I will be Generating random scores for assignments, projects and attendance\n",
    "#Generating random scores for assignment (from 0 to 100)\n",
    "for i in range(0,30):\n",
    "    assign_score = random.randint(0,100)\n",
    "    assignment_scores.append(assign_score)\n",
    "print(\"Assignment scores are :\", assignment_scores)\n",
    "\n",
    "#Generating random scores for project (from 0 to 100)\n",
    "for i in range(0,3):\n",
    "    proj_score = random.randint(0,100)\n",
    "    proj_scores.append(proj_score)\n",
    "print( \"Project Scores are :\", proj_scores)\n",
    "\n",
    "        \n",
    "#Dont run this cell block more than once.  It will keep on appending. Run the empty list cell if needed."
   ]
  },
  {
   "cell_type": "markdown",
   "id": "47cf04a1",
   "metadata": {},
   "source": [
    "#### Generating Random Attendance"
   ]
  },
  {
   "cell_type": "code",
   "execution_count": 252,
   "id": "a3290cd4",
   "metadata": {
    "scrolled": true
   },
   "outputs": [
    {
     "name": "stdout",
     "output_type": "stream",
     "text": [
      "Your Attendance is :  ['A', 'A', 'A', 'A', 'A', 'P', 'A', 'P', 'A', 'P', 'A', 'A', 'P', 'A', 'P']\n"
     ]
    }
   ],
   "source": [
    "#A - Absent  and  P - Present\n",
    "for i in range(0,15):\n",
    "    attend_score = random.choice('AP')\n",
    "    attendance_score.append(attend_score)\n",
    "    \n",
    "print(\"Your Attendance is : \", attendance_score)    "
   ]
  },
  {
   "cell_type": "markdown",
   "id": "c7fdd88f",
   "metadata": {},
   "source": [
    "####  Calculating Average Project scores\n"
   ]
  },
  {
   "cell_type": "code",
   "execution_count": 253,
   "id": "6059cf16",
   "metadata": {},
   "outputs": [
    {
     "name": "stdout",
     "output_type": "stream",
     "text": [
      "a\\Average project score :  90\n"
     ]
    }
   ],
   "source": [
    "#  Calculating Average Project scores\n",
    "avg_proj= round(mean(proj_scores), 1)\n",
    "print(\"a\\Average project score : \", avg_proj)"
   ]
  },
  {
   "cell_type": "markdown",
   "id": "e12e6b6e",
   "metadata": {},
   "source": [
    "#### Calculting Number of P's in the Attendance list .i.e. how many days the student was present"
   ]
  },
  {
   "cell_type": "code",
   "execution_count": 254,
   "id": "a0933361",
   "metadata": {},
   "outputs": [
    {
     "name": "stdout",
     "output_type": "stream",
     "text": [
      "You were present for 5 classes.\n"
     ]
    }
   ],
   "source": [
    "att_count = (attendance_score.count('P'))\n",
    "print(\"You were present for\",att_count , \"classes.\")"
   ]
  },
  {
   "cell_type": "markdown",
   "id": "e4937f39",
   "metadata": {},
   "source": [
    "#### Choosing random 10 assignment scores"
   ]
  },
  {
   "cell_type": "code",
   "execution_count": 255,
   "id": "e7834694",
   "metadata": {},
   "outputs": [
    {
     "name": "stdout",
     "output_type": "stream",
     "text": [
      "[21, 24, 4, 15, 29, 28, 16, 9, 27, 20]\n"
     ]
    }
   ],
   "source": [
    "num_list = random.sample(range(1, 30), 10)\n",
    "print(num_list)\n",
    "\n",
    "#https://pynative.com/python-random-randrange/#:~:text=Use%20a%20random.randint%20%28%29%20function%20to%20get%20a,the%20given%20exclusive%20range%20by%20specifying%20the%20increment.\n"
   ]
  },
  {
   "cell_type": "markdown",
   "id": "6d1d111d",
   "metadata": {},
   "source": [
    "#### Getting assignment scores of 10 assignment coresponding to elements of num_list "
   ]
  },
  {
   "cell_type": "code",
   "execution_count": 256,
   "id": "97f70be9",
   "metadata": {},
   "outputs": [
    {
     "name": "stdout",
     "output_type": "stream",
     "text": [
      "[99, 94, 94, 98, 92, 89, 92, 83, 96, 81]\n",
      "918\n"
     ]
    }
   ],
   "source": [
    "final_assignment_scores = []\n",
    "for i in num_list:\n",
    "    n = assignment_scores[i]\n",
    "    final_assignment_scores.append(n)\n",
    "    \n",
    "print(final_assignment_scores)\n",
    "tot_final_assign = sum(final_assignment_scores)\n",
    "print(tot_final_assign)\n"
   ]
  },
  {
   "cell_type": "markdown",
   "id": "2f1a4613",
   "metadata": {},
   "source": [
    "#### Calculating average of the 10 assignments"
   ]
  },
  {
   "cell_type": "code",
   "execution_count": 257,
   "id": "55251d98",
   "metadata": {},
   "outputs": [
    {
     "name": "stdout",
     "output_type": "stream",
     "text": [
      "91.8\n"
     ]
    }
   ],
   "source": [
    "avg_of_10 = mean(final_assignment_scores)\n",
    "print(avg_of_10)"
   ]
  },
  {
   "cell_type": "markdown",
   "id": "5f67d882",
   "metadata": {},
   "source": [
    "#### 30% of the average assignment scores "
   ]
  },
  {
   "cell_type": "code",
   "execution_count": 258,
   "id": "7df449cc",
   "metadata": {},
   "outputs": [
    {
     "name": "stdout",
     "output_type": "stream",
     "text": [
      "27.5 %\n"
     ]
    }
   ],
   "source": [
    "final_assignment_scores= round(avg_of_10 * (30/100),1)\n",
    "print(final_assignment_scores, \"%\")"
   ]
  },
  {
   "cell_type": "markdown",
   "id": "7ba64f79",
   "metadata": {},
   "source": [
    "#### 60% of average project scores"
   ]
  },
  {
   "cell_type": "code",
   "execution_count": 259,
   "id": "16110be5",
   "metadata": {},
   "outputs": [
    {
     "name": "stdout",
     "output_type": "stream",
     "text": [
      "54.0 %\n"
     ]
    }
   ],
   "source": [
    "final_project_scores = round(avg_proj * (60/100),1)\n",
    "print(final_project_scores, \"%\")"
   ]
  },
  {
   "cell_type": "markdown",
   "id": "4f1d9ac6",
   "metadata": {},
   "source": [
    "#### score for each class attended is 100 / 15 = 6.67 (rounding)"
   ]
  },
  {
   "cell_type": "code",
   "execution_count": 260,
   "id": "a5d9c1a7",
   "metadata": {},
   "outputs": [
    {
     "name": "stdout",
     "output_type": "stream",
     "text": [
      "3.3350000000000004 %\n"
     ]
    }
   ],
   "source": [
    "#calculating scores for attendance\n",
    "att_score = 6.67 * att_count\n",
    "\n",
    "#only 10% will be considered for final grade\n",
    "final_att = att_score * (10/100)\n",
    "print(final_att, \"%\")"
   ]
  },
  {
   "cell_type": "markdown",
   "id": "8a07529d",
   "metadata": {},
   "source": [
    "#### calculating final score"
   ]
  },
  {
   "cell_type": "code",
   "execution_count": 261,
   "id": "dd51aa64",
   "metadata": {},
   "outputs": [
    {
     "name": "stdout",
     "output_type": "stream",
     "text": [
      "final score is :  84.835 %\n"
     ]
    }
   ],
   "source": [
    "#total final score\n",
    "final_score = final_assignment_scores + final_project_scores + final_att\n",
    "print(\"final score is : \",final_score , \"%\")"
   ]
  },
  {
   "cell_type": "markdown",
   "id": "f3082ad8",
   "metadata": {},
   "source": [
    "### Assigning Grade for final score\n",
    "\n",
    "\n",
    "<li>97.00 to 100%\t= A </li>\n",
    "<li>90.00 to 96.99% = A-</li>\n",
    "<li>87.00 to 89.99% = B+</li>\n",
    "<li>84.00 to 86.99%\t= B</li>\n",
    "<li>80.00 to 83.99%\t= B-</li>\n",
    "<li>77.00 to 79.99%\t= C+</li>\n",
    "<li>74.00 to 76.99%\t= C</li>\n",
    "<li>70.00 to 73.99%\t= C-</li>\n",
    "<li>60 to 69%\t= D</li>\n",
    "<li> grade less than 60\t= F</li>\n"
   ]
  },
  {
   "cell_type": "code",
   "execution_count": 262,
   "id": "45d386ad",
   "metadata": {},
   "outputs": [
    {
     "name": "stdout",
     "output_type": "stream",
     "text": [
      "Your Final Grade is:  B\n"
     ]
    }
   ],
   "source": [
    "#assigning grade to final score\n",
    "if final_score >= 97: \n",
    "    final_grade = 'A'\n",
    "elif final_score >= 90 and final_score <=96.99:\n",
    "    final_grade = 'A-'\n",
    "elif final_score >= 87 and final_score <=89.99:\n",
    "    final_grade = 'A-'\n",
    "elif final_score >= 84 and final_score <=86.99:\n",
    "    final_grade = 'B'    \n",
    "elif final_score >= 80 and final_score <=83.99:\n",
    "    final_grade = 'B-' \n",
    "elif final_score >= 77 and final_score <=79.99:\n",
    "    final_grade = 'C+'    \n",
    "elif final_score >= 74 and final_score <=76.99:\n",
    "    final_grade = 'C'  \n",
    "elif final_score >= 70 and final_score <=73.99:\n",
    "    final_grade = 'C-'    \n",
    "elif final_score >= 60 and final_score <=69:\n",
    "    final_grade = 'D' \n",
    "else:\n",
    "    final_grade = 'F' \n",
    "\n",
    "print(\"Your Final Grade is: \", final_grade)\n",
    "    "
   ]
  }
 ],
 "metadata": {
  "kernelspec": {
   "display_name": "Python 3 (ipykernel)",
   "language": "python",
   "name": "python3"
  },
  "language_info": {
   "codemirror_mode": {
    "name": "ipython",
    "version": 3
   },
   "file_extension": ".py",
   "mimetype": "text/x-python",
   "name": "python",
   "nbconvert_exporter": "python",
   "pygments_lexer": "ipython3",
   "version": "3.9.6"
  }
 },
 "nbformat": 4,
 "nbformat_minor": 5
}
