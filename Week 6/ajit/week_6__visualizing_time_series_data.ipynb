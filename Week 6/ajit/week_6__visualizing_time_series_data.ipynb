{
  "cells": [
    {
      "cell_type": "markdown",
      "metadata": {
        "colab_type": "text",
        "id": "view-in-github"
      },
      "source": [
        "<a href=\"https://colab.research.google.com/github/ajitjadhav10/DATA601/blob/main/Assignments/week_6__visualizing_time_series_data.ipynb\" target=\"_parent\"><img src=\"https://colab.research.google.com/assets/colab-badge.svg\" alt=\"Open In Colab\"/></a>"
      ]
    },
    {
      "cell_type": "code",
      "execution_count": 3,
      "metadata": {
        "colab": {
          "base_uri": "https://localhost:8080/"
        },
        "id": "ZevthTTY-NJY",
        "outputId": "d7b765b1-4ec2-48e2-e67b-a82b7fe111a9"
      },
      "outputs": [],
      "source": [
        "import pandas as pd\n",
        "#print('pandas',pandas.__version__)"
      ]
    },
    {
      "cell_type": "code",
      "execution_count": 7,
      "metadata": {
        "colab": {
          "base_uri": "https://localhost:8080/",
          "height": 206
        },
        "id": "LY4uNhH6-R63",
        "outputId": "1f7cc02b-e27f-42ef-ab12-891b6c266df1"
      },
      "outputs": [
        {
          "data": {
            "text/html": [
              "<div>\n",
              "<style scoped>\n",
              "    .dataframe tbody tr th:only-of-type {\n",
              "        vertical-align: middle;\n",
              "    }\n",
              "\n",
              "    .dataframe tbody tr th {\n",
              "        vertical-align: top;\n",
              "    }\n",
              "\n",
              "    .dataframe thead th {\n",
              "        text-align: right;\n",
              "    }\n",
              "</style>\n",
              "<table border=\"1\" class=\"dataframe\">\n",
              "  <thead>\n",
              "    <tr style=\"text-align: right;\">\n",
              "      <th></th>\n",
              "      <th>VD</th>\n",
              "      <th>time of measurement</th>\n",
              "      <th>value</th>\n",
              "    </tr>\n",
              "  </thead>\n",
              "  <tbody>\n",
              "    <tr>\n",
              "      <th>0</th>\n",
              "      <td>VD</td>\n",
              "      <td>20200201000000</td>\n",
              "      <td>25283</td>\n",
              "    </tr>\n",
              "    <tr>\n",
              "      <th>1</th>\n",
              "      <td>VD</td>\n",
              "      <td>20200201000500</td>\n",
              "      <td>25636</td>\n",
              "    </tr>\n",
              "    <tr>\n",
              "      <th>2</th>\n",
              "      <td>VD</td>\n",
              "      <td>20200201001000</td>\n",
              "      <td>25744</td>\n",
              "    </tr>\n",
              "    <tr>\n",
              "      <th>3</th>\n",
              "      <td>VD</td>\n",
              "      <td>20200201001500</td>\n",
              "      <td>25733</td>\n",
              "    </tr>\n",
              "    <tr>\n",
              "      <th>4</th>\n",
              "      <td>VD</td>\n",
              "      <td>20200201002000</td>\n",
              "      <td>25606</td>\n",
              "    </tr>\n",
              "  </tbody>\n",
              "</table>\n",
              "</div>"
            ],
            "text/plain": [
              "   VD  time of measurement  value\n",
              "0  VD       20200201000000  25283\n",
              "1  VD       20200201000500  25636\n",
              "2  VD       20200201001000  25744\n",
              "3  VD       20200201001500  25733\n",
              "4  VD       20200201002000  25606"
            ]
          },
          "execution_count": 7,
          "metadata": {},
          "output_type": "execute_result"
        }
      ],
      "source": [
        "df1 = pd.read_csv(\"RollingSystemDemand_20211013_1448.csv\",\n",
        "                         index_col=False,\n",
        "                         skiprows=1,\n",
        "                         skipfooter=1,\n",
        "                         engine='python',\n",
        "                         header=None)\n",
        "\n",
        "df1.columns=['VD','time of measurement','value']\n",
        "\n",
        "df1.head()"
      ]
    },
    {
      "cell_type": "code",
      "execution_count": null,
      "metadata": {
        "colab": {
          "base_uri": "https://localhost:8080/",
          "height": 206
        },
        "id": "zwIYzi7I_N4_",
        "outputId": "844d9d5a-75f8-43c4-a546-bee166379997"
      },
      "outputs": [
        {
          "data": {
            "text/html": [
              "<div>\n",
              "<style scoped>\n",
              "    .dataframe tbody tr th:only-of-type {\n",
              "        vertical-align: middle;\n",
              "    }\n",
              "\n",
              "    .dataframe tbody tr th {\n",
              "        vertical-align: top;\n",
              "    }\n",
              "\n",
              "    .dataframe thead th {\n",
              "        text-align: right;\n",
              "    }\n",
              "</style>\n",
              "<table border=\"1\" class=\"dataframe\">\n",
              "  <thead>\n",
              "    <tr style=\"text-align: right;\">\n",
              "      <th></th>\n",
              "      <th>VD</th>\n",
              "      <th>time of measurement</th>\n",
              "      <th>value</th>\n",
              "    </tr>\n",
              "  </thead>\n",
              "  <tbody>\n",
              "    <tr>\n",
              "      <th>0</th>\n",
              "      <td>VD</td>\n",
              "      <td>20211001000000</td>\n",
              "      <td>20565</td>\n",
              "    </tr>\n",
              "    <tr>\n",
              "      <th>1</th>\n",
              "      <td>VD</td>\n",
              "      <td>20211001000500</td>\n",
              "      <td>20904</td>\n",
              "    </tr>\n",
              "    <tr>\n",
              "      <th>2</th>\n",
              "      <td>VD</td>\n",
              "      <td>20211001001000</td>\n",
              "      <td>20985</td>\n",
              "    </tr>\n",
              "    <tr>\n",
              "      <th>3</th>\n",
              "      <td>VD</td>\n",
              "      <td>20211001001500</td>\n",
              "      <td>20863</td>\n",
              "    </tr>\n",
              "    <tr>\n",
              "      <th>4</th>\n",
              "      <td>VD</td>\n",
              "      <td>20211001002000</td>\n",
              "      <td>20730</td>\n",
              "    </tr>\n",
              "  </tbody>\n",
              "</table>\n",
              "</div>"
            ],
            "text/plain": [
              "   VD  time of measurement  value\n",
              "0  VD       20211001000000  20565\n",
              "1  VD       20211001000500  20904\n",
              "2  VD       20211001001000  20985\n",
              "3  VD       20211001001500  20863\n",
              "4  VD       20211001002000  20730"
            ]
          },
          "execution_count": 16,
          "metadata": {},
          "output_type": "execute_result"
        }
      ],
      "source": [
        "df3 = pd.read_csv(\"RollingSystemDemand_03.csv\",\n",
        "                         index_col=False,\n",
        "                         skiprows=1,\n",
        "                         skipfooter=1,\n",
        "                         engine='python',\n",
        "                         header=None)\n",
        "\n",
        "df3.columns=['VD','time of measurement','value']\n",
        "\n",
        "df3.head()"
      ]
    },
    {
      "cell_type": "code",
      "execution_count": 17,
      "metadata": {
        "colab": {
          "base_uri": "https://localhost:8080/",
          "height": 206
        },
        "id": "OOR1IeMR_4Ik",
        "outputId": "336d639e-a3dc-4df5-e945-ddfc92a758e4"
      },
      "outputs": [
        {
          "data": {
            "text/html": [
              "<div>\n",
              "<style scoped>\n",
              "    .dataframe tbody tr th:only-of-type {\n",
              "        vertical-align: middle;\n",
              "    }\n",
              "\n",
              "    .dataframe tbody tr th {\n",
              "        vertical-align: top;\n",
              "    }\n",
              "\n",
              "    .dataframe thead th {\n",
              "        text-align: right;\n",
              "    }\n",
              "</style>\n",
              "<table border=\"1\" class=\"dataframe\">\n",
              "  <thead>\n",
              "    <tr style=\"text-align: right;\">\n",
              "      <th></th>\n",
              "      <th>VD</th>\n",
              "      <th>time of measurement</th>\n",
              "      <th>value</th>\n",
              "    </tr>\n",
              "  </thead>\n",
              "  <tbody>\n",
              "    <tr>\n",
              "      <th>0</th>\n",
              "      <td>VD</td>\n",
              "      <td>20211007000000</td>\n",
              "      <td>22929</td>\n",
              "    </tr>\n",
              "    <tr>\n",
              "      <th>1</th>\n",
              "      <td>VD</td>\n",
              "      <td>20211007000500</td>\n",
              "      <td>22904</td>\n",
              "    </tr>\n",
              "    <tr>\n",
              "      <th>2</th>\n",
              "      <td>VD</td>\n",
              "      <td>20211007001000</td>\n",
              "      <td>22945</td>\n",
              "    </tr>\n",
              "    <tr>\n",
              "      <th>3</th>\n",
              "      <td>VD</td>\n",
              "      <td>20211007001500</td>\n",
              "      <td>22921</td>\n",
              "    </tr>\n",
              "    <tr>\n",
              "      <th>4</th>\n",
              "      <td>VD</td>\n",
              "      <td>20211007002000</td>\n",
              "      <td>22911</td>\n",
              "    </tr>\n",
              "  </tbody>\n",
              "</table>\n",
              "</div>"
            ],
            "text/plain": [
              "   VD  time of measurement  value\n",
              "0  VD       20211007000000  22929\n",
              "1  VD       20211007000500  22904\n",
              "2  VD       20211007001000  22945\n",
              "3  VD       20211007001500  22921\n",
              "4  VD       20211007002000  22911"
            ]
          },
          "execution_count": 17,
          "metadata": {},
          "output_type": "execute_result"
        }
      ],
      "source": [
        "df4 = pd.read_csv(\"RollingSystemDemand_04.csv\",\n",
        "                         index_col=False,\n",
        "                         skiprows=1,\n",
        "                         skipfooter=1,\n",
        "                         engine='python',\n",
        "                         header=None)\n",
        "\n",
        "df4.columns=['VD','time of measurement','value']\n",
        "\n",
        "df4.head()"
      ]
    },
    {
      "cell_type": "code",
      "execution_count": 18,
      "metadata": {
        "colab": {
          "base_uri": "https://localhost:8080/",
          "height": 206
        },
        "id": "VMAcaEy2AnbJ",
        "outputId": "7d3734d5-0932-4697-8f3a-ee3a17c7dfaf"
      },
      "outputs": [
        {
          "data": {
            "text/html": [
              "<div>\n",
              "<style scoped>\n",
              "    .dataframe tbody tr th:only-of-type {\n",
              "        vertical-align: middle;\n",
              "    }\n",
              "\n",
              "    .dataframe tbody tr th {\n",
              "        vertical-align: top;\n",
              "    }\n",
              "\n",
              "    .dataframe thead th {\n",
              "        text-align: right;\n",
              "    }\n",
              "</style>\n",
              "<table border=\"1\" class=\"dataframe\">\n",
              "  <thead>\n",
              "    <tr style=\"text-align: right;\">\n",
              "      <th></th>\n",
              "      <th>VD</th>\n",
              "      <th>time of measurement</th>\n",
              "      <th>value</th>\n",
              "    </tr>\n",
              "  </thead>\n",
              "  <tbody>\n",
              "    <tr>\n",
              "      <th>0</th>\n",
              "      <td>VD</td>\n",
              "      <td>20211013000000</td>\n",
              "      <td>23965</td>\n",
              "    </tr>\n",
              "    <tr>\n",
              "      <th>1</th>\n",
              "      <td>VD</td>\n",
              "      <td>20211013000500</td>\n",
              "      <td>24012</td>\n",
              "    </tr>\n",
              "    <tr>\n",
              "      <th>2</th>\n",
              "      <td>VD</td>\n",
              "      <td>20211013001000</td>\n",
              "      <td>24218</td>\n",
              "    </tr>\n",
              "    <tr>\n",
              "      <th>3</th>\n",
              "      <td>VD</td>\n",
              "      <td>20211013001500</td>\n",
              "      <td>24285</td>\n",
              "    </tr>\n",
              "    <tr>\n",
              "      <th>4</th>\n",
              "      <td>VD</td>\n",
              "      <td>20211013002000</td>\n",
              "      <td>24163</td>\n",
              "    </tr>\n",
              "  </tbody>\n",
              "</table>\n",
              "</div>"
            ],
            "text/plain": [
              "   VD  time of measurement  value\n",
              "0  VD       20211013000000  23965\n",
              "1  VD       20211013000500  24012\n",
              "2  VD       20211013001000  24218\n",
              "3  VD       20211013001500  24285\n",
              "4  VD       20211013002000  24163"
            ]
          },
          "execution_count": 18,
          "metadata": {},
          "output_type": "execute_result"
        }
      ],
      "source": [
        "df5 = pd.read_csv(\"RollingSystemDemand_05.csv\",\n",
        "                         index_col=False,\n",
        "                         skiprows=1,\n",
        "                         skipfooter=1,\n",
        "                         engine='python',\n",
        "                         header=None)\n",
        "\n",
        "df5.columns=['VD','time of measurement','value']\n",
        "\n",
        "df5.head()"
      ]
    },
    {
      "cell_type": "code",
      "execution_count": 41,
      "metadata": {
        "colab": {
          "base_uri": "https://localhost:8080/",
          "height": 206
        },
        "id": "xQmgVYVTEjTH",
        "outputId": "7900db74-5f41-46b2-99cd-4434c3ffc941"
      },
      "outputs": [
        {
          "data": {
            "text/html": [
              "<div>\n",
              "<style scoped>\n",
              "    .dataframe tbody tr th:only-of-type {\n",
              "        vertical-align: middle;\n",
              "    }\n",
              "\n",
              "    .dataframe tbody tr th {\n",
              "        vertical-align: top;\n",
              "    }\n",
              "\n",
              "    .dataframe thead th {\n",
              "        text-align: right;\n",
              "    }\n",
              "</style>\n",
              "<table border=\"1\" class=\"dataframe\">\n",
              "  <thead>\n",
              "    <tr style=\"text-align: right;\">\n",
              "      <th></th>\n",
              "      <th>VD</th>\n",
              "      <th>time of measurement</th>\n",
              "      <th>value</th>\n",
              "    </tr>\n",
              "  </thead>\n",
              "  <tbody>\n",
              "    <tr>\n",
              "      <th>0</th>\n",
              "      <td>VD</td>\n",
              "      <td>20210925000000</td>\n",
              "      <td>22153</td>\n",
              "    </tr>\n",
              "    <tr>\n",
              "      <th>1</th>\n",
              "      <td>VD</td>\n",
              "      <td>20210925000500</td>\n",
              "      <td>22208</td>\n",
              "    </tr>\n",
              "    <tr>\n",
              "      <th>2</th>\n",
              "      <td>VD</td>\n",
              "      <td>20210925001000</td>\n",
              "      <td>22138</td>\n",
              "    </tr>\n",
              "    <tr>\n",
              "      <th>3</th>\n",
              "      <td>VD</td>\n",
              "      <td>20210925001500</td>\n",
              "      <td>21994</td>\n",
              "    </tr>\n",
              "    <tr>\n",
              "      <th>4</th>\n",
              "      <td>VD</td>\n",
              "      <td>20210925002000</td>\n",
              "      <td>21905</td>\n",
              "    </tr>\n",
              "  </tbody>\n",
              "</table>\n",
              "</div>"
            ],
            "text/plain": [
              "   VD  time of measurement  value\n",
              "0  VD       20210925000000  22153\n",
              "1  VD       20210925000500  22208\n",
              "2  VD       20210925001000  22138\n",
              "3  VD       20210925001500  21994\n",
              "4  VD       20210925002000  21905"
            ]
          },
          "execution_count": 41,
          "metadata": {},
          "output_type": "execute_result"
        }
      ],
      "source": [
        "df_6=df1.append(df3).append(df4).append(df5)\n",
        "df_6.head()"
      ]
    },
    {
      "cell_type": "code",
      "execution_count": 42,
      "metadata": {
        "id": "0wOpeWEKDONm"
      },
      "outputs": [],
      "source": [
        "df_6['time of measurement']=df_6['time of measurement'].apply(str)"
      ]
    },
    {
      "cell_type": "code",
      "execution_count": 27,
      "metadata": {
        "id": "a2JBE3MyCnzC"
      },
      "outputs": [],
      "source": [
        "import time"
      ]
    },
    {
      "cell_type": "code",
      "execution_count": 43,
      "metadata": {
        "id": "nnj5-eImBDtQ"
      },
      "outputs": [],
      "source": [
        "df_6['time of measurement']=pd.to_datetime(df_6['time of measurement'].astype(str),format='%Y%m%d%H%M%S')"
      ]
    },
    {
      "cell_type": "code",
      "execution_count": 44,
      "metadata": {
        "colab": {
          "base_uri": "https://localhost:8080/",
          "height": 424
        },
        "id": "60LuiPX7CSwp",
        "outputId": "9966ad88-11db-44c0-d533-8d4a52d104b2"
      },
      "outputs": [
        {
          "data": {
            "text/html": [
              "<div>\n",
              "<style scoped>\n",
              "    .dataframe tbody tr th:only-of-type {\n",
              "        vertical-align: middle;\n",
              "    }\n",
              "\n",
              "    .dataframe tbody tr th {\n",
              "        vertical-align: top;\n",
              "    }\n",
              "\n",
              "    .dataframe thead th {\n",
              "        text-align: right;\n",
              "    }\n",
              "</style>\n",
              "<table border=\"1\" class=\"dataframe\">\n",
              "  <thead>\n",
              "    <tr style=\"text-align: right;\">\n",
              "      <th></th>\n",
              "      <th>VD</th>\n",
              "      <th>time of measurement</th>\n",
              "      <th>value</th>\n",
              "    </tr>\n",
              "  </thead>\n",
              "  <tbody>\n",
              "    <tr>\n",
              "      <th>0</th>\n",
              "      <td>VD</td>\n",
              "      <td>2021-09-25 00:00:00</td>\n",
              "      <td>22153</td>\n",
              "    </tr>\n",
              "    <tr>\n",
              "      <th>1</th>\n",
              "      <td>VD</td>\n",
              "      <td>2021-09-25 00:05:00</td>\n",
              "      <td>22208</td>\n",
              "    </tr>\n",
              "    <tr>\n",
              "      <th>2</th>\n",
              "      <td>VD</td>\n",
              "      <td>2021-09-25 00:10:00</td>\n",
              "      <td>22138</td>\n",
              "    </tr>\n",
              "    <tr>\n",
              "      <th>3</th>\n",
              "      <td>VD</td>\n",
              "      <td>2021-09-25 00:15:00</td>\n",
              "      <td>21994</td>\n",
              "    </tr>\n",
              "    <tr>\n",
              "      <th>4</th>\n",
              "      <td>VD</td>\n",
              "      <td>2021-09-25 00:20:00</td>\n",
              "      <td>21905</td>\n",
              "    </tr>\n",
              "    <tr>\n",
              "      <th>...</th>\n",
              "      <td>...</td>\n",
              "      <td>...</td>\n",
              "      <td>...</td>\n",
              "    </tr>\n",
              "    <tr>\n",
              "      <th>1677</th>\n",
              "      <td>VD</td>\n",
              "      <td>2021-10-18 19:45:00</td>\n",
              "      <td>33373</td>\n",
              "    </tr>\n",
              "    <tr>\n",
              "      <th>1678</th>\n",
              "      <td>VD</td>\n",
              "      <td>2021-10-18 19:50:00</td>\n",
              "      <td>33114</td>\n",
              "    </tr>\n",
              "    <tr>\n",
              "      <th>1679</th>\n",
              "      <td>VD</td>\n",
              "      <td>2021-10-18 19:55:00</td>\n",
              "      <td>32756</td>\n",
              "    </tr>\n",
              "    <tr>\n",
              "      <th>1680</th>\n",
              "      <td>VD</td>\n",
              "      <td>2021-10-18 20:00:00</td>\n",
              "      <td>32492</td>\n",
              "    </tr>\n",
              "    <tr>\n",
              "      <th>1681</th>\n",
              "      <td>VD</td>\n",
              "      <td>2021-10-18 20:05:00</td>\n",
              "      <td>32252</td>\n",
              "    </tr>\n",
              "  </tbody>\n",
              "</table>\n",
              "<p>6866 rows × 3 columns</p>\n",
              "</div>"
            ],
            "text/plain": [
              "      VD time of measurement  value\n",
              "0     VD 2021-09-25 00:00:00  22153\n",
              "1     VD 2021-09-25 00:05:00  22208\n",
              "2     VD 2021-09-25 00:10:00  22138\n",
              "3     VD 2021-09-25 00:15:00  21994\n",
              "4     VD 2021-09-25 00:20:00  21905\n",
              "...   ..                 ...    ...\n",
              "1677  VD 2021-10-18 19:45:00  33373\n",
              "1678  VD 2021-10-18 19:50:00  33114\n",
              "1679  VD 2021-10-18 19:55:00  32756\n",
              "1680  VD 2021-10-18 20:00:00  32492\n",
              "1681  VD 2021-10-18 20:05:00  32252\n",
              "\n",
              "[6866 rows x 3 columns]"
            ]
          },
          "execution_count": 44,
          "metadata": {},
          "output_type": "execute_result"
        }
      ],
      "source": [
        "df_6"
      ]
    },
    {
      "cell_type": "code",
      "execution_count": 45,
      "metadata": {
        "colab": {
          "base_uri": "https://localhost:8080/"
        },
        "id": "pe_c17Q-FY7-",
        "outputId": "95ac498b-2b6c-4c39-81b5-ac2ff9afebb5"
      },
      "outputs": [
        {
          "name": "stdout",
          "output_type": "stream",
          "text": [
            "<class 'pandas.core.frame.DataFrame'>\n",
            "Int64Index: 6866 entries, 0 to 1681\n",
            "Data columns (total 3 columns):\n",
            " #   Column               Non-Null Count  Dtype         \n",
            "---  ------               --------------  -----         \n",
            " 0   VD                   6866 non-null   object        \n",
            " 1   time of measurement  6866 non-null   datetime64[ns]\n",
            " 2   value                6866 non-null   int64         \n",
            "dtypes: datetime64[ns](1), int64(1), object(1)\n",
            "memory usage: 214.6+ KB\n"
          ]
        }
      ],
      "source": [
        "df_6.info()"
      ]
    },
    {
      "cell_type": "code",
      "execution_count": 47,
      "metadata": {
        "colab": {
          "base_uri": "https://localhost:8080/"
        },
        "id": "CFZJO2poIMEY",
        "outputId": "de0915e6-d533-4d23-8dcc-3448096212d9"
      },
      "outputs": [
        {
          "data": {
            "text/plain": [
              "0      2021-09-25 00:00:00\n",
              "1      2021-09-25 00:05:00\n",
              "2      2021-09-25 00:10:00\n",
              "3      2021-09-25 00:15:00\n",
              "4      2021-09-25 00:20:00\n",
              "               ...        \n",
              "1677   2021-10-18 19:45:00\n",
              "1678   2021-10-18 19:50:00\n",
              "1679   2021-10-18 19:55:00\n",
              "1680   2021-10-18 20:00:00\n",
              "1681   2021-10-18 20:05:00\n",
              "Name: time of measurement, Length: 6866, dtype: datetime64[ns]"
            ]
          },
          "execution_count": 47,
          "metadata": {},
          "output_type": "execute_result"
        }
      ],
      "source": [
        "df_6['time of measurement']"
      ]
    },
    {
      "cell_type": "code",
      "execution_count": 49,
      "metadata": {
        "colab": {
          "base_uri": "https://localhost:8080/"
        },
        "id": "c84lftzSIZzU",
        "outputId": "0c3ebdec-6ec5-43fe-a7c5-b8d88abef9f6"
      },
      "outputs": [
        {
          "data": {
            "text/plain": [
              "0        0\n",
              "1        0\n",
              "2        0\n",
              "3        0\n",
              "4        0\n",
              "        ..\n",
              "1677    19\n",
              "1678    19\n",
              "1679    19\n",
              "1680    20\n",
              "1681    20\n",
              "Name: time of measurement, Length: 6866, dtype: int64"
            ]
          },
          "execution_count": 49,
          "metadata": {},
          "output_type": "execute_result"
        }
      ],
      "source": [
        "#extracting the hour from the date\n",
        "df_6['time of measurement'].dt.hour"
      ]
    },
    {
      "cell_type": "code",
      "execution_count": 52,
      "metadata": {
        "colab": {
          "base_uri": "https://localhost:8080/",
          "height": 424
        },
        "id": "3iz1O903IrH9",
        "outputId": "1f20e814-8a4b-49bb-9457-f077c0074235"
      },
      "outputs": [
        {
          "data": {
            "text/html": [
              "<div>\n",
              "<style scoped>\n",
              "    .dataframe tbody tr th:only-of-type {\n",
              "        vertical-align: middle;\n",
              "    }\n",
              "\n",
              "    .dataframe tbody tr th {\n",
              "        vertical-align: top;\n",
              "    }\n",
              "\n",
              "    .dataframe thead th {\n",
              "        text-align: right;\n",
              "    }\n",
              "</style>\n",
              "<table border=\"1\" class=\"dataframe\">\n",
              "  <thead>\n",
              "    <tr style=\"text-align: right;\">\n",
              "      <th></th>\n",
              "      <th>VD</th>\n",
              "      <th>time of measurement</th>\n",
              "      <th>value</th>\n",
              "      <th>Hour</th>\n",
              "    </tr>\n",
              "  </thead>\n",
              "  <tbody>\n",
              "    <tr>\n",
              "      <th>0</th>\n",
              "      <td>VD</td>\n",
              "      <td>2021-09-25 00:00:00</td>\n",
              "      <td>22153</td>\n",
              "      <td>0</td>\n",
              "    </tr>\n",
              "    <tr>\n",
              "      <th>1</th>\n",
              "      <td>VD</td>\n",
              "      <td>2021-09-25 00:05:00</td>\n",
              "      <td>22208</td>\n",
              "      <td>0</td>\n",
              "    </tr>\n",
              "    <tr>\n",
              "      <th>2</th>\n",
              "      <td>VD</td>\n",
              "      <td>2021-09-25 00:10:00</td>\n",
              "      <td>22138</td>\n",
              "      <td>0</td>\n",
              "    </tr>\n",
              "    <tr>\n",
              "      <th>3</th>\n",
              "      <td>VD</td>\n",
              "      <td>2021-09-25 00:15:00</td>\n",
              "      <td>21994</td>\n",
              "      <td>0</td>\n",
              "    </tr>\n",
              "    <tr>\n",
              "      <th>4</th>\n",
              "      <td>VD</td>\n",
              "      <td>2021-09-25 00:20:00</td>\n",
              "      <td>21905</td>\n",
              "      <td>0</td>\n",
              "    </tr>\n",
              "    <tr>\n",
              "      <th>...</th>\n",
              "      <td>...</td>\n",
              "      <td>...</td>\n",
              "      <td>...</td>\n",
              "      <td>...</td>\n",
              "    </tr>\n",
              "    <tr>\n",
              "      <th>1677</th>\n",
              "      <td>VD</td>\n",
              "      <td>2021-10-18 19:45:00</td>\n",
              "      <td>33373</td>\n",
              "      <td>19</td>\n",
              "    </tr>\n",
              "    <tr>\n",
              "      <th>1678</th>\n",
              "      <td>VD</td>\n",
              "      <td>2021-10-18 19:50:00</td>\n",
              "      <td>33114</td>\n",
              "      <td>19</td>\n",
              "    </tr>\n",
              "    <tr>\n",
              "      <th>1679</th>\n",
              "      <td>VD</td>\n",
              "      <td>2021-10-18 19:55:00</td>\n",
              "      <td>32756</td>\n",
              "      <td>19</td>\n",
              "    </tr>\n",
              "    <tr>\n",
              "      <th>1680</th>\n",
              "      <td>VD</td>\n",
              "      <td>2021-10-18 20:00:00</td>\n",
              "      <td>32492</td>\n",
              "      <td>20</td>\n",
              "    </tr>\n",
              "    <tr>\n",
              "      <th>1681</th>\n",
              "      <td>VD</td>\n",
              "      <td>2021-10-18 20:05:00</td>\n",
              "      <td>32252</td>\n",
              "      <td>20</td>\n",
              "    </tr>\n",
              "  </tbody>\n",
              "</table>\n",
              "<p>6866 rows × 4 columns</p>\n",
              "</div>"
            ],
            "text/plain": [
              "      VD time of measurement  value  Hour\n",
              "0     VD 2021-09-25 00:00:00  22153     0\n",
              "1     VD 2021-09-25 00:05:00  22208     0\n",
              "2     VD 2021-09-25 00:10:00  22138     0\n",
              "3     VD 2021-09-25 00:15:00  21994     0\n",
              "4     VD 2021-09-25 00:20:00  21905     0\n",
              "...   ..                 ...    ...   ...\n",
              "1677  VD 2021-10-18 19:45:00  33373    19\n",
              "1678  VD 2021-10-18 19:50:00  33114    19\n",
              "1679  VD 2021-10-18 19:55:00  32756    19\n",
              "1680  VD 2021-10-18 20:00:00  32492    20\n",
              "1681  VD 2021-10-18 20:05:00  32252    20\n",
              "\n",
              "[6866 rows x 4 columns]"
            ]
          },
          "execution_count": 52,
          "metadata": {},
          "output_type": "execute_result"
        }
      ],
      "source": [
        "df_6['Hour']=df_6['time of measurement'].dt.hour\n",
        "df_6"
      ]
    },
    {
      "cell_type": "code",
      "execution_count": 64,
      "metadata": {
        "colab": {
          "base_uri": "https://localhost:8080/"
        },
        "id": "MKKl8gZzJ-8R",
        "outputId": "cf1413f4-4849-4777-ac28-3064ec35efd8"
      },
      "outputs": [
        {
          "data": {
            "text/plain": [
              "Hour\n",
              "0     22031.697917\n",
              "1     21783.468750\n",
              "2     21400.861111\n",
              "3     21191.246528\n",
              "4     21457.861111\n",
              "5     24261.437500\n",
              "6     28187.121528\n",
              "7     30249.875000\n",
              "8     30815.416667\n",
              "9     30546.371528\n",
              "10    29945.454861\n",
              "11    29853.642361\n",
              "12    29370.006944\n",
              "13    29145.336806\n",
              "14    29589.472222\n",
              "15    31385.968750\n",
              "16    33597.486111\n",
              "17    34695.753472\n",
              "18    34573.100694\n",
              "19    32589.638889\n",
              "20    29931.589928\n",
              "21    26870.717391\n",
              "22    24063.670290\n",
              "23    22454.913043\n",
              "Name: value, dtype: float64"
            ]
          },
          "execution_count": 64,
          "metadata": {},
          "output_type": "execute_result"
        }
      ],
      "source": [
        "df_6.groupby(['Hour'])['value'].mean()"
      ]
    },
    {
      "cell_type": "code",
      "execution_count": 65,
      "metadata": {
        "id": "YDZPOCjSKxqN"
      },
      "outputs": [],
      "source": [
        "df_7=df_6.groupby(['Hour'])['value'].mean()"
      ]
    },
    {
      "cell_type": "code",
      "execution_count": 66,
      "metadata": {
        "colab": {
          "base_uri": "https://localhost:8080/"
        },
        "id": "c7TfJQAlLFjc",
        "outputId": "973588dc-cfae-4430-ecb0-60375399e6d7"
      },
      "outputs": [
        {
          "data": {
            "text/plain": [
              "Hour\n",
              "0    22031.697917\n",
              "1    21783.468750\n",
              "2    21400.861111\n",
              "3    21191.246528\n",
              "4    21457.861111\n",
              "Name: value, dtype: float64"
            ]
          },
          "execution_count": 66,
          "metadata": {},
          "output_type": "execute_result"
        }
      ],
      "source": [
        "df_7.head()"
      ]
    },
    {
      "cell_type": "code",
      "execution_count": 67,
      "metadata": {
        "colab": {
          "base_uri": "https://localhost:8080/",
          "height": 279
        },
        "id": "iJSrA3y0L3Le",
        "outputId": "2eaab712-4cdc-4afa-c8d3-8923b2dc41cd"
      },
      "outputs": [
        {
          "data": {
            "image/png": "[encoded data removed]",
            "text/plain": [
              "<Figure size 432x288 with 1 Axes>"
            ]
          },
          "metadata": {
            "needs_background": "light"
          },
          "output_type": "display_data"
        }
      ],
      "source": [
        "bx = df_7.plot.bar(x='Hour', y='value', rot=0)"
      ]
    },
    {
      "cell_type": "code",
      "execution_count": 68,
      "metadata": {
        "colab": {
          "base_uri": "https://localhost:8080/",
          "height": 424
        },
        "id": "V5yh-yGpMruY",
        "outputId": "bf3b31fb-c91c-45ed-f5d5-0ebf15a537e6"
      },
      "outputs": [
        {
          "data": {
            "text/html": [
              "<div>\n",
              "<style scoped>\n",
              "    .dataframe tbody tr th:only-of-type {\n",
              "        vertical-align: middle;\n",
              "    }\n",
              "\n",
              "    .dataframe tbody tr th {\n",
              "        vertical-align: top;\n",
              "    }\n",
              "\n",
              "    .dataframe thead th {\n",
              "        text-align: right;\n",
              "    }\n",
              "</style>\n",
              "<table border=\"1\" class=\"dataframe\">\n",
              "  <thead>\n",
              "    <tr style=\"text-align: right;\">\n",
              "      <th></th>\n",
              "      <th>VD</th>\n",
              "      <th>time of measurement</th>\n",
              "      <th>value</th>\n",
              "      <th>Hour</th>\n",
              "      <th>Date</th>\n",
              "    </tr>\n",
              "  </thead>\n",
              "  <tbody>\n",
              "    <tr>\n",
              "      <th>0</th>\n",
              "      <td>VD</td>\n",
              "      <td>2021-09-25 00:00:00</td>\n",
              "      <td>22153</td>\n",
              "      <td>0</td>\n",
              "      <td>2021-09-25</td>\n",
              "    </tr>\n",
              "    <tr>\n",
              "      <th>1</th>\n",
              "      <td>VD</td>\n",
              "      <td>2021-09-25 00:05:00</td>\n",
              "      <td>22208</td>\n",
              "      <td>0</td>\n",
              "      <td>2021-09-25</td>\n",
              "    </tr>\n",
              "    <tr>\n",
              "      <th>2</th>\n",
              "      <td>VD</td>\n",
              "      <td>2021-09-25 00:10:00</td>\n",
              "      <td>22138</td>\n",
              "      <td>0</td>\n",
              "      <td>2021-09-25</td>\n",
              "    </tr>\n",
              "    <tr>\n",
              "      <th>3</th>\n",
              "      <td>VD</td>\n",
              "      <td>2021-09-25 00:15:00</td>\n",
              "      <td>21994</td>\n",
              "      <td>0</td>\n",
              "      <td>2021-09-25</td>\n",
              "    </tr>\n",
              "    <tr>\n",
              "      <th>4</th>\n",
              "      <td>VD</td>\n",
              "      <td>2021-09-25 00:20:00</td>\n",
              "      <td>21905</td>\n",
              "      <td>0</td>\n",
              "      <td>2021-09-25</td>\n",
              "    </tr>\n",
              "    <tr>\n",
              "      <th>...</th>\n",
              "      <td>...</td>\n",
              "      <td>...</td>\n",
              "      <td>...</td>\n",
              "      <td>...</td>\n",
              "      <td>...</td>\n",
              "    </tr>\n",
              "    <tr>\n",
              "      <th>1677</th>\n",
              "      <td>VD</td>\n",
              "      <td>2021-10-18 19:45:00</td>\n",
              "      <td>33373</td>\n",
              "      <td>19</td>\n",
              "      <td>2021-10-18</td>\n",
              "    </tr>\n",
              "    <tr>\n",
              "      <th>1678</th>\n",
              "      <td>VD</td>\n",
              "      <td>2021-10-18 19:50:00</td>\n",
              "      <td>33114</td>\n",
              "      <td>19</td>\n",
              "      <td>2021-10-18</td>\n",
              "    </tr>\n",
              "    <tr>\n",
              "      <th>1679</th>\n",
              "      <td>VD</td>\n",
              "      <td>2021-10-18 19:55:00</td>\n",
              "      <td>32756</td>\n",
              "      <td>19</td>\n",
              "      <td>2021-10-18</td>\n",
              "    </tr>\n",
              "    <tr>\n",
              "      <th>1680</th>\n",
              "      <td>VD</td>\n",
              "      <td>2021-10-18 20:00:00</td>\n",
              "      <td>32492</td>\n",
              "      <td>20</td>\n",
              "      <td>2021-10-18</td>\n",
              "    </tr>\n",
              "    <tr>\n",
              "      <th>1681</th>\n",
              "      <td>VD</td>\n",
              "      <td>2021-10-18 20:05:00</td>\n",
              "      <td>32252</td>\n",
              "      <td>20</td>\n",
              "      <td>2021-10-18</td>\n",
              "    </tr>\n",
              "  </tbody>\n",
              "</table>\n",
              "<p>6866 rows × 5 columns</p>\n",
              "</div>"
            ],
            "text/plain": [
              "      VD time of measurement  value  Hour        Date\n",
              "0     VD 2021-09-25 00:00:00  22153     0  2021-09-25\n",
              "1     VD 2021-09-25 00:05:00  22208     0  2021-09-25\n",
              "2     VD 2021-09-25 00:10:00  22138     0  2021-09-25\n",
              "3     VD 2021-09-25 00:15:00  21994     0  2021-09-25\n",
              "4     VD 2021-09-25 00:20:00  21905     0  2021-09-25\n",
              "...   ..                 ...    ...   ...         ...\n",
              "1677  VD 2021-10-18 19:45:00  33373    19  2021-10-18\n",
              "1678  VD 2021-10-18 19:50:00  33114    19  2021-10-18\n",
              "1679  VD 2021-10-18 19:55:00  32756    19  2021-10-18\n",
              "1680  VD 2021-10-18 20:00:00  32492    20  2021-10-18\n",
              "1681  VD 2021-10-18 20:05:00  32252    20  2021-10-18\n",
              "\n",
              "[6866 rows x 5 columns]"
            ]
          },
          "execution_count": 68,
          "metadata": {},
          "output_type": "execute_result"
        }
      ],
      "source": [
        "df_6['Date']=df_6['time of measurement'].dt.date\n",
        "df_6"
      ]
    },
    {
      "cell_type": "code",
      "execution_count": 78,
      "metadata": {
        "colab": {
          "base_uri": "https://localhost:8080/"
        },
        "id": "wJfMcWRSNGGe",
        "outputId": "9ead96a2-432b-44c4-fa16-1660ffd5fe6e"
      },
      "outputs": [
        {
          "data": {
            "text/plain": [
              "Date\n",
              "2021-09-25    25942.215278\n",
              "2021-09-26    23953.541667\n",
              "2021-09-27    26019.621528\n",
              "2021-09-28    28245.461806\n",
              "2021-09-29    27187.184028\n",
              "2021-09-30    28387.843750\n",
              "2021-10-01    26343.958333\n",
              "2021-10-02    26784.152778\n",
              "2021-10-03    24751.277778\n",
              "2021-10-04    29110.017361\n",
              "2021-10-05    28639.927083\n",
              "2021-10-06    29343.645833\n",
              "2021-10-07    29201.315972\n",
              "2021-10-08    29298.406250\n",
              "2021-10-09    26277.850694\n",
              "2021-10-10    25647.170139\n",
              "2021-10-11    29135.687500\n",
              "2021-10-12    30749.170139\n",
              "2021-10-13    30592.444444\n",
              "2021-10-14    29355.118056\n",
              "2021-10-15    30197.364583\n",
              "2021-10-16    27570.041667\n",
              "2021-10-17    26969.565972\n",
              "2021-10-18    31170.582645\n",
              "Name: value, dtype: float64"
            ]
          },
          "execution_count": 78,
          "metadata": {},
          "output_type": "execute_result"
        }
      ],
      "source": [
        "df_8=df_6.groupby(['Date'])['value'].mean()\n",
        "df_8"
      ]
    },
    {
      "cell_type": "code",
      "execution_count": 79,
      "metadata": {
        "colab": {
          "base_uri": "https://localhost:8080/",
          "height": 327
        },
        "id": "0PTefCM3NS6-",
        "outputId": "30661bd2-ba88-4836-d6ca-ffaea35359a5"
      },
      "outputs": [
        {
          "data": {
            "image/png": "[encoded data removed]",
            "text/plain": [
              "<Figure size 432x288 with 1 Axes>"
            ]
          },
          "metadata": {
            "needs_background": "light"
          },
          "output_type": "display_data"
        }
      ],
      "source": [
        "cx = df_8.plot.bar(x='Dour', y='value', rot=90)"
      ]
    },
    {
      "cell_type": "code",
      "execution_count": null,
      "metadata": {
        "id": "K0uNqCQ6Nn9g"
      },
      "outputs": [],
      "source": []
    }
  ],
  "metadata": {
    "colab": {
      "authorship_tag": "ABX9TyP/PwWETKrgz7TBz+jCrXsx",
      "include_colab_link": true,
      "name": "week 6_ visualizing time series data.ipynb",
      "provenance": []
    },
    "interpreter": {
      "hash": "2cb5d5a9379438e42184019bb29608c84ceeccd1ddd0ba30ff37a8376aac68e5"
    },
    "kernelspec": {
      "display_name": "Python 3.9.6 64-bit ('venv': venv)",
      "name": "python3"
    },
    "language_info": {
      "codemirror_mode": {
        "name": "ipython",
        "version": 3
      },
      "file_extension": ".py",
      "mimetype": "text/x-python",
      "name": "python",
      "nbconvert_exporter": "python",
      "pygments_lexer": "ipython3",
      "version": "3.9.6"
    }
  },
  "nbformat": 4,
  "nbformat_minor": 0
}
