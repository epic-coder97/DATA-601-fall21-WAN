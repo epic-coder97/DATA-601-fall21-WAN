{
 "cells": [
  {
   "cell_type": "markdown",
   "metadata": {},
   "source": [
    "## Assignment Content\n",
    "\n",
    "<p>Simulate a fair die and a biased 6-sided die. The biased die has probabilities {0.15, 0.15, 0.15, 0.15, 0.15, 0.25}. Create a visualization that compares outcomes of multiple rolls of a fair die and this biased die. You can use a single visualization or multiple visualizations to demonstrate the difference in outcomes for the dice. The user of your notebook should be able to alter the number of simulations as an argument to a function.​<p>\n",
    "\n",
    "Submit the .ipynb file containing the analysis and the generated pictures.​\n",
    "\n",
    "Include the assignment description in a markdown cell at the top of your notebook.\n",
    "\n",
    "When you are done with the assignment or have spent an hour on the homework (whichever comes first), please send me an email indicating which of these you have reached​, for example:\n",
    "\n",
    "To: jhwan@umbc.edu​\n",
    "\n",
    "Subject: Data 601 Spring 2019 Week 7: Simulate a fair die and a biased 6-sided die\n",
    "\n",
    "Examples of content: \"I have spent 1 hour on the homework\" or \"I am done with the assignment in 20 minutes.\"​\n",
    "\n",
    "If you've not completed the homework, please specify what your status is.​"
   ]
  },
  {
   "cell_type": "code",
   "execution_count": 1,
   "metadata": {},
   "outputs": [],
   "source": [
    "import random \n",
    "import matplotlib.pyplot as plt\n",
    "import numpy as np\n",
    "import seaborn as sns\n",
    "sns.set()\n",
    "from collections import Counter\n"
   ]
  },
  {
   "cell_type": "markdown",
   "metadata": {},
   "source": [
    "## Initializing lists and Taking Input from user"
   ]
  },
  {
   "cell_type": "code",
   "execution_count": 2,
   "metadata": {},
   "outputs": [],
   "source": [
    "options = [1,2,3,4,5,6]\n",
    "unbiased_simulations = []\n",
    "biased_simulations = []\n",
    "biased_simulations_mean = []\n",
    "unbiased_simulations_mean = []\n",
    "weight =[0.15, 0.15, 0.15, 0.15, 0.15, 0.25]\n",
    "\n",
    "trials = int(input('Enter the number Of Trials: '))"
   ]
  },
  {
   "cell_type": "markdown",
   "metadata": {},
   "source": [
    "## Unbiased Die"
   ]
  },
  {
   "cell_type": "code",
   "execution_count": 3,
   "metadata": {},
   "outputs": [
    {
     "name": "stdout",
     "output_type": "stream",
     "text": [
      "No of trial count is :  [3, 5, 6, 4, 5, 4, 1, 5, 5, 4, 5, 3, 4, 2, 4, 6, 6, 2, 3, 6, 1, 2, 3, 6, 5, 6, 6, 6, 3, 6, 2, 1, 4, 6, 4, 3, 3, 1, 6, 3, 1, 3, 2, 1, 2, 3, 5, 3, 4, 5, 2, 2, 4, 3, 5, 6, 4, 6, 3, 6, 5, 4, 5, 5, 5, 2, 6, 4, 1, 5, 2, 5, 2, 4, 2, 5, 2, 6, 4, 1, 2, 1, 5, 6, 5, 3, 6, 1, 3, 4, 4, 5, 5, 3, 1, 5, 4, 4, 6, 5, 2, 6, 4, 2, 4, 1, 6, 4, 6, 6, 4, 4, 1, 6, 5, 4, 1, 4, 4, 4, 4, 2, 2, 2, 4, 6, 4, 5, 2, 1, 1, 2, 1, 6, 4, 1, 6, 4, 4, 2, 1, 2, 5, 3, 2, 3, 5, 3, 2, 2, 1, 2, 2, 6, 2, 6, 2, 1, 5, 6, 1, 1, 4, 2, 6, 3, 2, 6, 2, 6, 1, 6, 2, 5, 1, 2, 3, 2, 6, 3, 4, 5, 6, 3, 3, 4, 3, 6, 3, 5, 3, 6, 3, 5, 2, 1, 4, 1, 3, 3, 5, 5, 1, 3, 1, 5, 3, 2, 1, 1, 5, 2, 3, 2, 6, 4, 2, 1, 6, 6, 4, 1, 2, 5, 1, 5, 6, 2, 1, 6, 6, 2, 5, 6, 3, 2, 1, 5, 1, 4, 4, 1, 3, 6, 5, 1, 5, 4, 4, 6, 5, 1, 1, 4, 5, 1, 6, 4, 6, 5, 5, 1, 1, 6, 4, 4, 6, 3, 6, 1, 4, 5, 5, 2, 2, 2, 1, 5, 3, 5, 1, 5, 3, 3, 3, 2, 1, 1, 5, 6, 5, 2, 2, 4, 6, 1, 2, 1, 2, 3, 6, 4, 5, 4, 3, 5, 3, 5, 5, 3, 2, 4, 2, 3, 6, 6, 5, 5, 2, 5, 6, 5, 3, 3, 6, 2, 3, 5, 3, 6, 5, 5, 1, 3, 3, 3, 2, 4, 3, 6, 5, 6, 4, 4, 6, 3, 1, 5, 6, 1, 1, 5, 4, 1, 2, 2, 1, 4, 1, 2, 2, 6, 6, 4, 5, 4, 2, 5, 2, 1, 4, 3, 3, 2, 3, 5, 4, 5, 6, 5, 2, 6, 4, 3, 2, 2, 4, 1, 5, 4, 6, 2, 1, 2, 3, 4, 5, 5, 2, 2, 2, 6, 1, 4, 3, 1, 2, 6, 3, 5, 3, 1, 6, 1, 4, 2, 5, 1, 5, 4, 2, 4, 4, 3, 1, 3, 5, 1, 2, 3, 4, 1, 4, 3, 3, 6, 6, 2, 1, 6, 2, 1, 1, 3, 5, 6, 4, 6, 3, 1, 6, 1, 2, 2, 3, 3, 3, 3, 6, 2, 1, 1, 3, 3, 1, 1, 4, 2, 4, 5, 2, 4, 2, 4, 5, 3, 1, 3, 1, 4, 3, 3, 6, 2, 4, 5, 3, 1, 5, 1, 2, 3, 5, 2, 2, 6, 1, 2, 2, 1]\n"
     ]
    },
    {
     "data": {
      "image/png": "[encoded data removed]",
      "text/plain": [
       "<Figure size 432x288 with 1 Axes>"
      ]
     },
     "metadata": {},
     "output_type": "display_data"
    },
    {
     "name": "stdout",
     "output_type": "stream",
     "text": [
      "Count of  1:  84 \n",
      "2:  91 \n",
      "3:  81 \n",
      "4:  79 \n",
      "5:  84 \n",
      "6:  81\n",
      "\n",
      " Mean values of a fair die : \n",
      " [1, 2, 3, 4, 5, 6] \n",
      " [0.168, 0.182, 0.162, 0.158, 0.168, 0.162]\n"
     ]
    }
   ],
   "source": [
    "for x in range(trials):\n",
    "    sim = random.choice(options)\n",
    "    unbiased_simulations.append(sim)\n",
    "unbiased_simulations\n",
    "\n",
    "for i in range(len(options)):\n",
    "    unbiased_simulations_mean.append(unbiased_simulations.count(options[i])/trials)\n",
    "\n",
    "print(\"No of trial count is : \", unbiased_simulations)\n",
    "plt.hist(unbiased_simulations, bins=len(options), align='mid')\n",
    "plt.xlabel(\"Number on a fair die\")\n",
    "plt.ylabel(\"Number of simulations\")\n",
    "plt.title(\"Fair Die Simulation\")\n",
    "plt.show()\n",
    "cnt1 = unbiased_simulations.count(1)\n",
    "cnt2 = unbiased_simulations.count(2)\n",
    "cnt3 = unbiased_simulations.count(3)\n",
    "cnt4 = unbiased_simulations.count(4)\n",
    "cnt5 = unbiased_simulations.count(5)\n",
    "cnt6 = unbiased_simulations.count(6)\n",
    "\n",
    "print(\"Count of \",\"1: \",cnt1,\"\\n2: \",cnt2,\"\\n3: \",cnt3,\"\\n4: \",cnt4,\"\\n5: \",cnt5,\"\\n6: \",cnt6)\n",
    "\n",
    "print(\"\\n Mean values of a fair die : \\n\",options,\"\\n\", unbiased_simulations_mean)\n"
   ]
  },
  {
   "cell_type": "code",
   "execution_count": 4,
   "metadata": {},
   "outputs": [
    {
     "name": "stdout",
     "output_type": "stream",
     "text": [
      "\n",
      " Number of trial count is :  500\n",
      "\n",
      " Biased die Simulations are : \n",
      " [5, 4, 1, 5, 6, 1, 6, 5, 3, 5, 2, 4, 1, 1, 3, 4, 1, 6, 1, 1, 2, 6, 1, 4, 5, 3, 2, 6, 3, 2, 6, 4, 5, 3, 6, 1, 1, 1, 1, 6, 2, 1, 2, 2, 5, 2, 6, 6, 1, 2, 5, 4, 2, 6, 1, 1, 6, 4, 6, 3, 5, 2, 1, 1, 5, 4, 1, 3, 1, 1, 3, 2, 6, 1, 3, 3, 1, 6, 4, 6, 1, 6, 3, 3, 6, 6, 1, 4, 6, 2, 1, 6, 5, 6, 6, 1, 2, 6, 2, 4, 6, 6, 2, 6, 6, 5, 3, 6, 1, 2, 3, 5, 3, 5, 3, 1, 5, 3, 5, 3, 4, 5, 6, 6, 5, 1, 5, 5, 4, 3, 5, 6, 5, 3, 6, 3, 1, 3, 4, 2, 3, 4, 5, 2, 6, 2, 6, 6, 2, 6, 6, 6, 1, 5, 4, 6, 5, 6, 1, 2, 6, 2, 2, 6, 4, 6, 5, 4, 3, 6, 4, 3, 5, 6, 2, 5, 6, 5, 3, 1, 5, 6, 4, 2, 1, 3, 4, 5, 3, 6, 5, 3, 2, 1, 6, 2, 4, 2, 6, 2, 1, 5, 4, 6, 6, 1, 3, 4, 4, 6, 6, 5, 2, 6, 2, 2, 6, 5, 3, 6, 1, 6, 6, 4, 6, 6, 3, 6, 6, 3, 6, 5, 2, 6, 5, 5, 6, 6, 6, 1, 6, 4, 3, 2, 1, 6, 4, 5, 2, 2, 6, 3, 1, 3, 3, 5, 6, 3, 6, 5, 6, 6, 6, 2, 4, 2, 1, 1, 4, 3, 6, 3, 2, 3, 4, 6, 3, 5, 2, 3, 6, 6, 2, 2, 5, 3, 5, 2, 6, 2, 2, 2, 1, 4, 5, 6, 6, 5, 5, 1, 5, 6, 5, 5, 2, 1, 6, 4, 6, 4, 5, 2, 1, 4, 4, 6, 4, 1, 3, 5, 4, 4, 4, 2, 1, 1, 2, 5, 3, 5, 2, 1, 5, 2, 5, 6, 5, 3, 6, 4, 3, 6, 2, 1, 2, 5, 5, 5, 3, 3, 4, 6, 3, 3, 6, 5, 4, 1, 6, 6, 3, 6, 5, 1, 6, 3, 1, 6, 6, 1, 5, 2, 5, 5, 3, 6, 5, 4, 6, 6, 1, 5, 4, 2, 6, 3, 6, 4, 1, 2, 5, 6, 5, 6, 3, 6, 1, 1, 2, 6, 6, 5, 2, 4, 3, 6, 6, 2, 6, 6, 3, 4, 6, 1, 3, 5, 5, 6, 5, 2, 1, 5, 6, 6, 4, 6, 1, 3, 6, 4, 6, 3, 1, 3, 5, 4, 6, 3, 3, 3, 3, 1, 1, 6, 4, 6, 6, 6, 5, 6, 6, 6, 2, 6, 2, 2, 3, 3, 3, 1, 6, 1, 6, 4, 1, 4, 3, 6, 5, 1, 4, 3, 3, 1, 6, 5, 3, 5, 2, 2, 6, 6, 5, 6, 5, 4, 4, 6, 4, 6, 6, 2, 3, 2, 6, 1, 4, 6, 1, 5]\n",
      "Count of  1:  74 \n",
      "2:  69 \n",
      "3:  75 \n",
      "4:  59 \n",
      "5:  82 \n",
      "6:  141\n"
     ]
    },
    {
     "ename": "NameError",
     "evalue": "name 'cnt' is not defined",
     "output_type": "error",
     "traceback": [
      "\u001b[1;31m---------------------------------------------------------------------------\u001b[0m",
      "\u001b[1;31mNameError\u001b[0m                                 Traceback (most recent call last)",
      "\u001b[1;32m~\\AppData\\Local\\Temp/ipykernel_1060/2585283051.py\u001b[0m in \u001b[0;36m<module>\u001b[1;34m\u001b[0m\n\u001b[0;32m     29\u001b[0m \u001b[1;31m# print(\"\\nThe options are : \", cnt.keys())\u001b[0m\u001b[1;33m\u001b[0m\u001b[1;33m\u001b[0m\u001b[1;33m\u001b[0m\u001b[0m\n\u001b[0;32m     30\u001b[0m \u001b[1;31m# print(\"\\nProbilities with respect to options are : \", cnt.values())\u001b[0m\u001b[1;33m\u001b[0m\u001b[1;33m\u001b[0m\u001b[1;33m\u001b[0m\u001b[0m\n\u001b[1;32m---> 31\u001b[1;33m \u001b[0mprint\u001b[0m\u001b[1;33m(\u001b[0m\u001b[1;34m\"\\nSum of probability is : \"\u001b[0m\u001b[1;33m,\u001b[0m \u001b[0msum\u001b[0m\u001b[1;33m(\u001b[0m\u001b[0mcnt\u001b[0m\u001b[1;33m.\u001b[0m\u001b[0mvalues\u001b[0m\u001b[1;33m(\u001b[0m\u001b[1;33m)\u001b[0m\u001b[1;33m)\u001b[0m\u001b[1;33m)\u001b[0m\u001b[1;33m\u001b[0m\u001b[1;33m\u001b[0m\u001b[0m\n\u001b[0m\u001b[0;32m     32\u001b[0m \u001b[0mprint\u001b[0m\u001b[1;33m(\u001b[0m\u001b[1;34m\"\\n Mean values of a biased die : \\n\"\u001b[0m\u001b[1;33m,\u001b[0m \u001b[0mbiased_simulations_mean\u001b[0m\u001b[1;33m)\u001b[0m\u001b[1;33m\u001b[0m\u001b[1;33m\u001b[0m\u001b[0m\n\u001b[0;32m     33\u001b[0m \u001b[0mprint\u001b[0m\u001b[1;33m(\u001b[0m\u001b[1;34m\"\\n\\n\"\u001b[0m\u001b[1;33m)\u001b[0m\u001b[1;33m\u001b[0m\u001b[1;33m\u001b[0m\u001b[0m\n",
      "\u001b[1;31mNameError\u001b[0m: name 'cnt' is not defined"
     ]
    }
   ],
   "source": [
    "for x in range(trials):\n",
    "    sim2 = random.choices(options,weights = [0.15, 0.15, 0.15, 0.15, 0.15, 0.25])\n",
    "    biased_simulations.append(sim2)\n",
    "\n",
    "for i in range(len(options)):\n",
    "    biased_simulations_mean.append(biased_simulations.count(options[i])/trials)    \n",
    "\n",
    "\n",
    "# cnt = Counter(biased_simulations)\n",
    "# for key,values in cnt.items():\n",
    "#     cnt[key] = cnt[key] / trials \n",
    "#\n",
    "flat_list = []\n",
    "for sublist in biased_simulations:\n",
    "    for item in sublist:\n",
    "        flat_list.append(item)\n",
    "print(\"\\n Number of trial count is : \", trials)\n",
    "print(\"\\n Biased die Simulations are : \\n\", flat_list)        \n",
    "cnt1 = flat_list.count(1)\n",
    "cnt2 = flat_list.count(2)\n",
    "cnt3 = flat_list.count(3)\n",
    "cnt4 = flat_list.count(4)\n",
    "cnt5 = flat_list.count(5)\n",
    "cnt6 = flat_list.count(6) \n",
    "\n",
    "print(\"Count of \",\"1: \",cnt1,\"\\n2: \",cnt2,\"\\n3: \",cnt3,\"\\n4: \",cnt4,\"\\n5: \",cnt5,\"\\n6: \",cnt6)\n",
    "\n",
    "# print(\"\\nFace value on the die : \"+str(key),\"    Number of times \"+str(key)+\" occured : \"+str(values))\n",
    "# print(\"\\nThe options are : \", cnt.keys())\n",
    "# print(\"\\nProbilities with respect to options are : \", cnt.values())\n",
    "print(\"\\nSum of probability is : \", sum(cnt.values()))\n",
    "print(\"\\n Mean values of a biased die : \\n\", biased_simulations_mean)\n",
    "print(\"\\n\\n\")\n",
    "\n",
    "plt.bar(cnt.keys(),cnt.values(),width=0.75)\n",
    "plt.xlabel(\"Number on a biased die\")\n",
    "plt.ylabel(\"Probability\")\n",
    "plt.title(\"Biased Die Simulation\")\n",
    "plt.show()\n"
   ]
  },
  {
   "cell_type": "code",
   "execution_count": null,
   "metadata": {},
   "outputs": [
    {
     "data": {
      "text/plain": [
       "list"
      ]
     },
     "execution_count": 13,
     "metadata": {},
     "output_type": "execute_result"
    }
   ],
   "source": [
    "type(biased_simulations)"
   ]
  },
  {
   "cell_type": "code",
   "execution_count": null,
   "metadata": {},
   "outputs": [],
   "source": []
  }
 ],
 "metadata": {
  "interpreter": {
   "hash": "2cb5d5a9379438e42184019bb29608c84ceeccd1ddd0ba30ff37a8376aac68e5"
  },
  "kernelspec": {
   "display_name": "Python 3.9.6 64-bit ('venv': venv)",
   "name": "python3"
  },
  "language_info": {
   "codemirror_mode": {
    "name": "ipython",
    "version": 3
   },
   "file_extension": ".py",
   "mimetype": "text/x-python",
   "name": "python",
   "nbconvert_exporter": "python",
   "pygments_lexer": "ipython3",
   "version": "3.9.6"
  },
  "orig_nbformat": 4
 },
 "nbformat": 4,
 "nbformat_minor": 2
}
