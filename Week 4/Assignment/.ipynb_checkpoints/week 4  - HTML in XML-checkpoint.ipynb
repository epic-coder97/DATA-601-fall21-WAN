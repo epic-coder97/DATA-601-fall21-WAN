{
 "cells": [
  {
   "cell_type": "markdown",
   "id": "7ffab47a",
   "metadata": {},
   "source": [
    "## week 4: HTML in XML\n",
    "Assignment Content\n",
    "\n",
    "I provide you with a compressed XML file. Some of the fields contain HTML. ​\n",
    "\n",
    "<li>Extract the XML from the .zip file. In Python, use a module to parse the XML (do not write an XML parser)​</li>\n",
    "<li>Using Python, extract the HTML from the XML. Then use BeautifulSoup4 to parse the HTML </li>\n",
    "<li>For each HTML page, report the number of links (URLs with the tag < a href=\"URL\">text) in each HTML page</li> \n",
    "<li>Submit a single Jupyter notebook that parses the XML file and produces the count of links per HTML file.​</li>\n",
    "Advanced students: if you complete the assignment above and are are seeking a challenge, use an alternative method (i.e., regular expressions or Python's find) to validate the count of HTML links per page reported by BeautifulSoup4 .​ ​\n",
    "\n",
    "When you are done with the assignment or have spent an hour on the homework (whichever comes first), please send me an email indicating which of these you have reached​ ​\n",
    "\n",
    "To: jhwan@umbc.edu​\n",
    "\n",
    "Subject: Data 601 Spring 2021 week 4: HTML in XML\n",
    "\n",
    "Examples of content: \"I have spent 1 hour on the homework\" or \"I am done with the assignment in 20 minutes.\"​\n",
    "\n",
    "If you've not completed the homework, please specify what your status is.​"
   ]
  },
  {
   "cell_type": "code",
   "execution_count": 10,
   "id": "aa94e5c6",
   "metadata": {},
   "outputs": [
    {
     "name": "stdout",
     "output_type": "stream",
     "text": [
      "number of links :  502\n",
      "['https://www.munoz-peterson.com/', 'https://www.munoz-peterson.com/', 'https://richardson.net/', 'https://smith.com/', 'https://smith.com/', 'http://carter.net/', 'http://carter.net/', 'http://huff-hudson.com/', 'http://huff-hudson.com/', 'https://fuentes.net/', 'https://avila-thompson.com/', 'https://avila-thompson.com/', 'https://copeland.org/', 'http://www.grant-williamson.com/', 'https://james.com/', 'https://james.com/', 'http://www.mathews-moore.com/', 'https://carter-powers.net/', 'https://carter-powers.net/', 'https://miller-grant.info/', 'https://miller-grant.info/', 'https://phillips-harris.com/', 'https://phillips-harris.com/', 'http://perez.info/', 'http://www.cook.com/', 'http://www.wilson-navarro.com/', 'https://www.young-davis.info/', 'https://www.young-davis.info/', 'http://weber-collins.com/', 'http://vang.org/', 'http://fuller.com/', 'http://fuller.com/', 'https://www.lee-blackburn.com/', 'http://www.jordan.com/', 'http://www.marshall.com/', 'https://www.bass.biz/', 'https://fowler.biz/', 'http://estes.com/', 'http://stevenson.com/', 'http://hall-foley.com/', 'https://www.crosby.biz/', 'https://www.crosby.biz/', 'http://hernandez.com/', 'http://hernandez.com/', 'http://www.holden.info/', 'http://www.holden.info/', 'http://www.ross.biz/', 'http://www.ross.biz/', 'http://www.chavez-bryant.com/', 'https://wilson-miller.com/', 'http://www.bennett-murray.biz/', 'https://www.harrison.com/', 'https://www.harrison.com/', 'http://www.scott.com/', 'https://www.payne.com/', 'https://www.payne.com/', 'https://www.hansen-flores.com/', 'https://www.vazquez-jones.com/', 'https://www.vazquez-jones.com/', 'http://conway.com/', 'http://conway.com/', 'https://www.cruz.com/', 'http://rojas.net/', 'http://rojas.net/', 'http://boyd.com/', 'https://www.scott.biz/', 'https://www.scott.biz/', 'https://harmon-thomas.org/', 'http://smith-miller.com/', 'https://www.miller.info/', 'http://www.oconnell.biz/', 'http://www.oconnell.biz/', 'http://www.osborne.com/', 'http://www.osborne.com/', 'http://www.thomas.com/', 'http://www.thomas.com/', 'http://www.nelson.org/', 'http://www.jones.net/', 'http://www.jones.net/', 'https://anderson.biz/', 'http://www.becker-kelly.com/', 'http://www.meadows.org/', 'https://lee.com/', 'https://smith.net/', 'https://mitchell.com/', 'https://campbell-sullivan.com/', 'http://hernandez-dean.com/', 'https://alexander-martinez.net/', 'https://alexander-martinez.net/', 'http://walter-jacobs.org/', 'https://www.dunn.com/', 'https://lopez-bean.com/', 'http://www.baird.net/', 'https://martinez.org/', 'http://davenport.com/', 'http://rivas.com/', 'http://cox.com/', 'http://williams-parker.net/', 'http://williams-parker.net/', 'https://www.walsh.org/', 'https://www.walsh.org/', 'http://www.anderson.com/', 'http://fuller.com/', 'http://www.gilmore.com/', 'http://www.fernandez.biz/', 'https://wiggins-garrett.org/', 'http://www.sims.com/', 'https://short.com/', 'https://short.com/', 'https://sanchez-walker.info/', 'https://sanchez-walker.info/', 'https://www.conway-campbell.com/', 'https://www.conway-campbell.com/', 'https://www.davies.com/', 'https://ward.com/', 'https://www.reynolds-gonzalez.com/', 'https://clark.com/', 'https://clark.com/', 'https://www.ayala.com/', 'https://www.salazar.info/', 'http://www.smith-sutton.com/', 'https://barnes.com/', 'https://lane.info/', 'http://www.anthony.org/', 'https://chang.org/', 'http://www.leach.com/', 'http://www.leach.com/', 'http://ramos-peters.biz/', 'https://bell-houston.com/', 'https://bell-houston.com/', 'https://gates.net/', 'https://gates.net/', 'http://www.pierce-wood.com/', 'http://www.waters-martin.com/', 'https://www.snyder.net/', 'http://www.collins-hutchinson.org/', 'https://vasquez.org/', 'https://www.solis.org/', 'https://www.solis.org/', 'http://webb.com/', 'http://campbell-parsons.com/', 'http://campbell-parsons.com/', 'http://www.macdonald-barber.biz/', 'http://www.morgan.com/', 'http://www.morgan.com/', 'https://black-williams.com/', 'https://black-williams.com/', 'http://www.contreras.org/', 'http://www.contreras.org/', 'http://www.payne-chan.com/', 'http://harrell.net/', 'http://www.mosley-jones.com/', 'http://www.saunders.com/', 'http://www.saunders.com/', 'https://jones-jones.biz/', 'https://jones-jones.biz/', 'https://www.thompson-nelson.info/', 'https://www.green-reynolds.com/', 'https://www.green-reynolds.com/', 'http://jenkins.info/', 'https://daniels-chang.com/', 'https://www.olson.com/', 'https://www.olson.com/', 'https://www.henderson.biz/', 'http://cunningham.biz/', 'http://cunningham.biz/', 'https://www.harper.com/', 'https://www.lawson.com/', 'https://conley.biz/', 'http://www.spencer-wilson.info/', 'https://www.berry.com/', 'http://roberson.info/', 'http://roberson.info/', 'http://powell.net/', 'http://powell.net/', 'https://ramsey.net/', 'https://ramsey.net/', 'https://mora.com/', 'https://mora.com/', 'http://www.robbins.com/', 'http://www.robbins.com/', 'http://stevens.org/', 'http://stevens.org/', 'http://christian-rosales.com/', 'http://www.campbell.com/', 'http://www.campbell.com/', 'https://trevino.org/', 'http://www.page-cook.net/', 'https://mendoza.com/', 'https://www.ryan.com/', 'https://lam.com/', 'https://lam.com/', 'http://castillo-davidson.com/', 'https://peterson.com/', 'https://www.myers-smith.net/', 'https://mccoy.com/', 'http://mcdonald-ford.net/', 'http://mcdonald-ford.net/', 'https://moore.com/', 'https://moore.com/', 'http://www.young-salazar.com/', 'http://gibson-faulkner.com/', 'http://www.mcclure.com/', 'http://www.roberts.com/', 'http://www.medina.com/', 'http://skinner.com/', 'https://carpenter.com/', 'http://miller-ferguson.com/', 'http://miller-ferguson.com/', 'http://nelson.com/', 'http://www.arias.com/', 'https://www.patel.biz/', 'https://www.patel.biz/', 'http://www.sullivan-delacruz.com/', 'http://www.sullivan-delacruz.com/', 'https://www.owen.com/', 'https://www.owen.com/', 'https://www.parker-murray.com/', 'http://coleman.com/', 'https://www.rodriguez.com/', 'http://www.porter.org/', 'http://hernandez.com/', 'https://www.page.net/', 'https://www.page.net/', 'http://hobbs-young.com/', 'https://sheppard.info/', 'https://www.smith.com/', 'https://www.smith.com/', 'http://www.griffith-williams.net/', 'https://www.carpenter.org/', 'https://www.stewart-levy.com/', 'http://www.wallace.net/', 'https://www.archer.com/', 'https://www.archer.com/', 'http://www.brown.net/', 'http://www.brown.net/', 'http://bryan-evans.biz/', 'https://www.hamilton.com/', 'https://www.hamilton.com/', 'http://vasquez.com/', 'http://vasquez.com/', 'https://ortiz-johnson.com/', 'https://ortiz-johnson.com/', 'http://singleton-garcia.com/', 'http://www.yoder-ruiz.biz/', 'http://green.biz/', 'http://www.mccarty-norris.org/', 'https://www.moore.com/', 'http://lopez.com/', 'https://davis-jones.net/', 'https://www.davis.com/', 'http://www.fernandez.com/', 'http://www.fernandez.com/', 'http://mcmillan-martinez.com/', 'http://miller.com/', 'http://miller.com/', 'https://www.williams-davis.com/', 'https://www.williams-davis.com/', 'https://moore-haas.org/', 'https://www.hanson.com/', 'https://byrd.com/', 'https://byrd.com/', 'http://walker.org/', 'http://allison-clark.com/', 'http://allison-clark.com/', 'https://www.sims.info/', 'https://smith-chase.net/', 'https://singleton.com/', 'http://www.williams.com/', 'http://www.lawrence-payne.net/', 'http://saunders.com/', 'https://graves.com/', 'https://mcguire.biz/', 'https://mcguire.biz/', 'http://www.olson.com/', 'http://www.olson.com/', 'http://www.calderon.com/', 'https://www.adams.biz/', 'https://www.adams.biz/', 'https://www.mason.net/', 'https://www.mason.net/', 'http://www.kemp.info/', 'http://www.kemp.info/', 'https://www.vaughn.com/', 'http://www.smith.org/', 'http://www.smith.org/', 'http://nash-harris.com/', 'http://hughes.com/', 'http://hughes.com/', 'http://marquez.com/', 'http://day.info/', 'http://www.french.com/', 'http://www.french.com/', 'http://green.org/', 'https://www.johnson.com/', 'https://www.johnson.com/', 'http://www.barker.com/', 'https://www.freeman-martin.com/', 'http://gates.net/', 'https://www.clark.com/', 'https://www.clark.com/', 'http://www.delacruz-robinson.info/', 'https://harris.org/', 'https://harris.org/', 'http://davis.com/', 'https://joseph-poole.com/', 'https://joseph-poole.com/', 'http://www.freeman.com/', 'http://hammond.com/', 'https://gardner-martinez.net/', 'https://www.snow.com/', 'https://cook.com/', 'https://cook.com/', 'http://cook.org/', 'http://cook.org/', 'http://www.baker-howell.biz/', 'http://www.hutchinson.net/', 'https://proctor.org/', 'https://proctor.org/', 'http://www.maddox.com/', 'http://www.chung.com/', 'https://www.singh.info/', 'http://www.hodges.com/', 'https://www.green.net/', 'https://www.wright.biz/', 'https://potter.com/', 'https://lowery.com/', 'https://sellers.biz/', 'https://lee-gray.info/', 'https://www.boyer-jones.com/', 'https://www.boyer-jones.com/', 'https://www.hayes.biz/', 'http://holder.info/', 'https://www.jones.com/', 'https://macdonald.com/', 'http://www.bailey.org/', 'http://wu.com/', 'https://moody.com/', 'https://moody.com/', 'http://johnson.net/', 'https://www.palmer-turner.com/', 'https://www.smith.com/', 'http://www.aguilar.org/', 'http://www.aguilar.org/', 'http://gonzalez.info/', 'http://jones-brown.info/', 'http://gordon-hall.biz/', 'https://www.beck-hall.com/', 'https://campbell.info/', 'https://campbell.info/', 'https://howell.biz/', 'https://www.pope.com/', 'https://www.pope.com/', 'http://www.munoz.com/', 'https://www.hamilton.com/', 'http://oconnor.com/', 'http://oconnor.com/', 'http://www.fritz-franklin.net/', 'http://www.fritz-franklin.net/', 'https://www.jones-jones.net/', 'https://www.lopez.com/', 'https://www.lopez.com/', 'https://hernandez.com/', 'https://campbell.com/', 'https://campbell.com/', 'http://nguyen.com/', 'http://jenkins.info/', 'http://torres.com/', 'https://tate.com/', 'https://www.leach.net/', 'http://baker.net/', 'https://chavez.com/', 'https://chavez.com/', 'https://www.velazquez.com/', 'https://www.andrews.com/', 'https://www.andrews.com/', 'http://castro.com/', 'http://castro.com/', 'https://shaw.info/', 'https://www.carter.com/', 'https://www.carter.com/', 'http://garrett.com/', 'http://garrett.com/', 'https://cox.com/', 'https://cox.com/', 'https://brady-palmer.com/', 'https://www.montgomery.com/', 'https://edwards-key.com/', 'http://garcia-terry.com/', 'https://www.martinez.com/', 'http://anderson.org/', 'http://anderson.org/', 'http://www.pearson.info/', 'http://www.pearson.info/', 'http://scott-smith.net/', 'http://scott-smith.net/', 'http://www.lambert.net/', 'http://hamilton-russell.com/', 'http://hamilton-russell.com/', 'https://www.davis.com/', 'http://www.davis.com/', 'http://www.davis.com/', 'http://martinez-reeves.com/', 'http://martinez-reeves.com/', 'https://morgan.org/', 'http://reed-mcbride.com/', 'https://yang-johnson.net/', 'https://yang-johnson.net/', 'https://wilson.com/', 'https://duran-monroe.com/', 'http://www.hall.com/', 'http://www.trevino.com/', 'http://higgins.net/', 'http://higgins.net/', 'http://morales-cardenas.info/', 'http://herrera.org/', 'http://scott-andersen.com/', 'https://www.obrien.com/', 'https://stewart.com/', 'https://www.dodson-brown.org/', 'http://barnes.com/', 'https://kelley.net/', 'https://kelley.net/', 'https://www.bass.com/', 'https://www.johnson.net/', 'https://www.johnson.net/', 'https://morris-smith.com/', 'http://prince.org/', 'https://le-underwood.com/', 'https://le-underwood.com/', 'http://salazar.com/', 'http://kerr-contreras.com/', 'http://www.ellis.info/', 'https://martinez.com/', 'https://www.hill.com/', 'http://www.salazar-brown.com/', 'http://www.nash.com/', 'https://www.estrada-sanchez.info/', 'http://smith.info/', 'http://smith.com/', 'https://phillips-rivera.org/', 'http://www.smith.com/', 'http://www.smith.com/', 'http://williams-taylor.com/', 'http://williams-taylor.com/', 'https://holden.com/', 'http://www.short.com/', 'http://manning.net/', 'https://www.sims-lee.org/', 'https://www.jones.com/', 'http://riley-armstrong.biz/', 'http://riley-armstrong.biz/', 'https://weaver.com/', 'https://weaver.com/', 'http://www.sullivan.com/', 'https://alvarez.com/', 'https://alvarez.com/', 'https://www.ward.net/', 'https://www.robinson-green.com/', 'https://hernandez.com/', 'https://hernandez.com/', 'https://rich.biz/', 'http://www.lewis.org/', 'http://www.avila.com/', 'http://www.avila.com/', 'http://carpenter-carter.biz/', 'http://www.smith-walker.com/', 'http://dillon.com/', 'http://dillon.com/', 'http://walker.com/', 'http://www.steele.com/', 'http://www.steele.com/', 'https://www.terry.com/', 'https://www.terry.com/', 'https://www.parker-ruiz.com/', 'https://www.wong.com/', 'http://www.barrera.com/', 'https://stout-mclaughlin.com/', 'http://www.scott.com/', 'http://www.scott.com/', 'https://fletcher.info/', 'https://fletcher.info/', 'http://houston.com/', 'http://houston.com/', 'http://davis.biz/', 'https://www.palmer.com/', 'https://ruiz.org/', 'http://fowler.com/', 'https://www.nixon.org/', 'https://vazquez-weaver.com/', 'https://brown.com/', 'https://www.ingram-underwood.net/', 'http://www.richard-jackson.com/', 'http://www.richard-jackson.com/', 'https://perez.com/', 'https://www.brown.com/', 'http://davis.org/', 'https://www.schaefer.com/', 'http://glover-joseph.info/', 'http://lyons.net/', 'https://www.cummings-hodges.com/', 'https://www.cummings-hodges.com/']\n"
     ]
    }
   ],
   "source": [
    "import xml.etree.ElementTree as ET\n",
    "from bs4 import BeautifulSoup\n",
    "\n",
    "tree = ET.parse('xml_containing_html.xml')\n",
    "root = tree.getroot()\n",
    "count = 0\n",
    "text = []\n",
    "for elem in root:\n",
    "    for subelem in elem:\n",
    "        t = subelem.text\n",
    "        soup = BeautifulSoup(t, \"html.parser\")\n",
    "        #print(type(soup))\n",
    "        for n in soup.find_all('a'):\n",
    "            count = count + 1 \n",
    "            text1 = n.get('href')    \n",
    "            text.append(text1)    \n",
    "print(\"number of links : \", count)\n",
    "print(text)\n",
    "     "
   ]
  },
  {
   "cell_type": "markdown",
   "id": "25bec121",
   "metadata": {},
   "source": [
    "### Failed Attempt\n",
    "from bs4 import BeautifulSoup\n",
    "\n",
    "with open(\"pets.xml\") as fp:\n",
    "    soup = BeautifulSoup(fp, \"xml\").prettify()\n",
    "    print(soup)\n",
    "    soup.find(\"a\")\n"
   ]
  },
  {
   "cell_type": "markdown",
   "id": "5d2eaaf1",
   "metadata": {},
   "source": [
    "## Tried using request and bs4\n",
    "import requests\n",
    "url = 'https://www.imdb.com/movies-in-theaters/'\n",
    "\n",
    "response = requests.get(url)\n",
    "soup = BeautifulSoup(response.text, 'lxml')\n",
    "print(type(soup))\n",
    "name1=[]\n",
    "for movie in soup.find_all('td', attrs={'class':'overview-top'}):\n",
    "    name=movie.find('h4').text\n",
    "    name1.append(name)\n",
    "name1\n",
    "    "
   ]
  },
  {
   "cell_type": "code",
   "execution_count": null,
   "id": "82684c31",
   "metadata": {},
   "outputs": [],
   "source": []
  }
 ],
 "metadata": {
  "kernelspec": {
   "display_name": "Python 3 (ipykernel)",
   "language": "python",
   "name": "python3"
  },
  "language_info": {
   "codemirror_mode": {
    "name": "ipython",
    "version": 3
   },
   "file_extension": ".py",
   "mimetype": "text/x-python",
   "name": "python",
   "nbconvert_exporter": "python",
   "pygments_lexer": "ipython3",
   "version": "3.9.6"
  }
 },
 "nbformat": 4,
 "nbformat_minor": 5
}
