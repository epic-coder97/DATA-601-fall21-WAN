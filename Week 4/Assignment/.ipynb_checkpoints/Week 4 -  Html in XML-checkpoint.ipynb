{
 "cells": [
  {
   "cell_type": "markdown",
   "id": "072bdd38",
   "metadata": {},
   "source": [
    "\n",
    "## week 4: HTML in XML\n",
    "Assignment Content\n",
    "\n",
    "I provide you with a compressed XML file. Some of the fields contain HTML. ​\n",
    "\n",
    "Extract the XML from the .zip file. In Python, use a module to parse the XML (do not write an XML parser)​\n",
    "Using Python, extract the HTML from the XML. Then use BeautifulSoup4 to parse the HTML \n",
    "For each HTML page, report the number of links (URLs with the tag < a href=\"URL\">text) in each HTML page \n",
    "Submit a single Jupyter notebook that parses the XML file and produces the count of links per HTML file.​\n",
    "Advanced students: if you complete the assignment above and are are seeking a challenge, use an alternative method (i.e., regular expressions or Python's find) to validate the count of HTML links per page reported by BeautifulSoup4 .​ ​\n",
    "\n",
    "When you are done with the assignment or have spent an hour on the homework (whichever comes first), please send me an email indicating which of these you have reached​ ​\n",
    "\n",
    "To: jhwan@umbc.edu​\n",
    "\n",
    "Subject: Data 601 Spring 2021 week 4: HTML in XML\n",
    "\n",
    "Examples of content: \"I have spent 1 hour on the homework\" or \"I am done with the assignment in 20 minutes.\"​\n",
    "\n",
    "If you've not completed the homework, please specify what your status is.​"
   ]
  }
 ],
 "metadata": {
  "kernelspec": {
   "display_name": "Python 3 (ipykernel)",
   "language": "python",
   "name": "python3"
  },
  "language_info": {
   "codemirror_mode": {
    "name": "ipython",
    "version": 3
   },
   "file_extension": ".py",
   "mimetype": "text/x-python",
   "name": "python",
   "nbconvert_exporter": "python",
   "pygments_lexer": "ipython3",
   "version": "3.9.6"
  }
 },
 "nbformat": 4,
 "nbformat_minor": 5
}
