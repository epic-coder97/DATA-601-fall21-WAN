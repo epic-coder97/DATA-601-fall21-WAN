{
 "cells": [
  {
   "cell_type": "markdown",
   "source": [
    "## week 4: HTML in XML\n",
    "Assignment Content\n",
    "\n",
    "I provide you with a compressed XML file. Some of the fields contain HTML. ​\n",
    "\n",
    "<li>Extract the XML from the .zip file. In Python, use a module to parse the XML (do not write an XML parser)​</li>\n",
    "<li>Using Python, extract the HTML from the XML. Then use BeautifulSoup4 to parse the HTML </li>\n",
    "<li>For each HTML page, report the number of links (URLs with the tag < a href=\"URL\">text) in each HTML page</li> \n",
    "<li>Submit a single Jupyter notebook that parses the XML file and produces the count of links per HTML file.​</li>\n",
    "Advanced students: if you complete the assignment above and are are seeking a challenge, use an alternative method (i.e., regular expressions or Python's find) to validate the count of HTML links per page reported by BeautifulSoup4 .​ ​\n",
    "\n",
    "When you are done with the assignment or have spent an hour on the homework (whichever comes first), please send me an email indicating which of these you have reached​ ​\n",
    "\n",
    "To: jhwan@umbc.edu​\n",
    "\n",
    "Subject: Data 601 Spring 2021 week 4: HTML in XML\n",
    "\n",
    "Examples of content: \"I have spent 1 hour on the homework\" or \"I am done with the assignment in 20 minutes.\"​\n",
    "\n",
    "If you've not completed the homework, please specify what your status is.​"
   ],
   "metadata": {}
  },
  {
   "cell_type": "code",
   "execution_count": 3,
   "source": [
    "import xml.etree.ElementTree as ET\r\n",
    "from bs4 import BeautifulSoup\r\n",
    "\r\n",
    "tree = ET.parse('xml_containing_html.xml')\r\n",
    "root = tree.getroot()\r\n",
    "count = 0\r\n",
    "text = []\r\n",
    "for elem in root:\r\n",
    "    for subelem in elem:\r\n",
    "        t = subelem.text\r\n",
    "        soup = BeautifulSoup(t, \"html.parser\")\r\n",
    "        #print(type(soup))\r\n",
    "        for n in soup.find_all('a'):\r\n",
    "            count = count + 1 \r\n",
    "            #text1 = n.get('href')    \r\n",
    "            #text.append(text1)    \r\n",
    "print(\"number of links : \", count)\r\n",
    "#print(text)\r\n",
    "     "
   ],
   "outputs": [
    {
     "output_type": "stream",
     "name": "stdout",
     "text": [
      "number of links :  502\n"
     ]
    }
   ],
   "metadata": {}
  },
  {
   "cell_type": "markdown",
   "source": [
    "### Failed Attempt\n",
    "from bs4 import BeautifulSoup\n",
    "\n",
    "with open(\"pets.xml\") as fp:\n",
    "    soup = BeautifulSoup(fp, \"xml\").prettify()\n",
    "    print(soup)\n",
    "    soup.find(\"a\")\n"
   ],
   "metadata": {}
  },
  {
   "cell_type": "markdown",
   "source": [
    "## Tried using request and bs4\n",
    "import requests\n",
    "url = 'https://www.imdb.com/movies-in-theaters/'\n",
    "\n",
    "response = requests.get(url)\n",
    "soup = BeautifulSoup(response.text, 'lxml')\n",
    "print(type(soup))\n",
    "name1=[]\n",
    "for movie in soup.find_all('td', attrs={'class':'overview-top'}):\n",
    "    name=movie.find('h4').text\n",
    "    name1.append(name)\n",
    "name1\n",
    "    "
   ],
   "metadata": {}
  },
  {
   "cell_type": "code",
   "execution_count": null,
   "source": [],
   "outputs": [],
   "metadata": {}
  }
 ],
 "metadata": {
  "kernelspec": {
   "name": "python3",
   "display_name": "Python 3.9.6 64-bit ('venv': venv)"
  },
  "language_info": {
   "codemirror_mode": {
    "name": "ipython",
    "version": 3
   },
   "file_extension": ".py",
   "mimetype": "text/x-python",
   "name": "python",
   "nbconvert_exporter": "python",
   "pygments_lexer": "ipython3",
   "version": "3.9.6"
  },
  "interpreter": {
   "hash": "7303fbb2a77d827d74344a57e1cc258b09dbfc8a36a58196b859c19e7354a497"
  }
 },
 "nbformat": 4,
 "nbformat_minor": 5
}