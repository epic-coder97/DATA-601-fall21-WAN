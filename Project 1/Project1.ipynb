{
 "cells": [
  {
   "cell_type": "markdown",
   "metadata": {},
   "source": [
    "import csv\n",
    "\n",
    "file = open('Spotify.csv')\n",
    "csvreader = csv.reader(file)\n",
    "header = []\n",
    "header = next(csvreader)\n",
    "header"
   ]
  },
  {
   "cell_type": "code",
   "execution_count": 20,
   "metadata": {},
   "outputs": [
    {
     "data": {
      "text/plain": [
       "Index(['Rank', 'Track', 'Artist', 'Streams', 'Link', 'Week', 'Album_Name',\n",
       "       'Duration_MS', 'Explicit', 'Track_Number_on_Album', 'Artist_Followers',\n",
       "       'Artist_Genres'],\n",
       "      dtype='object')"
      ]
     },
     "execution_count": 20,
     "metadata": {},
     "output_type": "execute_result"
    }
   ],
   "source": [
    "import pandas as pd\n",
    "data= pd.read_csv(\"Spotify.csv\")\n",
    "\n",
    "data.columns\n"
   ]
  },
  {
   "cell_type": "code",
   "execution_count": 171,
   "metadata": {},
   "outputs": [
    {
     "data": {
      "text/plain": [
       "(44195, 14)"
      ]
     },
     "execution_count": 171,
     "metadata": {},
     "output_type": "execute_result"
    }
   ],
   "source": [
    "data.shape"
   ]
  },
  {
   "cell_type": "code",
   "execution_count": 3,
   "metadata": {},
   "outputs": [
    {
     "data": {
      "text/plain": [
       "0        ['canadian contemporary r&b', 'canadian pop', ...\n",
       "1        ['dance pop', 'edm', 'electropop', 'pop', 'pop...\n",
       "2        ['dance pop', 'edm', 'pop', 'pop dance', 'post...\n",
       "3        ['dance pop', 'edm', 'electronic trap', 'pop',...\n",
       "4          ['dance pop', 'pop', 'post-teen pop', 'uk pop']\n",
       "                               ...                        \n",
       "44195    ['dance pop', 'pop', 'pop rap', 'seattle hip h...\n",
       "44196    ['argentine hip hop', 'trap argentino', 'trap ...\n",
       "44197                                    ['pop', 'uk pop']\n",
       "44198    ['alternative rock', 'grunge', 'permanent wave...\n",
       "44199                         ['emo rap', 'miami hip hop']\n",
       "Name: Artist_Genres, Length: 44200, dtype: object"
      ]
     },
     "execution_count": 3,
     "metadata": {},
     "output_type": "execute_result"
    }
   ],
   "source": [
    "data.Artist_Genres"
   ]
  },
  {
   "cell_type": "code",
   "execution_count": 138,
   "metadata": {},
   "outputs": [
    {
     "data": {
      "text/plain": [
       "Rank                     0\n",
       "Track                    0\n",
       "Artist                   0\n",
       "Streams                  0\n",
       "Link                     0\n",
       "Week                     0\n",
       "Album_Name               0\n",
       "Duration_MS              0\n",
       "year                     0\n",
       "month                    0\n",
       "Explicit                 0\n",
       "Track_Number_on_Album    0\n",
       "Artist_Followers         0\n",
       "Artist_Genres            0\n",
       "dtype: int64"
      ]
     },
     "execution_count": 138,
     "metadata": {},
     "output_type": "execute_result"
    }
   ],
   "source": [
    "#isna() function is used to detect missing values\n",
    "#isna(). sum() returns the number of missing values in each column.\n",
    "\n",
    "data.isna().sum()\n"
   ]
  },
  {
   "cell_type": "code",
   "execution_count": 136,
   "metadata": {},
   "outputs": [],
   "source": [
    "data.dropna(how='any', inplace=True)\n"
   ]
  },
  {
   "cell_type": "markdown",
   "metadata": {},
   "source": [
    "import matplotlib.pyplot as plt\n",
    "\n",
    "df_genre = data['Streams'].value_counts() / len(data)\n",
    "sizes = df_genre.values.tolist()\n",
    "labels = df_genre.index.values.tolist()\n",
    "\n",
    "# Pie chart for genre\n",
    "fig1, ax1 = plt.subplots(figsize=(100,10))\n",
    "ax1.pie(sizes, labels=labels, autopct='%1.1f%%', shadow=False, textprops={'fontsize': 14})\n",
    "ax1.axis('equal')\n",
    "plt.show()"
   ]
  },
  {
   "cell_type": "code",
   "execution_count": 23,
   "metadata": {},
   "outputs": [
    {
     "data": {
      "text/plain": [
       "Rank                       200\n",
       "Track                     3511\n",
       "Artist                     822\n",
       "Streams                  44099\n",
       "Link                      4242\n",
       "Week                       221\n",
       "Album_Name                2434\n",
       "Duration_MS               3601\n",
       "Explicit                     2\n",
       "Track_Number_on_Album       33\n",
       "Artist_Followers           823\n",
       "Artist_Genres              661\n",
       "dtype: int64"
      ]
     },
     "execution_count": 23,
     "metadata": {},
     "output_type": "execute_result"
    }
   ],
   "source": [
    "n = data.nunique(axis=0)\n",
    "n"
   ]
  },
  {
   "cell_type": "code",
   "execution_count": 155,
   "metadata": {},
   "outputs": [
    {
     "name": "stdout",
     "output_type": "stream",
     "text": [
      "41800    Olivia Rodrigo\n",
      "21000     Ariana Grande\n",
      "15600             Drake\n",
      "1800         Ed Sheeran\n",
      "41000      Mariah Carey\n",
      "Name: Artist, dtype: object\n",
      "   index          Artist                            Track  year   Streams\n",
      "0  41800  Olivia Rodrigo                  drivers license  2021  80764045\n",
      "1  41000    Mariah Carey  All I Want for Christmas Is You  2020  53401383\n",
      "2  21000   Ariana Grande                          7 rings  2019  71467874\n",
      "3  15600           Drake                   In My Feelings  2018  67499798\n",
      "4   1800      Ed Sheeran                     Shape of You  2017  64275251\n"
     ]
    }
   ],
   "source": [
    "top_artists =[]\n",
    "top_song_for_each_year = data.sort_values(by=(['Streams']), ascending=False).groupby('year').head(1)\n",
    "top_sngs= top_song_for_each_year.sort_values('year',ascending=False)\n",
    "top_artists = top_song_for_each_year.Artist\n",
    "print(top_artists)\n",
    "print(top_sngs[['Artist','Track','year','Streams']].reset_index())"
   ]
  },
  {
   "cell_type": "code",
   "execution_count": 25,
   "metadata": {},
   "outputs": [
    {
     "name": "stdout",
     "output_type": "stream",
     "text": [
      "<class 'pandas.core.frame.DataFrame'>\n",
      "Int64Index: 44195 entries, 0 to 44199\n",
      "Data columns (total 12 columns):\n",
      " #   Column                 Non-Null Count  Dtype \n",
      "---  ------                 --------------  ----- \n",
      " 0   Rank                   44195 non-null  int64 \n",
      " 1   Track                  44195 non-null  object\n",
      " 2   Artist                 44195 non-null  object\n",
      " 3   Streams                44195 non-null  int64 \n",
      " 4   Link                   44195 non-null  object\n",
      " 5   Week                   44195 non-null  object\n",
      " 6   Album_Name             44195 non-null  object\n",
      " 7   Duration_MS            44195 non-null  int64 \n",
      " 8   Explicit               44195 non-null  bool  \n",
      " 9   Track_Number_on_Album  44195 non-null  int64 \n",
      " 10  Artist_Followers       44195 non-null  int64 \n",
      " 11  Artist_Genres          44195 non-null  object\n",
      "dtypes: bool(1), int64(5), object(6)\n",
      "memory usage: 4.1+ MB\n"
     ]
    }
   ],
   "source": [
    "data.info()\n",
    "#data['Week'] = pd.to_datetime(data['Week'], format='%Y-%m-%d')\n",
    "\n",
    "#year = data['Week'].apply(lambda x : x.year)\n"
   ]
  },
  {
   "cell_type": "code",
   "execution_count": 26,
   "metadata": {},
   "outputs": [
    {
     "data": {
      "text/plain": [
       "['pop', 'uk pop']                                                          1576\n",
       "['pop', 'post-teen pop']                                                   1463\n",
       "['dance pop', 'pop', 'post-teen pop']                                      1389\n",
       "['dfw rap', 'melodic rap', 'rap']                                          1296\n",
       "['emo rap', 'miami hip hop']                                                948\n",
       "                                                                           ... \n",
       "['indie cafe pop']                                                            1\n",
       "['disco', 'funk', 'post-disco', 'quiet storm']                                1\n",
       "['escape room']                                                               1\n",
       "['modern folk rock', 'modern rock', 'stomp and holler', 'uk americana']       1\n",
       "['pop']                                                                       1\n",
       "Name: Artist_Genres, Length: 661, dtype: int64"
      ]
     },
     "execution_count": 26,
     "metadata": {},
     "output_type": "execute_result"
    }
   ],
   "source": [
    "genre_count= data.Artist_Genres.value_counts()\n",
    "genre_count"
   ]
  },
  {
   "cell_type": "code",
   "execution_count": 27,
   "metadata": {},
   "outputs": [],
   "source": [
    "data['Week'] = pd.to_datetime(data['Week'], format='%d-%m-%Y')\n",
    "year = data['Week'].apply(lambda x : x.year)\n",
    "month = data['Week'].apply(lambda x : x.month)\n",
    "data.insert(loc=8, column='year', value=year) \n",
    "data.insert(loc=9, column='month', value=month)"
   ]
  },
  {
   "cell_type": "code",
   "execution_count": 28,
   "metadata": {},
   "outputs": [
    {
     "name": "stdout",
     "output_type": "stream",
     "text": [
      "<class 'pandas.core.frame.DataFrame'>\n",
      "Int64Index: 44195 entries, 0 to 44199\n",
      "Data columns (total 14 columns):\n",
      " #   Column                 Non-Null Count  Dtype         \n",
      "---  ------                 --------------  -----         \n",
      " 0   Rank                   44195 non-null  int64         \n",
      " 1   Track                  44195 non-null  object        \n",
      " 2   Artist                 44195 non-null  object        \n",
      " 3   Streams                44195 non-null  int64         \n",
      " 4   Link                   44195 non-null  object        \n",
      " 5   Week                   44195 non-null  datetime64[ns]\n",
      " 6   Album_Name             44195 non-null  object        \n",
      " 7   Duration_MS            44195 non-null  int64         \n",
      " 8   year                   44195 non-null  int64         \n",
      " 9   month                  44195 non-null  int64         \n",
      " 10  Explicit               44195 non-null  bool          \n",
      " 11  Track_Number_on_Album  44195 non-null  int64         \n",
      " 12  Artist_Followers       44195 non-null  int64         \n",
      " 13  Artist_Genres          44195 non-null  object        \n",
      "dtypes: bool(1), datetime64[ns](1), int64(7), object(5)\n",
      "memory usage: 4.8+ MB\n"
     ]
    }
   ],
   "source": [
    "# checking new col month and year\n",
    "data.info()"
   ]
  },
  {
   "cell_type": "code",
   "execution_count": null,
   "metadata": {},
   "outputs": [
    {
     "data": {
      "text/html": [
       "<div>\n",
       "<style scoped>\n",
       "    .dataframe tbody tr th:only-of-type {\n",
       "        vertical-align: middle;\n",
       "    }\n",
       "\n",
       "    .dataframe tbody tr th {\n",
       "        vertical-align: top;\n",
       "    }\n",
       "\n",
       "    .dataframe thead th {\n",
       "        text-align: right;\n",
       "    }\n",
       "</style>\n",
       "<table border=\"1\" class=\"dataframe\">\n",
       "  <thead>\n",
       "    <tr style=\"text-align: right;\">\n",
       "      <th></th>\n",
       "      <th>song_count</th>\n",
       "      <th>year</th>\n",
       "      <th>Streams</th>\n",
       "    </tr>\n",
       "  </thead>\n",
       "  <tbody>\n",
       "  </tbody>\n",
       "</table>\n",
       "</div>"
      ],
      "text/plain": [
       "Empty DataFrame\n",
       "Columns: [song_count, year, Streams]\n",
       "Index: []"
      ]
     },
     "execution_count": 129,
     "metadata": {},
     "output_type": "execute_result"
    }
   ],
   "source": [
    "artist_list = data.Artist.value_counts()[:7]\n",
    "df_artists = data[data.Artist.isin(artist_list)][['Artist','year',\n",
    "                                                        'Streams']].groupby(['Artist','year']).count().reset_index()\n",
    "df_artists.rename(columns={'Artist':'song_count'}, inplace=True)\n",
    "df_artists.head()"
   ]
  },
  {
   "cell_type": "code",
   "execution_count": 130,
   "metadata": {},
   "outputs": [
    {
     "data": {
      "text/plain": [
       "<BarContainer object of 11 artists>"
      ]
     },
     "execution_count": 130,
     "metadata": {},
     "output_type": "execute_result"
    },
    {
     "data": {
      "image/png": "[encoded data removed]",
      "text/plain": [
       "<Figure size 1440x720 with 1 Axes>"
      ]
     },
     "metadata": {
      "needs_background": "light"
     },
     "output_type": "display_data"
    }
   ],
   "source": [
    "import matplotlib.pyplot as plt\n",
    "top10 = data.head(11)\n",
    "type(top10)\n",
    "x = top10.Artist\n",
    "y= top10.Streams\n",
    "top10\n",
    "plt.figure(figsize=(20,10))\n",
    "plt.xlabel('Artist')\n",
    "plt.ylabel('Streams')\n",
    "\n",
    "plt.bar(x, y)\n"
   ]
  },
  {
   "cell_type": "code",
   "execution_count": 132,
   "metadata": {},
   "outputs": [
    {
     "data": {
      "text/plain": [
       "<BarContainer object of 11 artists>"
      ]
     },
     "execution_count": 132,
     "metadata": {},
     "output_type": "execute_result"
    },
    {
     "data": {
      "image/png": "[encoded data removed]",
      "text/plain": [
       "<Figure size 1440x720 with 1 Axes>"
      ]
     },
     "metadata": {
      "needs_background": "light"
     },
     "output_type": "display_data"
    }
   ],
   "source": [
    "top10_followed = data.head(11)\n",
    "x = top10_followed.Artist\n",
    "y= top10_followed.Artist_Followers\n",
    "\n",
    "plt.figure(figsize=(20,10))\n",
    "plt.xlabel('Artist')\n",
    "plt.ylabel('Artist_Followers')\n",
    "plt.bar(x, y)\n"
   ]
  },
  {
   "cell_type": "code",
   "execution_count": 46,
   "metadata": {},
   "outputs": [
    {
     "data": {
      "text/html": [
       "<div>\n",
       "<style scoped>\n",
       "    .dataframe tbody tr th:only-of-type {\n",
       "        vertical-align: middle;\n",
       "    }\n",
       "\n",
       "    .dataframe tbody tr th {\n",
       "        vertical-align: top;\n",
       "    }\n",
       "\n",
       "    .dataframe thead th {\n",
       "        text-align: right;\n",
       "    }\n",
       "</style>\n",
       "<table border=\"1\" class=\"dataframe\">\n",
       "  <thead>\n",
       "    <tr style=\"text-align: right;\">\n",
       "      <th></th>\n",
       "      <th>Rank</th>\n",
       "      <th>Track</th>\n",
       "      <th>Artist</th>\n",
       "      <th>Streams</th>\n",
       "      <th>Link</th>\n",
       "      <th>Week</th>\n",
       "      <th>Album_Name</th>\n",
       "      <th>Duration_MS</th>\n",
       "      <th>year</th>\n",
       "      <th>month</th>\n",
       "      <th>Explicit</th>\n",
       "      <th>Track_Number_on_Album</th>\n",
       "      <th>Artist_Followers</th>\n",
       "      <th>Artist_Genres</th>\n",
       "    </tr>\n",
       "  </thead>\n",
       "  <tbody>\n",
       "    <tr>\n",
       "      <th>0</th>\n",
       "      <td>1</td>\n",
       "      <td>Starboy</td>\n",
       "      <td>The Weeknd</td>\n",
       "      <td>25734078</td>\n",
       "      <td>https://open.spotify.com/track/5aAx2yezTd8zXrk...</td>\n",
       "      <td>2017-01-06</td>\n",
       "      <td>Starboy</td>\n",
       "      <td>230453</td>\n",
       "      <td>2017</td>\n",
       "      <td>1</td>\n",
       "      <td>True</td>\n",
       "      <td>1</td>\n",
       "      <td>31348348</td>\n",
       "      <td>['canadian contemporary r&amp;b', 'canadian pop', ...</td>\n",
       "    </tr>\n",
       "    <tr>\n",
       "      <th>1</th>\n",
       "      <td>2</td>\n",
       "      <td>Closer</td>\n",
       "      <td>The Chainsmokers</td>\n",
       "      <td>23519705</td>\n",
       "      <td>https://open.spotify.com/track/7BKLCZ1jbUBVqRi...</td>\n",
       "      <td>2017-01-06</td>\n",
       "      <td>Closer</td>\n",
       "      <td>244960</td>\n",
       "      <td>2017</td>\n",
       "      <td>1</td>\n",
       "      <td>False</td>\n",
       "      <td>1</td>\n",
       "      <td>17742887</td>\n",
       "      <td>['dance pop', 'edm', 'electropop', 'pop', 'pop...</td>\n",
       "    </tr>\n",
       "    <tr>\n",
       "      <th>2</th>\n",
       "      <td>3</td>\n",
       "      <td>Rockabye (feat. Sean Paul &amp; Anne-Marie)</td>\n",
       "      <td>Clean Bandit</td>\n",
       "      <td>21216399</td>\n",
       "      <td>https://open.spotify.com/track/5knuzwU65gJK7IF...</td>\n",
       "      <td>2017-01-06</td>\n",
       "      <td>Rockabye (feat. Sean Paul &amp; Anne-Marie)</td>\n",
       "      <td>251088</td>\n",
       "      <td>2017</td>\n",
       "      <td>1</td>\n",
       "      <td>False</td>\n",
       "      <td>1</td>\n",
       "      <td>4296325</td>\n",
       "      <td>['dance pop', 'edm', 'pop', 'pop dance', 'post...</td>\n",
       "    </tr>\n",
       "    <tr>\n",
       "      <th>3</th>\n",
       "      <td>4</td>\n",
       "      <td>Let Me Love You</td>\n",
       "      <td>DJ Snake</td>\n",
       "      <td>19852704</td>\n",
       "      <td>https://open.spotify.com/track/4pdPtRcBmOSQDlJ...</td>\n",
       "      <td>2017-01-06</td>\n",
       "      <td>Encore</td>\n",
       "      <td>205946</td>\n",
       "      <td>2017</td>\n",
       "      <td>1</td>\n",
       "      <td>False</td>\n",
       "      <td>13</td>\n",
       "      <td>7312319</td>\n",
       "      <td>['dance pop', 'edm', 'electronic trap', 'pop',...</td>\n",
       "    </tr>\n",
       "    <tr>\n",
       "      <th>4</th>\n",
       "      <td>5</td>\n",
       "      <td>I Don’t Wanna Live Forever (Fifty Shades Darke...</td>\n",
       "      <td>ZAYN</td>\n",
       "      <td>18316326</td>\n",
       "      <td>https://open.spotify.com/track/3NdDpSvN911VPGi...</td>\n",
       "      <td>2017-01-06</td>\n",
       "      <td>I Don’t Wanna Live Forever (Fifty Shades Darker)</td>\n",
       "      <td>245200</td>\n",
       "      <td>2017</td>\n",
       "      <td>1</td>\n",
       "      <td>False</td>\n",
       "      <td>1</td>\n",
       "      <td>15423979</td>\n",
       "      <td>['dance pop', 'pop', 'post-teen pop', 'uk pop']</td>\n",
       "    </tr>\n",
       "    <tr>\n",
       "      <th>5</th>\n",
       "      <td>6</td>\n",
       "      <td>Don't Wanna Know</td>\n",
       "      <td>Maroon 5</td>\n",
       "      <td>18064374</td>\n",
       "      <td>https://open.spotify.com/track/5MFzQMkrl1FOOng...</td>\n",
       "      <td>2017-01-06</td>\n",
       "      <td>Don't Wanna Know</td>\n",
       "      <td>214480</td>\n",
       "      <td>2017</td>\n",
       "      <td>1</td>\n",
       "      <td>False</td>\n",
       "      <td>1</td>\n",
       "      <td>30323494</td>\n",
       "      <td>['pop', 'pop rock']</td>\n",
       "    </tr>\n",
       "    <tr>\n",
       "      <th>6</th>\n",
       "      <td>7</td>\n",
       "      <td>Fake Love</td>\n",
       "      <td>Drake</td>\n",
       "      <td>17037036</td>\n",
       "      <td>https://open.spotify.com/track/343YBumqHu19cGo...</td>\n",
       "      <td>2017-01-06</td>\n",
       "      <td>More Life</td>\n",
       "      <td>210937</td>\n",
       "      <td>2017</td>\n",
       "      <td>1</td>\n",
       "      <td>True</td>\n",
       "      <td>20</td>\n",
       "      <td>54405324</td>\n",
       "      <td>['canadian hip hop', 'canadian pop', 'hip hop'...</td>\n",
       "    </tr>\n",
       "    <tr>\n",
       "      <th>7</th>\n",
       "      <td>8</td>\n",
       "      <td>Say You Won't Let Go</td>\n",
       "      <td>James Arthur</td>\n",
       "      <td>16950854</td>\n",
       "      <td>https://open.spotify.com/track/5uCax9HTNlzGybI...</td>\n",
       "      <td>2017-01-06</td>\n",
       "      <td>Back from the Edge</td>\n",
       "      <td>211466</td>\n",
       "      <td>2017</td>\n",
       "      <td>1</td>\n",
       "      <td>False</td>\n",
       "      <td>2</td>\n",
       "      <td>7893527</td>\n",
       "      <td>['pop', 'post-teen pop', 'talent show', 'uk pop']</td>\n",
       "    </tr>\n",
       "    <tr>\n",
       "      <th>8</th>\n",
       "      <td>9</td>\n",
       "      <td>24K Magic</td>\n",
       "      <td>Bruno Mars</td>\n",
       "      <td>16736035</td>\n",
       "      <td>https://open.spotify.com/track/6b8Be6ljOzmkOmF...</td>\n",
       "      <td>2017-01-06</td>\n",
       "      <td>24K Magic</td>\n",
       "      <td>225983</td>\n",
       "      <td>2017</td>\n",
       "      <td>1</td>\n",
       "      <td>False</td>\n",
       "      <td>1</td>\n",
       "      <td>29942000</td>\n",
       "      <td>['dance pop', 'pop', 'post-teen pop']</td>\n",
       "    </tr>\n",
       "    <tr>\n",
       "      <th>9</th>\n",
       "      <td>10</td>\n",
       "      <td>I Feel It Coming</td>\n",
       "      <td>The Weeknd</td>\n",
       "      <td>16609685</td>\n",
       "      <td>https://open.spotify.com/track/5GXAXm5YOmYT0kL...</td>\n",
       "      <td>2017-01-06</td>\n",
       "      <td>Starboy</td>\n",
       "      <td>269186</td>\n",
       "      <td>2017</td>\n",
       "      <td>1</td>\n",
       "      <td>False</td>\n",
       "      <td>18</td>\n",
       "      <td>31348348</td>\n",
       "      <td>['canadian contemporary r&amp;b', 'canadian pop', ...</td>\n",
       "    </tr>\n",
       "    <tr>\n",
       "      <th>10</th>\n",
       "      <td>11</td>\n",
       "      <td>Black Beatles</td>\n",
       "      <td>Rae Sremmurd</td>\n",
       "      <td>16130702</td>\n",
       "      <td>https://open.spotify.com/track/6fujklziTHa8uoM...</td>\n",
       "      <td>2017-01-06</td>\n",
       "      <td>SremmLife 2 (Deluxe)</td>\n",
       "      <td>291893</td>\n",
       "      <td>2017</td>\n",
       "      <td>1</td>\n",
       "      <td>True</td>\n",
       "      <td>5</td>\n",
       "      <td>6359203</td>\n",
       "      <td>['hip hop', 'melodic rap', 'mississippi hip ho...</td>\n",
       "    </tr>\n",
       "  </tbody>\n",
       "</table>\n",
       "</div>"
      ],
      "text/plain": [
       "    Rank                                              Track            Artist  \\\n",
       "0      1                                            Starboy        The Weeknd   \n",
       "1      2                                             Closer  The Chainsmokers   \n",
       "2      3            Rockabye (feat. Sean Paul & Anne-Marie)      Clean Bandit   \n",
       "3      4                                    Let Me Love You          DJ Snake   \n",
       "4      5  I Don’t Wanna Live Forever (Fifty Shades Darke...              ZAYN   \n",
       "5      6                                   Don't Wanna Know          Maroon 5   \n",
       "6      7                                          Fake Love             Drake   \n",
       "7      8                               Say You Won't Let Go      James Arthur   \n",
       "8      9                                          24K Magic        Bruno Mars   \n",
       "9     10                                   I Feel It Coming        The Weeknd   \n",
       "10    11                                      Black Beatles      Rae Sremmurd   \n",
       "\n",
       "     Streams                                               Link       Week  \\\n",
       "0   25734078  https://open.spotify.com/track/5aAx2yezTd8zXrk... 2017-01-06   \n",
       "1   23519705  https://open.spotify.com/track/7BKLCZ1jbUBVqRi... 2017-01-06   \n",
       "2   21216399  https://open.spotify.com/track/5knuzwU65gJK7IF... 2017-01-06   \n",
       "3   19852704  https://open.spotify.com/track/4pdPtRcBmOSQDlJ... 2017-01-06   \n",
       "4   18316326  https://open.spotify.com/track/3NdDpSvN911VPGi... 2017-01-06   \n",
       "5   18064374  https://open.spotify.com/track/5MFzQMkrl1FOOng... 2017-01-06   \n",
       "6   17037036  https://open.spotify.com/track/343YBumqHu19cGo... 2017-01-06   \n",
       "7   16950854  https://open.spotify.com/track/5uCax9HTNlzGybI... 2017-01-06   \n",
       "8   16736035  https://open.spotify.com/track/6b8Be6ljOzmkOmF... 2017-01-06   \n",
       "9   16609685  https://open.spotify.com/track/5GXAXm5YOmYT0kL... 2017-01-06   \n",
       "10  16130702  https://open.spotify.com/track/6fujklziTHa8uoM... 2017-01-06   \n",
       "\n",
       "                                          Album_Name  Duration_MS  year  \\\n",
       "0                                            Starboy       230453  2017   \n",
       "1                                             Closer       244960  2017   \n",
       "2            Rockabye (feat. Sean Paul & Anne-Marie)       251088  2017   \n",
       "3                                             Encore       205946  2017   \n",
       "4   I Don’t Wanna Live Forever (Fifty Shades Darker)       245200  2017   \n",
       "5                                   Don't Wanna Know       214480  2017   \n",
       "6                                          More Life       210937  2017   \n",
       "7                                 Back from the Edge       211466  2017   \n",
       "8                                          24K Magic       225983  2017   \n",
       "9                                            Starboy       269186  2017   \n",
       "10                              SremmLife 2 (Deluxe)       291893  2017   \n",
       "\n",
       "    month  Explicit  Track_Number_on_Album  Artist_Followers  \\\n",
       "0       1      True                      1          31348348   \n",
       "1       1     False                      1          17742887   \n",
       "2       1     False                      1           4296325   \n",
       "3       1     False                     13           7312319   \n",
       "4       1     False                      1          15423979   \n",
       "5       1     False                      1          30323494   \n",
       "6       1      True                     20          54405324   \n",
       "7       1     False                      2           7893527   \n",
       "8       1     False                      1          29942000   \n",
       "9       1     False                     18          31348348   \n",
       "10      1      True                      5           6359203   \n",
       "\n",
       "                                        Artist_Genres  \n",
       "0   ['canadian contemporary r&b', 'canadian pop', ...  \n",
       "1   ['dance pop', 'edm', 'electropop', 'pop', 'pop...  \n",
       "2   ['dance pop', 'edm', 'pop', 'pop dance', 'post...  \n",
       "3   ['dance pop', 'edm', 'electronic trap', 'pop',...  \n",
       "4     ['dance pop', 'pop', 'post-teen pop', 'uk pop']  \n",
       "5                                 ['pop', 'pop rock']  \n",
       "6   ['canadian hip hop', 'canadian pop', 'hip hop'...  \n",
       "7   ['pop', 'post-teen pop', 'talent show', 'uk pop']  \n",
       "8               ['dance pop', 'pop', 'post-teen pop']  \n",
       "9   ['canadian contemporary r&b', 'canadian pop', ...  \n",
       "10  ['hip hop', 'melodic rap', 'mississippi hip ho...  "
      ]
     },
     "execution_count": 46,
     "metadata": {},
     "output_type": "execute_result"
    }
   ],
   "source": [
    "top10"
   ]
  },
  {
   "cell_type": "markdown",
   "metadata": {},
   "source": [
    "## top 5 streams of per year"
   ]
  },
  {
   "cell_type": "code",
   "execution_count": 204,
   "metadata": {},
   "outputs": [
    {
     "name": "stdout",
     "output_type": "stream",
     "text": [
      "   index            Track   Streams       Week\n",
      "0  41800  drivers license  80764045 2021-01-22\n",
      "1  21000          7 rings  71467874 2019-01-25\n",
      "2  15600   In My Feelings  67499798 2018-07-20\n",
      "3  25800         Señorita  67237638 2019-07-12\n",
      "4  25600         Señorita  66933317 2019-07-05\n"
     ]
    }
   ],
   "source": [
    "#top5 = data.sort_values(by='Streams', ascending=False)\n",
    "top5_by_year = data.groupby([\"year\"])\n",
    "top5_of_2017 = data.sort_values(by=['Streams','year','Artist'],ascending=False).head(5)\n",
    "print(top5_of_2017[['Track', 'Streams','Week']].reset_index())"
   ]
  },
  {
   "cell_type": "markdown",
   "metadata": {},
   "source": [
    "## top 5 streams of 2017"
   ]
  },
  {
   "cell_type": "code",
   "execution_count": 206,
   "metadata": {},
   "outputs": [
    {
     "name": "stdout",
     "output_type": "stream",
     "text": [
      "   index              Track   Streams       Week\n",
      "0   1800       Shape of You  64275251 2017-03-10\n",
      "1   2000       Shape of You  57006531 2017-03-17\n",
      "2   4000  Despacito - Remix  54848635 2017-05-26\n",
      "3   1200       Shape of You  53604545 2017-02-17\n",
      "4   1000       Shape of You  53551099 2017-02-10\n"
     ]
    }
   ],
   "source": [
    "top5_of_2017 = top5_by_year.get_group(2017).sort_values('Streams',ascending=False).head(5)\n",
    "print(top5_of_2017[['Track', 'Streams','Week']].reset_index())"
   ]
  },
  {
   "cell_type": "markdown",
   "metadata": {},
   "source": [
    "## Top 5 Streams of 2018"
   ]
  },
  {
   "cell_type": "code",
   "execution_count": 203,
   "metadata": {},
   "outputs": [
    {
     "name": "stdout",
     "output_type": "stream",
     "text": [
      "   index           Track   Streams       Week\n",
      "0  15600  In My Feelings  67499798 2018-07-20\n",
      "1  15800  In My Feelings  65825491 2018-07-27\n",
      "2  16000  In My Feelings  60285459 2018-08-03\n",
      "3  19000   thank u, next  59975503 2018-11-16\n",
      "4  11600      God's Plan  54891573 2018-03-02\n"
     ]
    }
   ],
   "source": [
    "\n",
    "top5_of_2018 = top5_by_year.get_group(2018).sort_values('Streams',ascending=False).head(5)\n",
    "print(top5_of_2018[['Track', 'Streams','Week']].reset_index())"
   ]
  },
  {
   "cell_type": "markdown",
   "metadata": {},
   "source": [
    "## Top 5 Streams of 2019 (Weekwise)"
   ]
  },
  {
   "cell_type": "code",
   "execution_count": 213,
   "metadata": {},
   "outputs": [
    {
     "name": "stdout",
     "output_type": "stream",
     "text": [
      "   index     Track   Streams       Week\n",
      "0  21000   7 rings  71467874 2019-01-25\n",
      "1  25800  Señorita  67237638 2019-07-12\n",
      "2  25600  Señorita  66933317 2019-07-05\n",
      "3  26000  Señorita  64942021 2019-07-19\n",
      "4  21600   7 rings  63197614 2019-02-15\n"
     ]
    }
   ],
   "source": [
    "top5_of_2019 = top5_by_year.get_group(2019).sort_values('Streams',ascending=False).head(5)\n",
    "print(top5_of_2019[['Track', 'Streams','Week']].reset_index())"
   ]
  },
  {
   "cell_type": "markdown",
   "metadata": {},
   "source": [
    "## Top 5 Streams of 2020"
   ]
  },
  {
   "cell_type": "code",
   "execution_count": 201,
   "metadata": {},
   "outputs": [
    {
     "name": "stdout",
     "output_type": "stream",
     "text": [
      "   index                            Track   Streams       Week\n",
      "0  41000  All I Want for Christmas Is You  53401383 2020-12-25\n",
      "1  40400                           DÁKITI  53344093 2020-12-04\n",
      "2  39800                           DÁKITI  53029262 2020-11-13\n",
      "3  33200                  Blinding Lights  52375259 2020-03-27\n",
      "4  31200                     Dance Monkey  52055226 2020-01-17\n"
     ]
    }
   ],
   "source": [
    "top5_of_2020 = top5_by_year.get_group(2020).sort_values('Streams',ascending=False).head(5)\n",
    "print(top5_of_2020[['Track', 'Streams','Week']].reset_index())"
   ]
  },
  {
   "cell_type": "markdown",
   "metadata": {},
   "source": [
    "## Top 5 streams of 2021"
   ]
  },
  {
   "cell_type": "code",
   "execution_count": 200,
   "metadata": {},
   "outputs": [
    {
     "name": "stdout",
     "output_type": "stream",
     "text": [
      "   index                           Track   Streams       Week\n",
      "0  41800                 drivers license  80764045 2021-01-22\n",
      "1  41600                 drivers license  65873080 2021-01-15\n",
      "2  42000                 drivers license  64681075 2021-01-29\n",
      "3  44000  MONTERO (Call Me By Your Name)  55582612 2021-04-16\n",
      "4  42200                 drivers license  54166615 2021-02-05\n"
     ]
    }
   ],
   "source": [
    "top5_of_2021 = top5_by_year.get_group(2021).sort_values('Streams',ascending=False).head(5)\n",
    "print(top5_of_2021[['Track', 'Streams','Week']].reset_index())"
   ]
  },
  {
   "cell_type": "code",
   "execution_count": 160,
   "metadata": {},
   "outputs": [
    {
     "data": {
      "text/html": [
       "<div>\n",
       "<style scoped>\n",
       "    .dataframe tbody tr th:only-of-type {\n",
       "        vertical-align: middle;\n",
       "    }\n",
       "\n",
       "    .dataframe tbody tr th {\n",
       "        vertical-align: top;\n",
       "    }\n",
       "\n",
       "    .dataframe thead th {\n",
       "        text-align: right;\n",
       "    }\n",
       "</style>\n",
       "<table border=\"1\" class=\"dataframe\">\n",
       "  <thead>\n",
       "    <tr style=\"text-align: right;\">\n",
       "      <th></th>\n",
       "      <th>Rank</th>\n",
       "      <th>Track</th>\n",
       "      <th>Artist</th>\n",
       "      <th>Streams</th>\n",
       "      <th>Link</th>\n",
       "      <th>Week</th>\n",
       "      <th>Album_Name</th>\n",
       "      <th>Duration_MS</th>\n",
       "      <th>year</th>\n",
       "      <th>month</th>\n",
       "      <th>Explicit</th>\n",
       "      <th>Track_Number_on_Album</th>\n",
       "      <th>Artist_Followers</th>\n",
       "      <th>Artist_Genres</th>\n",
       "    </tr>\n",
       "  </thead>\n",
       "  <tbody>\n",
       "    <tr>\n",
       "      <th>44198</th>\n",
       "      <td>199</td>\n",
       "      <td>Smells Like Teen Spirit</td>\n",
       "      <td>Nirvana</td>\n",
       "      <td>5154452</td>\n",
       "      <td>https://open.spotify.com/track/1f3yAtsJtY87CTm...</td>\n",
       "      <td>2021-04-16</td>\n",
       "      <td>Nevermind (Deluxe Edition)</td>\n",
       "      <td>301920</td>\n",
       "      <td>2021</td>\n",
       "      <td>4</td>\n",
       "      <td>False</td>\n",
       "      <td>1</td>\n",
       "      <td>12519629</td>\n",
       "      <td>'grunge'</td>\n",
       "    </tr>\n",
       "    <tr>\n",
       "      <th>44198</th>\n",
       "      <td>199</td>\n",
       "      <td>Smells Like Teen Spirit</td>\n",
       "      <td>Nirvana</td>\n",
       "      <td>5154452</td>\n",
       "      <td>https://open.spotify.com/track/1f3yAtsJtY87CTm...</td>\n",
       "      <td>2021-04-16</td>\n",
       "      <td>Nevermind (Deluxe Edition)</td>\n",
       "      <td>301920</td>\n",
       "      <td>2021</td>\n",
       "      <td>4</td>\n",
       "      <td>False</td>\n",
       "      <td>1</td>\n",
       "      <td>12519629</td>\n",
       "      <td>'permanent wave'</td>\n",
       "    </tr>\n",
       "    <tr>\n",
       "      <th>44198</th>\n",
       "      <td>199</td>\n",
       "      <td>Smells Like Teen Spirit</td>\n",
       "      <td>Nirvana</td>\n",
       "      <td>5154452</td>\n",
       "      <td>https://open.spotify.com/track/1f3yAtsJtY87CTm...</td>\n",
       "      <td>2021-04-16</td>\n",
       "      <td>Nevermind (Deluxe Edition)</td>\n",
       "      <td>301920</td>\n",
       "      <td>2021</td>\n",
       "      <td>4</td>\n",
       "      <td>False</td>\n",
       "      <td>1</td>\n",
       "      <td>12519629</td>\n",
       "      <td>'rock']</td>\n",
       "    </tr>\n",
       "    <tr>\n",
       "      <th>44199</th>\n",
       "      <td>200</td>\n",
       "      <td>SAD!</td>\n",
       "      <td>XXXTENTACION</td>\n",
       "      <td>5139543</td>\n",
       "      <td>https://open.spotify.com/track/3ee8Jmje8o58CHK...</td>\n",
       "      <td>2021-04-16</td>\n",
       "      <td>?</td>\n",
       "      <td>166605</td>\n",
       "      <td>2021</td>\n",
       "      <td>4</td>\n",
       "      <td>True</td>\n",
       "      <td>4</td>\n",
       "      <td>26792113</td>\n",
       "      <td>['emo rap'</td>\n",
       "    </tr>\n",
       "    <tr>\n",
       "      <th>44199</th>\n",
       "      <td>200</td>\n",
       "      <td>SAD!</td>\n",
       "      <td>XXXTENTACION</td>\n",
       "      <td>5139543</td>\n",
       "      <td>https://open.spotify.com/track/3ee8Jmje8o58CHK...</td>\n",
       "      <td>2021-04-16</td>\n",
       "      <td>?</td>\n",
       "      <td>166605</td>\n",
       "      <td>2021</td>\n",
       "      <td>4</td>\n",
       "      <td>True</td>\n",
       "      <td>4</td>\n",
       "      <td>26792113</td>\n",
       "      <td>'miami hip hop']</td>\n",
       "    </tr>\n",
       "  </tbody>\n",
       "</table>\n",
       "</div>"
      ],
      "text/plain": [
       "       Rank                    Track        Artist  Streams  \\\n",
       "44198   199  Smells Like Teen Spirit       Nirvana  5154452   \n",
       "44198   199  Smells Like Teen Spirit       Nirvana  5154452   \n",
       "44198   199  Smells Like Teen Spirit       Nirvana  5154452   \n",
       "44199   200                     SAD!  XXXTENTACION  5139543   \n",
       "44199   200                     SAD!  XXXTENTACION  5139543   \n",
       "\n",
       "                                                    Link       Week  \\\n",
       "44198  https://open.spotify.com/track/1f3yAtsJtY87CTm... 2021-04-16   \n",
       "44198  https://open.spotify.com/track/1f3yAtsJtY87CTm... 2021-04-16   \n",
       "44198  https://open.spotify.com/track/1f3yAtsJtY87CTm... 2021-04-16   \n",
       "44199  https://open.spotify.com/track/3ee8Jmje8o58CHK... 2021-04-16   \n",
       "44199  https://open.spotify.com/track/3ee8Jmje8o58CHK... 2021-04-16   \n",
       "\n",
       "                       Album_Name  Duration_MS  year  month  Explicit  \\\n",
       "44198  Nevermind (Deluxe Edition)       301920  2021      4     False   \n",
       "44198  Nevermind (Deluxe Edition)       301920  2021      4     False   \n",
       "44198  Nevermind (Deluxe Edition)       301920  2021      4     False   \n",
       "44199                           ?       166605  2021      4      True   \n",
       "44199                           ?       166605  2021      4      True   \n",
       "\n",
       "       Track_Number_on_Album  Artist_Followers      Artist_Genres  \n",
       "44198                      1          12519629           'grunge'  \n",
       "44198                      1          12519629   'permanent wave'  \n",
       "44198                      1          12519629            'rock']  \n",
       "44199                      4          26792113         ['emo rap'  \n",
       "44199                      4          26792113   'miami hip hop']  "
      ]
     },
     "execution_count": 160,
     "metadata": {},
     "output_type": "execute_result"
    }
   ],
   "source": [
    "data[data[\"Artist_Genres\"]=='[]']\n",
    "df_genre=data[data[\"Artist_Genres\"]!='[]']\n",
    "df_genre.head()\n",
    "df_sort_genres=pd.DataFrame(data.assign(Artist_Genres=df_genre.Artist_Genres.str.split(\",\")).explode('Artist_Genres'))\n",
    "df_sort_genres.tail()"
   ]
  },
  {
   "cell_type": "code",
   "execution_count": 163,
   "metadata": {},
   "outputs": [
    {
     "name": "stderr",
     "output_type": "stream",
     "text": [
      "C:\\Users\\Nikki\\AppData\\Local\\Temp/ipykernel_22700/166888204.py:1: FutureWarning: The default value of regex will change from True to False in a future version. In addition, single character regular expressions will *not* be treated as literal strings when regex=True.\n",
      "  df_sort_genres['Artist_Genres']=df_sort_genres.Artist_Genres.str.replace('[',' ')\n",
      "C:\\Users\\Nikki\\AppData\\Local\\Temp/ipykernel_22700/166888204.py:2: FutureWarning: The default value of regex will change from True to False in a future version. In addition, single character regular expressions will *not* be treated as literal strings when regex=True.\n",
      "  df_sort_genres['Artist_Genres']=df_sort_genres.Artist_Genres.str.replace(']',' ')\n"
     ]
    }
   ],
   "source": [
    "df_sort_genres['Artist_Genres']=df_sort_genres.Artist_Genres.str.replace('[',' ')\n",
    "df_sort_genres['Artist_Genres']=df_sort_genres.Artist_Genres.str.replace(']',' ')"
   ]
  },
  {
   "cell_type": "code",
   "execution_count": 168,
   "metadata": {},
   "outputs": [
    {
     "data": {
      "text/html": [
       "<div>\n",
       "<style scoped>\n",
       "    .dataframe tbody tr th:only-of-type {\n",
       "        vertical-align: middle;\n",
       "    }\n",
       "\n",
       "    .dataframe tbody tr th {\n",
       "        vertical-align: top;\n",
       "    }\n",
       "\n",
       "    .dataframe thead th {\n",
       "        text-align: right;\n",
       "    }\n",
       "</style>\n",
       "<table border=\"1\" class=\"dataframe\">\n",
       "  <thead>\n",
       "    <tr style=\"text-align: right;\">\n",
       "      <th></th>\n",
       "      <th>Genres</th>\n",
       "      <th>Total_Count</th>\n",
       "    </tr>\n",
       "  </thead>\n",
       "  <tbody>\n",
       "    <tr>\n",
       "      <th>0</th>\n",
       "      <td>'pop'</td>\n",
       "      <td>16809</td>\n",
       "    </tr>\n",
       "    <tr>\n",
       "      <th>1</th>\n",
       "      <td>'dance pop'</td>\n",
       "      <td>11173</td>\n",
       "    </tr>\n",
       "    <tr>\n",
       "      <th>2</th>\n",
       "      <td>'latin'</td>\n",
       "      <td>6208</td>\n",
       "    </tr>\n",
       "    <tr>\n",
       "      <th>3</th>\n",
       "      <td>'rap'</td>\n",
       "      <td>5915</td>\n",
       "    </tr>\n",
       "    <tr>\n",
       "      <th>4</th>\n",
       "      <td>'pop rap'</td>\n",
       "      <td>5601</td>\n",
       "    </tr>\n",
       "    <tr>\n",
       "      <th>5</th>\n",
       "      <td>'post-teen pop'</td>\n",
       "      <td>5559</td>\n",
       "    </tr>\n",
       "    <tr>\n",
       "      <th>6</th>\n",
       "      <td>'reggaeton'</td>\n",
       "      <td>5530</td>\n",
       "    </tr>\n",
       "    <tr>\n",
       "      <th>7</th>\n",
       "      <td>'edm'</td>\n",
       "      <td>4762</td>\n",
       "    </tr>\n",
       "    <tr>\n",
       "      <th>8</th>\n",
       "      <td>'electropop'</td>\n",
       "      <td>4536</td>\n",
       "    </tr>\n",
       "    <tr>\n",
       "      <th>9</th>\n",
       "      <td>'pop dance'</td>\n",
       "      <td>4269</td>\n",
       "    </tr>\n",
       "  </tbody>\n",
       "</table>\n",
       "</div>"
      ],
      "text/plain": [
       "              Genres  Total_Count\n",
       "0              'pop'        16809\n",
       "1        'dance pop'        11173\n",
       "2            'latin'         6208\n",
       "3              'rap'         5915\n",
       "4          'pop rap'         5601\n",
       "5   'post-teen pop'          5559\n",
       "6        'reggaeton'         5530\n",
       "7              'edm'         4762\n",
       "8       'electropop'         4536\n",
       "9        'pop dance'         4269"
      ]
     },
     "execution_count": 168,
     "metadata": {},
     "output_type": "execute_result"
    }
   ],
   "source": [
    "n = 10\n",
    "top_30=pd.DataFrame(df_sort_genres['Artist_Genres'].value_counts()[:n]).reset_index()\n",
    "top_30.rename(columns = {'index':'Genres','Artist_Genres':'Total_Count'}, inplace = True)\n",
    "top_30"
   ]
  },
  {
   "cell_type": "code",
   "execution_count": 170,
   "metadata": {},
   "outputs": [
    {
     "data": {
      "image/png": "[encoded data removed]",
      "text/plain": [
       "<Figure size 432x288 with 1 Axes>"
      ]
     },
     "metadata": {},
     "output_type": "display_data"
    }
   ],
   "source": [
    "plt.pie(top_30.Total_Count, labels=top_30.Genres , autopct='%1.1f%%')\n",
    "plt.show()"
   ]
  },
  {
   "cell_type": "code",
   "execution_count": 218,
   "metadata": {},
   "outputs": [
    {
     "data": {
      "text/html": [
       "<div>\n",
       "<style scoped>\n",
       "    .dataframe tbody tr th:only-of-type {\n",
       "        vertical-align: middle;\n",
       "    }\n",
       "\n",
       "    .dataframe tbody tr th {\n",
       "        vertical-align: top;\n",
       "    }\n",
       "\n",
       "    .dataframe thead th {\n",
       "        text-align: right;\n",
       "    }\n",
       "</style>\n",
       "<table border=\"1\" class=\"dataframe\">\n",
       "  <thead>\n",
       "    <tr style=\"text-align: right;\">\n",
       "      <th></th>\n",
       "      <th>Streams</th>\n",
       "    </tr>\n",
       "    <tr>\n",
       "      <th>Artist_Genres</th>\n",
       "      <th></th>\n",
       "    </tr>\n",
       "  </thead>\n",
       "  <tbody>\n",
       "    <tr>\n",
       "      <th>['pop', 'post-teen pop']</th>\n",
       "      <td>15712829720</td>\n",
       "    </tr>\n",
       "    <tr>\n",
       "      <th>['pop', 'uk pop']</th>\n",
       "      <td>14298362370</td>\n",
       "    </tr>\n",
       "    <tr>\n",
       "      <th>['dfw rap', 'melodic rap', 'rap']</th>\n",
       "      <td>13565225335</td>\n",
       "    </tr>\n",
       "    <tr>\n",
       "      <th>['dance pop', 'pop', 'post-teen pop']</th>\n",
       "      <td>12003080436</td>\n",
       "    </tr>\n",
       "    <tr>\n",
       "      <th>['canadian hip hop', 'canadian pop', 'hip hop', 'pop rap', 'rap', 'toronto rap']</th>\n",
       "      <td>9075103253</td>\n",
       "    </tr>\n",
       "  </tbody>\n",
       "</table>\n",
       "</div>"
      ],
      "text/plain": [
       "                                                        Streams\n",
       "Artist_Genres                                                  \n",
       "['pop', 'post-teen pop']                            15712829720\n",
       "['pop', 'uk pop']                                   14298362370\n",
       "['dfw rap', 'melodic rap', 'rap']                   13565225335\n",
       "['dance pop', 'pop', 'post-teen pop']               12003080436\n",
       "['canadian hip hop', 'canadian pop', 'hip hop',...   9075103253"
      ]
     },
     "execution_count": 218,
     "metadata": {},
     "output_type": "execute_result"
    }
   ],
   "source": [
    "pop_genre = data.groupby(\"Artist_Genres\")[[\"Streams\"]].sum().sort_values(\"Streams\",ascending=False).head(5)\n",
    "pop_genre\n",
    "# lables = top_30.Genres\n",
    "# plt.pie(top_30.Total_Count,labels=top_30.Genres)"
   ]
  },
  {
   "cell_type": "code",
   "execution_count": null,
   "metadata": {},
   "outputs": [],
   "source": []
  }
 ],
 "metadata": {
  "interpreter": {
   "hash": "2cb5d5a9379438e42184019bb29608c84ceeccd1ddd0ba30ff37a8376aac68e5"
  },
  "kernelspec": {
   "display_name": "Python 3.9.6 64-bit ('venv': venv)",
   "name": "python3"
  },
  "language_info": {
   "codemirror_mode": {
    "name": "ipython",
    "version": 3
   },
   "file_extension": ".py",
   "mimetype": "text/x-python",
   "name": "python",
   "nbconvert_exporter": "python",
   "pygments_lexer": "ipython3",
   "version": "3.9.6"
  },
  "orig_nbformat": 4
 },
 "nbformat": 4,
 "nbformat_minor": 2
}
