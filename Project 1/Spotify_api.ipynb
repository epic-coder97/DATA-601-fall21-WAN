{
 "cells": [
  {
   "cell_type": "markdown",
   "metadata": {},
   "source": [
    "https://developer.spotify.com/dashboard/\n",
    "\n",
    "Spotify dashboard link\n",
    "login with your credentials\n",
    "#### copy your Client id and client secret key\n",
    "\n",
    "-------------------------------------------------------------------------------\n",
    "https://developer.spotify.com/dashboard/    -----> login here to get clientid and secret key for api\n",
    "\n",
    "\n",
    "https://towardsdatascience.com/how-to-create-large-music-datasets-using-spotipy-40e7242cc6a6\n",
    "\n",
    "https://levelup.gitconnected.com/extracting-and-analysing-spotify-tracks-with-python-d1466fc1dfee\n",
    "\n",
    "https://developer.spotify.com/documentation/web-api/reference/#category-playlists\n",
    "\n"
   ]
  },
  {
   "cell_type": "code",
   "execution_count": 7,
   "metadata": {},
   "outputs": [],
   "source": [
    "import spotipy\n",
    "import spotipy.oauth2 as oauth2\n",
    "from spotipy.oauth2 import SpotifyOAuth\n",
    "from spotipy.oauth2 import SpotifyClientCredentials\n",
    "\n",
    "\n",
    "auth_mngr = SpotifyClientCredentials(client_id='id', client_secret='secret')\n",
    "sp = spotipy.Spotify(auth_manager= auth_mngr)"
   ]
  },
  {
   "cell_type": "code",
   "execution_count": 8,
   "metadata": {},
   "outputs": [],
   "source": [
    "import matplotlib.pyplot as plt"
   ]
  },
  {
   "cell_type": "code",
   "execution_count": 9,
   "metadata": {},
   "outputs": [],
   "source": [
    "# https://open.spotify.com/playlist/37i9dQZF1DWTE7dVUebpUW\n",
    "#https://open.spotify.com/playlist/37i9dQZF1DXe2bobNYDtW8\n",
    "#sp.user_playlist_tracks(\"Spotify\", \"37i9dQZF1DWTE7dVUebpUW\")\n"
   ]
  },
  {
   "cell_type": "markdown",
   "metadata": {},
   "source": [
    "## Getting the 2018 Playlist "
   ]
  },
  {
   "cell_type": "code",
   "execution_count": 10,
   "metadata": {},
   "outputs": [],
   "source": [
    "## Geting 2018 Playlist\n",
    "\n",
    "def getTrackIDs(user, playlist_id):\n",
    "    ids = []\n",
    "    playlist = sp.user_playlist(user, playlist_id)\n",
    "    for item in playlist['tracks']['items']:\n",
    "        track = item['track']\n",
    "        ids.append(track['id'])\n",
    "    return ids\n",
    "\n",
    "ids = getTrackIDs('Spotify', '37i9dQZF1DXe2bobNYDtW8') # top 2018 songs"
   ]
  },
  {
   "cell_type": "code",
   "execution_count": 11,
   "metadata": {},
   "outputs": [],
   "source": [
    "def getTrackFeatures(id):\n",
    "  meta = sp.track(id)\n",
    "  features = sp.audio_features(id)\n",
    "\n",
    "  # meta\n",
    "  name = meta['name']\n",
    "  album = meta['album']['name']\n",
    "  artist = meta['album']['artists'][0]['name']\n",
    "  release_date = meta['album']['release_date']\n",
    "  length = meta['duration_ms']\n",
    "  popularity = meta['popularity']\n",
    "\n",
    "  # features\n",
    "  acousticness = features[0]['acousticness']\n",
    "  danceability = features[0]['danceability']\n",
    "  energy = features[0]['energy']\n",
    "  instrumentalness = features[0]['instrumentalness']\n",
    "  liveness = features[0]['liveness']\n",
    "  loudness = features[0]['loudness']\n",
    "  speechiness = features[0]['speechiness']\n",
    "  tempo = features[0]['tempo']\n",
    "  time_signature = features[0]['time_signature']\n",
    "  #artist_genre=features[0]['artist_genre']\n",
    "  #genere = features[0]['']\n",
    "\n",
    "  track = [name, album, artist, release_date, length, popularity, acousticness, danceability, energy, instrumentalness, liveness, loudness, speechiness, tempo, time_signature]\n",
    "  return track"
   ]
  },
  {
   "cell_type": "code",
   "execution_count": 12,
   "metadata": {},
   "outputs": [],
   "source": [
    "import time\n",
    "import pandas as pd\n",
    "tracks = []\n",
    "for i in range(len(ids)):\n",
    "  time.sleep(.5)\n",
    "  track = getTrackFeatures(ids[i])\n",
    "  tracks.append(track)\n",
    "\n",
    "# create dataset\n",
    "df2 = pd.DataFrame(tracks, columns = ['name', 'album', 'artist', 'release_date', 'length', 'popularity',  'acousticness', 'danceability', 'energy', 'instrumentalness', 'liveness', 'loudness', 'speechiness', 'tempo', 'time_signature'])\n"
   ]
  },
  {
   "cell_type": "code",
   "execution_count": 13,
   "metadata": {},
   "outputs": [
    {
     "data": {
      "text/html": [
       "<div>\n",
       "<style scoped>\n",
       "    .dataframe tbody tr th:only-of-type {\n",
       "        vertical-align: middle;\n",
       "    }\n",
       "\n",
       "    .dataframe tbody tr th {\n",
       "        vertical-align: top;\n",
       "    }\n",
       "\n",
       "    .dataframe thead th {\n",
       "        text-align: right;\n",
       "    }\n",
       "</style>\n",
       "<table border=\"1\" class=\"dataframe\">\n",
       "  <thead>\n",
       "    <tr style=\"text-align: right;\">\n",
       "      <th></th>\n",
       "      <th>name</th>\n",
       "      <th>album</th>\n",
       "      <th>artist</th>\n",
       "      <th>release_date</th>\n",
       "      <th>length</th>\n",
       "      <th>popularity</th>\n",
       "      <th>acousticness</th>\n",
       "      <th>danceability</th>\n",
       "      <th>energy</th>\n",
       "      <th>instrumentalness</th>\n",
       "      <th>liveness</th>\n",
       "      <th>loudness</th>\n",
       "      <th>speechiness</th>\n",
       "      <th>tempo</th>\n",
       "      <th>time_signature</th>\n",
       "    </tr>\n",
       "  </thead>\n",
       "  <tbody>\n",
       "    <tr>\n",
       "      <th>0</th>\n",
       "      <td>God's Plan</td>\n",
       "      <td>Scorpion</td>\n",
       "      <td>Drake</td>\n",
       "      <td>2018-06-29</td>\n",
       "      <td>198973</td>\n",
       "      <td>82</td>\n",
       "      <td>0.03320</td>\n",
       "      <td>0.754</td>\n",
       "      <td>0.449</td>\n",
       "      <td>0.000083</td>\n",
       "      <td>0.5520</td>\n",
       "      <td>-9.211</td>\n",
       "      <td>0.1090</td>\n",
       "      <td>77.169</td>\n",
       "      <td>4</td>\n",
       "    </tr>\n",
       "    <tr>\n",
       "      <th>1</th>\n",
       "      <td>rockstar (feat. 21 Savage)</td>\n",
       "      <td>beerbongs &amp; bentleys</td>\n",
       "      <td>Post Malone</td>\n",
       "      <td>2018-04-27</td>\n",
       "      <td>218146</td>\n",
       "      <td>83</td>\n",
       "      <td>0.12400</td>\n",
       "      <td>0.585</td>\n",
       "      <td>0.520</td>\n",
       "      <td>0.000070</td>\n",
       "      <td>0.1310</td>\n",
       "      <td>-6.136</td>\n",
       "      <td>0.0712</td>\n",
       "      <td>159.801</td>\n",
       "      <td>4</td>\n",
       "    </tr>\n",
       "    <tr>\n",
       "      <th>2</th>\n",
       "      <td>Perfect</td>\n",
       "      <td>÷ (Deluxe)</td>\n",
       "      <td>Ed Sheeran</td>\n",
       "      <td>2017-03-03</td>\n",
       "      <td>263400</td>\n",
       "      <td>87</td>\n",
       "      <td>0.16300</td>\n",
       "      <td>0.599</td>\n",
       "      <td>0.448</td>\n",
       "      <td>0.000000</td>\n",
       "      <td>0.1060</td>\n",
       "      <td>-6.312</td>\n",
       "      <td>0.0232</td>\n",
       "      <td>95.050</td>\n",
       "      <td>3</td>\n",
       "    </tr>\n",
       "    <tr>\n",
       "      <th>3</th>\n",
       "      <td>I Like Me Better</td>\n",
       "      <td>I met you when I was 18. (the playlist)</td>\n",
       "      <td>Lauv</td>\n",
       "      <td>2018-05-31</td>\n",
       "      <td>197436</td>\n",
       "      <td>82</td>\n",
       "      <td>0.53500</td>\n",
       "      <td>0.752</td>\n",
       "      <td>0.505</td>\n",
       "      <td>0.000003</td>\n",
       "      <td>0.1040</td>\n",
       "      <td>-7.621</td>\n",
       "      <td>0.2530</td>\n",
       "      <td>91.970</td>\n",
       "      <td>4</td>\n",
       "    </tr>\n",
       "    <tr>\n",
       "      <th>4</th>\n",
       "      <td>Havana (feat. Young Thug)</td>\n",
       "      <td>Camila</td>\n",
       "      <td>Camila Cabello</td>\n",
       "      <td>2018-01-12</td>\n",
       "      <td>217306</td>\n",
       "      <td>81</td>\n",
       "      <td>0.18400</td>\n",
       "      <td>0.765</td>\n",
       "      <td>0.523</td>\n",
       "      <td>0.000036</td>\n",
       "      <td>0.1320</td>\n",
       "      <td>-4.333</td>\n",
       "      <td>0.0300</td>\n",
       "      <td>104.988</td>\n",
       "      <td>4</td>\n",
       "    </tr>\n",
       "    <tr>\n",
       "      <th>...</th>\n",
       "      <td>...</td>\n",
       "      <td>...</td>\n",
       "      <td>...</td>\n",
       "      <td>...</td>\n",
       "      <td>...</td>\n",
       "      <td>...</td>\n",
       "      <td>...</td>\n",
       "      <td>...</td>\n",
       "      <td>...</td>\n",
       "      <td>...</td>\n",
       "      <td>...</td>\n",
       "      <td>...</td>\n",
       "      <td>...</td>\n",
       "      <td>...</td>\n",
       "      <td>...</td>\n",
       "    </tr>\n",
       "    <tr>\n",
       "      <th>95</th>\n",
       "      <td>Nice For What</td>\n",
       "      <td>Scorpion</td>\n",
       "      <td>Drake</td>\n",
       "      <td>2018-06-29</td>\n",
       "      <td>210746</td>\n",
       "      <td>77</td>\n",
       "      <td>0.08910</td>\n",
       "      <td>0.585</td>\n",
       "      <td>0.909</td>\n",
       "      <td>0.000097</td>\n",
       "      <td>0.1190</td>\n",
       "      <td>-6.474</td>\n",
       "      <td>0.0707</td>\n",
       "      <td>93.372</td>\n",
       "      <td>4</td>\n",
       "    </tr>\n",
       "    <tr>\n",
       "      <th>96</th>\n",
       "      <td>Everyday</td>\n",
       "      <td>Bobby Tarantino II</td>\n",
       "      <td>Logic</td>\n",
       "      <td>2018-03-09</td>\n",
       "      <td>204746</td>\n",
       "      <td>71</td>\n",
       "      <td>0.04250</td>\n",
       "      <td>0.667</td>\n",
       "      <td>0.741</td>\n",
       "      <td>0.000000</td>\n",
       "      <td>0.0761</td>\n",
       "      <td>-4.099</td>\n",
       "      <td>0.0378</td>\n",
       "      <td>149.908</td>\n",
       "      <td>4</td>\n",
       "    </tr>\n",
       "    <tr>\n",
       "      <th>97</th>\n",
       "      <td>Jumanji</td>\n",
       "      <td>Jumanji</td>\n",
       "      <td>B Young</td>\n",
       "      <td>2018-01-05</td>\n",
       "      <td>173153</td>\n",
       "      <td>61</td>\n",
       "      <td>0.27900</td>\n",
       "      <td>0.791</td>\n",
       "      <td>0.473</td>\n",
       "      <td>0.000000</td>\n",
       "      <td>0.0959</td>\n",
       "      <td>-9.860</td>\n",
       "      <td>0.2500</td>\n",
       "      <td>95.948</td>\n",
       "      <td>4</td>\n",
       "    </tr>\n",
       "    <tr>\n",
       "      <th>98</th>\n",
       "      <td>Mo Bamba</td>\n",
       "      <td>MUDBOY</td>\n",
       "      <td>Sheck Wes</td>\n",
       "      <td>2018-10-05</td>\n",
       "      <td>183906</td>\n",
       "      <td>76</td>\n",
       "      <td>0.19400</td>\n",
       "      <td>0.729</td>\n",
       "      <td>0.625</td>\n",
       "      <td>0.009860</td>\n",
       "      <td>0.2480</td>\n",
       "      <td>-5.266</td>\n",
       "      <td>0.0315</td>\n",
       "      <td>146.034</td>\n",
       "      <td>4</td>\n",
       "    </tr>\n",
       "    <tr>\n",
       "      <th>99</th>\n",
       "      <td>Stir Fry</td>\n",
       "      <td>Culture II</td>\n",
       "      <td>Migos</td>\n",
       "      <td>2018-01-26</td>\n",
       "      <td>190288</td>\n",
       "      <td>71</td>\n",
       "      <td>0.00263</td>\n",
       "      <td>0.817</td>\n",
       "      <td>0.816</td>\n",
       "      <td>0.000000</td>\n",
       "      <td>0.1590</td>\n",
       "      <td>-5.402</td>\n",
       "      <td>0.2690</td>\n",
       "      <td>181.982</td>\n",
       "      <td>4</td>\n",
       "    </tr>\n",
       "  </tbody>\n",
       "</table>\n",
       "<p>100 rows × 15 columns</p>\n",
       "</div>"
      ],
      "text/plain": [
       "                          name                                    album  \\\n",
       "0                   God's Plan                                 Scorpion   \n",
       "1   rockstar (feat. 21 Savage)                     beerbongs & bentleys   \n",
       "2                      Perfect                               ÷ (Deluxe)   \n",
       "3             I Like Me Better  I met you when I was 18. (the playlist)   \n",
       "4    Havana (feat. Young Thug)                                   Camila   \n",
       "..                         ...                                      ...   \n",
       "95               Nice For What                                 Scorpion   \n",
       "96                    Everyday                       Bobby Tarantino II   \n",
       "97                     Jumanji                                  Jumanji   \n",
       "98                    Mo Bamba                                   MUDBOY   \n",
       "99                    Stir Fry                               Culture II   \n",
       "\n",
       "            artist release_date  length  popularity  acousticness  \\\n",
       "0            Drake   2018-06-29  198973          82       0.03320   \n",
       "1      Post Malone   2018-04-27  218146          83       0.12400   \n",
       "2       Ed Sheeran   2017-03-03  263400          87       0.16300   \n",
       "3             Lauv   2018-05-31  197436          82       0.53500   \n",
       "4   Camila Cabello   2018-01-12  217306          81       0.18400   \n",
       "..             ...          ...     ...         ...           ...   \n",
       "95           Drake   2018-06-29  210746          77       0.08910   \n",
       "96           Logic   2018-03-09  204746          71       0.04250   \n",
       "97         B Young   2018-01-05  173153          61       0.27900   \n",
       "98       Sheck Wes   2018-10-05  183906          76       0.19400   \n",
       "99           Migos   2018-01-26  190288          71       0.00263   \n",
       "\n",
       "    danceability  energy  instrumentalness  liveness  loudness  speechiness  \\\n",
       "0          0.754   0.449          0.000083    0.5520    -9.211       0.1090   \n",
       "1          0.585   0.520          0.000070    0.1310    -6.136       0.0712   \n",
       "2          0.599   0.448          0.000000    0.1060    -6.312       0.0232   \n",
       "3          0.752   0.505          0.000003    0.1040    -7.621       0.2530   \n",
       "4          0.765   0.523          0.000036    0.1320    -4.333       0.0300   \n",
       "..           ...     ...               ...       ...       ...          ...   \n",
       "95         0.585   0.909          0.000097    0.1190    -6.474       0.0707   \n",
       "96         0.667   0.741          0.000000    0.0761    -4.099       0.0378   \n",
       "97         0.791   0.473          0.000000    0.0959    -9.860       0.2500   \n",
       "98         0.729   0.625          0.009860    0.2480    -5.266       0.0315   \n",
       "99         0.817   0.816          0.000000    0.1590    -5.402       0.2690   \n",
       "\n",
       "      tempo  time_signature  \n",
       "0    77.169               4  \n",
       "1   159.801               4  \n",
       "2    95.050               3  \n",
       "3    91.970               4  \n",
       "4   104.988               4  \n",
       "..      ...             ...  \n",
       "95   93.372               4  \n",
       "96  149.908               4  \n",
       "97   95.948               4  \n",
       "98  146.034               4  \n",
       "99  181.982               4  \n",
       "\n",
       "[100 rows x 15 columns]"
      ]
     },
     "execution_count": 13,
     "metadata": {},
     "output_type": "execute_result"
    }
   ],
   "source": [
    "df2"
   ]
  },
  {
   "cell_type": "markdown",
   "metadata": {},
   "source": [
    "### Checking the DataTypes"
   ]
  },
  {
   "cell_type": "code",
   "execution_count": 14,
   "metadata": {},
   "outputs": [
    {
     "name": "stdout",
     "output_type": "stream",
     "text": [
      "<class 'pandas.core.frame.DataFrame'>\n",
      "RangeIndex: 100 entries, 0 to 99\n",
      "Data columns (total 15 columns):\n",
      " #   Column            Non-Null Count  Dtype  \n",
      "---  ------            --------------  -----  \n",
      " 0   name              100 non-null    object \n",
      " 1   album             100 non-null    object \n",
      " 2   artist            100 non-null    object \n",
      " 3   release_date      100 non-null    object \n",
      " 4   length            100 non-null    int64  \n",
      " 5   popularity        100 non-null    int64  \n",
      " 6   acousticness      100 non-null    float64\n",
      " 7   danceability      100 non-null    float64\n",
      " 8   energy            100 non-null    float64\n",
      " 9   instrumentalness  100 non-null    float64\n",
      " 10  liveness          100 non-null    float64\n",
      " 11  loudness          100 non-null    float64\n",
      " 12  speechiness       100 non-null    float64\n",
      " 13  tempo             100 non-null    float64\n",
      " 14  time_signature    100 non-null    int64  \n",
      "dtypes: float64(8), int64(3), object(4)\n",
      "memory usage: 11.8+ KB\n"
     ]
    }
   ],
   "source": [
    "df2.info()"
   ]
  },
  {
   "cell_type": "markdown",
   "metadata": {},
   "source": [
    "## Getting 2017 Playlist"
   ]
  },
  {
   "cell_type": "code",
   "execution_count": 15,
   "metadata": {},
   "outputs": [
    {
     "data": {
      "text/html": [
       "<div>\n",
       "<style scoped>\n",
       "    .dataframe tbody tr th:only-of-type {\n",
       "        vertical-align: middle;\n",
       "    }\n",
       "\n",
       "    .dataframe tbody tr th {\n",
       "        vertical-align: top;\n",
       "    }\n",
       "\n",
       "    .dataframe thead th {\n",
       "        text-align: right;\n",
       "    }\n",
       "</style>\n",
       "<table border=\"1\" class=\"dataframe\">\n",
       "  <thead>\n",
       "    <tr style=\"text-align: right;\">\n",
       "      <th></th>\n",
       "      <th>name</th>\n",
       "      <th>album</th>\n",
       "      <th>artist</th>\n",
       "      <th>release_date</th>\n",
       "      <th>length</th>\n",
       "      <th>popularity</th>\n",
       "      <th>acousticness</th>\n",
       "      <th>danceability</th>\n",
       "      <th>energy</th>\n",
       "      <th>instrumentalness</th>\n",
       "      <th>liveness</th>\n",
       "      <th>loudness</th>\n",
       "      <th>speechiness</th>\n",
       "      <th>tempo</th>\n",
       "      <th>time_signature</th>\n",
       "    </tr>\n",
       "  </thead>\n",
       "  <tbody>\n",
       "    <tr>\n",
       "      <th>0</th>\n",
       "      <td>Shape of You</td>\n",
       "      <td>÷ (Deluxe)</td>\n",
       "      <td>Ed Sheeran</td>\n",
       "      <td>2017-03-03</td>\n",
       "      <td>233712</td>\n",
       "      <td>86</td>\n",
       "      <td>0.5810</td>\n",
       "      <td>0.825</td>\n",
       "      <td>0.652</td>\n",
       "      <td>0.000000</td>\n",
       "      <td>0.0931</td>\n",
       "      <td>-3.183</td>\n",
       "      <td>0.0802</td>\n",
       "      <td>95.977</td>\n",
       "      <td>4</td>\n",
       "    </tr>\n",
       "    <tr>\n",
       "      <th>1</th>\n",
       "      <td>rockstar</td>\n",
       "      <td>rockstar</td>\n",
       "      <td>Post Malone</td>\n",
       "      <td>2017-09-15</td>\n",
       "      <td>218320</td>\n",
       "      <td>0</td>\n",
       "      <td>0.1300</td>\n",
       "      <td>0.577</td>\n",
       "      <td>0.522</td>\n",
       "      <td>0.000090</td>\n",
       "      <td>0.1420</td>\n",
       "      <td>-6.594</td>\n",
       "      <td>0.0984</td>\n",
       "      <td>159.772</td>\n",
       "      <td>4</td>\n",
       "    </tr>\n",
       "    <tr>\n",
       "      <th>2</th>\n",
       "      <td>Despacito (Featuring Daddy Yankee)</td>\n",
       "      <td>Despacito (Featuring Daddy Yankee)</td>\n",
       "      <td>Luis Fonsi</td>\n",
       "      <td>2017-01-13</td>\n",
       "      <td>228200</td>\n",
       "      <td>1</td>\n",
       "      <td>0.2090</td>\n",
       "      <td>0.660</td>\n",
       "      <td>0.786</td>\n",
       "      <td>0.000000</td>\n",
       "      <td>0.1120</td>\n",
       "      <td>-4.757</td>\n",
       "      <td>0.1700</td>\n",
       "      <td>177.833</td>\n",
       "      <td>4</td>\n",
       "    </tr>\n",
       "    <tr>\n",
       "      <th>3</th>\n",
       "      <td>Closer</td>\n",
       "      <td>Closer</td>\n",
       "      <td>The Chainsmokers</td>\n",
       "      <td>2016-07-29</td>\n",
       "      <td>244960</td>\n",
       "      <td>84</td>\n",
       "      <td>0.4140</td>\n",
       "      <td>0.748</td>\n",
       "      <td>0.524</td>\n",
       "      <td>0.000000</td>\n",
       "      <td>0.1110</td>\n",
       "      <td>-5.599</td>\n",
       "      <td>0.0338</td>\n",
       "      <td>95.010</td>\n",
       "      <td>4</td>\n",
       "    </tr>\n",
       "    <tr>\n",
       "      <th>4</th>\n",
       "      <td>Rockabye (feat. Sean Paul &amp; Anne-Marie)</td>\n",
       "      <td>Rockabye (feat. Sean Paul &amp; Anne-Marie)</td>\n",
       "      <td>Clean Bandit</td>\n",
       "      <td>2016-10-21</td>\n",
       "      <td>251088</td>\n",
       "      <td>75</td>\n",
       "      <td>0.4060</td>\n",
       "      <td>0.720</td>\n",
       "      <td>0.763</td>\n",
       "      <td>0.000000</td>\n",
       "      <td>0.1800</td>\n",
       "      <td>-4.068</td>\n",
       "      <td>0.0523</td>\n",
       "      <td>101.965</td>\n",
       "      <td>4</td>\n",
       "    </tr>\n",
       "    <tr>\n",
       "      <th>...</th>\n",
       "      <td>...</td>\n",
       "      <td>...</td>\n",
       "      <td>...</td>\n",
       "      <td>...</td>\n",
       "      <td>...</td>\n",
       "      <td>...</td>\n",
       "      <td>...</td>\n",
       "      <td>...</td>\n",
       "      <td>...</td>\n",
       "      <td>...</td>\n",
       "      <td>...</td>\n",
       "      <td>...</td>\n",
       "      <td>...</td>\n",
       "      <td>...</td>\n",
       "      <td>...</td>\n",
       "    </tr>\n",
       "    <tr>\n",
       "      <th>95</th>\n",
       "      <td>Don't Leave</td>\n",
       "      <td>Don't Leave</td>\n",
       "      <td>Snakehips</td>\n",
       "      <td>2017-01-06</td>\n",
       "      <td>214693</td>\n",
       "      <td>64</td>\n",
       "      <td>0.2220</td>\n",
       "      <td>0.657</td>\n",
       "      <td>0.703</td>\n",
       "      <td>0.000000</td>\n",
       "      <td>0.2560</td>\n",
       "      <td>-3.402</td>\n",
       "      <td>0.0753</td>\n",
       "      <td>122.381</td>\n",
       "      <td>4</td>\n",
       "    </tr>\n",
       "    <tr>\n",
       "      <th>96</th>\n",
       "      <td>Rolex</td>\n",
       "      <td>Rolex</td>\n",
       "      <td>Ayo &amp; Teo</td>\n",
       "      <td>2017-03-15</td>\n",
       "      <td>238586</td>\n",
       "      <td>70</td>\n",
       "      <td>0.0837</td>\n",
       "      <td>0.804</td>\n",
       "      <td>0.886</td>\n",
       "      <td>0.000000</td>\n",
       "      <td>0.2660</td>\n",
       "      <td>-2.512</td>\n",
       "      <td>0.0400</td>\n",
       "      <td>144.946</td>\n",
       "      <td>4</td>\n",
       "    </tr>\n",
       "    <tr>\n",
       "      <th>97</th>\n",
       "      <td>Green Light</td>\n",
       "      <td>Melodrama</td>\n",
       "      <td>Lorde</td>\n",
       "      <td>2017-06-16</td>\n",
       "      <td>234652</td>\n",
       "      <td>73</td>\n",
       "      <td>0.0209</td>\n",
       "      <td>0.594</td>\n",
       "      <td>0.721</td>\n",
       "      <td>0.000009</td>\n",
       "      <td>0.0879</td>\n",
       "      <td>-7.812</td>\n",
       "      <td>0.0957</td>\n",
       "      <td>128.942</td>\n",
       "      <td>4</td>\n",
       "    </tr>\n",
       "    <tr>\n",
       "      <th>98</th>\n",
       "      <td>First Time</td>\n",
       "      <td>First Time</td>\n",
       "      <td>Kygo</td>\n",
       "      <td>2017-04-28</td>\n",
       "      <td>193511</td>\n",
       "      <td>65</td>\n",
       "      <td>0.1970</td>\n",
       "      <td>0.633</td>\n",
       "      <td>0.592</td>\n",
       "      <td>0.000000</td>\n",
       "      <td>0.0990</td>\n",
       "      <td>-7.245</td>\n",
       "      <td>0.1120</td>\n",
       "      <td>90.066</td>\n",
       "      <td>4</td>\n",
       "    </tr>\n",
       "    <tr>\n",
       "      <th>99</th>\n",
       "      <td>Wild Thoughts (feat. Rihanna &amp; Bryson Tiller)</td>\n",
       "      <td>Grateful</td>\n",
       "      <td>DJ Khaled</td>\n",
       "      <td>2017-06-22</td>\n",
       "      <td>204173</td>\n",
       "      <td>73</td>\n",
       "      <td>0.0329</td>\n",
       "      <td>0.671</td>\n",
       "      <td>0.672</td>\n",
       "      <td>0.000000</td>\n",
       "      <td>0.1180</td>\n",
       "      <td>-3.094</td>\n",
       "      <td>0.0688</td>\n",
       "      <td>97.979</td>\n",
       "      <td>4</td>\n",
       "    </tr>\n",
       "  </tbody>\n",
       "</table>\n",
       "<p>100 rows × 15 columns</p>\n",
       "</div>"
      ],
      "text/plain": [
       "                                             name  \\\n",
       "0                                    Shape of You   \n",
       "1                                        rockstar   \n",
       "2              Despacito (Featuring Daddy Yankee)   \n",
       "3                                          Closer   \n",
       "4         Rockabye (feat. Sean Paul & Anne-Marie)   \n",
       "..                                            ...   \n",
       "95                                    Don't Leave   \n",
       "96                                          Rolex   \n",
       "97                                    Green Light   \n",
       "98                                     First Time   \n",
       "99  Wild Thoughts (feat. Rihanna & Bryson Tiller)   \n",
       "\n",
       "                                      album            artist release_date  \\\n",
       "0                                ÷ (Deluxe)        Ed Sheeran   2017-03-03   \n",
       "1                                  rockstar       Post Malone   2017-09-15   \n",
       "2        Despacito (Featuring Daddy Yankee)        Luis Fonsi   2017-01-13   \n",
       "3                                    Closer  The Chainsmokers   2016-07-29   \n",
       "4   Rockabye (feat. Sean Paul & Anne-Marie)      Clean Bandit   2016-10-21   \n",
       "..                                      ...               ...          ...   \n",
       "95                              Don't Leave         Snakehips   2017-01-06   \n",
       "96                                    Rolex         Ayo & Teo   2017-03-15   \n",
       "97                                Melodrama             Lorde   2017-06-16   \n",
       "98                               First Time              Kygo   2017-04-28   \n",
       "99                                 Grateful         DJ Khaled   2017-06-22   \n",
       "\n",
       "    length  popularity  acousticness  danceability  energy  instrumentalness  \\\n",
       "0   233712          86        0.5810         0.825   0.652          0.000000   \n",
       "1   218320           0        0.1300         0.577   0.522          0.000090   \n",
       "2   228200           1        0.2090         0.660   0.786          0.000000   \n",
       "3   244960          84        0.4140         0.748   0.524          0.000000   \n",
       "4   251088          75        0.4060         0.720   0.763          0.000000   \n",
       "..     ...         ...           ...           ...     ...               ...   \n",
       "95  214693          64        0.2220         0.657   0.703          0.000000   \n",
       "96  238586          70        0.0837         0.804   0.886          0.000000   \n",
       "97  234652          73        0.0209         0.594   0.721          0.000009   \n",
       "98  193511          65        0.1970         0.633   0.592          0.000000   \n",
       "99  204173          73        0.0329         0.671   0.672          0.000000   \n",
       "\n",
       "    liveness  loudness  speechiness    tempo  time_signature  \n",
       "0     0.0931    -3.183       0.0802   95.977               4  \n",
       "1     0.1420    -6.594       0.0984  159.772               4  \n",
       "2     0.1120    -4.757       0.1700  177.833               4  \n",
       "3     0.1110    -5.599       0.0338   95.010               4  \n",
       "4     0.1800    -4.068       0.0523  101.965               4  \n",
       "..       ...       ...          ...      ...             ...  \n",
       "95    0.2560    -3.402       0.0753  122.381               4  \n",
       "96    0.2660    -2.512       0.0400  144.946               4  \n",
       "97    0.0879    -7.812       0.0957  128.942               4  \n",
       "98    0.0990    -7.245       0.1120   90.066               4  \n",
       "99    0.1180    -3.094       0.0688   97.979               4  \n",
       "\n",
       "[100 rows x 15 columns]"
      ]
     },
     "execution_count": 15,
     "metadata": {},
     "output_type": "execute_result"
    }
   ],
   "source": [
    "## Geting 2017 Playlist\n",
    "def getTrackIDs(user, playlist_id):\n",
    "    ids = []\n",
    "    playlist = sp.user_playlist(user, playlist_id)\n",
    "    for item in playlist['tracks']['items']:\n",
    "        track = item['track']\n",
    "        ids.append(track['id'])\n",
    "    return ids\n",
    "\n",
    "ids = getTrackIDs('Spotify', '37i9dQZF1DWTE7dVUebpUW') #top 2017 songs\n",
    "\n",
    "def getTrackFeatures(id):\n",
    "  meta = sp.track(id)\n",
    "  features = sp.audio_features(id)\n",
    "\n",
    "  # meta\n",
    "  name = meta['name']\n",
    "  album = meta['album']['name']\n",
    "  artist = meta['album']['artists'][0]['name']\n",
    "  release_date = meta['album']['release_date']\n",
    "  length = meta['duration_ms']\n",
    "  popularity = meta['popularity']\n",
    "\n",
    "  # features\n",
    "  acousticness = features[0]['acousticness']\n",
    "  danceability = features[0]['danceability']\n",
    "  energy = features[0]['energy']\n",
    "  instrumentalness = features[0]['instrumentalness']\n",
    "  liveness = features[0]['liveness']\n",
    "  loudness = features[0]['loudness']\n",
    "  speechiness = features[0]['speechiness']\n",
    "  tempo = features[0]['tempo']\n",
    "  time_signature = features[0]['time_signature']\n",
    "  #artist_genre=features[0]['artist_genre']\n",
    "  #genere = features[0]['']\n",
    "\n",
    "  track = [name, album, artist, release_date, length, popularity, acousticness, danceability, energy, instrumentalness, liveness, loudness, speechiness, tempo, time_signature]\n",
    "  return track\n",
    "\n",
    "import time\n",
    "import pandas as pd\n",
    "tracks = []\n",
    "for i in range(len(ids)):\n",
    "  time.sleep(.5)\n",
    "  track = getTrackFeatures(ids[i])\n",
    "  tracks.append(track)\n",
    "\n",
    "# create dataset\n",
    "df = pd.DataFrame(tracks, columns = ['name', 'album', 'artist', 'release_date', 'length', 'popularity',  'acousticness', 'danceability', 'energy', 'instrumentalness', 'liveness', 'loudness', 'speechiness', 'tempo', 'time_signature'])\n",
    "df"
   ]
  },
  {
   "cell_type": "markdown",
   "metadata": {},
   "source": [
    "### DataTypes of 2017 Playlist"
   ]
  },
  {
   "cell_type": "code",
   "execution_count": 16,
   "metadata": {},
   "outputs": [
    {
     "name": "stdout",
     "output_type": "stream",
     "text": [
      "<class 'pandas.core.frame.DataFrame'>\n",
      "RangeIndex: 100 entries, 0 to 99\n",
      "Data columns (total 15 columns):\n",
      " #   Column            Non-Null Count  Dtype  \n",
      "---  ------            --------------  -----  \n",
      " 0   name              100 non-null    object \n",
      " 1   album             100 non-null    object \n",
      " 2   artist            100 non-null    object \n",
      " 3   release_date      100 non-null    object \n",
      " 4   length            100 non-null    int64  \n",
      " 5   popularity        100 non-null    int64  \n",
      " 6   acousticness      100 non-null    float64\n",
      " 7   danceability      100 non-null    float64\n",
      " 8   energy            100 non-null    float64\n",
      " 9   instrumentalness  100 non-null    float64\n",
      " 10  liveness          100 non-null    float64\n",
      " 11  loudness          100 non-null    float64\n",
      " 12  speechiness       100 non-null    float64\n",
      " 13  tempo             100 non-null    float64\n",
      " 14  time_signature    100 non-null    int64  \n",
      "dtypes: float64(8), int64(3), object(4)\n",
      "memory usage: 11.8+ KB\n"
     ]
    }
   ],
   "source": [
    "df.info()"
   ]
  },
  {
   "cell_type": "markdown",
   "metadata": {},
   "source": [
    "## converting date to datetime format (2017)\n"
   ]
  },
  {
   "cell_type": "code",
   "execution_count": 17,
   "metadata": {},
   "outputs": [
    {
     "name": "stdout",
     "output_type": "stream",
     "text": [
      "<class 'pandas.core.frame.DataFrame'>\n",
      "RangeIndex: 100 entries, 0 to 99\n",
      "Data columns (total 17 columns):\n",
      " #   Column            Non-Null Count  Dtype         \n",
      "---  ------            --------------  -----         \n",
      " 0   name              100 non-null    object        \n",
      " 1   album             100 non-null    object        \n",
      " 2   artist            100 non-null    object        \n",
      " 3   release_date      100 non-null    datetime64[ns]\n",
      " 4   year              100 non-null    int64         \n",
      " 5   month             100 non-null    int64         \n",
      " 6   length            100 non-null    int64         \n",
      " 7   popularity        100 non-null    int64         \n",
      " 8   acousticness      100 non-null    float64       \n",
      " 9   danceability      100 non-null    float64       \n",
      " 10  energy            100 non-null    float64       \n",
      " 11  instrumentalness  100 non-null    float64       \n",
      " 12  liveness          100 non-null    float64       \n",
      " 13  loudness          100 non-null    float64       \n",
      " 14  speechiness       100 non-null    float64       \n",
      " 15  tempo             100 non-null    float64       \n",
      " 16  time_signature    100 non-null    int64         \n",
      "dtypes: datetime64[ns](1), float64(8), int64(5), object(3)\n",
      "memory usage: 13.4+ KB\n"
     ]
    }
   ],
   "source": [
    "# converting date to datetime format\n",
    "df['release_date'] = pd.to_datetime(df['release_date'], format='%Y-%m-%d')\n",
    "\n",
    "#addind month and year to the data frame\n",
    "year = df['release_date'].apply(lambda x : x.year)\n",
    "month = df['release_date'].apply(lambda x : x.month)\n",
    "df.insert(loc=4, column='year', value=year) \n",
    "df.insert(loc=5, column='month', value=month)\n",
    "df.info()"
   ]
  },
  {
   "cell_type": "markdown",
   "metadata": {},
   "source": [
    "## converting date to datetime format (2018)\n"
   ]
  },
  {
   "cell_type": "code",
   "execution_count": 18,
   "metadata": {},
   "outputs": [
    {
     "name": "stdout",
     "output_type": "stream",
     "text": [
      "<class 'pandas.core.frame.DataFrame'>\n",
      "RangeIndex: 100 entries, 0 to 99\n",
      "Data columns (total 17 columns):\n",
      " #   Column            Non-Null Count  Dtype         \n",
      "---  ------            --------------  -----         \n",
      " 0   name              100 non-null    object        \n",
      " 1   album             100 non-null    object        \n",
      " 2   artist            100 non-null    object        \n",
      " 3   release_date      100 non-null    datetime64[ns]\n",
      " 4   year              100 non-null    int64         \n",
      " 5   month             100 non-null    int64         \n",
      " 6   length            100 non-null    int64         \n",
      " 7   popularity        100 non-null    int64         \n",
      " 8   acousticness      100 non-null    float64       \n",
      " 9   danceability      100 non-null    float64       \n",
      " 10  energy            100 non-null    float64       \n",
      " 11  instrumentalness  100 non-null    float64       \n",
      " 12  liveness          100 non-null    float64       \n",
      " 13  loudness          100 non-null    float64       \n",
      " 14  speechiness       100 non-null    float64       \n",
      " 15  tempo             100 non-null    float64       \n",
      " 16  time_signature    100 non-null    int64         \n",
      "dtypes: datetime64[ns](1), float64(8), int64(5), object(3)\n",
      "memory usage: 13.4+ KB\n"
     ]
    }
   ],
   "source": [
    "df2['release_date'] = pd.to_datetime(df2['release_date'], format='%Y-%m-%d')\n",
    "\n",
    "#addind month and year to the data frame\n",
    "year = df2['release_date'].apply(lambda x : x.year)\n",
    "month = df2['release_date'].apply(lambda x : x.month)\n",
    "df2.insert(loc=4, column='year', value=year) \n",
    "df2.insert(loc=5, column='month', value=month)\n",
    "df2.info()"
   ]
  },
  {
   "cell_type": "code",
   "execution_count": 19,
   "metadata": {},
   "outputs": [
    {
     "data": {
      "text/html": [
       "<div>\n",
       "<style scoped>\n",
       "    .dataframe tbody tr th:only-of-type {\n",
       "        vertical-align: middle;\n",
       "    }\n",
       "\n",
       "    .dataframe tbody tr th {\n",
       "        vertical-align: top;\n",
       "    }\n",
       "\n",
       "    .dataframe thead th {\n",
       "        text-align: right;\n",
       "    }\n",
       "</style>\n",
       "<table border=\"1\" class=\"dataframe\">\n",
       "  <thead>\n",
       "    <tr style=\"text-align: right;\">\n",
       "      <th></th>\n",
       "      <th>year</th>\n",
       "      <th>month</th>\n",
       "      <th>length</th>\n",
       "      <th>popularity</th>\n",
       "      <th>acousticness</th>\n",
       "      <th>danceability</th>\n",
       "      <th>energy</th>\n",
       "      <th>instrumentalness</th>\n",
       "      <th>liveness</th>\n",
       "      <th>loudness</th>\n",
       "      <th>speechiness</th>\n",
       "      <th>tempo</th>\n",
       "      <th>time_signature</th>\n",
       "    </tr>\n",
       "  </thead>\n",
       "  <tbody>\n",
       "    <tr>\n",
       "      <th>count</th>\n",
       "      <td>100.000000</td>\n",
       "      <td>100.000000</td>\n",
       "      <td>100.000000</td>\n",
       "      <td>100.000000</td>\n",
       "      <td>100.000000</td>\n",
       "      <td>100.000000</td>\n",
       "      <td>100.000000</td>\n",
       "      <td>100.000000</td>\n",
       "      <td>100.000000</td>\n",
       "      <td>100.000000</td>\n",
       "      <td>100.000000</td>\n",
       "      <td>100.000000</td>\n",
       "      <td>100.000000</td>\n",
       "    </tr>\n",
       "    <tr>\n",
       "      <th>mean</th>\n",
       "      <td>2016.870000</td>\n",
       "      <td>6.220000</td>\n",
       "      <td>215283.230000</td>\n",
       "      <td>53.140000</td>\n",
       "      <td>0.145353</td>\n",
       "      <td>0.661040</td>\n",
       "      <td>0.670270</td>\n",
       "      <td>0.003600</td>\n",
       "      <td>0.145715</td>\n",
       "      <td>-5.445650</td>\n",
       "      <td>0.088892</td>\n",
       "      <td>119.265770</td>\n",
       "      <td>3.970000</td>\n",
       "    </tr>\n",
       "    <tr>\n",
       "      <th>std</th>\n",
       "      <td>0.463953</td>\n",
       "      <td>3.119117</td>\n",
       "      <td>27018.365594</td>\n",
       "      <td>33.361812</td>\n",
       "      <td>0.170318</td>\n",
       "      <td>0.122477</td>\n",
       "      <td>0.134287</td>\n",
       "      <td>0.024691</td>\n",
       "      <td>0.082752</td>\n",
       "      <td>1.764148</td>\n",
       "      <td>0.079233</td>\n",
       "      <td>26.333799</td>\n",
       "      <td>0.171447</td>\n",
       "    </tr>\n",
       "    <tr>\n",
       "      <th>min</th>\n",
       "      <td>2016.000000</td>\n",
       "      <td>1.000000</td>\n",
       "      <td>170826.000000</td>\n",
       "      <td>0.000000</td>\n",
       "      <td>0.001630</td>\n",
       "      <td>0.258000</td>\n",
       "      <td>0.318000</td>\n",
       "      <td>0.000000</td>\n",
       "      <td>0.042400</td>\n",
       "      <td>-12.695000</td>\n",
       "      <td>0.023200</td>\n",
       "      <td>75.016000</td>\n",
       "      <td>3.000000</td>\n",
       "    </tr>\n",
       "    <tr>\n",
       "      <th>25%</th>\n",
       "      <td>2017.000000</td>\n",
       "      <td>3.750000</td>\n",
       "      <td>199746.750000</td>\n",
       "      <td>1.750000</td>\n",
       "      <td>0.032750</td>\n",
       "      <td>0.599750</td>\n",
       "      <td>0.587750</td>\n",
       "      <td>0.000000</td>\n",
       "      <td>0.089325</td>\n",
       "      <td>-6.438750</td>\n",
       "      <td>0.043075</td>\n",
       "      <td>100.041000</td>\n",
       "      <td>4.000000</td>\n",
       "    </tr>\n",
       "    <tr>\n",
       "      <th>50%</th>\n",
       "      <td>2017.000000</td>\n",
       "      <td>6.000000</td>\n",
       "      <td>213146.000000</td>\n",
       "      <td>70.000000</td>\n",
       "      <td>0.081150</td>\n",
       "      <td>0.671500</td>\n",
       "      <td>0.670000</td>\n",
       "      <td>0.000000</td>\n",
       "      <td>0.112000</td>\n",
       "      <td>-5.084500</td>\n",
       "      <td>0.058400</td>\n",
       "      <td>113.706000</td>\n",
       "      <td>4.000000</td>\n",
       "    </tr>\n",
       "    <tr>\n",
       "      <th>75%</th>\n",
       "      <td>2017.000000</td>\n",
       "      <td>9.000000</td>\n",
       "      <td>228706.500000</td>\n",
       "      <td>78.000000</td>\n",
       "      <td>0.197500</td>\n",
       "      <td>0.742500</td>\n",
       "      <td>0.781250</td>\n",
       "      <td>0.000006</td>\n",
       "      <td>0.181000</td>\n",
       "      <td>-4.283500</td>\n",
       "      <td>0.096975</td>\n",
       "      <td>134.285750</td>\n",
       "      <td>4.000000</td>\n",
       "    </tr>\n",
       "    <tr>\n",
       "      <th>max</th>\n",
       "      <td>2019.000000</td>\n",
       "      <td>12.000000</td>\n",
       "      <td>340706.000000</td>\n",
       "      <td>87.000000</td>\n",
       "      <td>0.896000</td>\n",
       "      <td>0.893000</td>\n",
       "      <td>0.909000</td>\n",
       "      <td>0.210000</td>\n",
       "      <td>0.423000</td>\n",
       "      <td>-2.396000</td>\n",
       "      <td>0.425000</td>\n",
       "      <td>194.169000</td>\n",
       "      <td>4.000000</td>\n",
       "    </tr>\n",
       "  </tbody>\n",
       "</table>\n",
       "</div>"
      ],
      "text/plain": [
       "              year       month         length  popularity  acousticness  \\\n",
       "count   100.000000  100.000000     100.000000  100.000000    100.000000   \n",
       "mean   2016.870000    6.220000  215283.230000   53.140000      0.145353   \n",
       "std       0.463953    3.119117   27018.365594   33.361812      0.170318   \n",
       "min    2016.000000    1.000000  170826.000000    0.000000      0.001630   \n",
       "25%    2017.000000    3.750000  199746.750000    1.750000      0.032750   \n",
       "50%    2017.000000    6.000000  213146.000000   70.000000      0.081150   \n",
       "75%    2017.000000    9.000000  228706.500000   78.000000      0.197500   \n",
       "max    2019.000000   12.000000  340706.000000   87.000000      0.896000   \n",
       "\n",
       "       danceability      energy  instrumentalness    liveness    loudness  \\\n",
       "count    100.000000  100.000000        100.000000  100.000000  100.000000   \n",
       "mean       0.661040    0.670270          0.003600    0.145715   -5.445650   \n",
       "std        0.122477    0.134287          0.024691    0.082752    1.764148   \n",
       "min        0.258000    0.318000          0.000000    0.042400  -12.695000   \n",
       "25%        0.599750    0.587750          0.000000    0.089325   -6.438750   \n",
       "50%        0.671500    0.670000          0.000000    0.112000   -5.084500   \n",
       "75%        0.742500    0.781250          0.000006    0.181000   -4.283500   \n",
       "max        0.893000    0.909000          0.210000    0.423000   -2.396000   \n",
       "\n",
       "       speechiness       tempo  time_signature  \n",
       "count   100.000000  100.000000      100.000000  \n",
       "mean      0.088892  119.265770        3.970000  \n",
       "std       0.079233   26.333799        0.171447  \n",
       "min       0.023200   75.016000        3.000000  \n",
       "25%       0.043075  100.041000        4.000000  \n",
       "50%       0.058400  113.706000        4.000000  \n",
       "75%       0.096975  134.285750        4.000000  \n",
       "max       0.425000  194.169000        4.000000  "
      ]
     },
     "execution_count": 19,
     "metadata": {},
     "output_type": "execute_result"
    }
   ],
   "source": [
    "df.describe() ##2017"
   ]
  },
  {
   "cell_type": "code",
   "execution_count": 20,
   "metadata": {},
   "outputs": [
    {
     "data": {
      "text/html": [
       "<div>\n",
       "<style scoped>\n",
       "    .dataframe tbody tr th:only-of-type {\n",
       "        vertical-align: middle;\n",
       "    }\n",
       "\n",
       "    .dataframe tbody tr th {\n",
       "        vertical-align: top;\n",
       "    }\n",
       "\n",
       "    .dataframe thead th {\n",
       "        text-align: right;\n",
       "    }\n",
       "</style>\n",
       "<table border=\"1\" class=\"dataframe\">\n",
       "  <thead>\n",
       "    <tr style=\"text-align: right;\">\n",
       "      <th></th>\n",
       "      <th>year</th>\n",
       "      <th>month</th>\n",
       "      <th>length</th>\n",
       "      <th>popularity</th>\n",
       "      <th>acousticness</th>\n",
       "      <th>danceability</th>\n",
       "      <th>energy</th>\n",
       "      <th>instrumentalness</th>\n",
       "      <th>liveness</th>\n",
       "      <th>loudness</th>\n",
       "      <th>speechiness</th>\n",
       "      <th>tempo</th>\n",
       "      <th>time_signature</th>\n",
       "    </tr>\n",
       "  </thead>\n",
       "  <tbody>\n",
       "    <tr>\n",
       "      <th>count</th>\n",
       "      <td>100.000000</td>\n",
       "      <td>100.00000</td>\n",
       "      <td>100.00000</td>\n",
       "      <td>100.000000</td>\n",
       "      <td>100.000000</td>\n",
       "      <td>100.000000</td>\n",
       "      <td>100.000000</td>\n",
       "      <td>100.000000</td>\n",
       "      <td>100.000000</td>\n",
       "      <td>100.000000</td>\n",
       "      <td>100.000000</td>\n",
       "      <td>100.000000</td>\n",
       "      <td>100.000000</td>\n",
       "    </tr>\n",
       "    <tr>\n",
       "      <th>mean</th>\n",
       "      <td>2017.750000</td>\n",
       "      <td>5.85000</td>\n",
       "      <td>208212.71000</td>\n",
       "      <td>74.060000</td>\n",
       "      <td>0.190608</td>\n",
       "      <td>0.691230</td>\n",
       "      <td>0.667230</td>\n",
       "      <td>0.005166</td>\n",
       "      <td>0.152963</td>\n",
       "      <td>-5.653100</td>\n",
       "      <td>0.103785</td>\n",
       "      <td>116.684780</td>\n",
       "      <td>3.990000</td>\n",
       "    </tr>\n",
       "    <tr>\n",
       "      <th>std</th>\n",
       "      <td>0.457817</td>\n",
       "      <td>3.47102</td>\n",
       "      <td>31889.28798</td>\n",
       "      <td>10.029069</td>\n",
       "      <td>0.217961</td>\n",
       "      <td>0.128338</td>\n",
       "      <td>0.140822</td>\n",
       "      <td>0.026068</td>\n",
       "      <td>0.113038</td>\n",
       "      <td>1.869932</td>\n",
       "      <td>0.093332</td>\n",
       "      <td>25.793254</td>\n",
       "      <td>0.173787</td>\n",
       "    </tr>\n",
       "    <tr>\n",
       "      <th>min</th>\n",
       "      <td>2017.000000</td>\n",
       "      <td>1.00000</td>\n",
       "      <td>121886.00000</td>\n",
       "      <td>1.000000</td>\n",
       "      <td>0.000239</td>\n",
       "      <td>0.284000</td>\n",
       "      <td>0.296000</td>\n",
       "      <td>0.000000</td>\n",
       "      <td>0.021500</td>\n",
       "      <td>-12.808000</td>\n",
       "      <td>0.023200</td>\n",
       "      <td>64.934000</td>\n",
       "      <td>3.000000</td>\n",
       "    </tr>\n",
       "    <tr>\n",
       "      <th>25%</th>\n",
       "      <td>2017.000000</td>\n",
       "      <td>3.00000</td>\n",
       "      <td>189349.50000</td>\n",
       "      <td>71.000000</td>\n",
       "      <td>0.039675</td>\n",
       "      <td>0.614750</td>\n",
       "      <td>0.582500</td>\n",
       "      <td>0.000000</td>\n",
       "      <td>0.090650</td>\n",
       "      <td>-6.462000</td>\n",
       "      <td>0.044875</td>\n",
       "      <td>97.002000</td>\n",
       "      <td>4.000000</td>\n",
       "    </tr>\n",
       "    <tr>\n",
       "      <th>50%</th>\n",
       "      <td>2018.000000</td>\n",
       "      <td>5.00000</td>\n",
       "      <td>205333.00000</td>\n",
       "      <td>75.000000</td>\n",
       "      <td>0.097150</td>\n",
       "      <td>0.697500</td>\n",
       "      <td>0.683000</td>\n",
       "      <td>0.000000</td>\n",
       "      <td>0.119500</td>\n",
       "      <td>-5.293000</td>\n",
       "      <td>0.071300</td>\n",
       "      <td>113.993500</td>\n",
       "      <td>4.000000</td>\n",
       "    </tr>\n",
       "    <tr>\n",
       "      <th>75%</th>\n",
       "      <td>2018.000000</td>\n",
       "      <td>9.00000</td>\n",
       "      <td>221119.75000</td>\n",
       "      <td>80.000000</td>\n",
       "      <td>0.256500</td>\n",
       "      <td>0.762750</td>\n",
       "      <td>0.783500</td>\n",
       "      <td>0.000013</td>\n",
       "      <td>0.165500</td>\n",
       "      <td>-4.420750</td>\n",
       "      <td>0.117750</td>\n",
       "      <td>130.750000</td>\n",
       "      <td>4.000000</td>\n",
       "    </tr>\n",
       "    <tr>\n",
       "      <th>max</th>\n",
       "      <td>2019.000000</td>\n",
       "      <td>12.00000</td>\n",
       "      <td>312820.00000</td>\n",
       "      <td>87.000000</td>\n",
       "      <td>0.934000</td>\n",
       "      <td>0.931000</td>\n",
       "      <td>0.909000</td>\n",
       "      <td>0.181000</td>\n",
       "      <td>0.742000</td>\n",
       "      <td>-2.384000</td>\n",
       "      <td>0.516000</td>\n",
       "      <td>199.811000</td>\n",
       "      <td>5.000000</td>\n",
       "    </tr>\n",
       "  </tbody>\n",
       "</table>\n",
       "</div>"
      ],
      "text/plain": [
       "              year      month        length  popularity  acousticness  \\\n",
       "count   100.000000  100.00000     100.00000  100.000000    100.000000   \n",
       "mean   2017.750000    5.85000  208212.71000   74.060000      0.190608   \n",
       "std       0.457817    3.47102   31889.28798   10.029069      0.217961   \n",
       "min    2017.000000    1.00000  121886.00000    1.000000      0.000239   \n",
       "25%    2017.000000    3.00000  189349.50000   71.000000      0.039675   \n",
       "50%    2018.000000    5.00000  205333.00000   75.000000      0.097150   \n",
       "75%    2018.000000    9.00000  221119.75000   80.000000      0.256500   \n",
       "max    2019.000000   12.00000  312820.00000   87.000000      0.934000   \n",
       "\n",
       "       danceability      energy  instrumentalness    liveness    loudness  \\\n",
       "count    100.000000  100.000000        100.000000  100.000000  100.000000   \n",
       "mean       0.691230    0.667230          0.005166    0.152963   -5.653100   \n",
       "std        0.128338    0.140822          0.026068    0.113038    1.869932   \n",
       "min        0.284000    0.296000          0.000000    0.021500  -12.808000   \n",
       "25%        0.614750    0.582500          0.000000    0.090650   -6.462000   \n",
       "50%        0.697500    0.683000          0.000000    0.119500   -5.293000   \n",
       "75%        0.762750    0.783500          0.000013    0.165500   -4.420750   \n",
       "max        0.931000    0.909000          0.181000    0.742000   -2.384000   \n",
       "\n",
       "       speechiness       tempo  time_signature  \n",
       "count   100.000000  100.000000      100.000000  \n",
       "mean      0.103785  116.684780        3.990000  \n",
       "std       0.093332   25.793254        0.173787  \n",
       "min       0.023200   64.934000        3.000000  \n",
       "25%       0.044875   97.002000        4.000000  \n",
       "50%       0.071300  113.993500        4.000000  \n",
       "75%       0.117750  130.750000        4.000000  \n",
       "max       0.516000  199.811000        5.000000  "
      ]
     },
     "execution_count": 20,
     "metadata": {},
     "output_type": "execute_result"
    }
   ],
   "source": [
    "df2.describe() ##2018"
   ]
  },
  {
   "cell_type": "markdown",
   "metadata": {},
   "source": [
    "## Getting Unique values for each columns for both df and df2"
   ]
  },
  {
   "cell_type": "code",
   "execution_count": 21,
   "metadata": {},
   "outputs": [
    {
     "name": "stdout",
     "output_type": "stream",
     "text": [
      "2017 Playlist\n",
      "name                100\n",
      "album                81\n",
      "artist               70\n",
      "release_date         67\n",
      "year                  4\n",
      "month                12\n",
      "length              100\n",
      "popularity           34\n",
      "acousticness         97\n",
      "danceability         95\n",
      "energy               93\n",
      "instrumentalness     33\n",
      "liveness             89\n",
      "loudness             99\n",
      "speechiness          97\n",
      "tempo                98\n",
      "time_signature        2\n",
      "dtype: int64\n",
      "\n",
      "2018 Playlist\n",
      "name                100\n",
      "album                82\n",
      "artist               73\n",
      "release_date         62\n",
      "year                  3\n",
      "month                12\n",
      "length              100\n",
      "popularity           31\n",
      "acousticness         97\n",
      "danceability         88\n",
      "energy               94\n",
      "instrumentalness     38\n",
      "liveness             92\n",
      "loudness             99\n",
      "speechiness          92\n",
      "tempo               100\n",
      "time_signature        3\n",
      "dtype: int64\n"
     ]
    }
   ],
   "source": [
    "#Getting unique Values \n",
    "\n",
    "print('2017 Playlist')\n",
    "\n",
    "n1 = df.nunique(axis=0)\n",
    "print(n1)\n",
    "print('')\n",
    "print('2018 Playlist')\n",
    "n2 = df2.nunique(axis=0)\n",
    "print(n2)"
   ]
  },
  {
   "cell_type": "markdown",
   "metadata": {},
   "source": [
    "## Getting polular artist of 2017"
   ]
  },
  {
   "cell_type": "markdown",
   "metadata": {},
   "source": [
    "df.plot(x ='artist', y='popularity', kind = 'bar')\t\n"
   ]
  },
  {
   "cell_type": "code",
   "execution_count": 22,
   "metadata": {},
   "outputs": [
    {
     "data": {
      "text/html": [
       "<div>\n",
       "<style scoped>\n",
       "    .dataframe tbody tr th:only-of-type {\n",
       "        vertical-align: middle;\n",
       "    }\n",
       "\n",
       "    .dataframe tbody tr th {\n",
       "        vertical-align: top;\n",
       "    }\n",
       "\n",
       "    .dataframe thead th {\n",
       "        text-align: right;\n",
       "    }\n",
       "</style>\n",
       "<table border=\"1\" class=\"dataframe\">\n",
       "  <thead>\n",
       "    <tr style=\"text-align: right;\">\n",
       "      <th></th>\n",
       "      <th>name</th>\n",
       "      <th>artist</th>\n",
       "      <th>popularity</th>\n",
       "    </tr>\n",
       "  </thead>\n",
       "  <tbody>\n",
       "    <tr>\n",
       "      <th>0</th>\n",
       "      <td>Perfect</td>\n",
       "      <td>Ed Sheeran</td>\n",
       "      <td>87</td>\n",
       "    </tr>\n",
       "    <tr>\n",
       "      <th>1</th>\n",
       "      <td>Bored</td>\n",
       "      <td>Billie Eilish</td>\n",
       "      <td>86</td>\n",
       "    </tr>\n",
       "    <tr>\n",
       "      <th>2</th>\n",
       "      <td>Say You Won't Let Go</td>\n",
       "      <td>James Arthur</td>\n",
       "      <td>85</td>\n",
       "    </tr>\n",
       "    <tr>\n",
       "      <th>3</th>\n",
       "      <td>goosebumps</td>\n",
       "      <td>Travis Scott</td>\n",
       "      <td>85</td>\n",
       "    </tr>\n",
       "    <tr>\n",
       "      <th>4</th>\n",
       "      <td>Closer</td>\n",
       "      <td>The Chainsmokers</td>\n",
       "      <td>84</td>\n",
       "    </tr>\n",
       "    <tr>\n",
       "      <th>5</th>\n",
       "      <td>Starboy</td>\n",
       "      <td>The Weeknd</td>\n",
       "      <td>83</td>\n",
       "    </tr>\n",
       "    <tr>\n",
       "      <th>6</th>\n",
       "      <td>Congratulations</td>\n",
       "      <td>Post Malone</td>\n",
       "      <td>82</td>\n",
       "    </tr>\n",
       "    <tr>\n",
       "      <th>7</th>\n",
       "      <td>Treat You Better</td>\n",
       "      <td>Shawn Mendes</td>\n",
       "      <td>82</td>\n",
       "    </tr>\n",
       "    <tr>\n",
       "      <th>8</th>\n",
       "      <td>Hold On</td>\n",
       "      <td>Chord Overstreet</td>\n",
       "      <td>81</td>\n",
       "    </tr>\n",
       "    <tr>\n",
       "      <th>9</th>\n",
       "      <td>Unforgettable</td>\n",
       "      <td>French Montana</td>\n",
       "      <td>81</td>\n",
       "    </tr>\n",
       "  </tbody>\n",
       "</table>\n",
       "</div>"
      ],
      "text/plain": [
       "                   name            artist  popularity\n",
       "0               Perfect        Ed Sheeran          87\n",
       "1                 Bored     Billie Eilish          86\n",
       "2  Say You Won't Let Go      James Arthur          85\n",
       "3            goosebumps      Travis Scott          85\n",
       "4                Closer  The Chainsmokers          84\n",
       "5               Starboy        The Weeknd          83\n",
       "6       Congratulations       Post Malone          82\n",
       "7      Treat You Better      Shawn Mendes          82\n",
       "8               Hold On  Chord Overstreet          81\n",
       "9         Unforgettable    French Montana          81"
      ]
     },
     "execution_count": 22,
     "metadata": {},
     "output_type": "execute_result"
    }
   ],
   "source": [
    "popular_songs_artist17 = df.query('popularity > 55', inplace=False).sort_values(['popularity'], ascending=False).groupby('artist').head(1).reset_index()\n",
    "popular_songs_artist17[['name','artist','popularity']].head(10)"
   ]
  },
  {
   "cell_type": "markdown",
   "metadata": {},
   "source": [
    "## Getting Popular Artists of 2018"
   ]
  },
  {
   "cell_type": "code",
   "execution_count": 23,
   "metadata": {},
   "outputs": [
    {
     "data": {
      "text/html": [
       "<div>\n",
       "<style scoped>\n",
       "    .dataframe tbody tr th:only-of-type {\n",
       "        vertical-align: middle;\n",
       "    }\n",
       "\n",
       "    .dataframe tbody tr th {\n",
       "        vertical-align: top;\n",
       "    }\n",
       "\n",
       "    .dataframe thead th {\n",
       "        text-align: right;\n",
       "    }\n",
       "</style>\n",
       "<table border=\"1\" class=\"dataframe\">\n",
       "  <thead>\n",
       "    <tr style=\"text-align: right;\">\n",
       "      <th></th>\n",
       "      <th>name</th>\n",
       "      <th>artist</th>\n",
       "      <th>popularity</th>\n",
       "    </tr>\n",
       "  </thead>\n",
       "  <tbody>\n",
       "    <tr>\n",
       "      <th>0</th>\n",
       "      <td>Perfect</td>\n",
       "      <td>Ed Sheeran</td>\n",
       "      <td>87</td>\n",
       "    </tr>\n",
       "    <tr>\n",
       "      <th>1</th>\n",
       "      <td>lovely (with Khalid)</td>\n",
       "      <td>Billie Eilish</td>\n",
       "      <td>87</td>\n",
       "    </tr>\n",
       "    <tr>\n",
       "      <th>2</th>\n",
       "      <td>Lucid Dreams</td>\n",
       "      <td>Juice WRLD</td>\n",
       "      <td>85</td>\n",
       "    </tr>\n",
       "    <tr>\n",
       "      <th>3</th>\n",
       "      <td>we fell in love in october</td>\n",
       "      <td>girl in red</td>\n",
       "      <td>84</td>\n",
       "    </tr>\n",
       "    <tr>\n",
       "      <th>4</th>\n",
       "      <td>SAD!</td>\n",
       "      <td>XXXTENTACION</td>\n",
       "      <td>84</td>\n",
       "    </tr>\n",
       "    <tr>\n",
       "      <th>5</th>\n",
       "      <td>SICKO MODE</td>\n",
       "      <td>Travis Scott</td>\n",
       "      <td>84</td>\n",
       "    </tr>\n",
       "    <tr>\n",
       "      <th>6</th>\n",
       "      <td>Happier</td>\n",
       "      <td>Marshmello</td>\n",
       "      <td>83</td>\n",
       "    </tr>\n",
       "    <tr>\n",
       "      <th>7</th>\n",
       "      <td>rockstar (feat. 21 Savage)</td>\n",
       "      <td>Post Malone</td>\n",
       "      <td>83</td>\n",
       "    </tr>\n",
       "    <tr>\n",
       "      <th>8</th>\n",
       "      <td>Thunder</td>\n",
       "      <td>Imagine Dragons</td>\n",
       "      <td>83</td>\n",
       "    </tr>\n",
       "    <tr>\n",
       "      <th>9</th>\n",
       "      <td>God's Plan</td>\n",
       "      <td>Drake</td>\n",
       "      <td>82</td>\n",
       "    </tr>\n",
       "  </tbody>\n",
       "</table>\n",
       "</div>"
      ],
      "text/plain": [
       "                         name           artist  popularity\n",
       "0                     Perfect       Ed Sheeran          87\n",
       "1        lovely (with Khalid)    Billie Eilish          87\n",
       "2                Lucid Dreams       Juice WRLD          85\n",
       "3  we fell in love in october      girl in red          84\n",
       "4                        SAD!     XXXTENTACION          84\n",
       "5                  SICKO MODE     Travis Scott          84\n",
       "6                     Happier       Marshmello          83\n",
       "7  rockstar (feat. 21 Savage)      Post Malone          83\n",
       "8                     Thunder  Imagine Dragons          83\n",
       "9                  God's Plan            Drake          82"
      ]
     },
     "execution_count": 23,
     "metadata": {},
     "output_type": "execute_result"
    }
   ],
   "source": [
    "popular_songs_artist18 = df2.query('popularity > 55', inplace=False).sort_values(['popularity'], ascending=False).groupby('artist').head(1).reset_index()\n",
    "popular_songs_artist18[['name','artist','popularity']].head(10)"
   ]
  },
  {
   "cell_type": "markdown",
   "metadata": {},
   "source": [
    "most_popular = df.query('popularity>80', inplace=False).sort_values('popularity', ascending=False)\n",
    "most_popular[:10]"
   ]
  },
  {
   "cell_type": "markdown",
   "metadata": {},
   "source": [
    "## Artist present in both Dataframe with popularity > 55"
   ]
  },
  {
   "cell_type": "code",
   "execution_count": 24,
   "metadata": {},
   "outputs": [
    {
     "data": {
      "text/html": [
       "<div>\n",
       "<style scoped>\n",
       "    .dataframe tbody tr th:only-of-type {\n",
       "        vertical-align: middle;\n",
       "    }\n",
       "\n",
       "    .dataframe tbody tr th {\n",
       "        vertical-align: top;\n",
       "    }\n",
       "\n",
       "    .dataframe thead th {\n",
       "        text-align: right;\n",
       "    }\n",
       "</style>\n",
       "<table border=\"1\" class=\"dataframe\">\n",
       "  <thead>\n",
       "    <tr style=\"text-align: right;\">\n",
       "      <th></th>\n",
       "      <th>artist</th>\n",
       "    </tr>\n",
       "  </thead>\n",
       "  <tbody>\n",
       "    <tr>\n",
       "      <th>0</th>\n",
       "      <td>Ed Sheeran</td>\n",
       "    </tr>\n",
       "    <tr>\n",
       "      <th>1</th>\n",
       "      <td>Billie Eilish</td>\n",
       "    </tr>\n",
       "    <tr>\n",
       "      <th>2</th>\n",
       "      <td>Travis Scott</td>\n",
       "    </tr>\n",
       "    <tr>\n",
       "      <th>3</th>\n",
       "      <td>The Weeknd</td>\n",
       "    </tr>\n",
       "    <tr>\n",
       "      <th>4</th>\n",
       "      <td>Post Malone</td>\n",
       "    </tr>\n",
       "    <tr>\n",
       "      <th>5</th>\n",
       "      <td>Shawn Mendes</td>\n",
       "    </tr>\n",
       "    <tr>\n",
       "      <th>6</th>\n",
       "      <td>Sam Smith</td>\n",
       "    </tr>\n",
       "    <tr>\n",
       "      <th>7</th>\n",
       "      <td>Bruno Mars</td>\n",
       "    </tr>\n",
       "    <tr>\n",
       "      <th>8</th>\n",
       "      <td>Imagine Dragons</td>\n",
       "    </tr>\n",
       "    <tr>\n",
       "      <th>9</th>\n",
       "      <td>Khalid</td>\n",
       "    </tr>\n",
       "    <tr>\n",
       "      <th>10</th>\n",
       "      <td>Dua Lipa</td>\n",
       "    </tr>\n",
       "    <tr>\n",
       "      <th>11</th>\n",
       "      <td>Taylor Swift</td>\n",
       "    </tr>\n",
       "    <tr>\n",
       "      <th>12</th>\n",
       "      <td>Hailee Steinfeld</td>\n",
       "    </tr>\n",
       "    <tr>\n",
       "      <th>13</th>\n",
       "      <td>Zedd</td>\n",
       "    </tr>\n",
       "    <tr>\n",
       "      <th>14</th>\n",
       "      <td>Clean Bandit</td>\n",
       "    </tr>\n",
       "    <tr>\n",
       "      <th>15</th>\n",
       "      <td>Calvin Harris</td>\n",
       "    </tr>\n",
       "    <tr>\n",
       "      <th>16</th>\n",
       "      <td>Jason Derulo</td>\n",
       "    </tr>\n",
       "    <tr>\n",
       "      <th>17</th>\n",
       "      <td>DJ Khaled</td>\n",
       "    </tr>\n",
       "    <tr>\n",
       "      <th>18</th>\n",
       "      <td>Selena Gomez</td>\n",
       "    </tr>\n",
       "    <tr>\n",
       "      <th>19</th>\n",
       "      <td>Maroon 5</td>\n",
       "    </tr>\n",
       "    <tr>\n",
       "      <th>20</th>\n",
       "      <td>Sigala</td>\n",
       "    </tr>\n",
       "    <tr>\n",
       "      <th>21</th>\n",
       "      <td>G-Eazy</td>\n",
       "    </tr>\n",
       "    <tr>\n",
       "      <th>22</th>\n",
       "      <td>Anne-Marie</td>\n",
       "    </tr>\n",
       "  </tbody>\n",
       "</table>\n",
       "</div>"
      ],
      "text/plain": [
       "              artist\n",
       "0         Ed Sheeran\n",
       "1      Billie Eilish\n",
       "2       Travis Scott\n",
       "3         The Weeknd\n",
       "4        Post Malone\n",
       "5       Shawn Mendes\n",
       "6          Sam Smith\n",
       "7         Bruno Mars\n",
       "8    Imagine Dragons\n",
       "9             Khalid\n",
       "10          Dua Lipa\n",
       "11      Taylor Swift\n",
       "12  Hailee Steinfeld\n",
       "13              Zedd\n",
       "14      Clean Bandit\n",
       "15     Calvin Harris\n",
       "16      Jason Derulo\n",
       "17         DJ Khaled\n",
       "18      Selena Gomez\n",
       "19          Maroon 5\n",
       "20            Sigala\n",
       "21            G-Eazy\n",
       "22        Anne-Marie"
      ]
     },
     "execution_count": 24,
     "metadata": {},
     "output_type": "execute_result"
    }
   ],
   "source": [
    "new_df = pd.merge(popular_songs_artist17, popular_songs_artist18,  how='inner', left_on=['artist'], right_on = ['artist'])\n",
    "new_df[['artist']]"
   ]
  },
  {
   "cell_type": "markdown",
   "metadata": {},
   "source": [
    "df.info()"
   ]
  },
  {
   "cell_type": "code",
   "execution_count": 25,
   "metadata": {},
   "outputs": [
    {
     "data": {
      "text/html": [
       "<div>\n",
       "<style scoped>\n",
       "    .dataframe tbody tr th:only-of-type {\n",
       "        vertical-align: middle;\n",
       "    }\n",
       "\n",
       "    .dataframe tbody tr th {\n",
       "        vertical-align: top;\n",
       "    }\n",
       "\n",
       "    .dataframe thead th {\n",
       "        text-align: right;\n",
       "    }\n",
       "</style>\n",
       "<table border=\"1\" class=\"dataframe\">\n",
       "  <thead>\n",
       "    <tr style=\"text-align: right;\">\n",
       "      <th></th>\n",
       "      <th>popularity</th>\n",
       "      <th>danceability</th>\n",
       "    </tr>\n",
       "  </thead>\n",
       "  <tbody>\n",
       "    <tr>\n",
       "      <th>0</th>\n",
       "      <td>66</td>\n",
       "      <td>0.855000</td>\n",
       "    </tr>\n",
       "    <tr>\n",
       "      <th>1</th>\n",
       "      <td>2</td>\n",
       "      <td>0.771000</td>\n",
       "    </tr>\n",
       "    <tr>\n",
       "      <th>2</th>\n",
       "      <td>84</td>\n",
       "      <td>0.748000</td>\n",
       "    </tr>\n",
       "    <tr>\n",
       "      <th>3</th>\n",
       "      <td>60</td>\n",
       "      <td>0.745000</td>\n",
       "    </tr>\n",
       "    <tr>\n",
       "      <th>4</th>\n",
       "      <td>70</td>\n",
       "      <td>0.731333</td>\n",
       "    </tr>\n",
       "  </tbody>\n",
       "</table>\n",
       "</div>"
      ],
      "text/plain": [
       "   popularity  danceability\n",
       "0          66      0.855000\n",
       "1           2      0.771000\n",
       "2          84      0.748000\n",
       "3          60      0.745000\n",
       "4          70      0.731333"
      ]
     },
     "execution_count": 25,
     "metadata": {},
     "output_type": "execute_result"
    }
   ],
   "source": [
    "df_1=df.groupby('popularity')['danceability'].mean().sort_values(ascending=[False]).reset_index()\n",
    "df_1.head()"
   ]
  },
  {
   "cell_type": "code",
   "execution_count": 26,
   "metadata": {},
   "outputs": [
    {
     "data": {
      "text/html": [
       "<div>\n",
       "<style scoped>\n",
       "    .dataframe tbody tr th:only-of-type {\n",
       "        vertical-align: middle;\n",
       "    }\n",
       "\n",
       "    .dataframe tbody tr th {\n",
       "        vertical-align: top;\n",
       "    }\n",
       "\n",
       "    .dataframe thead th {\n",
       "        text-align: right;\n",
       "    }\n",
       "</style>\n",
       "<table border=\"1\" class=\"dataframe\">\n",
       "  <thead>\n",
       "    <tr style=\"text-align: right;\">\n",
       "      <th></th>\n",
       "      <th>popularity</th>\n",
       "      <th>danceability</th>\n",
       "    </tr>\n",
       "  </thead>\n",
       "  <tbody>\n",
       "    <tr>\n",
       "      <th>0</th>\n",
       "      <td>67</td>\n",
       "      <td>0.8560</td>\n",
       "    </tr>\n",
       "    <tr>\n",
       "      <th>1</th>\n",
       "      <td>66</td>\n",
       "      <td>0.8450</td>\n",
       "    </tr>\n",
       "    <tr>\n",
       "      <th>2</th>\n",
       "      <td>86</td>\n",
       "      <td>0.8250</td>\n",
       "    </tr>\n",
       "    <tr>\n",
       "      <th>3</th>\n",
       "      <td>55</td>\n",
       "      <td>0.8130</td>\n",
       "    </tr>\n",
       "    <tr>\n",
       "      <th>4</th>\n",
       "      <td>72</td>\n",
       "      <td>0.7985</td>\n",
       "    </tr>\n",
       "  </tbody>\n",
       "</table>\n",
       "</div>"
      ],
      "text/plain": [
       "   popularity  danceability\n",
       "0          67        0.8560\n",
       "1          66        0.8450\n",
       "2          86        0.8250\n",
       "3          55        0.8130\n",
       "4          72        0.7985"
      ]
     },
     "execution_count": 26,
     "metadata": {},
     "output_type": "execute_result"
    }
   ],
   "source": [
    "df_2=df2.groupby('popularity')['danceability'].mean().sort_values(ascending=[False]).reset_index()\n",
    "df_2.head()"
   ]
  },
  {
   "cell_type": "code",
   "execution_count": 27,
   "metadata": {},
   "outputs": [
    {
     "data": {
      "text/plain": [
       "<matplotlib.collections.PathCollection at 0x1f8e342a940>"
      ]
     },
     "execution_count": 27,
     "metadata": {},
     "output_type": "execute_result"
    },
    {
     "data": {
      "image/png": "[encoded data removed]",
      "text/plain": [
       "<Figure size 1440x720 with 1 Axes>"
      ]
     },
     "metadata": {
      "needs_background": "light"
     },
     "output_type": "display_data"
    }
   ],
   "source": [
    "x = df_1.popularity\n",
    "y= df_1.danceability\n",
    "plt.figure(figsize=(20,10))\n",
    "plt.xlabel('Popularity')\n",
    "plt.ylabel('danceability')\n",
    "plt.scatter(x,y)\n",
    "# 'popularity' and 'danceability' are positively correlated, which implies that, \n",
    "# as the popularity of the song increase, the danceability score for that song also increases."
   ]
  },
  {
   "cell_type": "markdown",
   "metadata": {},
   "source": [
    "plt.title(\"Duration of songs across genres\")\n",
    "sns.color_palette(\"husl\",15)\n",
    "x = df.time_signature\n",
    "y= df.energy\n",
    "plt.scatter(x,y)\n",
    "plt.xlabel(\"Duration (in ms)\")\n",
    "plt.ylabel(\"energy\")"
   ]
  },
  {
   "cell_type": "markdown",
   "metadata": {},
   "source": [
    "## Artists with Most Songs\n"
   ]
  },
  {
   "cell_type": "markdown",
   "metadata": {},
   "source": [
    "artist_list = df.artist.value_counts()[:7]\n",
    "df_artists = df[df.artist.isin(artist_list)][['artist','year',\n",
    "                                                        'energy']].groupby(['artist','year']).count().reset_index()\n",
    "df_artists.rename(columns={'energy':'song_count'}, inplace=True)\n",
    "df_artists.head()\n"
   ]
  },
  {
   "cell_type": "code",
   "execution_count": 28,
   "metadata": {},
   "outputs": [
    {
     "data": {
      "application/vnd.plotly.v1+json": {
       "config": {
        "plotlyServerURL": "https://plot.ly"
       },
       "data": [
        {
         "hoverongaps": false,
         "type": "heatmap",
         "x": [
          "popularity",
          "duration_ms",
          "explicit",
          "danceability",
          "energy",
          "key",
          "loudness",
          "speechiness",
          "acousticness",
          "instrumentalness",
          "liveness",
          "tempo",
          "time_signature"
         ],
         "y": [
          "popularity",
          "duration_ms",
          "explicit",
          "danceability",
          "energy",
          "key",
          "loudness",
          "speechiness",
          "acousticness",
          "instrumentalness",
          "liveness",
          "tempo",
          "time_signature"
         ],
         "z": [
          [
           1,
           -0.3639402448663568,
           -0.05237027930374902,
           0.06514162853264054,
           -0.017174326228420272,
           0.05182079467962349,
           0.06671729856980091,
           0.036877298399645916,
           -0.1517273215040436,
           0.07216548425098276,
           -0.09166760666038294,
           -0.06272346226833063,
           0.07746251899619198
          ],
          [
           -0.3639402448663568,
           1,
           0.0024006678438305493,
           -0.07174225150237253,
           -0.07158536256991607,
           0.0633029769223649,
           -0.028768629062424993,
           -0.06218427905202128,
           0.002972998613289007,
           -0.0750422405004894,
           0.01909038563185319,
           -0.09539416935610756,
           0.20135457011378577
          ],
          [
           -0.05237027930374902,
           0.0024006678438305493,
           1,
           0.18420151899577542,
           -0.02320644752903472,
           -0.1273651583739232,
           -0.06912909527001701,
           -0.1337982975166844,
           0.03375782035179411,
           -0.017282680800407377,
           -0.023959320807111325,
           -0.010160439299671309,
           -0.11683090452592776
          ],
          [
           0.06514162853264054,
           -0.07174225150237253,
           0.18420151899577542,
           1,
           0.08292982348372228,
           -0.09692865312282266,
           -0.04405120274833485,
           -0.11513296372413227,
           -0.22032284315938258,
           -0.07652542834604398,
           -0.01048899232625244,
           -0.143273618198363,
           0.02193349663418371
          ],
          [
           -0.017174326228420272,
           -0.07158536256991607,
           -0.02320644752903472,
           0.08292982348372228,
           1,
           -0.0060223686239380915,
           -0.4651645130882653,
           -0.06837874349771253,
           -0.1282151002960175,
           -0.4278108899447259,
           0.003518208703645252,
           -0.2280860315707809,
           0.06784818882515443
          ],
          [
           0.05182079467962349,
           0.0633029769223649,
           -0.1273651583739232,
           -0.09692865312282266,
           -0.0060223686239380915,
           1,
           0.01701876993480033,
           -0.02072715051693609,
           -0.0480426849592473,
           0.2207517678477816,
           -0.25209303842774605,
           -0.3276217415853517,
           0.0625928891874095
          ],
          [
           0.06671729856980091,
           -0.028768629062424993,
           -0.06912909527001701,
           -0.04405120274833485,
           -0.4651645130882653,
           0.01701876993480033,
           1,
           0.16882155636895294,
           0.2374745195006817,
           0.7121602548581498,
           0.08452725181872706,
           0.15022249005262853,
           0.14601573444080632
          ],
          [
           0.036877298399645916,
           -0.06218427905202128,
           -0.1337982975166844,
           -0.11513296372413227,
           -0.06837874349771253,
           -0.02072715051693609,
           0.16882155636895294,
           1,
           -0.016227916459768177,
           0.05428058694594656,
           -0.08447700867554435,
           0.15783651844434027,
           0.025732867813510786
          ],
          [
           -0.1517273215040436,
           0.002972998613289007,
           0.03375782035179411,
           -0.22032284315938258,
           -0.1282151002960175,
           -0.0480426849592473,
           0.2374745195006817,
           -0.016227916459768177,
           1,
           0.1389105899910338,
           0.034253518095079136,
           -0.007530236722771594,
           0.09201720883593074
          ],
          [
           0.07216548425098276,
           -0.0750422405004894,
           -0.017282680800407377,
           -0.07652542834604398,
           -0.4278108899447259,
           0.2207517678477816,
           0.7121602548581498,
           0.05428058694594656,
           0.1389105899910338,
           1,
           -0.23511856380998958,
           -0.019565600164396017,
           0.03857461507422892
          ],
          [
           -0.09166760666038294,
           0.01909038563185319,
           -0.023959320807111325,
           -0.01048899232625244,
           0.003518208703645252,
           -0.25209303842774605,
           0.08452725181872706,
           -0.08447700867554435,
           0.034253518095079136,
           -0.23511856380998958,
           1,
           0.19877029427256399,
           0.10690949313330814
          ],
          [
           -0.06272346226833063,
           -0.09539416935610756,
           -0.010160439299671309,
           -0.143273618198363,
           -0.2280860315707809,
           -0.3276217415853517,
           0.15022249005262853,
           0.15783651844434027,
           -0.007530236722771594,
           -0.019565600164396017,
           0.19877029427256399,
           1,
           -0.04532905143750585
          ],
          [
           0.07746251899619198,
           0.20135457011378577,
           -0.11683090452592776,
           0.02193349663418371,
           0.06784818882515443,
           0.0625928891874095,
           0.14601573444080632,
           0.025732867813510786,
           0.09201720883593074,
           0.03857461507422892,
           0.10690949313330814,
           -0.04532905143750585,
           1
          ]
         ]
        }
       ],
       "layout": {
        "autosize": false,
        "height": 650,
        "margin": {
         "b": 200,
         "l": 200,
         "r": 200,
         "t": 200
        },
        "template": {
         "data": {
          "bar": [
           {
            "error_x": {
             "color": "#2a3f5f"
            },
            "error_y": {
             "color": "#2a3f5f"
            },
            "marker": {
             "line": {
              "color": "#E5ECF6",
              "width": 0.5
             },
             "pattern": {
              "fillmode": "overlay",
              "size": 10,
              "solidity": 0.2
             }
            },
            "type": "bar"
           }
          ],
          "barpolar": [
           {
            "marker": {
             "line": {
              "color": "#E5ECF6",
              "width": 0.5
             },
             "pattern": {
              "fillmode": "overlay",
              "size": 10,
              "solidity": 0.2
             }
            },
            "type": "barpolar"
           }
          ],
          "carpet": [
           {
            "aaxis": {
             "endlinecolor": "#2a3f5f",
             "gridcolor": "white",
             "linecolor": "white",
             "minorgridcolor": "white",
             "startlinecolor": "#2a3f5f"
            },
            "baxis": {
             "endlinecolor": "#2a3f5f",
             "gridcolor": "white",
             "linecolor": "white",
             "minorgridcolor": "white",
             "startlinecolor": "#2a3f5f"
            },
            "type": "carpet"
           }
          ],
          "choropleth": [
           {
            "colorbar": {
             "outlinewidth": 0,
             "ticks": ""
            },
            "type": "choropleth"
           }
          ],
          "contour": [
           {
            "colorbar": {
             "outlinewidth": 0,
             "ticks": ""
            },
            "colorscale": [
             [
              0,
              "#0d0887"
             ],
             [
              0.1111111111111111,
              "#46039f"
             ],
             [
              0.2222222222222222,
              "#7201a8"
             ],
             [
              0.3333333333333333,
              "#9c179e"
             ],
             [
              0.4444444444444444,
              "#bd3786"
             ],
             [
              0.5555555555555556,
              "#d8576b"
             ],
             [
              0.6666666666666666,
              "#ed7953"
             ],
             [
              0.7777777777777778,
              "#fb9f3a"
             ],
             [
              0.8888888888888888,
              "#fdca26"
             ],
             [
              1,
              "#f0f921"
             ]
            ],
            "type": "contour"
           }
          ],
          "contourcarpet": [
           {
            "colorbar": {
             "outlinewidth": 0,
             "ticks": ""
            },
            "type": "contourcarpet"
           }
          ],
          "heatmap": [
           {
            "colorbar": {
             "outlinewidth": 0,
             "ticks": ""
            },
            "colorscale": [
             [
              0,
              "#0d0887"
             ],
             [
              0.1111111111111111,
              "#46039f"
             ],
             [
              0.2222222222222222,
              "#7201a8"
             ],
             [
              0.3333333333333333,
              "#9c179e"
             ],
             [
              0.4444444444444444,
              "#bd3786"
             ],
             [
              0.5555555555555556,
              "#d8576b"
             ],
             [
              0.6666666666666666,
              "#ed7953"
             ],
             [
              0.7777777777777778,
              "#fb9f3a"
             ],
             [
              0.8888888888888888,
              "#fdca26"
             ],
             [
              1,
              "#f0f921"
             ]
            ],
            "type": "heatmap"
           }
          ],
          "heatmapgl": [
           {
            "colorbar": {
             "outlinewidth": 0,
             "ticks": ""
            },
            "colorscale": [
             [
              0,
              "#0d0887"
             ],
             [
              0.1111111111111111,
              "#46039f"
             ],
             [
              0.2222222222222222,
              "#7201a8"
             ],
             [
              0.3333333333333333,
              "#9c179e"
             ],
             [
              0.4444444444444444,
              "#bd3786"
             ],
             [
              0.5555555555555556,
              "#d8576b"
             ],
             [
              0.6666666666666666,
              "#ed7953"
             ],
             [
              0.7777777777777778,
              "#fb9f3a"
             ],
             [
              0.8888888888888888,
              "#fdca26"
             ],
             [
              1,
              "#f0f921"
             ]
            ],
            "type": "heatmapgl"
           }
          ],
          "histogram": [
           {
            "marker": {
             "pattern": {
              "fillmode": "overlay",
              "size": 10,
              "solidity": 0.2
             }
            },
            "type": "histogram"
           }
          ],
          "histogram2d": [
           {
            "colorbar": {
             "outlinewidth": 0,
             "ticks": ""
            },
            "colorscale": [
             [
              0,
              "#0d0887"
             ],
             [
              0.1111111111111111,
              "#46039f"
             ],
             [
              0.2222222222222222,
              "#7201a8"
             ],
             [
              0.3333333333333333,
              "#9c179e"
             ],
             [
              0.4444444444444444,
              "#bd3786"
             ],
             [
              0.5555555555555556,
              "#d8576b"
             ],
             [
              0.6666666666666666,
              "#ed7953"
             ],
             [
              0.7777777777777778,
              "#fb9f3a"
             ],
             [
              0.8888888888888888,
              "#fdca26"
             ],
             [
              1,
              "#f0f921"
             ]
            ],
            "type": "histogram2d"
           }
          ],
          "histogram2dcontour": [
           {
            "colorbar": {
             "outlinewidth": 0,
             "ticks": ""
            },
            "colorscale": [
             [
              0,
              "#0d0887"
             ],
             [
              0.1111111111111111,
              "#46039f"
             ],
             [
              0.2222222222222222,
              "#7201a8"
             ],
             [
              0.3333333333333333,
              "#9c179e"
             ],
             [
              0.4444444444444444,
              "#bd3786"
             ],
             [
              0.5555555555555556,
              "#d8576b"
             ],
             [
              0.6666666666666666,
              "#ed7953"
             ],
             [
              0.7777777777777778,
              "#fb9f3a"
             ],
             [
              0.8888888888888888,
              "#fdca26"
             ],
             [
              1,
              "#f0f921"
             ]
            ],
            "type": "histogram2dcontour"
           }
          ],
          "mesh3d": [
           {
            "colorbar": {
             "outlinewidth": 0,
             "ticks": ""
            },
            "type": "mesh3d"
           }
          ],
          "parcoords": [
           {
            "line": {
             "colorbar": {
              "outlinewidth": 0,
              "ticks": ""
             }
            },
            "type": "parcoords"
           }
          ],
          "pie": [
           {
            "automargin": true,
            "type": "pie"
           }
          ],
          "scatter": [
           {
            "marker": {
             "colorbar": {
              "outlinewidth": 0,
              "ticks": ""
             }
            },
            "type": "scatter"
           }
          ],
          "scatter3d": [
           {
            "line": {
             "colorbar": {
              "outlinewidth": 0,
              "ticks": ""
             }
            },
            "marker": {
             "colorbar": {
              "outlinewidth": 0,
              "ticks": ""
             }
            },
            "type": "scatter3d"
           }
          ],
          "scattercarpet": [
           {
            "marker": {
             "colorbar": {
              "outlinewidth": 0,
              "ticks": ""
             }
            },
            "type": "scattercarpet"
           }
          ],
          "scattergeo": [
           {
            "marker": {
             "colorbar": {
              "outlinewidth": 0,
              "ticks": ""
             }
            },
            "type": "scattergeo"
           }
          ],
          "scattergl": [
           {
            "marker": {
             "colorbar": {
              "outlinewidth": 0,
              "ticks": ""
             }
            },
            "type": "scattergl"
           }
          ],
          "scattermapbox": [
           {
            "marker": {
             "colorbar": {
              "outlinewidth": 0,
              "ticks": ""
             }
            },
            "type": "scattermapbox"
           }
          ],
          "scatterpolar": [
           {
            "marker": {
             "colorbar": {
              "outlinewidth": 0,
              "ticks": ""
             }
            },
            "type": "scatterpolar"
           }
          ],
          "scatterpolargl": [
           {
            "marker": {
             "colorbar": {
              "outlinewidth": 0,
              "ticks": ""
             }
            },
            "type": "scatterpolargl"
           }
          ],
          "scatterternary": [
           {
            "marker": {
             "colorbar": {
              "outlinewidth": 0,
              "ticks": ""
             }
            },
            "type": "scatterternary"
           }
          ],
          "surface": [
           {
            "colorbar": {
             "outlinewidth": 0,
             "ticks": ""
            },
            "colorscale": [
             [
              0,
              "#0d0887"
             ],
             [
              0.1111111111111111,
              "#46039f"
             ],
             [
              0.2222222222222222,
              "#7201a8"
             ],
             [
              0.3333333333333333,
              "#9c179e"
             ],
             [
              0.4444444444444444,
              "#bd3786"
             ],
             [
              0.5555555555555556,
              "#d8576b"
             ],
             [
              0.6666666666666666,
              "#ed7953"
             ],
             [
              0.7777777777777778,
              "#fb9f3a"
             ],
             [
              0.8888888888888888,
              "#fdca26"
             ],
             [
              1,
              "#f0f921"
             ]
            ],
            "type": "surface"
           }
          ],
          "table": [
           {
            "cells": {
             "fill": {
              "color": "#EBF0F8"
             },
             "line": {
              "color": "white"
             }
            },
            "header": {
             "fill": {
              "color": "#C8D4E3"
             },
             "line": {
              "color": "white"
             }
            },
            "type": "table"
           }
          ]
         },
         "layout": {
          "annotationdefaults": {
           "arrowcolor": "#2a3f5f",
           "arrowhead": 0,
           "arrowwidth": 1
          },
          "autotypenumbers": "strict",
          "coloraxis": {
           "colorbar": {
            "outlinewidth": 0,
            "ticks": ""
           }
          },
          "colorscale": {
           "diverging": [
            [
             0,
             "#8e0152"
            ],
            [
             0.1,
             "#c51b7d"
            ],
            [
             0.2,
             "#de77ae"
            ],
            [
             0.3,
             "#f1b6da"
            ],
            [
             0.4,
             "#fde0ef"
            ],
            [
             0.5,
             "#f7f7f7"
            ],
            [
             0.6,
             "#e6f5d0"
            ],
            [
             0.7,
             "#b8e186"
            ],
            [
             0.8,
             "#7fbc41"
            ],
            [
             0.9,
             "#4d9221"
            ],
            [
             1,
             "#276419"
            ]
           ],
           "sequential": [
            [
             0,
             "#0d0887"
            ],
            [
             0.1111111111111111,
             "#46039f"
            ],
            [
             0.2222222222222222,
             "#7201a8"
            ],
            [
             0.3333333333333333,
             "#9c179e"
            ],
            [
             0.4444444444444444,
             "#bd3786"
            ],
            [
             0.5555555555555556,
             "#d8576b"
            ],
            [
             0.6666666666666666,
             "#ed7953"
            ],
            [
             0.7777777777777778,
             "#fb9f3a"
            ],
            [
             0.8888888888888888,
             "#fdca26"
            ],
            [
             1,
             "#f0f921"
            ]
           ],
           "sequentialminus": [
            [
             0,
             "#0d0887"
            ],
            [
             0.1111111111111111,
             "#46039f"
            ],
            [
             0.2222222222222222,
             "#7201a8"
            ],
            [
             0.3333333333333333,
             "#9c179e"
            ],
            [
             0.4444444444444444,
             "#bd3786"
            ],
            [
             0.5555555555555556,
             "#d8576b"
            ],
            [
             0.6666666666666666,
             "#ed7953"
            ],
            [
             0.7777777777777778,
             "#fb9f3a"
            ],
            [
             0.8888888888888888,
             "#fdca26"
            ],
            [
             1,
             "#f0f921"
            ]
           ]
          },
          "colorway": [
           "#636efa",
           "#EF553B",
           "#00cc96",
           "#ab63fa",
           "#FFA15A",
           "#19d3f3",
           "#FF6692",
           "#B6E880",
           "#FF97FF",
           "#FECB52"
          ],
          "font": {
           "color": "#2a3f5f"
          },
          "geo": {
           "bgcolor": "white",
           "lakecolor": "white",
           "landcolor": "#E5ECF6",
           "showlakes": true,
           "showland": true,
           "subunitcolor": "white"
          },
          "hoverlabel": {
           "align": "left"
          },
          "hovermode": "closest",
          "mapbox": {
           "style": "light"
          },
          "paper_bgcolor": "white",
          "plot_bgcolor": "#E5ECF6",
          "polar": {
           "angularaxis": {
            "gridcolor": "white",
            "linecolor": "white",
            "ticks": ""
           },
           "bgcolor": "#E5ECF6",
           "radialaxis": {
            "gridcolor": "white",
            "linecolor": "white",
            "ticks": ""
           }
          },
          "scene": {
           "xaxis": {
            "backgroundcolor": "#E5ECF6",
            "gridcolor": "white",
            "gridwidth": 2,
            "linecolor": "white",
            "showbackground": true,
            "ticks": "",
            "zerolinecolor": "white"
           },
           "yaxis": {
            "backgroundcolor": "#E5ECF6",
            "gridcolor": "white",
            "gridwidth": 2,
            "linecolor": "white",
            "showbackground": true,
            "ticks": "",
            "zerolinecolor": "white"
           },
           "zaxis": {
            "backgroundcolor": "#E5ECF6",
            "gridcolor": "white",
            "gridwidth": 2,
            "linecolor": "white",
            "showbackground": true,
            "ticks": "",
            "zerolinecolor": "white"
           }
          },
          "shapedefaults": {
           "line": {
            "color": "#2a3f5f"
           }
          },
          "ternary": {
           "aaxis": {
            "gridcolor": "white",
            "linecolor": "white",
            "ticks": ""
           },
           "baxis": {
            "gridcolor": "white",
            "linecolor": "white",
            "ticks": ""
           },
           "bgcolor": "#E5ECF6",
           "caxis": {
            "gridcolor": "white",
            "linecolor": "white",
            "ticks": ""
           }
          },
          "title": {
           "x": 0.05
          },
          "xaxis": {
           "automargin": true,
           "gridcolor": "white",
           "linecolor": "white",
           "ticks": "",
           "title": {
            "standoff": 15
           },
           "zerolinecolor": "white",
           "zerolinewidth": 2
          },
          "yaxis": {
           "automargin": true,
           "gridcolor": "white",
           "linecolor": "white",
           "ticks": "",
           "title": {
            "standoff": 15
           },
           "zerolinecolor": "white",
           "zerolinewidth": 2
          }
         }
        },
        "width": 800
       }
      }
     },
     "metadata": {},
     "output_type": "display_data"
    }
   ],
   "source": [
    "import plotly.graph_objects as go    #importing the library\n",
    "\n",
    "matrix=df.corr()  #returns a matrix with correlation of all features\n",
    "x_list=['popularity','duration_ms','explicit',\n",
    "        'danceability','energy','key','loudness',\n",
    "        'speechiness','acousticness','instrumentalness',\n",
    "        'liveness','tempo','time_signature']\n",
    "\n",
    "fig_heatmap = go.Figure(data=go.Heatmap(\n",
    "                   z=matrix,\n",
    "                   x=x_list,\n",
    "                   y=x_list,\n",
    "                   hoverongaps = False))\n",
    "fig_heatmap.update_layout(margin = dict(t=200,r=200,b=200,l=200),\n",
    "    width = 800, height = 650,\n",
    "    autosize = False )\n",
    "\n",
    "fig_heatmap.show()"
   ]
  },
  {
   "cell_type": "markdown",
   "metadata": {},
   "source": [
    "year = df['release_date'].apply(lambda x : x.year)\n",
    "month = df['release_date'].apply(lambda x : x.month)\n",
    "df.insert(loc=8, column='year', value=year) \n",
    "df.insert(loc=9, column='month', value=month)"
   ]
  },
  {
   "cell_type": "markdown",
   "metadata": {},
   "source": [
    "## Popular Artist of 2017"
   ]
  },
  {
   "cell_type": "markdown",
   "metadata": {},
   "source": [
    "df.info()"
   ]
  },
  {
   "cell_type": "code",
   "execution_count": 29,
   "metadata": {},
   "outputs": [
    {
     "data": {
      "text/plain": [
       "<BarContainer object of 10 artists>"
      ]
     },
     "execution_count": 29,
     "metadata": {},
     "output_type": "execute_result"
    },
    {
     "data": {
      "image/png": "[encoded data removed]",
      "text/plain": [
       "<Figure size 1440x720 with 1 Axes>"
      ]
     },
     "metadata": {
      "needs_background": "light"
     },
     "output_type": "display_data"
    }
   ],
   "source": [
    "artists_popular = df.sort_values(by=['popularity'], ascending=False).reset_index()\n",
    "artists_popular_top10 =artists_popular[:10]\n",
    "x = artists_popular_top10.artist\n",
    "y= artists_popular_top10.popularity\n",
    "plt.figure(figsize=(20,10))\n",
    "plt.xlabel('Song Name')\n",
    "plt.ylabel('Poplularity')\n",
    "plt.bar(x, y)\n",
    "\n"
   ]
  },
  {
   "cell_type": "markdown",
   "metadata": {},
   "source": [
    "## Popular Artist 2018"
   ]
  },
  {
   "cell_type": "code",
   "execution_count": 30,
   "metadata": {},
   "outputs": [
    {
     "data": {
      "text/plain": [
       "<BarContainer object of 10 artists>"
      ]
     },
     "execution_count": 30,
     "metadata": {},
     "output_type": "execute_result"
    },
    {
     "data": {
      "image/png": "[encoded data removed]",
      "text/plain": [
       "<Figure size 1440x720 with 1 Axes>"
      ]
     },
     "metadata": {
      "needs_background": "light"
     },
     "output_type": "display_data"
    }
   ],
   "source": [
    "artists_popular18 = df2.sort_values(by=['popularity'], ascending=False).reset_index()\n",
    "artists_popular_top1018 =artists_popular18[:10]\n",
    "x = artists_popular_top1018.artist\n",
    "y= artists_popular_top1018.popularity\n",
    "plt.figure(figsize=(20,10))\n",
    "plt.xlabel('Artist')\n",
    "plt.ylabel('Poplularity')\n",
    "plt.bar(x, y)"
   ]
  },
  {
   "cell_type": "markdown",
   "metadata": {},
   "source": [
    "## Top 10 Based On tempo 2017"
   ]
  },
  {
   "cell_type": "code",
   "execution_count": 31,
   "metadata": {},
   "outputs": [
    {
     "data": {
      "text/plain": [
       "<BarContainer object of 10 artists>"
      ]
     },
     "execution_count": 31,
     "metadata": {},
     "output_type": "execute_result"
    },
    {
     "data": {
      "image/png": "[encoded data removed]",
      "text/plain": [
       "<Figure size 2880x720 with 1 Axes>"
      ]
     },
     "metadata": {
      "needs_background": "light"
     },
     "output_type": "display_data"
    }
   ],
   "source": [
    "artists_tempo = df.sort_values(['tempo'], ascending=False).reset_index()\n",
    "artists_tempo_top10 =artists_tempo[:10]\n",
    "#print(artists_tempo_top10)\n",
    "x = artists_tempo_top10.name\n",
    "y= artists_tempo_top10.tempo\n",
    "plt.figure(figsize=(40,10))\n",
    "plt.xlabel('Song Name')\n",
    "plt.ylabel('tempo')\n",
    "plt.bar(x, y)"
   ]
  },
  {
   "cell_type": "markdown",
   "metadata": {},
   "source": [
    "## Top 10 Based on tempo 2018"
   ]
  },
  {
   "cell_type": "code",
   "execution_count": 32,
   "metadata": {},
   "outputs": [
    {
     "data": {
      "text/plain": [
       "<BarContainer object of 10 artists>"
      ]
     },
     "execution_count": 32,
     "metadata": {},
     "output_type": "execute_result"
    },
    {
     "data": {
      "image/png": "[encoded data removed]",
      "text/plain": [
       "<Figure size 2880x720 with 1 Axes>"
      ]
     },
     "metadata": {
      "needs_background": "light"
     },
     "output_type": "display_data"
    }
   ],
   "source": [
    "artists_tempo18 = df2.sort_values(['tempo'], ascending=False).reset_index()\n",
    "artists_tempo_top1018 =artists_tempo18[:10]\n",
    "#print(artists_tempo_top10)\n",
    "x = artists_tempo_top1018.name\n",
    "y= artists_tempo_top1018.tempo\n",
    "plt.figure(figsize=(40,10))\n",
    "plt.xlabel('Song Name')\n",
    "plt.ylabel('tempo')\n",
    "plt.bar(x, y)"
   ]
  },
  {
   "cell_type": "code",
   "execution_count": 33,
   "metadata": {},
   "outputs": [
    {
     "data": {
      "text/html": [
       "<div>\n",
       "<style scoped>\n",
       "    .dataframe tbody tr th:only-of-type {\n",
       "        vertical-align: middle;\n",
       "    }\n",
       "\n",
       "    .dataframe tbody tr th {\n",
       "        vertical-align: top;\n",
       "    }\n",
       "\n",
       "    .dataframe thead th {\n",
       "        text-align: right;\n",
       "    }\n",
       "</style>\n",
       "<table border=\"1\" class=\"dataframe\">\n",
       "  <thead>\n",
       "    <tr style=\"text-align: right;\">\n",
       "      <th></th>\n",
       "      <th>index</th>\n",
       "      <th>name</th>\n",
       "      <th>album</th>\n",
       "      <th>artist</th>\n",
       "      <th>release_date</th>\n",
       "      <th>year</th>\n",
       "      <th>month</th>\n",
       "      <th>length</th>\n",
       "      <th>popularity</th>\n",
       "      <th>acousticness</th>\n",
       "      <th>danceability</th>\n",
       "      <th>energy</th>\n",
       "      <th>instrumentalness</th>\n",
       "      <th>liveness</th>\n",
       "      <th>loudness</th>\n",
       "      <th>speechiness</th>\n",
       "      <th>tempo</th>\n",
       "      <th>time_signature</th>\n",
       "    </tr>\n",
       "  </thead>\n",
       "  <tbody>\n",
       "    <tr>\n",
       "      <th>0</th>\n",
       "      <td>9</td>\n",
       "      <td>Scars To Your Beautiful</td>\n",
       "      <td>Know-It-All (Deluxe)</td>\n",
       "      <td>Alessia Cara</td>\n",
       "      <td>2016-03-11</td>\n",
       "      <td>2016</td>\n",
       "      <td>3</td>\n",
       "      <td>230226</td>\n",
       "      <td>79</td>\n",
       "      <td>0.02850</td>\n",
       "      <td>0.319</td>\n",
       "      <td>0.739</td>\n",
       "      <td>0.000000</td>\n",
       "      <td>0.1110</td>\n",
       "      <td>-5.740</td>\n",
       "      <td>0.2720</td>\n",
       "      <td>194.169</td>\n",
       "      <td>4</td>\n",
       "    </tr>\n",
       "    <tr>\n",
       "      <th>1</th>\n",
       "      <td>7</td>\n",
       "      <td>Starboy</td>\n",
       "      <td>Starboy</td>\n",
       "      <td>The Weeknd</td>\n",
       "      <td>2016-11-25</td>\n",
       "      <td>2016</td>\n",
       "      <td>11</td>\n",
       "      <td>230453</td>\n",
       "      <td>83</td>\n",
       "      <td>0.14100</td>\n",
       "      <td>0.679</td>\n",
       "      <td>0.587</td>\n",
       "      <td>0.000006</td>\n",
       "      <td>0.1370</td>\n",
       "      <td>-7.015</td>\n",
       "      <td>0.2760</td>\n",
       "      <td>186.003</td>\n",
       "      <td>4</td>\n",
       "    </tr>\n",
       "    <tr>\n",
       "      <th>2</th>\n",
       "      <td>13</td>\n",
       "      <td>Dusk Till Dawn - Radio Edit</td>\n",
       "      <td>Dusk Till Dawn (Radio Edit)</td>\n",
       "      <td>ZAYN</td>\n",
       "      <td>2017-09-07</td>\n",
       "      <td>2017</td>\n",
       "      <td>9</td>\n",
       "      <td>239000</td>\n",
       "      <td>80</td>\n",
       "      <td>0.10100</td>\n",
       "      <td>0.258</td>\n",
       "      <td>0.437</td>\n",
       "      <td>0.000001</td>\n",
       "      <td>0.1060</td>\n",
       "      <td>-6.593</td>\n",
       "      <td>0.0390</td>\n",
       "      <td>180.043</td>\n",
       "      <td>4</td>\n",
       "    </tr>\n",
       "    <tr>\n",
       "      <th>3</th>\n",
       "      <td>45</td>\n",
       "      <td>How Far I'll Go - From \"Moana\"</td>\n",
       "      <td>How Far I'll Go (From \"Moana\")</td>\n",
       "      <td>Alessia Cara</td>\n",
       "      <td>2016-10-28</td>\n",
       "      <td>2016</td>\n",
       "      <td>10</td>\n",
       "      <td>175517</td>\n",
       "      <td>0</td>\n",
       "      <td>0.15700</td>\n",
       "      <td>0.314</td>\n",
       "      <td>0.555</td>\n",
       "      <td>0.000108</td>\n",
       "      <td>0.0670</td>\n",
       "      <td>-9.601</td>\n",
       "      <td>0.3700</td>\n",
       "      <td>179.666</td>\n",
       "      <td>4</td>\n",
       "    </tr>\n",
       "    <tr>\n",
       "      <th>4</th>\n",
       "      <td>77</td>\n",
       "      <td>Despacito - Remix</td>\n",
       "      <td>VIDA</td>\n",
       "      <td>Luis Fonsi</td>\n",
       "      <td>2019-02-01</td>\n",
       "      <td>2019</td>\n",
       "      <td>2</td>\n",
       "      <td>230413</td>\n",
       "      <td>70</td>\n",
       "      <td>0.22600</td>\n",
       "      <td>0.649</td>\n",
       "      <td>0.798</td>\n",
       "      <td>0.000000</td>\n",
       "      <td>0.0711</td>\n",
       "      <td>-4.346</td>\n",
       "      <td>0.1780</td>\n",
       "      <td>177.899</td>\n",
       "      <td>4</td>\n",
       "    </tr>\n",
       "    <tr>\n",
       "      <th>5</th>\n",
       "      <td>2</td>\n",
       "      <td>Despacito (Featuring Daddy Yankee)</td>\n",
       "      <td>Despacito (Featuring Daddy Yankee)</td>\n",
       "      <td>Luis Fonsi</td>\n",
       "      <td>2017-01-13</td>\n",
       "      <td>2017</td>\n",
       "      <td>1</td>\n",
       "      <td>228200</td>\n",
       "      <td>1</td>\n",
       "      <td>0.20900</td>\n",
       "      <td>0.660</td>\n",
       "      <td>0.786</td>\n",
       "      <td>0.000000</td>\n",
       "      <td>0.1120</td>\n",
       "      <td>-4.757</td>\n",
       "      <td>0.1700</td>\n",
       "      <td>177.833</td>\n",
       "      <td>4</td>\n",
       "    </tr>\n",
       "    <tr>\n",
       "      <th>6</th>\n",
       "      <td>94</td>\n",
       "      <td>Love On The Brain</td>\n",
       "      <td>ANTI</td>\n",
       "      <td>Rihanna</td>\n",
       "      <td>2016-01-28</td>\n",
       "      <td>2016</td>\n",
       "      <td>1</td>\n",
       "      <td>224000</td>\n",
       "      <td>0</td>\n",
       "      <td>0.07170</td>\n",
       "      <td>0.509</td>\n",
       "      <td>0.637</td>\n",
       "      <td>0.000011</td>\n",
       "      <td>0.0789</td>\n",
       "      <td>-4.830</td>\n",
       "      <td>0.0471</td>\n",
       "      <td>172.006</td>\n",
       "      <td>3</td>\n",
       "    </tr>\n",
       "    <tr>\n",
       "      <th>7</th>\n",
       "      <td>82</td>\n",
       "      <td>Good Life (with G-Eazy &amp; Kehlani)</td>\n",
       "      <td>Good Life (with G-Eazy &amp; Kehlani)</td>\n",
       "      <td>G-Eazy</td>\n",
       "      <td>2017-03-17</td>\n",
       "      <td>2017</td>\n",
       "      <td>3</td>\n",
       "      <td>225520</td>\n",
       "      <td>64</td>\n",
       "      <td>0.00638</td>\n",
       "      <td>0.572</td>\n",
       "      <td>0.778</td>\n",
       "      <td>0.000000</td>\n",
       "      <td>0.0563</td>\n",
       "      <td>-5.208</td>\n",
       "      <td>0.2330</td>\n",
       "      <td>168.073</td>\n",
       "      <td>4</td>\n",
       "    </tr>\n",
       "    <tr>\n",
       "      <th>8</th>\n",
       "      <td>8</td>\n",
       "      <td>Thunder</td>\n",
       "      <td>Evolve</td>\n",
       "      <td>Imagine Dragons</td>\n",
       "      <td>2017-06-23</td>\n",
       "      <td>2017</td>\n",
       "      <td>6</td>\n",
       "      <td>187146</td>\n",
       "      <td>1</td>\n",
       "      <td>0.00683</td>\n",
       "      <td>0.600</td>\n",
       "      <td>0.810</td>\n",
       "      <td>0.210000</td>\n",
       "      <td>0.1550</td>\n",
       "      <td>-4.749</td>\n",
       "      <td>0.0479</td>\n",
       "      <td>167.880</td>\n",
       "      <td>4</td>\n",
       "    </tr>\n",
       "    <tr>\n",
       "      <th>9</th>\n",
       "      <td>75</td>\n",
       "      <td>...Ready For It?</td>\n",
       "      <td>reputation</td>\n",
       "      <td>Taylor Swift</td>\n",
       "      <td>2017-11-10</td>\n",
       "      <td>2017</td>\n",
       "      <td>11</td>\n",
       "      <td>208186</td>\n",
       "      <td>73</td>\n",
       "      <td>0.05270</td>\n",
       "      <td>0.613</td>\n",
       "      <td>0.764</td>\n",
       "      <td>0.000000</td>\n",
       "      <td>0.1970</td>\n",
       "      <td>-6.509</td>\n",
       "      <td>0.1360</td>\n",
       "      <td>160.015</td>\n",
       "      <td>4</td>\n",
       "    </tr>\n",
       "  </tbody>\n",
       "</table>\n",
       "</div>"
      ],
      "text/plain": [
       "   index                                name  \\\n",
       "0      9             Scars To Your Beautiful   \n",
       "1      7                             Starboy   \n",
       "2     13         Dusk Till Dawn - Radio Edit   \n",
       "3     45      How Far I'll Go - From \"Moana\"   \n",
       "4     77                   Despacito - Remix   \n",
       "5      2  Despacito (Featuring Daddy Yankee)   \n",
       "6     94                   Love On The Brain   \n",
       "7     82   Good Life (with G-Eazy & Kehlani)   \n",
       "8      8                             Thunder   \n",
       "9     75                    ...Ready For It?   \n",
       "\n",
       "                                album           artist release_date  year  \\\n",
       "0                Know-It-All (Deluxe)     Alessia Cara   2016-03-11  2016   \n",
       "1                             Starboy       The Weeknd   2016-11-25  2016   \n",
       "2         Dusk Till Dawn (Radio Edit)             ZAYN   2017-09-07  2017   \n",
       "3      How Far I'll Go (From \"Moana\")     Alessia Cara   2016-10-28  2016   \n",
       "4                                VIDA       Luis Fonsi   2019-02-01  2019   \n",
       "5  Despacito (Featuring Daddy Yankee)       Luis Fonsi   2017-01-13  2017   \n",
       "6                                ANTI          Rihanna   2016-01-28  2016   \n",
       "7   Good Life (with G-Eazy & Kehlani)           G-Eazy   2017-03-17  2017   \n",
       "8                              Evolve  Imagine Dragons   2017-06-23  2017   \n",
       "9                          reputation     Taylor Swift   2017-11-10  2017   \n",
       "\n",
       "   month  length  popularity  acousticness  danceability  energy  \\\n",
       "0      3  230226          79       0.02850         0.319   0.739   \n",
       "1     11  230453          83       0.14100         0.679   0.587   \n",
       "2      9  239000          80       0.10100         0.258   0.437   \n",
       "3     10  175517           0       0.15700         0.314   0.555   \n",
       "4      2  230413          70       0.22600         0.649   0.798   \n",
       "5      1  228200           1       0.20900         0.660   0.786   \n",
       "6      1  224000           0       0.07170         0.509   0.637   \n",
       "7      3  225520          64       0.00638         0.572   0.778   \n",
       "8      6  187146           1       0.00683         0.600   0.810   \n",
       "9     11  208186          73       0.05270         0.613   0.764   \n",
       "\n",
       "   instrumentalness  liveness  loudness  speechiness    tempo  time_signature  \n",
       "0          0.000000    0.1110    -5.740       0.2720  194.169               4  \n",
       "1          0.000006    0.1370    -7.015       0.2760  186.003               4  \n",
       "2          0.000001    0.1060    -6.593       0.0390  180.043               4  \n",
       "3          0.000108    0.0670    -9.601       0.3700  179.666               4  \n",
       "4          0.000000    0.0711    -4.346       0.1780  177.899               4  \n",
       "5          0.000000    0.1120    -4.757       0.1700  177.833               4  \n",
       "6          0.000011    0.0789    -4.830       0.0471  172.006               3  \n",
       "7          0.000000    0.0563    -5.208       0.2330  168.073               4  \n",
       "8          0.210000    0.1550    -4.749       0.0479  167.880               4  \n",
       "9          0.000000    0.1970    -6.509       0.1360  160.015               4  "
      ]
     },
     "execution_count": 33,
     "metadata": {},
     "output_type": "execute_result"
    }
   ],
   "source": [
    "artists_tempo_top10"
   ]
  },
  {
   "cell_type": "markdown",
   "metadata": {},
   "source": [
    "## Top 10 based on Dancebility 2017"
   ]
  },
  {
   "cell_type": "code",
   "execution_count": 34,
   "metadata": {},
   "outputs": [
    {
     "data": {
      "text/plain": [
       "<BarContainer object of 10 artists>"
      ]
     },
     "execution_count": 34,
     "metadata": {},
     "output_type": "execute_result"
    },
    {
     "data": {
      "image/png": "[encoded data removed]",
      "text/plain": [
       "<Figure size 2880x720 with 1 Axes>"
      ]
     },
     "metadata": {
      "needs_background": "light"
     },
     "output_type": "display_data"
    }
   ],
   "source": [
    "artists_danceability = df.sort_values(['danceability'], ascending=False).reset_index()\n",
    "artists_dance_top10 = artists_danceability[:10]\n",
    "#print(artists_tempo_top10)\n",
    "x = artists_dance_top10.name\n",
    "y= artists_dance_top10.danceability\n",
    "plt.figure(figsize=(40,10))\n",
    "plt.xlabel('Song Name')\n",
    "plt.ylabel('dancebility')\n",
    "plt.bar(x, y)"
   ]
  },
  {
   "cell_type": "code",
   "execution_count": 35,
   "metadata": {},
   "outputs": [],
   "source": [
    "import matplotlib.pyplot as plt\n",
    "import seaborn as sns\n"
   ]
  },
  {
   "cell_type": "code",
   "execution_count": 36,
   "metadata": {},
   "outputs": [
    {
     "name": "stderr",
     "output_type": "stream",
     "text": [
      "c:\\Users\\Nikki\\Dropbox\\University\\CW\\601\\venv\\lib\\site-packages\\seaborn\\_decorators.py:36: FutureWarning:\n",
      "\n",
      "Pass the following variable as a keyword arg: x. From version 0.12, the only valid positional argument will be `data`, and passing other arguments without an explicit keyword will result in an error or misinterpretation.\n",
      "\n"
     ]
    },
    {
     "data": {
      "text/plain": [
       "(array([ 0,  1,  2,  3,  4,  5,  6,  7,  8,  9, 10, 11, 12, 13, 14, 15, 16,\n",
       "        17, 18, 19, 20, 21, 22, 23, 24, 25, 26, 27, 28, 29, 30, 31, 32, 33,\n",
       "        34, 35, 36, 37, 38, 39, 40, 41, 42, 43, 44, 45, 46, 47, 48, 49, 50,\n",
       "        51, 52, 53, 54, 55, 56, 57, 58, 59, 60, 61, 62, 63, 64, 65, 66, 67,\n",
       "        68, 69]),\n",
       " [Text(0, 0, 'Ed Sheeran'),\n",
       "  Text(1, 0, 'Post Malone'),\n",
       "  Text(2, 0, 'Luis Fonsi'),\n",
       "  Text(3, 0, 'The Chainsmokers'),\n",
       "  Text(4, 0, 'Clean Bandit'),\n",
       "  Text(5, 0, 'Camila Cabello'),\n",
       "  Text(6, 0, 'Drake'),\n",
       "  Text(7, 0, 'The Weeknd'),\n",
       "  Text(8, 0, 'Imagine Dragons'),\n",
       "  Text(9, 0, 'Alessia Cara'),\n",
       "  Text(10, 0, 'Zara Larsson'),\n",
       "  Text(11, 0, 'Shawn Mendes'),\n",
       "  Text(12, 0, 'The Vamps'),\n",
       "  Text(13, 0, 'ZAYN'),\n",
       "  Text(14, 0, 'Charlie Puth'),\n",
       "  Text(15, 0, 'Dua Lipa'),\n",
       "  Text(16, 0, 'Maggie Lindemann'),\n",
       "  Text(17, 0, 'Bruno Mars'),\n",
       "  Text(18, 0, 'Maroon 5'),\n",
       "  Text(19, 0, 'Zedd'),\n",
       "  Text(20, 0, 'James Arthur'),\n",
       "  Text(21, 0, 'Jonas Blue'),\n",
       "  Text(22, 0, 'Cheat Codes'),\n",
       "  Text(23, 0, 'Martin Garrix'),\n",
       "  Text(24, 0, 'Hailee Steinfeld'),\n",
       "  Text(25, 0, 'David Guetta'),\n",
       "  Text(26, 0, 'Demi Lovato'),\n",
       "  Text(27, 0, 'Sam Smith'),\n",
       "  Text(28, 0, 'Ariana Grande'),\n",
       "  Text(29, 0, 'Chord Overstreet'),\n",
       "  Text(30, 0, 'Liam Payne'),\n",
       "  Text(31, 0, 'Khalid'),\n",
       "  Text(32, 0, 'Sean Paul'),\n",
       "  Text(33, 0, 'JP Cooper'),\n",
       "  Text(34, 0, 'Kygo'),\n",
       "  Text(35, 0, 'Axwell /\\\\ Ingrosso'),\n",
       "  Text(36, 0, 'Martin Jensen'),\n",
       "  Text(37, 0, 'Taylor Swift'),\n",
       "  Text(38, 0, 'Billie Eilish'),\n",
       "  Text(39, 0, 'Julia Michaels'),\n",
       "  Text(40, 0, 'DJ Khaled'),\n",
       "  Text(41, 0, 'Avicii'),\n",
       "  Text(42, 0, 'Machine Gun Kelly'),\n",
       "  Text(43, 0, 'Little Mix'),\n",
       "  Text(44, 0, 'Justin Bieber'),\n",
       "  Text(45, 0, 'Niall Horan'),\n",
       "  Text(46, 0, 'AJR'),\n",
       "  Text(47, 0, 'Sigala'),\n",
       "  Text(48, 0, 'Miley Cyrus'),\n",
       "  Text(49, 0, 'Rita Ora'),\n",
       "  Text(50, 0, 'Jason Derulo'),\n",
       "  Text(51, 0, 'Anne-Marie'),\n",
       "  Text(52, 0, 'Starley'),\n",
       "  Text(53, 0, 'G-Eazy'),\n",
       "  Text(54, 0, 'Macklemore'),\n",
       "  Text(55, 0, 'Selena Gomez'),\n",
       "  Text(56, 0, 'P!nk'),\n",
       "  Text(57, 0, 'blackbear'),\n",
       "  Text(58, 0, 'Logic'),\n",
       "  Text(59, 0, 'OneRepublic'),\n",
       "  Text(60, 0, 'Travis Scott'),\n",
       "  Text(61, 0, 'French Montana'),\n",
       "  Text(62, 0, 'KYLE'),\n",
       "  Text(63, 0, 'Calvin Harris'),\n",
       "  Text(64, 0, 'Harry Styles'),\n",
       "  Text(65, 0, 'J Balvin'),\n",
       "  Text(66, 0, 'Rihanna'),\n",
       "  Text(67, 0, 'Snakehips'),\n",
       "  Text(68, 0, 'Ayo & Teo'),\n",
       "  Text(69, 0, 'Lorde')])"
      ]
     },
     "execution_count": 36,
     "metadata": {},
     "output_type": "execute_result"
    },
    {
     "data": {
      "image/png": "[encoded data removed]",
      "text/plain": [
       "<Figure size 1440x2160 with 1 Axes>"
      ]
     },
     "metadata": {
      "needs_background": "light"
     },
     "output_type": "display_data"
    }
   ],
   "source": [
    "# The following count plot will tell which artists have most number of songs in the playlist.\n",
    "plt.figure(figsize=(20,30))\n",
    "sns.countplot(df['artist'])\n",
    "plt.xticks(rotation=90)"
   ]
  },
  {
   "cell_type": "code",
   "execution_count": 37,
   "metadata": {},
   "outputs": [
    {
     "data": {
      "text/html": [
       "<div>\n",
       "<style scoped>\n",
       "    .dataframe tbody tr th:only-of-type {\n",
       "        vertical-align: middle;\n",
       "    }\n",
       "\n",
       "    .dataframe tbody tr th {\n",
       "        vertical-align: top;\n",
       "    }\n",
       "\n",
       "    .dataframe thead th {\n",
       "        text-align: right;\n",
       "    }\n",
       "</style>\n",
       "<table border=\"1\" class=\"dataframe\">\n",
       "  <thead>\n",
       "    <tr style=\"text-align: right;\">\n",
       "      <th></th>\n",
       "      <th>energy</th>\n",
       "      <th>acousticness</th>\n",
       "    </tr>\n",
       "    <tr>\n",
       "      <th>artist</th>\n",
       "      <th></th>\n",
       "      <th></th>\n",
       "    </tr>\n",
       "  </thead>\n",
       "  <tbody>\n",
       "    <tr>\n",
       "      <th>Ayo &amp; Teo</th>\n",
       "      <td>0.8860</td>\n",
       "      <td>0.0837</td>\n",
       "    </tr>\n",
       "    <tr>\n",
       "      <th>Anne-Marie</th>\n",
       "      <td>0.8820</td>\n",
       "      <td>0.1270</td>\n",
       "    </tr>\n",
       "    <tr>\n",
       "      <th>Sean Paul</th>\n",
       "      <td>0.8820</td>\n",
       "      <td>0.0466</td>\n",
       "    </tr>\n",
       "    <tr>\n",
       "      <th>OneRepublic</th>\n",
       "      <td>0.8720</td>\n",
       "      <td>0.1670</td>\n",
       "    </tr>\n",
       "    <tr>\n",
       "      <th>Sigala</th>\n",
       "      <td>0.8680</td>\n",
       "      <td>0.0313</td>\n",
       "    </tr>\n",
       "    <tr>\n",
       "      <th>Maggie Lindemann</th>\n",
       "      <td>0.8680</td>\n",
       "      <td>0.1500</td>\n",
       "    </tr>\n",
       "    <tr>\n",
       "      <th>Starley</th>\n",
       "      <td>0.8380</td>\n",
       "      <td>0.0604</td>\n",
       "    </tr>\n",
       "    <tr>\n",
       "      <th>Martin Jensen</th>\n",
       "      <td>0.8360</td>\n",
       "      <td>0.0435</td>\n",
       "    </tr>\n",
       "    <tr>\n",
       "      <th>Little Mix</th>\n",
       "      <td>0.8195</td>\n",
       "      <td>0.0990</td>\n",
       "    </tr>\n",
       "    <tr>\n",
       "      <th>Jason Derulo</th>\n",
       "      <td>0.8170</td>\n",
       "      <td>0.0750</td>\n",
       "    </tr>\n",
       "  </tbody>\n",
       "</table>\n",
       "</div>"
      ],
      "text/plain": [
       "                  energy  acousticness\n",
       "artist                                \n",
       "Ayo & Teo         0.8860        0.0837\n",
       "Anne-Marie        0.8820        0.1270\n",
       "Sean Paul         0.8820        0.0466\n",
       "OneRepublic       0.8720        0.1670\n",
       "Sigala            0.8680        0.0313\n",
       "Maggie Lindemann  0.8680        0.1500\n",
       "Starley           0.8380        0.0604\n",
       "Martin Jensen     0.8360        0.0435\n",
       "Little Mix        0.8195        0.0990\n",
       "Jason Derulo      0.8170        0.0750"
      ]
     },
     "execution_count": 37,
     "metadata": {},
     "output_type": "execute_result"
    }
   ],
   "source": [
    "#  top 10 artists in terms of average energy per song and compare the results with their average acousticness values.\n",
    "df[['artist','energy','acousticness']].groupby('artist').mean().sort_values(by='energy', ascending=False)[:10]"
   ]
  },
  {
   "cell_type": "code",
   "execution_count": 38,
   "metadata": {},
   "outputs": [
    {
     "ename": "NameError",
     "evalue": "name 'most_popular' is not defined",
     "output_type": "error",
     "traceback": [
      "\u001b[1;31m---------------------------------------------------------------------------\u001b[0m",
      "\u001b[1;31mNameError\u001b[0m                                 Traceback (most recent call last)",
      "\u001b[1;32m~\\AppData\\Local\\Temp/ipykernel_25592/3852375219.py\u001b[0m in \u001b[0;36m<module>\u001b[1;34m\u001b[0m\n\u001b[1;32m----> 1\u001b[1;33m most_popular.groupby(['artist']).sum().plot(kind='pie', y='popularity',\n\u001b[0m\u001b[0;32m      2\u001b[0m figsize=(15,10))\n",
      "\u001b[1;31mNameError\u001b[0m: name 'most_popular' is not defined"
     ]
    }
   ],
   "source": [
    "most_popular.groupby(['artist']).sum().plot(kind='pie', y='popularity',\n",
    "figsize=(15,10))"
   ]
  },
  {
   "cell_type": "code",
   "execution_count": null,
   "metadata": {},
   "outputs": [
    {
     "data": {
      "text/html": [
       "<div>\n",
       "<style scoped>\n",
       "    .dataframe tbody tr th:only-of-type {\n",
       "        vertical-align: middle;\n",
       "    }\n",
       "\n",
       "    .dataframe tbody tr th {\n",
       "        vertical-align: top;\n",
       "    }\n",
       "\n",
       "    .dataframe thead th {\n",
       "        text-align: right;\n",
       "    }\n",
       "</style>\n",
       "<table border=\"1\" class=\"dataframe\">\n",
       "  <thead>\n",
       "    <tr style=\"text-align: right;\">\n",
       "      <th></th>\n",
       "      <th>index</th>\n",
       "      <th>name</th>\n",
       "      <th>album</th>\n",
       "      <th>artist</th>\n",
       "      <th>release_date</th>\n",
       "      <th>length</th>\n",
       "      <th>popularity</th>\n",
       "      <th>acousticness</th>\n",
       "      <th>danceability</th>\n",
       "      <th>year</th>\n",
       "      <th>month</th>\n",
       "      <th>energy</th>\n",
       "      <th>instrumentalness</th>\n",
       "      <th>liveness</th>\n",
       "      <th>loudness</th>\n",
       "      <th>speechiness</th>\n",
       "      <th>tempo</th>\n",
       "      <th>time_signature</th>\n",
       "    </tr>\n",
       "  </thead>\n",
       "  <tbody>\n",
       "    <tr>\n",
       "      <th>4</th>\n",
       "      <td>75</td>\n",
       "      <td>goosebumps</td>\n",
       "      <td>Birds In The Trap Sing McKnight</td>\n",
       "      <td>Travis Scott</td>\n",
       "      <td>2016-09-16</td>\n",
       "      <td>243836</td>\n",
       "      <td>85</td>\n",
       "      <td>0.08470</td>\n",
       "      <td>0.841</td>\n",
       "      <td>2016</td>\n",
       "      <td>9</td>\n",
       "      <td>0.728</td>\n",
       "      <td>0.000000</td>\n",
       "      <td>0.1490</td>\n",
       "      <td>-3.370</td>\n",
       "      <td>0.0484</td>\n",
       "      <td>130.049</td>\n",
       "      <td>4</td>\n",
       "    </tr>\n",
       "    <tr>\n",
       "      <th>5</th>\n",
       "      <td>42</td>\n",
       "      <td>Say You Won't Let Go</td>\n",
       "      <td>Back from the Edge</td>\n",
       "      <td>James Arthur</td>\n",
       "      <td>2016-10-28</td>\n",
       "      <td>211466</td>\n",
       "      <td>84</td>\n",
       "      <td>0.69500</td>\n",
       "      <td>0.358</td>\n",
       "      <td>2016</td>\n",
       "      <td>10</td>\n",
       "      <td>0.557</td>\n",
       "      <td>0.000000</td>\n",
       "      <td>0.0902</td>\n",
       "      <td>-7.398</td>\n",
       "      <td>0.0590</td>\n",
       "      <td>85.043</td>\n",
       "      <td>4</td>\n",
       "    </tr>\n",
       "    <tr>\n",
       "      <th>6</th>\n",
       "      <td>3</td>\n",
       "      <td>Closer</td>\n",
       "      <td>Closer</td>\n",
       "      <td>The Chainsmokers</td>\n",
       "      <td>2016-07-29</td>\n",
       "      <td>244960</td>\n",
       "      <td>84</td>\n",
       "      <td>0.41400</td>\n",
       "      <td>0.748</td>\n",
       "      <td>2016</td>\n",
       "      <td>7</td>\n",
       "      <td>0.524</td>\n",
       "      <td>0.000000</td>\n",
       "      <td>0.1110</td>\n",
       "      <td>-5.599</td>\n",
       "      <td>0.0338</td>\n",
       "      <td>95.010</td>\n",
       "      <td>4</td>\n",
       "    </tr>\n",
       "    <tr>\n",
       "      <th>7</th>\n",
       "      <td>7</td>\n",
       "      <td>Starboy</td>\n",
       "      <td>Starboy</td>\n",
       "      <td>The Weeknd</td>\n",
       "      <td>2016-11-25</td>\n",
       "      <td>230453</td>\n",
       "      <td>83</td>\n",
       "      <td>0.14100</td>\n",
       "      <td>0.679</td>\n",
       "      <td>2016</td>\n",
       "      <td>11</td>\n",
       "      <td>0.587</td>\n",
       "      <td>0.000006</td>\n",
       "      <td>0.1370</td>\n",
       "      <td>-7.015</td>\n",
       "      <td>0.2760</td>\n",
       "      <td>186.003</td>\n",
       "      <td>4</td>\n",
       "    </tr>\n",
       "    <tr>\n",
       "      <th>9</th>\n",
       "      <td>92</td>\n",
       "      <td>Congratulations</td>\n",
       "      <td>Stoney (Deluxe)</td>\n",
       "      <td>Post Malone</td>\n",
       "      <td>2016-12-09</td>\n",
       "      <td>220293</td>\n",
       "      <td>81</td>\n",
       "      <td>0.21500</td>\n",
       "      <td>0.630</td>\n",
       "      <td>2016</td>\n",
       "      <td>12</td>\n",
       "      <td>0.804</td>\n",
       "      <td>0.000000</td>\n",
       "      <td>0.2530</td>\n",
       "      <td>-4.183</td>\n",
       "      <td>0.0363</td>\n",
       "      <td>123.146</td>\n",
       "      <td>4</td>\n",
       "    </tr>\n",
       "    <tr>\n",
       "      <th>0</th>\n",
       "      <td>45</td>\n",
       "      <td>Perfect</td>\n",
       "      <td>÷ (Deluxe)</td>\n",
       "      <td>Ed Sheeran</td>\n",
       "      <td>2017-03-03</td>\n",
       "      <td>263400</td>\n",
       "      <td>87</td>\n",
       "      <td>0.16300</td>\n",
       "      <td>0.599</td>\n",
       "      <td>2017</td>\n",
       "      <td>3</td>\n",
       "      <td>0.448</td>\n",
       "      <td>0.000000</td>\n",
       "      <td>0.1060</td>\n",
       "      <td>-6.312</td>\n",
       "      <td>0.0232</td>\n",
       "      <td>95.050</td>\n",
       "      <td>3</td>\n",
       "    </tr>\n",
       "    <tr>\n",
       "      <th>1</th>\n",
       "      <td>0</td>\n",
       "      <td>Shape of You</td>\n",
       "      <td>÷ (Deluxe)</td>\n",
       "      <td>Ed Sheeran</td>\n",
       "      <td>2017-03-03</td>\n",
       "      <td>233712</td>\n",
       "      <td>85</td>\n",
       "      <td>0.58100</td>\n",
       "      <td>0.825</td>\n",
       "      <td>2017</td>\n",
       "      <td>3</td>\n",
       "      <td>0.652</td>\n",
       "      <td>0.000000</td>\n",
       "      <td>0.0931</td>\n",
       "      <td>-3.183</td>\n",
       "      <td>0.0802</td>\n",
       "      <td>95.977</td>\n",
       "      <td>4</td>\n",
       "    </tr>\n",
       "    <tr>\n",
       "      <th>2</th>\n",
       "      <td>58</td>\n",
       "      <td>Jocelyn Flores</td>\n",
       "      <td>17</td>\n",
       "      <td>XXXTENTACION</td>\n",
       "      <td>2017-08-25</td>\n",
       "      <td>119133</td>\n",
       "      <td>85</td>\n",
       "      <td>0.46900</td>\n",
       "      <td>0.872</td>\n",
       "      <td>2017</td>\n",
       "      <td>8</td>\n",
       "      <td>0.391</td>\n",
       "      <td>0.000004</td>\n",
       "      <td>0.2970</td>\n",
       "      <td>-9.144</td>\n",
       "      <td>0.2420</td>\n",
       "      <td>134.021</td>\n",
       "      <td>4</td>\n",
       "    </tr>\n",
       "    <tr>\n",
       "      <th>3</th>\n",
       "      <td>18</td>\n",
       "      <td>Bored</td>\n",
       "      <td>Bored</td>\n",
       "      <td>Billie Eilish</td>\n",
       "      <td>2017-03-30</td>\n",
       "      <td>180933</td>\n",
       "      <td>85</td>\n",
       "      <td>0.89600</td>\n",
       "      <td>0.614</td>\n",
       "      <td>2017</td>\n",
       "      <td>3</td>\n",
       "      <td>0.318</td>\n",
       "      <td>0.002390</td>\n",
       "      <td>0.0795</td>\n",
       "      <td>-12.695</td>\n",
       "      <td>0.0478</td>\n",
       "      <td>119.959</td>\n",
       "      <td>4</td>\n",
       "    </tr>\n",
       "    <tr>\n",
       "      <th>8</th>\n",
       "      <td>69</td>\n",
       "      <td>XO Tour Llif3</td>\n",
       "      <td>Luv Is Rage 2</td>\n",
       "      <td>Lil Uzi Vert</td>\n",
       "      <td>2017-08-25</td>\n",
       "      <td>182706</td>\n",
       "      <td>83</td>\n",
       "      <td>0.00264</td>\n",
       "      <td>0.732</td>\n",
       "      <td>2017</td>\n",
       "      <td>8</td>\n",
       "      <td>0.750</td>\n",
       "      <td>0.000000</td>\n",
       "      <td>0.1090</td>\n",
       "      <td>-6.366</td>\n",
       "      <td>0.2310</td>\n",
       "      <td>155.096</td>\n",
       "      <td>4</td>\n",
       "    </tr>\n",
       "    <tr>\n",
       "      <th>10</th>\n",
       "      <td>80</td>\n",
       "      <td>No Lie</td>\n",
       "      <td>Mad Love The Prequel</td>\n",
       "      <td>Sean Paul</td>\n",
       "      <td>2018-06-29</td>\n",
       "      <td>221176</td>\n",
       "      <td>79</td>\n",
       "      <td>0.04660</td>\n",
       "      <td>0.742</td>\n",
       "      <td>2018</td>\n",
       "      <td>6</td>\n",
       "      <td>0.882</td>\n",
       "      <td>0.000000</td>\n",
       "      <td>0.2060</td>\n",
       "      <td>-2.862</td>\n",
       "      <td>0.1170</td>\n",
       "      <td>102.040</td>\n",
       "      <td>4</td>\n",
       "    </tr>\n",
       "    <tr>\n",
       "      <th>11</th>\n",
       "      <td>71</td>\n",
       "      <td>Despacito - Remix</td>\n",
       "      <td>VIDA</td>\n",
       "      <td>Luis Fonsi</td>\n",
       "      <td>2019-02-01</td>\n",
       "      <td>230413</td>\n",
       "      <td>70</td>\n",
       "      <td>0.22600</td>\n",
       "      <td>0.649</td>\n",
       "      <td>2019</td>\n",
       "      <td>2</td>\n",
       "      <td>0.798</td>\n",
       "      <td>0.000000</td>\n",
       "      <td>0.0711</td>\n",
       "      <td>-4.346</td>\n",
       "      <td>0.1780</td>\n",
       "      <td>177.899</td>\n",
       "      <td>4</td>\n",
       "    </tr>\n",
       "  </tbody>\n",
       "</table>\n",
       "</div>"
      ],
      "text/plain": [
       "    index                  name                            album  \\\n",
       "4      75            goosebumps  Birds In The Trap Sing McKnight   \n",
       "5      42  Say You Won't Let Go               Back from the Edge   \n",
       "6       3                Closer                           Closer   \n",
       "7       7               Starboy                          Starboy   \n",
       "9      92       Congratulations                  Stoney (Deluxe)   \n",
       "0      45               Perfect                       ÷ (Deluxe)   \n",
       "1       0          Shape of You                       ÷ (Deluxe)   \n",
       "2      58        Jocelyn Flores                               17   \n",
       "3      18                 Bored                            Bored   \n",
       "8      69         XO Tour Llif3                    Luv Is Rage 2   \n",
       "10     80                No Lie             Mad Love The Prequel   \n",
       "11     71     Despacito - Remix                             VIDA   \n",
       "\n",
       "              artist release_date  length  popularity  acousticness  \\\n",
       "4       Travis Scott   2016-09-16  243836          85       0.08470   \n",
       "5       James Arthur   2016-10-28  211466          84       0.69500   \n",
       "6   The Chainsmokers   2016-07-29  244960          84       0.41400   \n",
       "7         The Weeknd   2016-11-25  230453          83       0.14100   \n",
       "9        Post Malone   2016-12-09  220293          81       0.21500   \n",
       "0         Ed Sheeran   2017-03-03  263400          87       0.16300   \n",
       "1         Ed Sheeran   2017-03-03  233712          85       0.58100   \n",
       "2       XXXTENTACION   2017-08-25  119133          85       0.46900   \n",
       "3      Billie Eilish   2017-03-30  180933          85       0.89600   \n",
       "8       Lil Uzi Vert   2017-08-25  182706          83       0.00264   \n",
       "10         Sean Paul   2018-06-29  221176          79       0.04660   \n",
       "11        Luis Fonsi   2019-02-01  230413          70       0.22600   \n",
       "\n",
       "    danceability  year  month  energy  instrumentalness  liveness  loudness  \\\n",
       "4          0.841  2016      9   0.728          0.000000    0.1490    -3.370   \n",
       "5          0.358  2016     10   0.557          0.000000    0.0902    -7.398   \n",
       "6          0.748  2016      7   0.524          0.000000    0.1110    -5.599   \n",
       "7          0.679  2016     11   0.587          0.000006    0.1370    -7.015   \n",
       "9          0.630  2016     12   0.804          0.000000    0.2530    -4.183   \n",
       "0          0.599  2017      3   0.448          0.000000    0.1060    -6.312   \n",
       "1          0.825  2017      3   0.652          0.000000    0.0931    -3.183   \n",
       "2          0.872  2017      8   0.391          0.000004    0.2970    -9.144   \n",
       "3          0.614  2017      3   0.318          0.002390    0.0795   -12.695   \n",
       "8          0.732  2017      8   0.750          0.000000    0.1090    -6.366   \n",
       "10         0.742  2018      6   0.882          0.000000    0.2060    -2.862   \n",
       "11         0.649  2019      2   0.798          0.000000    0.0711    -4.346   \n",
       "\n",
       "    speechiness    tempo  time_signature  \n",
       "4        0.0484  130.049               4  \n",
       "5        0.0590   85.043               4  \n",
       "6        0.0338   95.010               4  \n",
       "7        0.2760  186.003               4  \n",
       "9        0.0363  123.146               4  \n",
       "0        0.0232   95.050               3  \n",
       "1        0.0802   95.977               4  \n",
       "2        0.2420  134.021               4  \n",
       "3        0.0478  119.959               4  \n",
       "8        0.2310  155.096               4  \n",
       "10       0.1170  102.040               4  \n",
       "11       0.1780  177.899               4  "
      ]
     },
     "execution_count": 152,
     "metadata": {},
     "output_type": "execute_result"
    }
   ],
   "source": [
    "top5_by_year = df.sort_values(by=['popularity'], ascending=False).groupby(['year'],sort=True).head(5).reset_index()\n",
    "top5_by_year.sort_values(['year'])"
   ]
  },
  {
   "cell_type": "code",
   "execution_count": null,
   "metadata": {},
   "outputs": [
    {
     "data": {
      "text/plain": [
       "year\n",
       "2016    AxesSubplot(0.125,0.125;0.775x0.755)\n",
       "2017    AxesSubplot(0.125,0.125;0.775x0.755)\n",
       "2018    AxesSubplot(0.125,0.125;0.775x0.755)\n",
       "2019    AxesSubplot(0.125,0.125;0.775x0.755)\n",
       "dtype: object"
      ]
     },
     "execution_count": 87,
     "metadata": {},
     "output_type": "execute_result"
    },
    {
     "data": {
      "image/png": "[encoded data removed]",
      "text/plain": [
       "<Figure size 1080x720 with 1 Axes>"
      ]
     },
     "metadata": {
      "needs_background": "light"
     },
     "output_type": "display_data"
    },
    {
     "data": {
      "image/png": "[encoded data removed]",
      "text/plain": [
       "<Figure size 1080x720 with 1 Axes>"
      ]
     },
     "metadata": {
      "needs_background": "light"
     },
     "output_type": "display_data"
    },
    {
     "data": {
      "image/png": "[encoded data removed]",
      "text/plain": [
       "<Figure size 1080x720 with 1 Axes>"
      ]
     },
     "metadata": {
      "needs_background": "light"
     },
     "output_type": "display_data"
    },
    {
     "data": {
      "image/png": "[encoded data removed]",
      "text/plain": [
       "<Figure size 1080x720 with 1 Axes>"
      ]
     },
     "metadata": {
      "needs_background": "light"
     },
     "output_type": "display_data"
    }
   ],
   "source": [
    "top5_by_year.groupby(['year']).plot(kind='bar', y='popularity',x='name',\n",
    "figsize=(15,10))"
   ]
  },
  {
   "cell_type": "code",
   "execution_count": null,
   "metadata": {},
   "outputs": [],
   "source": []
  }
 ],
 "metadata": {
  "interpreter": {
   "hash": "2cb5d5a9379438e42184019bb29608c84ceeccd1ddd0ba30ff37a8376aac68e5"
  },
  "kernelspec": {
   "display_name": "Python 3.9.6 64-bit ('venv': venv)",
   "name": "python3"
  },
  "language_info": {
   "codemirror_mode": {
    "name": "ipython",
    "version": 3
   },
   "file_extension": ".py",
   "mimetype": "text/x-python",
   "name": "python",
   "nbconvert_exporter": "python",
   "pygments_lexer": "ipython3",
   "version": "3.9.6"
  }
 },
 "nbformat": 4,
 "nbformat_minor": 2
}
