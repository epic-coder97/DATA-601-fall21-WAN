{
 "cells": [
  {
   "cell_type": "markdown",
   "id": "8a5a5c70",
   "metadata": {},
   "source": [
    "## week 2: word count\n",
    "\n",
    "Assignment Content\n",
    "\n",
    "Write a function that returns the count of characters and words in a string. Do not use the print() function to display the results. The string should provided to the function as an argument. Submit a .ipynb file via Blackboard. ​ ​\n",
    "\n",
    "#### Modification for advanced students:​\n",
    "\n",
    "Include error handling in the function. What happens if I don't pass a string? \n",
    "\n",
    "Raise an exception (with an error message) when appropriate"
   ]
  },
  {
   "cell_type": "markdown",
   "id": "5d81bce9",
   "metadata": {},
   "source": [
    "### Code without error handling"
   ]
  },
  {
   "cell_type": "code",
   "execution_count": 1,
   "id": "a14bc0d2",
   "metadata": {},
   "outputs": [
    {
     "name": "stdout",
     "output_type": "stream",
     "text": [
      "Enter a string Is it working alright?\n"
     ]
    },
    {
     "data": {
      "text/plain": [
       "('char count', 19, 'word count', 4)"
      ]
     },
     "execution_count": 1,
     "metadata": {},
     "output_type": "execute_result"
    }
   ],
   "source": [
    "def count_char(my_arg):\n",
    "    word_cnt = 0\n",
    "    char_cnt = 0\n",
    "    #spliting string\n",
    "    split_str = my_arg.split()\n",
    "    #counting words\n",
    "    word_cnt = len(split_str)\n",
    "    for word in split_str:\n",
    "        char_cnt += len(word)\n",
    "    return \"char count\", char_cnt , \"word count\", word_cnt\n",
    "# taking input string\n",
    "string_ip = input(\"Enter a string \")\n",
    "#calling function and passing string as argument argument \n",
    "count_char(string_ip)"
   ]
  },
  {
   "cell_type": "markdown",
   "id": "0e8a6d78",
   "metadata": {},
   "source": [
    "### code with error handling"
   ]
  },
  {
   "cell_type": "code",
   "execution_count": 2,
   "id": "d842f1ff",
   "metadata": {},
   "outputs": [
    {
     "name": "stdout",
     "output_type": "stream",
     "text": [
      "Enter a String : \n",
      "You entered Nothing. Please Enter a valid String\n",
      "Enter a String : Is it working alright?\n"
     ]
    },
    {
     "data": {
      "text/plain": [
       "('char count', 19, 'word count', 4)"
      ]
     },
     "execution_count": 2,
     "metadata": {},
     "output_type": "execute_result"
    }
   ],
   "source": [
    "def counting(string_ip1):\n",
    "    word_cnt = 0\n",
    "    char_cnt = 0\n",
    "    split_str = string_ip1.split()\n",
    "    word_cnt = len(split_str)\n",
    "    for word in split_str:\n",
    "        char_cnt += len(word)\n",
    "   \n",
    "    return \"char count\", char_cnt , \"word count\", word_cnt\n",
    "\n",
    "#initializing an empty string\n",
    "ip = ''\n",
    "while ip == '': #This does not work with white Spaces\n",
    "    ip = input(\"Enter a String : \")\n",
    "    if ip == '':\n",
    "        print(\"You entered Nothing. Please Enter a valid String\")\n",
    "        \n",
    "    \n",
    "counting(ip)\n",
    "    \n",
    "    "
   ]
  }
 ],
 "metadata": {
  "kernelspec": {
   "display_name": "Python 3 (ipykernel)",
   "language": "python",
   "name": "python3"
  },
  "language_info": {
   "codemirror_mode": {
    "name": "ipython",
    "version": 3
   },
   "file_extension": ".py",
   "mimetype": "text/x-python",
   "name": "python",
   "nbconvert_exporter": "python",
   "pygments_lexer": "ipython3",
   "version": "3.9.6"
  }
 },
 "nbformat": 4,
 "nbformat_minor": 5
}
