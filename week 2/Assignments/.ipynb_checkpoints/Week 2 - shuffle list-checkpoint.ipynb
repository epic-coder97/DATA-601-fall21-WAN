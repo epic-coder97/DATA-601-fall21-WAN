{
 "cells": [
  {
   "cell_type": "markdown",
   "id": "064ecfd1",
   "metadata": {},
   "source": [
    "### Assignment Content\n",
    "\n",
    "Write a function that takes a list as the argument and returns a list with each element shifted right by one index. ​\n",
    "\n",
    "For example, [3, 7, 4, 1] becomes [1, 3, 7, 4]​\n",
    "\n",
    "Submit a .ipynb file via Blackboard. ​ ​\n",
    "\n",
    "Modification for advanced students:​\n",
    "\n",
    " Include error handling in the function. What happens if I don't pass a list? Can you shift characters in a string?​\n",
    "\n",
    " Raise an exception (with an error message) when appropriate"
   ]
  },
  {
   "cell_type": "markdown",
   "id": "bc257ad8",
   "metadata": {},
   "source": [
    "## list is hardcoded"
   ]
  },
  {
   "cell_type": "code",
   "execution_count": 1,
   "id": "49b8a71a",
   "metadata": {},
   "outputs": [
    {
     "name": "stdout",
     "output_type": "stream",
     "text": [
      "my list element = [3, 7, 4, 1]\n",
      "List after shifting = [1, 3, 7, 4]\n"
     ]
    }
   ],
   "source": [
    "def shuffle_list(list_arg):\n",
    "    ind = len(list_arg)\n",
    "    k = list_arg[ind-1]\n",
    "    for i in range(ind - 2,-1,-1):\n",
    "        list_arg[i+1]=list_arg[i]\n",
    "    list_arg[0]=k\n",
    "    return(list_arg)    \n",
    "my_list=[3,7,4,1]\n",
    "print(\"my list element =\",my_list)\n",
    "print(\"List after shifting =\",shuffle_list(my_list))"
   ]
  },
  {
   "cell_type": "markdown",
   "id": "75d1a698",
   "metadata": {},
   "source": [
    "#### Also found this method to shuffle a List\n",
    "reference : https://www.tutorialgateway.org/python-list-functions/"
   ]
  },
  {
   "cell_type": "code",
   "execution_count": 2,
   "id": "f8167208",
   "metadata": {},
   "outputs": [
    {
     "name": "stdout",
     "output_type": "stream",
     "text": [
      "original list :  [3, 7, 4, 1]\n",
      "new list after shuffle  [1, 3, 7, 4]\n"
     ]
    }
   ],
   "source": [
    "def shuffle_list2(list_arg):\n",
    "    my_list1.insert(0, my_list1.pop())\n",
    "    print(\"new list after shuffle \",my_list1)\n",
    "my_list1 =[3,7,4,1] \n",
    "print(\"original list : \",my_list1)\n",
    "shuffle_list2(my_list1)    "
   ]
  },
  {
   "cell_type": "markdown",
   "id": "0b1a0fb3",
   "metadata": {},
   "source": [
    "## taking list as input from user"
   ]
  },
  {
   "cell_type": "code",
   "execution_count": 3,
   "id": "2a7c7048",
   "metadata": {},
   "outputs": [
    {
     "name": "stdout",
     "output_type": "stream",
     "text": [
      "Enter elements of a list separated by space 1 2 3 4 5 6 7\n",
      "input list:  [1, 2, 3, 4, 5, 6, 7]\n",
      "List after shifting = [7, 1, 2, 3, 4, 5, 6]\n"
     ]
    }
   ],
   "source": [
    "def shuffle_list(list_arg):\n",
    "    ind = len(list_arg)\n",
    "    k = list_arg[ind-1]\n",
    "    for i in range(ind - 2,-1,-1):\n",
    "        list_arg[i+1]=list_arg[i]\n",
    "    list_arg[0]=k\n",
    "    return(list_arg)   \n",
    "\n",
    "#my_list=[3,7,4,1]\n",
    "#print(\"my list element =\",my_list)\n",
    "#print(\"List after shifting =\",shuffle_list(my_list))\n",
    "\n",
    "\n",
    "try:\n",
    "    ip = input('Enter elements of a list separated by space ')\n",
    "    input_list = ip.split()\n",
    "    \n",
    "    # convert each item to int type\n",
    "    for i in range(len(input_list)):\n",
    "    # convert each item to int \n",
    "        input_list[i] = int(input_list[i])\n",
    "        \n",
    "except ValueError:\n",
    "    print ('could not convert string to int')\n",
    "    \n",
    "else:\n",
    "    print('input list: ', input_list)\n",
    "    print(\"List after shifting =\",shuffle_list(input_list))\n",
    "\n"
   ]
  },
  {
   "cell_type": "code",
   "execution_count": null,
   "id": "e80c26e1",
   "metadata": {},
   "outputs": [],
   "source": []
  }
 ],
 "metadata": {
  "kernelspec": {
   "display_name": "Python 3 (ipykernel)",
   "language": "python",
   "name": "python3"
  },
  "language_info": {
   "codemirror_mode": {
    "name": "ipython",
    "version": 3
   },
   "file_extension": ".py",
   "mimetype": "text/x-python",
   "name": "python",
   "nbconvert_exporter": "python",
   "pygments_lexer": "ipython3",
   "version": "3.9.6"
  }
 },
 "nbformat": 4,
 "nbformat_minor": 5
}
