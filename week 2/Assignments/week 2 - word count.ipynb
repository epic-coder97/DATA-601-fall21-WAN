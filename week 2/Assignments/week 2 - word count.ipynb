{
 "cells": [
  {
   "cell_type": "markdown",
   "id": "7994bd2b",
   "metadata": {},
   "source": [
    "## week 2: word count\n",
    "\n",
    "Assignment Content\n",
    "\n",
    "Write a function that returns the count of characters and words in a string. Do not use the print() function to display the results. The string should provided to the function as an argument. Submit a .ipynb file via Blackboard. ​ ​\n",
    "\n",
    "#### Modification for advanced students:​\n",
    "\n",
    "Include error handling in the function. What happens if I don't pass a string? \n",
    "\n",
    "Raise an exception (with an error message) when appropriate"
   ]
  },
  {
   "cell_type": "markdown",
   "id": "67740589",
   "metadata": {},
   "source": [
    "### Code without error handling"
   ]
  },
  {
   "cell_type": "code",
   "execution_count": 1,
   "id": "8f5a16bb",
   "metadata": {},
   "outputs": [
    {
     "data": {
      "text/plain": [
       "('char count', 19, 'word count', 2)"
      ]
     },
     "execution_count": 1,
     "metadata": {},
     "output_type": "execute_result"
    }
   ],
   "source": [
    "def count_char(my_arg):\n",
    "    word_cnt = 0\n",
    "    char_cnt = 0\n",
    "    #spliting string\n",
    "    split_str = my_arg.split()\n",
    "    #counting words\n",
    "    word_cnt = len(split_str)\n",
    "    for word in split_str:\n",
    "        char_cnt += len(word)\n",
    "    return \"char count\", char_cnt , \"word count\", word_cnt\n",
    "# taking input string\n",
    "string_ip = input(\"Enter a string \")\n",
    "#calling function and passing string as argument argument \n",
    "count_char(string_ip)"
   ]
  },
  {
   "cell_type": "markdown",
   "id": "58b18620",
   "metadata": {},
   "source": [
    "## code with error handling"
   ]
  },
  {
   "cell_type": "code",
   "execution_count": 4,
   "id": "fc9b03f8",
   "metadata": {},
   "outputs": [
    {
     "data": {
      "text/plain": [
       "('char count', 19, 'word count', 2)"
      ]
     },
     "execution_count": 4,
     "metadata": {},
     "output_type": "execute_result"
    }
   ],
   "source": [
    "def counting(string_ip1):\n",
    "    word_cnt = 0\n",
    "    char_cnt = 0\n",
    "    split_str = string_ip1.split()\n",
    "    word_cnt = len(split_str)\n",
    "    for word in split_str:\n",
    "        char_cnt += len(word)\n",
    "   \n",
    "    return \"char count\", char_cnt , \"word count\", word_cnt\n",
    "\n",
    "#initializing an empty string\n",
    "ip = ''\n",
    "while ip == '': #This does not work with white Spaces\n",
    "    ip = input(\"Enter a String : \")\n",
    "    if ip == '':\n",
    "        print(\"You entered Nothing. Please Enter a valid String\")\n",
    "        \n",
    "    \n",
    "counting(ip)\n",
    "    \n",
    "    "
   ]
  }
 ],
 "metadata": {
  "interpreter": {
   "hash": "cb6af4cda5125d96ab7566c9fd7ad279a47f1c1d9ee0957f471a5054ba82a9f5"
  },
  "kernelspec": {
   "display_name": "Python 3 (ipykernel)",
   "language": "python",
   "name": "python3"
  },
  "language_info": {
   "codemirror_mode": {
    "name": "ipython",
    "version": 3
   },
   "file_extension": ".py",
   "mimetype": "text/x-python",
   "name": "python",
   "nbconvert_exporter": "python",
   "pygments_lexer": "ipython3",
   "version": "3.9.6"
  }
 },
 "nbformat": 4,
 "nbformat_minor": 5
}
