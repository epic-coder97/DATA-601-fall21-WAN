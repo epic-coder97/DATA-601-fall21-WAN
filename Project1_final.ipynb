{
 "cells": [
  {
   "cell_type": "markdown",
   "metadata": {},
   "source": [
    "Data Location : Kaggle (https://www.kaggle.com/bartomiejczyewski/spotify-top-200-weekly-global-20172021)\n",
    "## The Week Column is visible as ##### when we first open it.Double Click on one of the first value in Week column and press enter. The rest will be visible."
   ]
  },
  {
   "cell_type": "code",
   "execution_count": 141,
   "metadata": {},
   "outputs": [],
   "source": [
    "# Importing Libraries\n",
    "import pandas as pd\n",
    "import numpy as np\n",
    "\n",
    "import matplotlib.pyplot as plt"
   ]
  },
  {
   "cell_type": "markdown",
   "metadata": {},
   "source": [
    "## Reading data from CSV"
   ]
  },
  {
   "cell_type": "code",
   "execution_count": 142,
   "metadata": {},
   "outputs": [
    {
     "data": {
      "text/plain": [
       "Index(['Rank', 'Track', 'Artist', 'Streams', 'Link', 'Week', 'Album_Name',\n",
       "       'Duration_MS', 'Explicit', 'Track_Number_on_Album', 'Artist_Followers',\n",
       "       'Artist_Genres'],\n",
       "      dtype='object')"
      ]
     },
     "execution_count": 142,
     "metadata": {},
     "output_type": "execute_result"
    }
   ],
   "source": [
    "data = pd.read_csv(\"Spotify.csv\")\n",
    "\n",
    "# displaying all columns\n",
    "data.columns"
   ]
  },
  {
   "cell_type": "markdown",
   "metadata": {},
   "source": [
    "## DISPLAYING DATA"
   ]
  },
  {
   "cell_type": "code",
   "execution_count": 143,
   "metadata": {},
   "outputs": [
    {
     "data": {
      "text/html": [
       "<div>\n",
       "<style scoped>\n",
       "    .dataframe tbody tr th:only-of-type {\n",
       "        vertical-align: middle;\n",
       "    }\n",
       "\n",
       "    .dataframe tbody tr th {\n",
       "        vertical-align: top;\n",
       "    }\n",
       "\n",
       "    .dataframe thead th {\n",
       "        text-align: right;\n",
       "    }\n",
       "</style>\n",
       "<table border=\"1\" class=\"dataframe\">\n",
       "  <thead>\n",
       "    <tr style=\"text-align: right;\">\n",
       "      <th></th>\n",
       "      <th>Rank</th>\n",
       "      <th>Track</th>\n",
       "      <th>Artist</th>\n",
       "      <th>Streams</th>\n",
       "      <th>Link</th>\n",
       "      <th>Week</th>\n",
       "      <th>Album_Name</th>\n",
       "      <th>Duration_MS</th>\n",
       "      <th>Explicit</th>\n",
       "      <th>Track_Number_on_Album</th>\n",
       "      <th>Artist_Followers</th>\n",
       "      <th>Artist_Genres</th>\n",
       "    </tr>\n",
       "  </thead>\n",
       "  <tbody>\n",
       "    <tr>\n",
       "      <th>0</th>\n",
       "      <td>1</td>\n",
       "      <td>Starboy</td>\n",
       "      <td>The Weeknd</td>\n",
       "      <td>25734078</td>\n",
       "      <td>https://open.spotify.com/track/5aAx2yezTd8zXrk...</td>\n",
       "      <td>06-01-2017</td>\n",
       "      <td>Starboy</td>\n",
       "      <td>230453</td>\n",
       "      <td>True</td>\n",
       "      <td>1</td>\n",
       "      <td>31348348</td>\n",
       "      <td>['canadian contemporary r&amp;b', 'canadian pop', ...</td>\n",
       "    </tr>\n",
       "    <tr>\n",
       "      <th>1</th>\n",
       "      <td>2</td>\n",
       "      <td>Closer</td>\n",
       "      <td>The Chainsmokers</td>\n",
       "      <td>23519705</td>\n",
       "      <td>https://open.spotify.com/track/7BKLCZ1jbUBVqRi...</td>\n",
       "      <td>06-01-2017</td>\n",
       "      <td>Closer</td>\n",
       "      <td>244960</td>\n",
       "      <td>False</td>\n",
       "      <td>1</td>\n",
       "      <td>17742887</td>\n",
       "      <td>['dance pop', 'edm', 'electropop', 'pop', 'pop...</td>\n",
       "    </tr>\n",
       "    <tr>\n",
       "      <th>2</th>\n",
       "      <td>3</td>\n",
       "      <td>Rockabye (feat. Sean Paul &amp; Anne-Marie)</td>\n",
       "      <td>Clean Bandit</td>\n",
       "      <td>21216399</td>\n",
       "      <td>https://open.spotify.com/track/5knuzwU65gJK7IF...</td>\n",
       "      <td>06-01-2017</td>\n",
       "      <td>Rockabye (feat. Sean Paul &amp; Anne-Marie)</td>\n",
       "      <td>251088</td>\n",
       "      <td>False</td>\n",
       "      <td>1</td>\n",
       "      <td>4296325</td>\n",
       "      <td>['dance pop', 'edm', 'pop', 'pop dance', 'post...</td>\n",
       "    </tr>\n",
       "    <tr>\n",
       "      <th>3</th>\n",
       "      <td>4</td>\n",
       "      <td>Let Me Love You</td>\n",
       "      <td>DJ Snake</td>\n",
       "      <td>19852704</td>\n",
       "      <td>https://open.spotify.com/track/4pdPtRcBmOSQDlJ...</td>\n",
       "      <td>06-01-2017</td>\n",
       "      <td>Encore</td>\n",
       "      <td>205946</td>\n",
       "      <td>False</td>\n",
       "      <td>13</td>\n",
       "      <td>7312319</td>\n",
       "      <td>['dance pop', 'edm', 'electronic trap', 'pop',...</td>\n",
       "    </tr>\n",
       "    <tr>\n",
       "      <th>4</th>\n",
       "      <td>5</td>\n",
       "      <td>I Don’t Wanna Live Forever (Fifty Shades Darke...</td>\n",
       "      <td>ZAYN</td>\n",
       "      <td>18316326</td>\n",
       "      <td>https://open.spotify.com/track/3NdDpSvN911VPGi...</td>\n",
       "      <td>06-01-2017</td>\n",
       "      <td>I Don’t Wanna Live Forever (Fifty Shades Darker)</td>\n",
       "      <td>245200</td>\n",
       "      <td>False</td>\n",
       "      <td>1</td>\n",
       "      <td>15423979</td>\n",
       "      <td>['dance pop', 'pop', 'post-teen pop', 'uk pop']</td>\n",
       "    </tr>\n",
       "  </tbody>\n",
       "</table>\n",
       "</div>"
      ],
      "text/plain": [
       "   Rank                                              Track            Artist  \\\n",
       "0     1                                            Starboy        The Weeknd   \n",
       "1     2                                             Closer  The Chainsmokers   \n",
       "2     3            Rockabye (feat. Sean Paul & Anne-Marie)      Clean Bandit   \n",
       "3     4                                    Let Me Love You          DJ Snake   \n",
       "4     5  I Don’t Wanna Live Forever (Fifty Shades Darke...              ZAYN   \n",
       "\n",
       "    Streams                                               Link        Week  \\\n",
       "0  25734078  https://open.spotify.com/track/5aAx2yezTd8zXrk...  06-01-2017   \n",
       "1  23519705  https://open.spotify.com/track/7BKLCZ1jbUBVqRi...  06-01-2017   \n",
       "2  21216399  https://open.spotify.com/track/5knuzwU65gJK7IF...  06-01-2017   \n",
       "3  19852704  https://open.spotify.com/track/4pdPtRcBmOSQDlJ...  06-01-2017   \n",
       "4  18316326  https://open.spotify.com/track/3NdDpSvN911VPGi...  06-01-2017   \n",
       "\n",
       "                                         Album_Name  Duration_MS  Explicit  \\\n",
       "0                                           Starboy       230453      True   \n",
       "1                                            Closer       244960     False   \n",
       "2           Rockabye (feat. Sean Paul & Anne-Marie)       251088     False   \n",
       "3                                            Encore       205946     False   \n",
       "4  I Don’t Wanna Live Forever (Fifty Shades Darker)       245200     False   \n",
       "\n",
       "   Track_Number_on_Album  Artist_Followers  \\\n",
       "0                      1          31348348   \n",
       "1                      1          17742887   \n",
       "2                      1           4296325   \n",
       "3                     13           7312319   \n",
       "4                      1          15423979   \n",
       "\n",
       "                                       Artist_Genres  \n",
       "0  ['canadian contemporary r&b', 'canadian pop', ...  \n",
       "1  ['dance pop', 'edm', 'electropop', 'pop', 'pop...  \n",
       "2  ['dance pop', 'edm', 'pop', 'pop dance', 'post...  \n",
       "3  ['dance pop', 'edm', 'electronic trap', 'pop',...  \n",
       "4    ['dance pop', 'pop', 'post-teen pop', 'uk pop']  "
      ]
     },
     "execution_count": 143,
     "metadata": {},
     "output_type": "execute_result"
    }
   ],
   "source": [
    "data.head()"
   ]
  },
  {
   "cell_type": "markdown",
   "metadata": {},
   "source": [
    "## Number of Rows and Columns"
   ]
  },
  {
   "cell_type": "code",
   "execution_count": 144,
   "metadata": {},
   "outputs": [
    {
     "data": {
      "text/plain": [
       "(44200, 12)"
      ]
     },
     "execution_count": 144,
     "metadata": {},
     "output_type": "execute_result"
    }
   ],
   "source": [
    "d = data.shape\n",
    "d"
   ]
  },
  {
   "cell_type": "markdown",
   "metadata": {},
   "source": [
    "## Different Artist Genre"
   ]
  },
  {
   "cell_type": "code",
   "execution_count": 145,
   "metadata": {},
   "outputs": [
    {
     "data": {
      "text/plain": [
       "0        ['canadian contemporary r&b', 'canadian pop', ...\n",
       "1        ['dance pop', 'edm', 'electropop', 'pop', 'pop...\n",
       "2        ['dance pop', 'edm', 'pop', 'pop dance', 'post...\n",
       "3        ['dance pop', 'edm', 'electronic trap', 'pop',...\n",
       "4          ['dance pop', 'pop', 'post-teen pop', 'uk pop']\n",
       "                               ...                        \n",
       "44195    ['dance pop', 'pop', 'pop rap', 'seattle hip h...\n",
       "44196    ['argentine hip hop', 'trap argentino', 'trap ...\n",
       "44197                                    ['pop', 'uk pop']\n",
       "44198    ['alternative rock', 'grunge', 'permanent wave...\n",
       "44199                         ['emo rap', 'miami hip hop']\n",
       "Name: Artist_Genres, Length: 44200, dtype: object"
      ]
     },
     "execution_count": 145,
     "metadata": {},
     "output_type": "execute_result"
    }
   ],
   "source": [
    "data.Artist_Genres"
   ]
  },
  {
   "cell_type": "markdown",
   "metadata": {},
   "source": [
    "## Checking for Missing Values"
   ]
  },
  {
   "cell_type": "code",
   "execution_count": 146,
   "metadata": {},
   "outputs": [
    {
     "data": {
      "text/plain": [
       "Rank                     0\n",
       "Track                    5\n",
       "Artist                   5\n",
       "Streams                  0\n",
       "Link                     0\n",
       "Week                     0\n",
       "Album_Name               5\n",
       "Duration_MS              0\n",
       "Explicit                 0\n",
       "Track_Number_on_Album    0\n",
       "Artist_Followers         0\n",
       "Artist_Genres            0\n",
       "dtype: int64"
      ]
     },
     "execution_count": 146,
     "metadata": {},
     "output_type": "execute_result"
    }
   ],
   "source": [
    "#isna() function is used to detect missing values\n",
    "#isna(). sum() returns the number of missing values in each column.\n",
    "\n",
    "data.isna().sum()"
   ]
  },
  {
   "cell_type": "markdown",
   "metadata": {},
   "source": [
    "## <i>5 Album names, Tracks and Artist are missing</i>\n",
    "### removing rows with missing entries"
   ]
  },
  {
   "cell_type": "code",
   "execution_count": 147,
   "metadata": {},
   "outputs": [
    {
     "data": {
      "text/plain": [
       "Rank                     0\n",
       "Track                    0\n",
       "Artist                   0\n",
       "Streams                  0\n",
       "Link                     0\n",
       "Week                     0\n",
       "Album_Name               0\n",
       "Duration_MS              0\n",
       "Explicit                 0\n",
       "Track_Number_on_Album    0\n",
       "Artist_Followers         0\n",
       "Artist_Genres            0\n",
       "dtype: int64"
      ]
     },
     "execution_count": 147,
     "metadata": {},
     "output_type": "execute_result"
    }
   ],
   "source": [
    "data.dropna(how='any', inplace=True)\n",
    "data.isna().sum()"
   ]
  },
  {
   "cell_type": "code",
   "execution_count": 148,
   "metadata": {},
   "outputs": [
    {
     "name": "stdout",
     "output_type": "stream",
     "text": [
      "Rows before droping \n",
      "(44200, 12)\n",
      "Rows after droping \n"
     ]
    },
    {
     "data": {
      "text/plain": [
       "(44195, 12)"
      ]
     },
     "execution_count": 148,
     "metadata": {},
     "output_type": "execute_result"
    }
   ],
   "source": [
    "d1 = data.shape\n",
    "print(\"Rows before droping \")\n",
    "print(d)\n",
    "print(\"Rows after droping \")\n",
    "d1"
   ]
  },
  {
   "cell_type": "markdown",
   "metadata": {},
   "source": [
    "## Droping columns which I am not going to use\n",
    "### I don't need <b>Link</b> of the songs.\n",
    "### So I will drop that column. "
   ]
  },
  {
   "cell_type": "code",
   "execution_count": 149,
   "metadata": {},
   "outputs": [],
   "source": [
    "data = data.drop(columns=['Link'])"
   ]
  },
  {
   "cell_type": "markdown",
   "metadata": {},
   "source": [
    "### Checking if the column is droped"
   ]
  },
  {
   "cell_type": "code",
   "execution_count": 150,
   "metadata": {},
   "outputs": [
    {
     "data": {
      "text/plain": [
       "Index(['Rank', 'Track', 'Artist', 'Streams', 'Week', 'Album_Name',\n",
       "       'Duration_MS', 'Explicit', 'Track_Number_on_Album', 'Artist_Followers',\n",
       "       'Artist_Genres'],\n",
       "      dtype='object')"
      ]
     },
     "execution_count": 150,
     "metadata": {},
     "output_type": "execute_result"
    }
   ],
   "source": [
    "data.columns"
   ]
  },
  {
   "cell_type": "markdown",
   "metadata": {},
   "source": [
    "## Checking the Datatypes"
   ]
  },
  {
   "cell_type": "code",
   "execution_count": 151,
   "metadata": {},
   "outputs": [
    {
     "name": "stdout",
     "output_type": "stream",
     "text": [
      "<class 'pandas.core.frame.DataFrame'>\n",
      "Int64Index: 44195 entries, 0 to 44199\n",
      "Data columns (total 11 columns):\n",
      " #   Column                 Non-Null Count  Dtype \n",
      "---  ------                 --------------  ----- \n",
      " 0   Rank                   44195 non-null  int64 \n",
      " 1   Track                  44195 non-null  object\n",
      " 2   Artist                 44195 non-null  object\n",
      " 3   Streams                44195 non-null  int64 \n",
      " 4   Week                   44195 non-null  object\n",
      " 5   Album_Name             44195 non-null  object\n",
      " 6   Duration_MS            44195 non-null  int64 \n",
      " 7   Explicit               44195 non-null  bool  \n",
      " 8   Track_Number_on_Album  44195 non-null  int64 \n",
      " 9   Artist_Followers       44195 non-null  int64 \n",
      " 10  Artist_Genres          44195 non-null  object\n",
      "dtypes: bool(1), int64(5), object(5)\n",
      "memory usage: 3.8+ MB\n"
     ]
    }
   ],
   "source": [
    "data.info()"
   ]
  },
  {
   "cell_type": "markdown",
   "metadata": {},
   "source": [
    "## <i>Week</i> is stored as an object.\n",
    "### Converting it into a datetime. "
   ]
  },
  {
   "cell_type": "code",
   "execution_count": 152,
   "metadata": {},
   "outputs": [],
   "source": [
    "data['Week'] = pd.to_datetime(data['Week'], format='%d-%m-%Y')"
   ]
  },
  {
   "cell_type": "code",
   "execution_count": 153,
   "metadata": {},
   "outputs": [
    {
     "name": "stdout",
     "output_type": "stream",
     "text": [
      "<class 'pandas.core.frame.DataFrame'>\n",
      "Int64Index: 44195 entries, 0 to 44199\n",
      "Data columns (total 11 columns):\n",
      " #   Column                 Non-Null Count  Dtype         \n",
      "---  ------                 --------------  -----         \n",
      " 0   Rank                   44195 non-null  int64         \n",
      " 1   Track                  44195 non-null  object        \n",
      " 2   Artist                 44195 non-null  object        \n",
      " 3   Streams                44195 non-null  int64         \n",
      " 4   Week                   44195 non-null  datetime64[ns]\n",
      " 5   Album_Name             44195 non-null  object        \n",
      " 6   Duration_MS            44195 non-null  int64         \n",
      " 7   Explicit               44195 non-null  bool          \n",
      " 8   Track_Number_on_Album  44195 non-null  int64         \n",
      " 9   Artist_Followers       44195 non-null  int64         \n",
      " 10  Artist_Genres          44195 non-null  object        \n",
      "dtypes: bool(1), datetime64[ns](1), int64(5), object(4)\n",
      "memory usage: 3.8+ MB\n"
     ]
    }
   ],
   "source": [
    "## Checking datatype of Week\n",
    "data.info()"
   ]
  },
  {
   "cell_type": "markdown",
   "metadata": {},
   "source": [
    "## Extracting Year and Month from Week.\n",
    "### storing it as columns in data frame"
   ]
  },
  {
   "cell_type": "code",
   "execution_count": 154,
   "metadata": {},
   "outputs": [],
   "source": [
    "year = data['Week'].apply(lambda x : x.year)\n",
    "month = data['Week'].apply(lambda x : x.month)\n",
    "data.insert(loc=6, column='year', value=year) \n",
    "data.insert(loc=5, column='month', value=month)"
   ]
  },
  {
   "cell_type": "markdown",
   "metadata": {},
   "source": [
    "### Checking the new columns and their datatypes"
   ]
  },
  {
   "cell_type": "code",
   "execution_count": 155,
   "metadata": {},
   "outputs": [
    {
     "name": "stdout",
     "output_type": "stream",
     "text": [
      "<class 'pandas.core.frame.DataFrame'>\n",
      "Int64Index: 44195 entries, 0 to 44199\n",
      "Data columns (total 13 columns):\n",
      " #   Column                 Non-Null Count  Dtype         \n",
      "---  ------                 --------------  -----         \n",
      " 0   Rank                   44195 non-null  int64         \n",
      " 1   Track                  44195 non-null  object        \n",
      " 2   Artist                 44195 non-null  object        \n",
      " 3   Streams                44195 non-null  int64         \n",
      " 4   Week                   44195 non-null  datetime64[ns]\n",
      " 5   month                  44195 non-null  int64         \n",
      " 6   Album_Name             44195 non-null  object        \n",
      " 7   year                   44195 non-null  int64         \n",
      " 8   Duration_MS            44195 non-null  int64         \n",
      " 9   Explicit               44195 non-null  bool          \n",
      " 10  Track_Number_on_Album  44195 non-null  int64         \n",
      " 11  Artist_Followers       44195 non-null  int64         \n",
      " 12  Artist_Genres          44195 non-null  object        \n",
      "dtypes: bool(1), datetime64[ns](1), int64(7), object(4)\n",
      "memory usage: 4.4+ MB\n"
     ]
    }
   ],
   "source": [
    "data.info()"
   ]
  },
  {
   "cell_type": "markdown",
   "metadata": {},
   "source": [
    "## Getting top 10 Streamed Track from 2017 to 2021 (Weekwise)"
   ]
  },
  {
   "cell_type": "code",
   "execution_count": 156,
   "metadata": {},
   "outputs": [
    {
     "name": "stdout",
     "output_type": "stream",
     "text": [
      "   index            Track          Artist   Streams  Rank\n",
      "0  41800  drivers license  Olivia Rodrigo  80764045     1\n",
      "1  21000          7 rings   Ariana Grande  71467874     1\n",
      "2  15600   In My Feelings           Drake  67499798     1\n",
      "3  25800         Señorita    Shawn Mendes  67237638     1\n",
      "4  25600         Señorita    Shawn Mendes  66933317     1\n",
      "5  41600  drivers license  Olivia Rodrigo  65873080     1\n",
      "6  15800   In My Feelings           Drake  65825491     1\n",
      "7  26000         Señorita    Shawn Mendes  64942021     1\n",
      "8  42000  drivers license  Olivia Rodrigo  64681075     1\n",
      "9   1800     Shape of You      Ed Sheeran  64275251     1\n"
     ]
    }
   ],
   "source": [
    "top10track = data.sort_values('Streams',ascending=False)\n",
    "print(top10track[['Track','Artist','Streams','Rank']].head(10).reset_index())"
   ]
  },
  {
   "cell_type": "code",
   "execution_count": 157,
   "metadata": {},
   "outputs": [
    {
     "data": {
      "text/plain": [
       "<BarContainer object of 11 artists>"
      ]
     },
     "execution_count": 157,
     "metadata": {},
     "output_type": "execute_result"
    },
    {
     "data": {
      "image/png": "[encoded data removed]",
      "text/plain": [
       "<Figure size 1440x720 with 1 Axes>"
      ]
     },
     "metadata": {
      "needs_background": "light"
     },
     "output_type": "display_data"
    }
   ],
   "source": [
    "top10track = data.head(11)\n",
    "type(top10track)\n",
    "x = top10track.Artist\n",
    "y= top10track.Streams\n",
    "\n",
    "plt.figure(figsize=(20,10))\n",
    "plt.xlabel('Artist')\n",
    "plt.ylabel('Streams')\n",
    "plt.title('Corelation Between Artist and Streams')\n",
    "plt.bar(x, y)"
   ]
  },
  {
   "cell_type": "code",
   "execution_count": 158,
   "metadata": {},
   "outputs": [
    {
     "data": {
      "text/plain": [
       "<matplotlib.collections.PathCollection at 0x219edf51490>"
      ]
     },
     "execution_count": 158,
     "metadata": {},
     "output_type": "execute_result"
    },
    {
     "data": {
      "image/png": "[encoded data removed]",
      "text/plain": [
       "<Figure size 1440x720 with 1 Axes>"
      ]
     },
     "metadata": {
      "needs_background": "light"
     },
     "output_type": "display_data"
    }
   ],
   "source": [
    "top10track = data.head(50)\n",
    "type(top10track)\n",
    "x = top10track.Rank\n",
    "y= top10track.Streams\n",
    "\n",
    "plt.figure(figsize=(20,10))\n",
    "plt.xlabel('Rank')\n",
    "plt.ylabel('Streams')\n",
    "plt.title('Corelation Between Rank and Streams')\n",
    "\n",
    "plt.scatter(x, y)"
   ]
  },
  {
   "cell_type": "markdown",
   "metadata": {},
   "source": [
    "# Streams of Rank 1 Tracks"
   ]
  },
  {
   "cell_type": "code",
   "execution_count": 159,
   "metadata": {},
   "outputs": [
    {
     "name": "stdout",
     "output_type": "stream",
     "text": [
      "   index                                           Track   Streams  Rank\n",
      "0      0                                         Starboy  25734078     1\n",
      "1  17200                          I Love It (& Lil Pump)  28516766     1\n",
      "2  10200                                        rockstar  29389063     1\n",
      "3  17800  Taki Taki (with Selena Gomez, Ozuna & Cardi B)  29542152     1\n",
      "4   9800                                        rockstar  29659184     1\n",
      "5  14200                                      Better Now  29702255     1\n",
      "6  14400                                      Better Now  29726175     1\n",
      "7   6800                     Too Good At Goodbyes - Edit  30706135     1\n",
      "8  14000                                      Better Now  30755342     1\n",
      "9  10000                                        rockstar  30769464     1\n"
     ]
    }
   ],
   "source": [
    "rank1= data.sort_values(by=['Rank','Streams'],ascending=True).head(10)\n",
    "print(rank1[['Track','Streams','Rank']].reset_index())"
   ]
  },
  {
   "cell_type": "code",
   "execution_count": 160,
   "metadata": {},
   "outputs": [
    {
     "data": {
      "text/plain": [
       "<BarContainer object of 10 artists>"
      ]
     },
     "execution_count": 160,
     "metadata": {},
     "output_type": "execute_result"
    },
    {
     "data": {
      "image/png": "[encoded data removed]",
      "text/plain": [
       "<Figure size 1440x720 with 1 Axes>"
      ]
     },
     "metadata": {
      "needs_background": "light"
     },
     "output_type": "display_data"
    }
   ],
   "source": [
    "op10track = rank1\n",
    "x = op10track.Track\n",
    "y= op10track.Streams\n",
    "\n",
    "plt.figure(figsize=(20,10))\n",
    "plt.xlabel('Track')\n",
    "plt.ylabel('Streams')\n",
    "plt.title('Corelation Between Rank1 tracks  and Streams')\n",
    "\n",
    "plt.bar(x, y)"
   ]
  },
  {
   "cell_type": "markdown",
   "metadata": {},
   "source": [
    "top10track = data.head(11)\n",
    "type(top10track)\n",
    "x = top10track.Artist\n",
    "y= top10track.Streams\n",
    "\n",
    "plt.figure(figsize=(20,10))\n",
    "plt.xlabel('Artist')\n",
    "plt.ylabel('Streams')\n",
    "\n",
    "plt.bar(x, y)"
   ]
  },
  {
   "cell_type": "markdown",
   "metadata": {},
   "source": [
    "## Getting top 10 followed artists\n",
    "### Droping Duplicates rows. As this data is accumulated week wise. So Artist Name might get repeated.\n",
    "Hence using <b>drop_duplicates(subset='Artist')</b>"
   ]
  },
  {
   "cell_type": "code",
   "execution_count": 161,
   "metadata": {},
   "outputs": [
    {
     "name": "stdout",
     "output_type": "stream",
     "text": [
      "   index           Artist  Artist_Followers\n",
      "0  37745       Ed Sheeran          78967872\n",
      "1  16644    Ariana Grande          61390454\n",
      "2   1541            Drake          54405324\n",
      "3  19643    Justin Bieber          44672226\n",
      "4  31469           Eminem          43728461\n",
      "5   4587          Rihanna          42275572\n",
      "6  24167    Billie Eilish          41852475\n",
      "7  28037     Taylor Swift          38902703\n",
      "8  36517  Imagine Dragons          33692509\n",
      "9  25753            Queen          33527593\n"
     ]
    }
   ],
   "source": [
    "top10artist = data.sort_values('Artist_Followers',ascending=False).drop_duplicates(subset='Artist')\n",
    "print(top10artist[['Artist','Artist_Followers']].head(10).reset_index())"
   ]
  },
  {
   "cell_type": "code",
   "execution_count": 175,
   "metadata": {},
   "outputs": [
    {
     "data": {
      "text/plain": [
       "<BarContainer object of 10 artists>"
      ]
     },
     "execution_count": 175,
     "metadata": {},
     "output_type": "execute_result"
    },
    {
     "data": {
      "image/png": "[encoded data removed]",
      "text/plain": [
       "<Figure size 1440x720 with 1 Axes>"
      ]
     },
     "metadata": {
      "needs_background": "light"
     },
     "output_type": "display_data"
    }
   ],
   "source": [
    "#top10artist = data.head(11)\n",
    "#type(top10artist)\n",
    "x1 = top10artist.Artist.head(10)\n",
    "#print(x1)\n",
    "\n",
    "y2= top10artist.Artist_Followers.head(10)\n",
    "plt.figure(figsize=(20,10))\n",
    "plt.xlabel('Artist')\n",
    "plt.ylabel('Artist_Followers')\n",
    "plt.title('Corelation Between Artist and Followers')\n",
    "\n",
    "plt.bar(x1, y2)"
   ]
  },
  {
   "cell_type": "markdown",
   "metadata": {},
   "source": [
    "## top  streams of each year(In a Week)"
   ]
  },
  {
   "cell_type": "code",
   "execution_count": 163,
   "metadata": {},
   "outputs": [
    {
     "name": "stdout",
     "output_type": "stream",
     "text": [
      "                             Track   Streams  year  Rank\n",
      "3                     Shape of You  64275251  2017     1\n",
      "2                   In My Feelings  67499798  2018     1\n",
      "1                          7 rings  71467874  2019     1\n",
      "4  All I Want for Christmas Is You  53401383  2020     1\n",
      "0                  drivers license  80764045  2021     1\n"
     ]
    }
   ],
   "source": [
    "top5_by_year = data.sort_values(by=['Streams'], ascending=False).groupby(['year'],sort=True).head(1).reset_index()\n",
    "\n",
    "# top_by_year = data.groupby([\"year\"]).sort(by=['Streams'],ascending=False).head(1)\n",
    "# top5_of_year = data.sort_values(by=['Streams','year','Artist'],ascending=False).head(5)\n",
    "print(top5_by_year[['Track', 'Streams','year','Rank']].sort_values(by=['year']))"
   ]
  },
  {
   "cell_type": "markdown",
   "metadata": {},
   "source": [
    "x1 = top5_by_year.Track.head(2)\n",
    "#print(x1)\n",
    "y2= top5_by_year['Rank'].head(2)\n",
    "plt.figure(figsize=(20,10))\n",
    "plt.xlabel('Artist')\n",
    "plt.ylabel('Rank')\n",
    "\n",
    "plt.bar(x1, y2)"
   ]
  },
  {
   "cell_type": "markdown",
   "metadata": {},
   "source": [
    "## top  streams of all time"
   ]
  },
  {
   "cell_type": "code",
   "execution_count": 165,
   "metadata": {},
   "outputs": [
    {
     "data": {
      "text/html": [
       "<div>\n",
       "<style scoped>\n",
       "    .dataframe tbody tr th:only-of-type {\n",
       "        vertical-align: middle;\n",
       "    }\n",
       "\n",
       "    .dataframe tbody tr th {\n",
       "        vertical-align: top;\n",
       "    }\n",
       "\n",
       "    .dataframe thead th {\n",
       "        text-align: right;\n",
       "    }\n",
       "</style>\n",
       "<table border=\"1\" class=\"dataframe\">\n",
       "  <thead>\n",
       "    <tr style=\"text-align: right;\">\n",
       "      <th></th>\n",
       "      <th></th>\n",
       "      <th>Streams</th>\n",
       "    </tr>\n",
       "    <tr>\n",
       "      <th>year</th>\n",
       "      <th>Track</th>\n",
       "      <th></th>\n",
       "    </tr>\n",
       "  </thead>\n",
       "  <tbody>\n",
       "    <tr>\n",
       "      <th>2020</th>\n",
       "      <th>Blinding Lights</th>\n",
       "      <td>1660934276</td>\n",
       "    </tr>\n",
       "    <tr>\n",
       "      <th>2017</th>\n",
       "      <th>Shape of You</th>\n",
       "      <td>1456882225</td>\n",
       "    </tr>\n",
       "    <tr>\n",
       "      <th>2020</th>\n",
       "      <th>Dance Monkey</th>\n",
       "      <td>1231997497</td>\n",
       "    </tr>\n",
       "    <tr>\n",
       "      <th>2018</th>\n",
       "      <th>God's Plan</th>\n",
       "      <td>1138561345</td>\n",
       "    </tr>\n",
       "    <tr>\n",
       "      <th>2020</th>\n",
       "      <th>Falling</th>\n",
       "      <td>1103178866</td>\n",
       "    </tr>\n",
       "  </tbody>\n",
       "</table>\n",
       "</div>"
      ],
      "text/plain": [
       "                         Streams\n",
       "year Track                      \n",
       "2020 Blinding Lights  1660934276\n",
       "2017 Shape of You     1456882225\n",
       "2020 Dance Monkey     1231997497\n",
       "2018 God's Plan       1138561345\n",
       "2020 Falling          1103178866"
      ]
     },
     "execution_count": 165,
     "metadata": {},
     "output_type": "execute_result"
    }
   ],
   "source": [
    "Top5= data.groupby(['year','Track']).agg({'Streams':sum}).sort_values(['Streams'],ascending=False)\n",
    "Top5.head(5)"
   ]
  },
  {
   "cell_type": "markdown",
   "metadata": {},
   "source": [
    "## Analyzing Artist Genre\n",
    "We observe that the column 'Artist Genre' has a list passed as value. Let's split these lists into individual values. "
   ]
  },
  {
   "cell_type": "code",
   "execution_count": 166,
   "metadata": {},
   "outputs": [],
   "source": [
    "data[data[\"Artist_Genres\"]=='[]']\n",
    "df_genre=data[data[\"Artist_Genres\"]!='[]']\n",
    "df_genre.head()\n",
    "df_sort_genres=pd.DataFrame(data.assign(Artist_Genres=df_genre.Artist_Genres.str.split(\",\")).explode('Artist_Genres'))"
   ]
  },
  {
   "cell_type": "markdown",
   "metadata": {},
   "source": [
    "### Replacing the square brackets with \" \" blank spaces to get only the keywords."
   ]
  },
  {
   "cell_type": "code",
   "execution_count": 167,
   "metadata": {},
   "outputs": [
    {
     "name": "stderr",
     "output_type": "stream",
     "text": [
      "C:\\Users\\Nikki\\AppData\\Local\\Temp/ipykernel_28724/166888204.py:1: FutureWarning: The default value of regex will change from True to False in a future version. In addition, single character regular expressions will *not* be treated as literal strings when regex=True.\n",
      "  df_sort_genres['Artist_Genres']=df_sort_genres.Artist_Genres.str.replace('[',' ')\n",
      "C:\\Users\\Nikki\\AppData\\Local\\Temp/ipykernel_28724/166888204.py:2: FutureWarning: The default value of regex will change from True to False in a future version. In addition, single character regular expressions will *not* be treated as literal strings when regex=True.\n",
      "  df_sort_genres['Artist_Genres']=df_sort_genres.Artist_Genres.str.replace(']',' ')\n"
     ]
    }
   ],
   "source": [
    "df_sort_genres['Artist_Genres']=df_sort_genres.Artist_Genres.str.replace('[',' ')\n",
    "df_sort_genres['Artist_Genres']=df_sort_genres.Artist_Genres.str.replace(']',' ')"
   ]
  },
  {
   "cell_type": "markdown",
   "metadata": {},
   "source": [
    "## Let's analyze the top 10 genres now.\n",
    "\n"
   ]
  },
  {
   "cell_type": "code",
   "execution_count": 168,
   "metadata": {},
   "outputs": [
    {
     "data": {
      "text/html": [
       "<div>\n",
       "<style scoped>\n",
       "    .dataframe tbody tr th:only-of-type {\n",
       "        vertical-align: middle;\n",
       "    }\n",
       "\n",
       "    .dataframe tbody tr th {\n",
       "        vertical-align: top;\n",
       "    }\n",
       "\n",
       "    .dataframe thead th {\n",
       "        text-align: right;\n",
       "    }\n",
       "</style>\n",
       "<table border=\"1\" class=\"dataframe\">\n",
       "  <thead>\n",
       "    <tr style=\"text-align: right;\">\n",
       "      <th></th>\n",
       "      <th>Genres</th>\n",
       "      <th>Total_Count</th>\n",
       "    </tr>\n",
       "  </thead>\n",
       "  <tbody>\n",
       "    <tr>\n",
       "      <th>0</th>\n",
       "      <td>'pop'</td>\n",
       "      <td>16809</td>\n",
       "    </tr>\n",
       "    <tr>\n",
       "      <th>1</th>\n",
       "      <td>'dance pop'</td>\n",
       "      <td>11173</td>\n",
       "    </tr>\n",
       "    <tr>\n",
       "      <th>2</th>\n",
       "      <td>'latin'</td>\n",
       "      <td>6208</td>\n",
       "    </tr>\n",
       "    <tr>\n",
       "      <th>3</th>\n",
       "      <td>'rap'</td>\n",
       "      <td>5915</td>\n",
       "    </tr>\n",
       "    <tr>\n",
       "      <th>4</th>\n",
       "      <td>'pop rap'</td>\n",
       "      <td>5601</td>\n",
       "    </tr>\n",
       "    <tr>\n",
       "      <th>5</th>\n",
       "      <td>'post-teen pop'</td>\n",
       "      <td>5559</td>\n",
       "    </tr>\n",
       "    <tr>\n",
       "      <th>6</th>\n",
       "      <td>'reggaeton'</td>\n",
       "      <td>5530</td>\n",
       "    </tr>\n",
       "    <tr>\n",
       "      <th>7</th>\n",
       "      <td>'edm'</td>\n",
       "      <td>4762</td>\n",
       "    </tr>\n",
       "    <tr>\n",
       "      <th>8</th>\n",
       "      <td>'electropop'</td>\n",
       "      <td>4536</td>\n",
       "    </tr>\n",
       "    <tr>\n",
       "      <th>9</th>\n",
       "      <td>'pop dance'</td>\n",
       "      <td>4269</td>\n",
       "    </tr>\n",
       "  </tbody>\n",
       "</table>\n",
       "</div>"
      ],
      "text/plain": [
       "              Genres  Total_Count\n",
       "0              'pop'        16809\n",
       "1        'dance pop'        11173\n",
       "2            'latin'         6208\n",
       "3              'rap'         5915\n",
       "4          'pop rap'         5601\n",
       "5   'post-teen pop'          5559\n",
       "6        'reggaeton'         5530\n",
       "7              'edm'         4762\n",
       "8       'electropop'         4536\n",
       "9        'pop dance'         4269"
      ]
     },
     "execution_count": 168,
     "metadata": {},
     "output_type": "execute_result"
    }
   ],
   "source": [
    "# 10 Most common Genre\n",
    "n = 10\n",
    "top_10=pd.DataFrame(df_sort_genres['Artist_Genres'].value_counts()[:n]).reset_index()\n",
    "top_10.rename(columns = {'index':'Genres','Artist_Genres':'Total_Count'}, inplace = True)\n",
    "top_10"
   ]
  },
  {
   "cell_type": "markdown",
   "metadata": {},
   "source": [
    "## Pie chart"
   ]
  },
  {
   "cell_type": "code",
   "execution_count": 169,
   "metadata": {},
   "outputs": [
    {
     "data": {
      "image/png": "[encoded data removed]",
      "text/plain": [
       "<Figure size 432x288 with 1 Axes>"
      ]
     },
     "metadata": {},
     "output_type": "display_data"
    }
   ],
   "source": [
    "plt.pie(top_10.Total_Count, labels=top_10.Genres , autopct='%1.1f%%')\n",
    "plt.show()"
   ]
  },
  {
   "cell_type": "markdown",
   "metadata": {},
   "source": [
    "## Top 5 Streamed Songs for Each Year (Weekwise)"
   ]
  },
  {
   "cell_type": "code",
   "execution_count": 170,
   "metadata": {},
   "outputs": [
    {
     "name": "stdout",
     "output_type": "stream",
     "text": [
      "   index              Track   Streams       Week\n",
      "0   1800       Shape of You  64275251 2017-03-10\n",
      "1   2000       Shape of You  57006531 2017-03-17\n",
      "2   4000  Despacito - Remix  54848635 2017-05-26\n",
      "3   1200       Shape of You  53604545 2017-02-17\n",
      "4   1000       Shape of You  53551099 2017-02-10\n",
      "   index           Track   Streams       Week\n",
      "0  15600  In My Feelings  67499798 2018-07-20\n",
      "1  15800  In My Feelings  65825491 2018-07-27\n",
      "2  16000  In My Feelings  60285459 2018-08-03\n",
      "3  19000   thank u, next  59975503 2018-11-16\n",
      "4  11600      God's Plan  54891573 2018-03-02\n",
      "   index     Track   Streams       Week\n",
      "0  21000   7 rings  71467874 2019-01-25\n",
      "1  25800  Señorita  67237638 2019-07-12\n",
      "2  25600  Señorita  66933317 2019-07-05\n",
      "3  26000  Señorita  64942021 2019-07-19\n",
      "4  21600   7 rings  63197614 2019-02-15\n",
      "   index                            Track   Streams       Week\n",
      "0  41000  All I Want for Christmas Is You  53401383 2020-12-25\n",
      "1  40400                           DÁKITI  53344093 2020-12-04\n",
      "2  39800                           DÁKITI  53029262 2020-11-13\n",
      "3  33200                  Blinding Lights  52375259 2020-03-27\n",
      "4  31200                     Dance Monkey  52055226 2020-01-17\n",
      "   index                           Track   Streams       Week\n",
      "0  41800                 drivers license  80764045 2021-01-22\n",
      "1  41600                 drivers license  65873080 2021-01-15\n",
      "2  42000                 drivers license  64681075 2021-01-29\n",
      "3  44000  MONTERO (Call Me By Your Name)  55582612 2021-04-16\n",
      "4  42200                 drivers license  54166615 2021-02-05\n"
     ]
    }
   ],
   "source": [
    "top5_by_year = data.groupby([\"year\"])\n",
    "\n",
    "top5_of_2017 = top5_by_year.get_group(2017).sort_values('Streams',ascending=False).head(5)\n",
    "print(top5_of_2017[['Track', 'Streams','Week']].reset_index())\n",
    "\n",
    "top5_of_2018 = top5_by_year.get_group(2018).sort_values('Streams',ascending=False).head(5)\n",
    "print(top5_of_2018[['Track', 'Streams','Week']].reset_index())\n",
    "\n",
    "top5_of_2019 = top5_by_year.get_group(2019).sort_values('Streams',ascending=False).head(5)\n",
    "print(top5_of_2019[['Track', 'Streams','Week']].reset_index())\n",
    "\n",
    "top5_of_2020 = top5_by_year.get_group(2020).sort_values('Streams',ascending=False).head(5)\n",
    "print(top5_of_2020[['Track', 'Streams','Week']].reset_index())\n",
    "\n",
    "top5_of_2021 = top5_by_year.get_group(2021).sort_values('Streams',ascending=False).head(5)\n",
    "print(top5_of_2021[['Track', 'Streams','Week']].reset_index())"
   ]
  },
  {
   "cell_type": "markdown",
   "metadata": {},
   "source": [
    "## Popular Artist_genres based to streams"
   ]
  },
  {
   "cell_type": "code",
   "execution_count": 171,
   "metadata": {},
   "outputs": [
    {
     "data": {
      "text/html": [
       "<div>\n",
       "<style scoped>\n",
       "    .dataframe tbody tr th:only-of-type {\n",
       "        vertical-align: middle;\n",
       "    }\n",
       "\n",
       "    .dataframe tbody tr th {\n",
       "        vertical-align: top;\n",
       "    }\n",
       "\n",
       "    .dataframe thead th {\n",
       "        text-align: right;\n",
       "    }\n",
       "</style>\n",
       "<table border=\"1\" class=\"dataframe\">\n",
       "  <thead>\n",
       "    <tr style=\"text-align: right;\">\n",
       "      <th></th>\n",
       "      <th>Streams</th>\n",
       "    </tr>\n",
       "    <tr>\n",
       "      <th>Artist_Genres</th>\n",
       "      <th></th>\n",
       "    </tr>\n",
       "  </thead>\n",
       "  <tbody>\n",
       "    <tr>\n",
       "      <th>'pop'</th>\n",
       "      <td>143706744788</td>\n",
       "    </tr>\n",
       "    <tr>\n",
       "      <th>'dance pop'</th>\n",
       "      <td>92494985911</td>\n",
       "    </tr>\n",
       "    <tr>\n",
       "      <th>'post-teen pop'</th>\n",
       "      <td>49832007924</td>\n",
       "    </tr>\n",
       "    <tr>\n",
       "      <th>'latin'</th>\n",
       "      <td>49657003741</td>\n",
       "    </tr>\n",
       "    <tr>\n",
       "      <th>'rap'</th>\n",
       "      <td>48063700010</td>\n",
       "    </tr>\n",
       "  </tbody>\n",
       "</table>\n",
       "</div>"
      ],
      "text/plain": [
       "                        Streams\n",
       "Artist_Genres                  \n",
       " 'pop'             143706744788\n",
       " 'dance pop'        92494985911\n",
       " 'post-teen pop'    49832007924\n",
       " 'latin'            49657003741\n",
       " 'rap'              48063700010"
      ]
     },
     "execution_count": 171,
     "metadata": {},
     "output_type": "execute_result"
    }
   ],
   "source": [
    "pop_genre = df_sort_genres.groupby(\"Artist_Genres\")[[\"Streams\"]].sum().sort_values(\"Streams\",ascending=False).head(5)\n",
    "pop_genre"
   ]
  },
  {
   "cell_type": "markdown",
   "metadata": {},
   "source": [
    "## Most Streamed Albums"
   ]
  },
  {
   "cell_type": "code",
   "execution_count": 172,
   "metadata": {},
   "outputs": [
    {
     "name": "stdout",
     "output_type": "stream",
     "text": [
      "Index(['Streams'], dtype='object')\n",
      "                                             Streams\n",
      "Album_Name                                          \n",
      "÷ (Deluxe)                                6573935128\n",
      "beerbongs & bentleys                      4097713238\n",
      "WHEN WE ALL FALL ASLEEP, WHERE DO WE GO?  4092520586\n",
      "?                                         3529519747\n",
      "Hollywood's Bleeding                      3459323111\n",
      "thank u, next                             3308865952\n",
      "Scorpion                                  3131020857\n",
      "Evolve                                    3078558765\n",
      "After Hours                               2792686061\n",
      "Fine Line                                 2702681616\n"
     ]
    }
   ],
   "source": [
    "top10Album = data.groupby(['Album_Name']).agg({'Streams':sum}).sort_values(['Streams'],ascending=False)\n",
    "print(top10Album.columns)\n",
    "print(top10Album.head(10))\n"
   ]
  },
  {
   "cell_type": "code",
   "execution_count": null,
   "metadata": {},
   "outputs": [],
   "source": []
  },
  {
   "cell_type": "markdown",
   "metadata": {},
   "source": [
    "Top52017= data.groupby(['year','Track']).agg({'Streams':sum}).sort_values(['Streams'],ascending=False)\n",
    "Top52017.head(10)"
   ]
  },
  {
   "cell_type": "code",
   "execution_count": 173,
   "metadata": {},
   "outputs": [
    {
     "data": {
      "text/html": [
       "<div>\n",
       "<style scoped>\n",
       "    .dataframe tbody tr th:only-of-type {\n",
       "        vertical-align: middle;\n",
       "    }\n",
       "\n",
       "    .dataframe tbody tr th {\n",
       "        vertical-align: top;\n",
       "    }\n",
       "\n",
       "    .dataframe thead th {\n",
       "        text-align: right;\n",
       "    }\n",
       "</style>\n",
       "<table border=\"1\" class=\"dataframe\">\n",
       "  <thead>\n",
       "    <tr style=\"text-align: right;\">\n",
       "      <th></th>\n",
       "      <th>Rank</th>\n",
       "      <th>Track</th>\n",
       "      <th>Artist</th>\n",
       "      <th>Streams</th>\n",
       "      <th>Week</th>\n",
       "      <th>month</th>\n",
       "      <th>Album_Name</th>\n",
       "      <th>year</th>\n",
       "      <th>Duration_MS</th>\n",
       "      <th>Explicit</th>\n",
       "      <th>Track_Number_on_Album</th>\n",
       "      <th>Artist_Followers</th>\n",
       "      <th>Artist_Genres</th>\n",
       "    </tr>\n",
       "  </thead>\n",
       "  <tbody>\n",
       "    <tr>\n",
       "      <th>44199</th>\n",
       "      <td>200</td>\n",
       "      <td>SAD!</td>\n",
       "      <td>XXXTENTACION</td>\n",
       "      <td>5139543</td>\n",
       "      <td>2021-04-16</td>\n",
       "      <td>4</td>\n",
       "      <td>?</td>\n",
       "      <td>2021</td>\n",
       "      <td>166605</td>\n",
       "      <td>True</td>\n",
       "      <td>4</td>\n",
       "      <td>26792113</td>\n",
       "      <td>['emo rap', 'miami hip hop']</td>\n",
       "    </tr>\n",
       "  </tbody>\n",
       "</table>\n",
       "</div>"
      ],
      "text/plain": [
       "       Rank Track        Artist  Streams       Week  month Album_Name  year  \\\n",
       "44199   200  SAD!  XXXTENTACION  5139543 2021-04-16      4          ?  2021   \n",
       "\n",
       "       Duration_MS  Explicit  Track_Number_on_Album  Artist_Followers  \\\n",
       "44199       166605      True                      4          26792113   \n",
       "\n",
       "                      Artist_Genres  \n",
       "44199  ['emo rap', 'miami hip hop']  "
      ]
     },
     "execution_count": 173,
     "metadata": {},
     "output_type": "execute_result"
    }
   ],
   "source": [
    "data.sort_values('Week', ascending=False).head(1)"
   ]
  },
  {
   "cell_type": "code",
   "execution_count": 174,
   "metadata": {},
   "outputs": [
    {
     "data": {
      "text/html": [
       "<div>\n",
       "<style scoped>\n",
       "    .dataframe tbody tr th:only-of-type {\n",
       "        vertical-align: middle;\n",
       "    }\n",
       "\n",
       "    .dataframe tbody tr th {\n",
       "        vertical-align: top;\n",
       "    }\n",
       "\n",
       "    .dataframe thead th {\n",
       "        text-align: right;\n",
       "    }\n",
       "</style>\n",
       "<table border=\"1\" class=\"dataframe\">\n",
       "  <thead>\n",
       "    <tr style=\"text-align: right;\">\n",
       "      <th></th>\n",
       "      <th>Rank</th>\n",
       "      <th>Track</th>\n",
       "      <th>Artist</th>\n",
       "      <th>Streams</th>\n",
       "      <th>Week</th>\n",
       "      <th>month</th>\n",
       "      <th>Album_Name</th>\n",
       "      <th>year</th>\n",
       "      <th>Duration_MS</th>\n",
       "      <th>Explicit</th>\n",
       "      <th>Track_Number_on_Album</th>\n",
       "      <th>Artist_Followers</th>\n",
       "      <th>Artist_Genres</th>\n",
       "    </tr>\n",
       "  </thead>\n",
       "  <tbody>\n",
       "    <tr>\n",
       "      <th>0</th>\n",
       "      <td>1</td>\n",
       "      <td>Starboy</td>\n",
       "      <td>The Weeknd</td>\n",
       "      <td>25734078</td>\n",
       "      <td>2017-01-06</td>\n",
       "      <td>1</td>\n",
       "      <td>Starboy</td>\n",
       "      <td>2017</td>\n",
       "      <td>230453</td>\n",
       "      <td>True</td>\n",
       "      <td>1</td>\n",
       "      <td>31348348</td>\n",
       "      <td>['canadian contemporary r&amp;b', 'canadian pop', ...</td>\n",
       "    </tr>\n",
       "  </tbody>\n",
       "</table>\n",
       "</div>"
      ],
      "text/plain": [
       "   Rank    Track      Artist   Streams       Week  month Album_Name  year  \\\n",
       "0     1  Starboy  The Weeknd  25734078 2017-01-06      1    Starboy  2017   \n",
       "\n",
       "   Duration_MS  Explicit  Track_Number_on_Album  Artist_Followers  \\\n",
       "0       230453      True                      1          31348348   \n",
       "\n",
       "                                       Artist_Genres  \n",
       "0  ['canadian contemporary r&b', 'canadian pop', ...  "
      ]
     },
     "execution_count": 174,
     "metadata": {},
     "output_type": "execute_result"
    }
   ],
   "source": [
    "data.sort_values('Week', ascending=True).head(1)"
   ]
  }
 ],
 "metadata": {
  "interpreter": {
   "hash": "2cb5d5a9379438e42184019bb29608c84ceeccd1ddd0ba30ff37a8376aac68e5"
  },
  "kernelspec": {
   "display_name": "Python 3.9.6 64-bit ('venv': venv)",
   "name": "python3"
  },
  "language_info": {
   "codemirror_mode": {
    "name": "ipython",
    "version": 3
   },
   "file_extension": ".py",
   "mimetype": "text/x-python",
   "name": "python",
   "nbconvert_exporter": "python",
   "pygments_lexer": "ipython3",
   "version": "3.9.6"
  }
 },
 "nbformat": 4,
 "nbformat_minor": 2
}
