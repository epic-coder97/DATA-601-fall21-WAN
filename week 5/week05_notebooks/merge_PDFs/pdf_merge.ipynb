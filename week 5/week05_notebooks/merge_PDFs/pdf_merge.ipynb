{
 "cells": [
  {
   "cell_type": "code",
   "execution_count": 3,
   "metadata": {},
   "outputs": [],
   "source": [
    "from PyPDF2 import PdfFileMerger, PdfFileReader"
   ]
  },
  {
   "cell_type": "code",
   "execution_count": 4,
   "metadata": {},
   "outputs": [
    {
     "name": "stdout",
     "output_type": "stream",
     "text": [
      "Art of Approximation in Science and Engineering.pdf\r\n",
      "Introduction to Probability.pdf\r\n"
     ]
    }
   ],
   "source": [
    "!rm merge-pdfs.pdf\n",
    "!ls *.pdf"
   ]
  },
  {
   "cell_type": "code",
   "execution_count": 5,
   "metadata": {},
   "outputs": [],
   "source": [
    "mergr=PdfFileMerger()\n",
    "mergr.append(PdfFileReader(\"Art of Approximation in Science and Engineering.pdf\", 'rb'))\n",
    "mergr.append(PdfFileReader(\"Introduction to Probability.pdf\", 'rb'))\n",
    "with open('merge-pdfs.pdf', 'wb') as f:\n",
    "    mergr.write(f)"
   ]
  },
  {
   "cell_type": "code",
   "execution_count": null,
   "metadata": {},
   "outputs": [],
   "source": []
  }
 ],
 "metadata": {
  "kernelspec": {
   "display_name": "Python 3",
   "language": "python",
   "name": "python3"
  },
  "language_info": {
   "codemirror_mode": {
    "name": "ipython",
    "version": 3
   },
   "file_extension": ".py",
   "mimetype": "text/x-python",
   "name": "python",
   "nbconvert_exporter": "python",
   "pygments_lexer": "ipython3",
   "version": "3.7.4"
  }
 },
 "nbformat": 4,
 "nbformat_minor": 2
}
