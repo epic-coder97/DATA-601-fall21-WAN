{
 "cells": [
  {
   "cell_type": "code",
   "execution_count": 1,
   "metadata": {},
   "outputs": [
    {
     "name": "stdout",
     "output_type": "stream",
     "text": [
      "Collecting xhtml2pdf\n",
      "\u001b[?25l  Downloading https://files.pythonhosted.org/packages/e0/df/4bd240afb697ede3e4bc6914690f6225ff40a27cefbdbcb69c0ea1303c43/xhtml2pdf-0.2.4.tar.gz (98kB)\n",
      "\u001b[K     |████████████████████████████████| 102kB 1.2MB/s ta 0:00:01\n",
      "\u001b[?25hRequirement already satisfied: html5lib>=1.0 in /opt/anaconda3/lib/python3.7/site-packages (from xhtml2pdf) (1.0.1)\n",
      "Collecting pyPdf2 (from xhtml2pdf)\n",
      "\u001b[?25l  Downloading https://files.pythonhosted.org/packages/b4/01/68fcc0d43daf4c6bdbc6b33cc3f77bda531c86b174cac56ef0ffdb96faab/PyPDF2-1.26.0.tar.gz (77kB)\n",
      "\u001b[K     |████████████████████████████████| 81kB 2.4MB/s eta 0:00:011\n",
      "\u001b[?25hRequirement already satisfied: Pillow in /opt/anaconda3/lib/python3.7/site-packages (from xhtml2pdf) (6.2.0)\n",
      "Collecting reportlab>=3.0 (from xhtml2pdf)\n",
      "\u001b[?25l  Downloading https://files.pythonhosted.org/packages/74/0f/9cb254f4c11b221e31b36d4e4dd93052010d9aeed5423e0aaa71130b2072/reportlab-3.5.34-cp37-cp37m-macosx_10_6_intel.whl (3.1MB)\n",
      "\u001b[K     |████████████████████████████████| 3.1MB 6.6MB/s eta 0:00:01\n",
      "\u001b[?25hRequirement already satisfied: six in /opt/anaconda3/lib/python3.7/site-packages (from xhtml2pdf) (1.12.0)\n",
      "Requirement already satisfied: webencodings in /opt/anaconda3/lib/python3.7/site-packages (from html5lib>=1.0->xhtml2pdf) (0.5.1)\n",
      "Building wheels for collected packages: xhtml2pdf, pyPdf2\n",
      "  Building wheel for xhtml2pdf (setup.py) ... \u001b[?25ldone\n",
      "\u001b[?25h  Created wheel for xhtml2pdf: filename=xhtml2pdf-0.2.4-cp37-none-any.whl size=230386 sha256=7af3f0676ea38df587244a46eafeb6b75e944b21e62eeee3b5d3b9fb496d02c6\n",
      "  Stored in directory: /Users/jwan/Library/Caches/pip/wheels/9b/48/dd/3fb37578f9896e6df9f941536cae8b8d752f33de265b45cdce\n",
      "  Building wheel for pyPdf2 (setup.py) ... \u001b[?25ldone\n",
      "\u001b[?25h  Created wheel for pyPdf2: filename=PyPDF2-1.26.0-cp37-none-any.whl size=61086 sha256=1eea897fe6c672c085c36a0a0ecc8db82427ff594e1e8599e5b82afa5139fda7\n",
      "  Stored in directory: /Users/jwan/Library/Caches/pip/wheels/53/84/19/35bc977c8bf5f0c23a8a011aa958acd4da4bbd7a229315c1b7\n",
      "Successfully built xhtml2pdf pyPdf2\n",
      "Installing collected packages: pyPdf2, reportlab, xhtml2pdf\n",
      "Successfully installed pyPdf2-1.26.0 reportlab-3.5.34 xhtml2pdf-0.2.4\n"
     ]
    }
   ],
   "source": [
    "!pip install xhtml2pdf"
   ]
  },
  {
   "cell_type": "code",
   "execution_count": 2,
   "metadata": {},
   "outputs": [],
   "source": [
    "import xhtml2pdf"
   ]
  },
  {
   "cell_type": "markdown",
   "metadata": {},
   "source": [
    "https://plot.ly/python/pdf-reports/"
   ]
  },
  {
   "cell_type": "code",
   "execution_count": 3,
   "metadata": {},
   "outputs": [],
   "source": [
    "from IPython.display import display, HTML"
   ]
  },
  {
   "cell_type": "code",
   "execution_count": 8,
   "metadata": {},
   "outputs": [],
   "source": [
    "from xhtml2pdf import pisa             # import python module\n",
    "\n",
    "# Utility function\n",
    "def convert_html_to_pdf(source_html, output_filename):\n",
    "    # open output file for writing (truncated binary)\n",
    "    result_file = open(output_filename, \"w+b\")\n",
    "\n",
    "    # convert HTML to PDF\n",
    "    pisa_status = pisa.CreatePDF(\n",
    "            source_html,                # the HTML to convert\n",
    "            dest=result_file)           # file handle to recieve result\n",
    "\n",
    "    # close output file\n",
    "    result_file.close()                 # close output file\n",
    "\n",
    "    # return True on success and False on errors\n",
    "    return pisa_status.err"
   ]
  },
  {
   "cell_type": "code",
   "execution_count": 12,
   "metadata": {},
   "outputs": [],
   "source": [
    "static_report=\"<HTML><BODY><h1 style='color:red;font-size:100px;''>Hello!</h1> <P>Is it me you are looking for?</P></BODY></HTML>\" # we could also read in HTML from a file"
   ]
  },
  {
   "cell_type": "code",
   "execution_count": 13,
   "metadata": {},
   "outputs": [],
   "source": [
    "err_msg = convert_html_to_pdf(static_report, 'report_from_xhtml2pdf.pdf')"
   ]
  },
  {
   "cell_type": "code",
   "execution_count": 14,
   "metadata": {},
   "outputs": [
    {
     "name": "stdout",
     "output_type": "stream",
     "text": [
      "HTML_to_PDF_using_weasyprint.ipynb report_from_xhtml2pdf.pdf\r\n",
      "HTML_to_PDF_using_xhtml2pdf.ipynb\r\n"
     ]
    }
   ],
   "source": [
    "!ls"
   ]
  },
  {
   "cell_type": "code",
   "execution_count": null,
   "metadata": {},
   "outputs": [],
   "source": []
  }
 ],
 "metadata": {
  "kernelspec": {
   "display_name": "Python 3",
   "language": "python",
   "name": "python3"
  },
  "language_info": {
   "codemirror_mode": {
    "name": "ipython",
    "version": 3
   },
   "file_extension": ".py",
   "mimetype": "text/x-python",
   "name": "python",
   "nbconvert_exporter": "python",
   "pygments_lexer": "ipython3",
   "version": "3.7.4"
  }
 },
 "nbformat": 4,
 "nbformat_minor": 2
}
