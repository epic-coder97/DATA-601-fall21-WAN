{
 "cells": [
  {
   "cell_type": "code",
   "execution_count": 1,
   "id": "f110f7c2",
   "metadata": {},
   "outputs": [
    {
     "name": "stdout",
     "output_type": "stream",
     "text": [
      "\r\n",
      "<html>\r\n",
      "<head></head>\r\n",
      "<body>\r\n",
      "<p>Hello World! </p>\r\n",
      "  \r\n",
      "</body>\r\n",
      "</html>\r\n",
      "\n"
     ]
    }
   ],
   "source": [
    "# import module\n",
    "import codecs\n",
    "  \n",
    "# to open/create a new html file in the write mode\n",
    "f = open('GFG.html', 'w')\n",
    "  \n",
    "# the html code which will go in the file GFG.html\n",
    "html_template = \"\"\"\n",
    "<html>\n",
    "<head></head>\n",
    "<body>\n",
    "<p>Hello World! </p>\n",
    "  \n",
    "</body>\n",
    "</html>\n",
    "\"\"\"\n",
    "  \n",
    "# writing the code into the file\n",
    "f.write(html_template)\n",
    "  \n",
    "# close the file\n",
    "f.close()\n",
    "  \n",
    "# viewing html files\n",
    "# below code creates a \n",
    "# codecs.StreamReaderWriter object\n",
    "file = codecs.open(\"GFG.html\", 'r', \"utf-8\")\n",
    "  \n",
    "# using .read method to view the html \n",
    "# code from our object\n",
    "print(file.read())"
   ]
  },
  {
   "cell_type": "code",
   "execution_count": 2,
   "id": "22876314",
   "metadata": {},
   "outputs": [
    {
     "data": {
      "text/plain": [
       "True"
      ]
     },
     "execution_count": 2,
     "metadata": {},
     "output_type": "execute_result"
    }
   ],
   "source": [
    "\n",
    "# import module\n",
    "import webbrowser\n",
    "  \n",
    "# open html file\n",
    "webbrowser.open('GFG.html') "
   ]
  },
  {
   "cell_type": "code",
   "execution_count": 3,
   "id": "96f09212",
   "metadata": {},
   "outputs": [
    {
     "name": "stdout",
     "output_type": "stream",
     "text": [
      "Collecting domonic\n",
      "  Downloading domonic-0.6.0-py3-none-any.whl (224 kB)\n",
      "Requirement already satisfied: python-dateutil==2.8.2 in c:\\users\\nikki\\appdata\\local\\programs\\python\\python39\\lib\\site-packages (from domonic) (2.8.2)\n",
      "Requirement already satisfied: requests==2.26.0 in c:\\users\\nikki\\appdata\\local\\programs\\python\\python39\\lib\\site-packages (from domonic) (2.26.0)\n",
      "Note: you may need to restart the kernel to use updated packages.\n",
      "Collecting urllib3==1.26.6\n",
      "  Downloading urllib3-1.26.6-py2.py3-none-any.whl (138 kB)\n",
      "Requirement already satisfied: six>=1.5 in c:\\users\\nikki\\appdata\\local\\programs\\python\\python39\\lib\\site-packages (from python-dateutil==2.8.2->domonic) (1.16.0)\n",
      "Requirement already satisfied: charset-normalizer~=2.0.0 in c:\\users\\nikki\\appdata\\local\\programs\\python\\python39\\lib\\site-packages (from requests==2.26.0->domonic) (2.0.6)\n",
      "Requirement already satisfied: certifi>=2017.4.17 in c:\\users\\nikki\\appdata\\local\\programs\\python\\python39\\lib\\site-packages (from requests==2.26.0->domonic) (2021.5.30)\n",
      "Requirement already satisfied: idna<4,>=2.5 in c:\\users\\nikki\\appdata\\local\\programs\\python\\python39\\lib\\site-packages (from requests==2.26.0->domonic) (3.2)\n",
      "Installing collected packages: urllib3, domonic\n",
      "  Attempting uninstall: urllib3\n",
      "    Found existing installation: urllib3 1.26.7\n",
      "    Uninstalling urllib3-1.26.7:\n",
      "      Successfully uninstalled urllib3-1.26.7\n",
      "Successfully installed domonic-0.6.0 urllib3-1.26.6\n"
     ]
    }
   ],
   "source": [
    "pip install domonic"
   ]
  },
  {
   "cell_type": "code",
   "execution_count": 4,
   "id": "17f63999",
   "metadata": {},
   "outputs": [
    {
     "ename": "NameError",
     "evalue": "name 'html' is not defined",
     "output_type": "error",
     "traceback": [
      "\u001b[1;31m---------------------------------------------------------------------------\u001b[0m",
      "\u001b[1;31mNameError\u001b[0m                                 Traceback (most recent call last)",
      "\u001b[1;32m~\\AppData\\Local\\Temp/ipykernel_17636/3482914989.py\u001b[0m in \u001b[0;36m<module>\u001b[1;34m\u001b[0m\n\u001b[1;32m----> 1\u001b[1;33m \u001b[0mprint\u001b[0m\u001b[1;33m(\u001b[0m\u001b[0mhtml\u001b[0m\u001b[1;33m(\u001b[0m\u001b[0mbody\u001b[0m\u001b[1;33m(\u001b[0m\u001b[0mh1\u001b[0m\u001b[1;33m(\u001b[0m\u001b[1;34m'Hello, World!'\u001b[0m\u001b[1;33m)\u001b[0m\u001b[1;33m)\u001b[0m\u001b[1;33m)\u001b[0m\u001b[1;33m)\u001b[0m\u001b[1;33m\u001b[0m\u001b[1;33m\u001b[0m\u001b[0m\n\u001b[0m",
      "\u001b[1;31mNameError\u001b[0m: name 'html' is not defined"
     ]
    }
   ],
   "source": [
    "print(html(body(h1('Hello, World!'))))\n"
   ]
  },
  {
   "cell_type": "code",
   "execution_count": 2,
   "id": "cb43a04f",
   "metadata": {},
   "outputs": [
    {
     "name": "stdout",
     "output_type": "stream",
     "text": [
      "argon2-cffi==20.1.0\n",
      "asgiref==3.4.1\n",
      "attrs==21.2.0\n",
      "backcall==0.2.0\n",
      "beautifulsoup4==4.10.0\n",
      "bleach==4.1.0\n",
      "certifi==2021.5.30\n",
      "cffi==1.14.6\n",
      "charset-normalizer==2.0.6\n",
      "colorama==0.4.4\n",
      "debugpy==1.4.1\n",
      "decorator==5.0.9\n",
      "defusedxml==0.7.1\n",
      "Django==3.2.5\n",
      "domonic==0.6.0\n",
      "entrypoints==0.3\n",
      "et-xmlfile==1.1.0\n",
      "Faker==8.13.2\n",
      "html5lib==1.1\n",
      "idna==3.2\n",
      "ipykernel==6.2.0\n",
      "ipython==7.27.0\n",
      "ipython-genutils==0.2.0\n",
      "jedi==0.18.0\n",
      "Jinja2==3.0.1\n",
      "jsonschema==3.2.0\n",
      "jupyter-client==7.0.1\n",
      "jupyter-core==4.7.1\n",
      "jupyterlab-pygments==0.1.2\n",
      "lxml==4.6.3\n",
      "MarkupSafe==2.0.1\n",
      "matplotlib-inline==0.1.2\n",
      "mistune==0.8.4\n",
      "nbclient==0.5.4\n",
      "nbconvert==6.1.0\n",
      "nbformat==5.1.3\n",
      "nest-asyncio==1.5.1\n",
      "notebook==6.4.3\n",
      "numpy==1.21.2\n",
      "openpyxl==3.0.9\n",
      "packaging==21.0\n",
      "pandas==1.3.2\n",
      "pandocfilters==1.4.3\n",
      "parso==0.8.2\n",
      "pickleshare==0.7.5\n",
      "Pillow==8.3.1\n",
      "prometheus-client==0.11.0\n",
      "prompt-toolkit==3.0.20\n",
      "pycparser==2.20\n",
      "Pygments==2.10.0\n",
      "pyparsing==2.4.7\n",
      "pyrsistent==0.18.0\n",
      "python-dateutil==2.8.2\n",
      "pytz==2021.1\n",
      "pywin32==301\n",
      "pywinpty==1.1.3\n",
      "pyzmq==22.2.1\n",
      "requests==2.26.0\n",
      "Send2Trash==1.8.0\n",
      "six==1.16.0\n",
      "soupsieve==2.2.1\n",
      "sqlparse==0.4.1\n",
      "terminado==0.11.1\n",
      "testpath==0.5.0\n",
      "text-unidecode==1.3\n",
      "tornado==6.1\n",
      "traitlets==5.0.5\n",
      "urllib3==1.26.6\n",
      "wcwidth==0.2.5\n",
      "webencodings==0.5.1Note: you may need to restart the kernel to use updated packages.\n",
      "XlsxWriter==3.0.1\n",
      "\n"
     ]
    }
   ],
   "source": [
    "pip freeze\n"
   ]
  },
  {
   "cell_type": "code",
   "execution_count": null,
   "id": "85c2fd35",
   "metadata": {},
   "outputs": [],
   "source": []
  }
 ],
 "metadata": {
  "kernelspec": {
   "display_name": "Python 3 (ipykernel)",
   "language": "python",
   "name": "python3"
  },
  "language_info": {
   "codemirror_mode": {
    "name": "ipython",
    "version": 3
   },
   "file_extension": ".py",
   "mimetype": "text/x-python",
   "name": "python",
   "nbconvert_exporter": "python",
   "pygments_lexer": "ipython3",
   "version": "3.9.6"
  }
 },
 "nbformat": 4,
 "nbformat_minor": 5
}
